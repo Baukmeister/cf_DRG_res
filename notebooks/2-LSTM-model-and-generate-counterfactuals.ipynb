{
 "cells": [
  {
   "cell_type": "code",
   "execution_count": 136,
   "metadata": {},
   "outputs": [],
   "source": [
    "import os\n",
    "import csv\n",
    "\n",
    "import pandas as pd\n",
    "import numpy as np\n",
    "from sklearn.metrics import confusion_matrix\n",
    "from sklearn.neighbors import NearestNeighbors, LocalOutlierFactor\n",
    "from nltk.translate.bleu_score import sentence_bleu, SmoothingFunction\n",
    "\n",
    "import keras\n",
    "import tensorflow as tf\n",
    "import random as python_random\n",
    "from keras import layers\n",
    "from keras.preprocessing import sequence\n",
    "from keras.preprocessing.text import Tokenizer\n",
    "from tensorflow.keras.callbacks import EarlyStopping\n",
    "from keras import backend as K\n",
    "\n",
    "import pandas.io.sql as sqlio\n",
    "import psycopg2\n",
    "import getpass\n",
    "\n",
    "import matplotlib.pyplot as plt"
   ]
  },
  {
   "cell_type": "code",
   "execution_count": 137,
   "outputs": [
    {
     "data": {
      "text/plain": "True"
     },
     "execution_count": 137,
     "metadata": {},
     "output_type": "execute_result"
    }
   ],
   "source": [
    "tf.test.is_gpu_available()"
   ],
   "metadata": {
    "collapsed": false,
    "pycharm": {
     "name": "#%%\n"
    }
   }
  },
  {
   "cell_type": "markdown",
   "metadata": {},
   "source": [
    "## 1. Load data"
   ]
  },
  {
   "cell_type": "code",
   "execution_count": 138,
   "metadata": {},
   "outputs": [],
   "source": [
    "# Define MIMIC data path\n",
    "data_path = '../mimic_data/'\n",
    "\n",
    "# Load training data\n",
    "train_pos = pd.read_csv(data_path+'train_pos.txt')\n",
    "train_neg = pd.read_csv(data_path+'train_neg.txt')\n",
    "\n",
    "# Add target class label\n",
    "train_pos['survival'] = [1 for i in range(train_pos.shape[0])]\n",
    "train_neg['survival'] = [0 for i in range(train_neg.shape[0])]\n",
    "\n",
    "# Set static feature names\n",
    "static_feature_names = ['gender', 'dob']"
   ]
  },
  {
   "cell_type": "markdown",
   "source": [
    "Concatinate the drug and procedure codes into a single feature"
   ],
   "metadata": {
    "collapsed": false
   }
  },
  {
   "cell_type": "code",
   "execution_count": 139,
   "outputs": [],
   "source": [
    "train_neg['events'] = train_neg['drug_events'] + \" \" + train_neg['procedure_codes']\n",
    "train_pos['events'] = train_pos['drug_events'] + \" \" + train_pos['procedure_codes']"
   ],
   "metadata": {
    "collapsed": false,
    "pycharm": {
     "name": "#%%\n"
    }
   }
  },
  {
   "cell_type": "code",
   "execution_count": 140,
   "metadata": {},
   "outputs": [],
   "source": [
    "# Concat into one data frame; and reorder it\n",
    "train = pd.concat([train_pos, train_neg]).reset_index()\n",
    "train_reordered = train.sample(frac=1, random_state=3)"
   ]
  },
  {
   "cell_type": "code",
   "execution_count": 141,
   "outputs": [
    {
     "data": {
      "text/plain": "      index  subject_id                                        drug_events  \\\n3249    431       49599  225828 226364 225975 225907 225975 225850 2259...   \n1754   1754       74509  221744 226364 225828 221744 221668 225974 2259...   \n3139    321       42769  225942 221668 227522 225166 226361 221668 2259...   \n2491   2491       91910  225828 226375 226364 225168 225828 225975 2258...   \n3914   1096       91616  226361 225166 225798 225883 225906 225883 2257...   \n...     ...         ...                                                ...   \n3000    182       28600  220970 220970 220970 225168 225168 225168 2251...   \n1667   1667       72170  220950 226361 221794 225851 225879 227694 2217...   \n3321    503       53735  221668 221906 226361 225152 222168 222168 2258...   \n1688   1688       72690  221833 221833 225166 221833 221749 221749 2217...   \n1898   1898       77623  221668 222168 220995 222168 222168 225910 2216...   \n\n                                   procedure_codes gender         dob  \\\n3249                           3259 4029 8674 3420      F  2067-11-16   \n1754                                     4611 4869      F  2030-02-19   \n3139                                9671 9604 3891      M  1895-08-29   \n2491                 3249 3479 4011 3323 0390 9605      M  2064-02-14   \n3914  5185 5114 5187 3897 9239 9359 5110 9755 9705      M  2107-02-08   \n...                                            ...    ...         ...   \n3000                                9229 3893 3893      M  2026-11-11   \n1667                                          8191      F  2038-02-24   \n3321                           9671 9604 3893 9960      F  2075-01-08   \n1688                                          3891      M  2116-04-11   \n1898                                9962 9604 9671      M  2081-01-14   \n\n      survival                                             events  \n3249         0  225828 226364 225975 225907 225975 225850 2259...  \n1754         1  221744 226364 225828 221744 221668 225974 2259...  \n3139         0  225942 221668 227522 225166 226361 221668 2259...  \n2491         1  225828 226375 226364 225168 225828 225975 2258...  \n3914         0  226361 225166 225798 225883 225906 225883 2257...  \n...        ...                                                ...  \n3000         0  220970 220970 220970 225168 225168 225168 2251...  \n1667         1  220950 226361 221794 225851 225879 227694 2217...  \n3321         0  221668 221906 226361 225152 222168 222168 2258...  \n1688         1  221833 221833 225166 221833 221749 221749 2217...  \n1898         1  221668 222168 220995 222168 222168 225910 2216...  \n\n[4039 rows x 8 columns]",
      "text/html": "<div>\n<style scoped>\n    .dataframe tbody tr th:only-of-type {\n        vertical-align: middle;\n    }\n\n    .dataframe tbody tr th {\n        vertical-align: top;\n    }\n\n    .dataframe thead th {\n        text-align: right;\n    }\n</style>\n<table border=\"1\" class=\"dataframe\">\n  <thead>\n    <tr style=\"text-align: right;\">\n      <th></th>\n      <th>index</th>\n      <th>subject_id</th>\n      <th>drug_events</th>\n      <th>procedure_codes</th>\n      <th>gender</th>\n      <th>dob</th>\n      <th>survival</th>\n      <th>events</th>\n    </tr>\n  </thead>\n  <tbody>\n    <tr>\n      <th>3249</th>\n      <td>431</td>\n      <td>49599</td>\n      <td>225828 226364 225975 225907 225975 225850 2259...</td>\n      <td>3259 4029 8674 3420</td>\n      <td>F</td>\n      <td>2067-11-16</td>\n      <td>0</td>\n      <td>225828 226364 225975 225907 225975 225850 2259...</td>\n    </tr>\n    <tr>\n      <th>1754</th>\n      <td>1754</td>\n      <td>74509</td>\n      <td>221744 226364 225828 221744 221668 225974 2259...</td>\n      <td>4611 4869</td>\n      <td>F</td>\n      <td>2030-02-19</td>\n      <td>1</td>\n      <td>221744 226364 225828 221744 221668 225974 2259...</td>\n    </tr>\n    <tr>\n      <th>3139</th>\n      <td>321</td>\n      <td>42769</td>\n      <td>225942 221668 227522 225166 226361 221668 2259...</td>\n      <td>9671 9604 3891</td>\n      <td>M</td>\n      <td>1895-08-29</td>\n      <td>0</td>\n      <td>225942 221668 227522 225166 226361 221668 2259...</td>\n    </tr>\n    <tr>\n      <th>2491</th>\n      <td>2491</td>\n      <td>91910</td>\n      <td>225828 226375 226364 225168 225828 225975 2258...</td>\n      <td>3249 3479 4011 3323 0390 9605</td>\n      <td>M</td>\n      <td>2064-02-14</td>\n      <td>1</td>\n      <td>225828 226375 226364 225168 225828 225975 2258...</td>\n    </tr>\n    <tr>\n      <th>3914</th>\n      <td>1096</td>\n      <td>91616</td>\n      <td>226361 225166 225798 225883 225906 225883 2257...</td>\n      <td>5185 5114 5187 3897 9239 9359 5110 9755 9705</td>\n      <td>M</td>\n      <td>2107-02-08</td>\n      <td>0</td>\n      <td>226361 225166 225798 225883 225906 225883 2257...</td>\n    </tr>\n    <tr>\n      <th>...</th>\n      <td>...</td>\n      <td>...</td>\n      <td>...</td>\n      <td>...</td>\n      <td>...</td>\n      <td>...</td>\n      <td>...</td>\n      <td>...</td>\n    </tr>\n    <tr>\n      <th>3000</th>\n      <td>182</td>\n      <td>28600</td>\n      <td>220970 220970 220970 225168 225168 225168 2251...</td>\n      <td>9229 3893 3893</td>\n      <td>M</td>\n      <td>2026-11-11</td>\n      <td>0</td>\n      <td>220970 220970 220970 225168 225168 225168 2251...</td>\n    </tr>\n    <tr>\n      <th>1667</th>\n      <td>1667</td>\n      <td>72170</td>\n      <td>220950 226361 221794 225851 225879 227694 2217...</td>\n      <td>8191</td>\n      <td>F</td>\n      <td>2038-02-24</td>\n      <td>1</td>\n      <td>220950 226361 221794 225851 225879 227694 2217...</td>\n    </tr>\n    <tr>\n      <th>3321</th>\n      <td>503</td>\n      <td>53735</td>\n      <td>221668 221906 226361 225152 222168 222168 2258...</td>\n      <td>9671 9604 3893 9960</td>\n      <td>F</td>\n      <td>2075-01-08</td>\n      <td>0</td>\n      <td>221668 221906 226361 225152 222168 222168 2258...</td>\n    </tr>\n    <tr>\n      <th>1688</th>\n      <td>1688</td>\n      <td>72690</td>\n      <td>221833 221833 225166 221833 221749 221749 2217...</td>\n      <td>3891</td>\n      <td>M</td>\n      <td>2116-04-11</td>\n      <td>1</td>\n      <td>221833 221833 225166 221833 221749 221749 2217...</td>\n    </tr>\n    <tr>\n      <th>1898</th>\n      <td>1898</td>\n      <td>77623</td>\n      <td>221668 222168 220995 222168 222168 225910 2216...</td>\n      <td>9962 9604 9671</td>\n      <td>M</td>\n      <td>2081-01-14</td>\n      <td>1</td>\n      <td>221668 222168 220995 222168 222168 225910 2216...</td>\n    </tr>\n  </tbody>\n</table>\n<p>4039 rows × 8 columns</p>\n</div>"
     },
     "execution_count": 141,
     "metadata": {},
     "output_type": "execute_result"
    }
   ],
   "source": [
    "train_reordered"
   ],
   "metadata": {
    "collapsed": false,
    "pycharm": {
     "name": "#%%\n"
    }
   }
  },
  {
   "cell_type": "code",
   "execution_count": 142,
   "outputs": [],
   "source": [
    "\n",
    "X_train_events, X_train_static, y_train = train_reordered['events'], train_reordered[static_feature_names], train_reordered['survival']"
   ],
   "metadata": {
    "collapsed": false,
    "pycharm": {
     "name": "#%%\n"
    }
   }
  },
  {
   "cell_type": "code",
   "execution_count": 143,
   "metadata": {},
   "outputs": [
    {
     "data": {
      "text/plain": "3249    225828 226364 225975 225907 225975 225850 2259...\n1754    221744 226364 225828 221744 221668 225974 2259...\n3139    225942 221668 227522 225166 226361 221668 2259...\n2491    225828 226375 226364 225168 225828 225975 2258...\n3914    226361 225166 225798 225883 225906 225883 2257...\nName: events, dtype: object"
     },
     "execution_count": 143,
     "metadata": {},
     "output_type": "execute_result"
    }
   ],
   "source": [
    "X_train_events.head()"
   ]
  },
  {
   "cell_type": "code",
   "execution_count": 144,
   "metadata": {},
   "outputs": [],
   "source": [
    "# Load validation data\n",
    "validation_pos = pd.read_csv(data_path+'validation_pos.txt')\n",
    "validation_neg = pd.read_csv(data_path+'validation_neg.txt')\n",
    "\n",
    "# Add target class\n",
    "validation_pos['survival'] = [1 for i in range(validation_pos.shape[0])]\n",
    "validation_neg['survival'] = [0 for i in range(validation_neg.shape[0])]\n",
    "\n",
    "validation_neg['events'] = validation_neg['drug_events'] + \" \" + validation_neg['procedure_codes']\n",
    "validation_pos['events'] = validation_pos['drug_events'] + \" \" + validation_pos['procedure_codes']"
   ]
  },
  {
   "cell_type": "code",
   "execution_count": 145,
   "outputs": [
    {
     "data": {
      "text/plain": "     subject_id                                        drug_events  \\\n0         90776  226363 221662 225154 225154 221662 221662 2216...   \n1          1709  225798 225975 227694 225975 221668 221744 2220...   \n2         40514  225152 222056 225152 225152 221749 222168 2263...   \n3         67696  223262 222011 222011 223262 225168 225170 2251...   \n4         71871  225910 225168 225168 226361 225910 221456 2258...   \n..          ...                                                ...   \n195       97552  225828 225847 225884 223258 225847 225910 2251...   \n196       52803  222168 227522 225166 227523 222056 222011 2251...   \n197       42919  226361 225798 221833 221833 225975 227694 2259...   \n198       60046  222168 221749 225828 225166 227522 222011 2275...   \n199        2045  226361 225910 225168 223262 221385 223262 2232...   \n\n                             procedure_codes gender         dob  survival  \\\n0    0066 3606 3723 8856 3778 0046 0040 8191      F  2033-10-18         1   \n1    3995 5491 3995 3995 3995 3995 3995 3995      F  2063-08-10         1   \n2                   3614 3723 3615 8856 3961      M  2129-12-24         1   \n3                        4513 4524 4523 8847      F  2127-06-29         1   \n4                             4523 4513 4519      F  2064-05-25         1   \n..                                       ...    ...         ...       ...   \n195            8412 8385 4443 9907 9904 3893      M  2113-06-21         1   \n196                 3522 3722 3961 8852 8855      F  2070-12-29         1   \n197            8605 3895 8867 3897 8604 3995      M  2100-11-24         1   \n198                           3512 3571 3961      F  2068-05-01         1   \n199                                3897 8872      F  2119-09-01         1   \n\n                                                events  \n0    226363 221662 225154 225154 221662 221662 2216...  \n1    225798 225975 227694 225975 221668 221744 2220...  \n2    225152 222056 225152 225152 221749 222168 2263...  \n3    223262 222011 222011 223262 225168 225170 2251...  \n4    225910 225168 225168 226361 225910 221456 2258...  \n..                                                 ...  \n195  225828 225847 225884 223258 225847 225910 2251...  \n196  222168 227522 225166 227523 222056 222011 2251...  \n197  226361 225798 221833 221833 225975 227694 2259...  \n198  222168 221749 225828 225166 227522 222011 2275...  \n199  226361 225910 225168 223262 221385 223262 2232...  \n\n[200 rows x 7 columns]",
      "text/html": "<div>\n<style scoped>\n    .dataframe tbody tr th:only-of-type {\n        vertical-align: middle;\n    }\n\n    .dataframe tbody tr th {\n        vertical-align: top;\n    }\n\n    .dataframe thead th {\n        text-align: right;\n    }\n</style>\n<table border=\"1\" class=\"dataframe\">\n  <thead>\n    <tr style=\"text-align: right;\">\n      <th></th>\n      <th>subject_id</th>\n      <th>drug_events</th>\n      <th>procedure_codes</th>\n      <th>gender</th>\n      <th>dob</th>\n      <th>survival</th>\n      <th>events</th>\n    </tr>\n  </thead>\n  <tbody>\n    <tr>\n      <th>0</th>\n      <td>90776</td>\n      <td>226363 221662 225154 225154 221662 221662 2216...</td>\n      <td>0066 3606 3723 8856 3778 0046 0040 8191</td>\n      <td>F</td>\n      <td>2033-10-18</td>\n      <td>1</td>\n      <td>226363 221662 225154 225154 221662 221662 2216...</td>\n    </tr>\n    <tr>\n      <th>1</th>\n      <td>1709</td>\n      <td>225798 225975 227694 225975 221668 221744 2220...</td>\n      <td>3995 5491 3995 3995 3995 3995 3995 3995</td>\n      <td>F</td>\n      <td>2063-08-10</td>\n      <td>1</td>\n      <td>225798 225975 227694 225975 221668 221744 2220...</td>\n    </tr>\n    <tr>\n      <th>2</th>\n      <td>40514</td>\n      <td>225152 222056 225152 225152 221749 222168 2263...</td>\n      <td>3614 3723 3615 8856 3961</td>\n      <td>M</td>\n      <td>2129-12-24</td>\n      <td>1</td>\n      <td>225152 222056 225152 225152 221749 222168 2263...</td>\n    </tr>\n    <tr>\n      <th>3</th>\n      <td>67696</td>\n      <td>223262 222011 222011 223262 225168 225170 2251...</td>\n      <td>4513 4524 4523 8847</td>\n      <td>F</td>\n      <td>2127-06-29</td>\n      <td>1</td>\n      <td>223262 222011 222011 223262 225168 225170 2251...</td>\n    </tr>\n    <tr>\n      <th>4</th>\n      <td>71871</td>\n      <td>225910 225168 225168 226361 225910 221456 2258...</td>\n      <td>4523 4513 4519</td>\n      <td>F</td>\n      <td>2064-05-25</td>\n      <td>1</td>\n      <td>225910 225168 225168 226361 225910 221456 2258...</td>\n    </tr>\n    <tr>\n      <th>...</th>\n      <td>...</td>\n      <td>...</td>\n      <td>...</td>\n      <td>...</td>\n      <td>...</td>\n      <td>...</td>\n      <td>...</td>\n    </tr>\n    <tr>\n      <th>195</th>\n      <td>97552</td>\n      <td>225828 225847 225884 223258 225847 225910 2251...</td>\n      <td>8412 8385 4443 9907 9904 3893</td>\n      <td>M</td>\n      <td>2113-06-21</td>\n      <td>1</td>\n      <td>225828 225847 225884 223258 225847 225910 2251...</td>\n    </tr>\n    <tr>\n      <th>196</th>\n      <td>52803</td>\n      <td>222168 227522 225166 227523 222056 222011 2251...</td>\n      <td>3522 3722 3961 8852 8855</td>\n      <td>F</td>\n      <td>2070-12-29</td>\n      <td>1</td>\n      <td>222168 227522 225166 227523 222056 222011 2251...</td>\n    </tr>\n    <tr>\n      <th>197</th>\n      <td>42919</td>\n      <td>226361 225798 221833 221833 225975 227694 2259...</td>\n      <td>8605 3895 8867 3897 8604 3995</td>\n      <td>M</td>\n      <td>2100-11-24</td>\n      <td>1</td>\n      <td>226361 225798 221833 221833 225975 227694 2259...</td>\n    </tr>\n    <tr>\n      <th>198</th>\n      <td>60046</td>\n      <td>222168 221749 225828 225166 227522 222011 2275...</td>\n      <td>3512 3571 3961</td>\n      <td>F</td>\n      <td>2068-05-01</td>\n      <td>1</td>\n      <td>222168 221749 225828 225166 227522 222011 2275...</td>\n    </tr>\n    <tr>\n      <th>199</th>\n      <td>2045</td>\n      <td>226361 225910 225168 223262 221385 223262 2232...</td>\n      <td>3897 8872</td>\n      <td>F</td>\n      <td>2119-09-01</td>\n      <td>1</td>\n      <td>226361 225910 225168 223262 221385 223262 2232...</td>\n    </tr>\n  </tbody>\n</table>\n<p>200 rows × 7 columns</p>\n</div>"
     },
     "execution_count": 145,
     "metadata": {},
     "output_type": "execute_result"
    }
   ],
   "source": [
    "validation_pos"
   ],
   "metadata": {
    "collapsed": false,
    "pycharm": {
     "name": "#%%\n"
    }
   }
  },
  {
   "cell_type": "code",
   "execution_count": 146,
   "outputs": [],
   "source": [
    "train_neg['events'] = train_neg['drug_events'] + \" \" + train_neg['procedure_codes']\n",
    "train_pos['events'] = train_pos['drug_events'] + \" \" + train_pos['procedure_codes']"
   ],
   "metadata": {
    "collapsed": false,
    "pycharm": {
     "name": "#%%\n"
    }
   }
  },
  {
   "cell_type": "code",
   "execution_count": 147,
   "metadata": {},
   "outputs": [],
   "source": [
    "validation = pd.concat([validation_pos, validation_neg]).reset_index()\n",
    "validation_reordered = validation.sample(frac=1, random_state=3)\n",
    "\n",
    "\n",
    "X_val_events, X_val_static, y_val = validation_reordered[\"events\"],validation_reordered[static_feature_names], validation_reordered['survival']"
   ]
  },
  {
   "cell_type": "code",
   "execution_count": 148,
   "metadata": {},
   "outputs": [
    {
     "data": {
      "text/plain": "376    225827 226375 225884 225974 223258 225907 2258...\n16     225910 225855 220970 220970 225168 225168 2209...\n365            221794 225828 221794 225834 5551 3932 403\n82     221986 226361 225166 227522 225166 227522 2217...\n107    226453 225799 225883 223262 225975 225799 2209...\nName: events, dtype: object"
     },
     "execution_count": 148,
     "metadata": {},
     "output_type": "execute_result"
    }
   ],
   "source": [
    "X_val_events.head()"
   ]
  },
  {
   "cell_type": "markdown",
   "metadata": {},
   "source": [
    "### Data preprocessing\n",
    "\n",
    "#### 1.1 Conver all the events into sequence (token) ids"
   ]
  },
  {
   "cell_type": "code",
   "execution_count": 149,
   "metadata": {},
   "outputs": [],
   "source": [
    "# Set the vocab size and max sequence lenght\n",
    "vocab_size = 1100 #(max vocab id=1024 in the training data)\n",
    "max_seq_length = 74 #(the maximum sequence length in training/testing data)"
   ]
  },
  {
   "cell_type": "code",
   "execution_count": 150,
   "metadata": {},
   "outputs": [],
   "source": [
    "# Use a text tokenizer to convert events\n",
    "tokenizer = Tokenizer(num_words = vocab_size)\n",
    "tokenizer.fit_on_texts(X_train_events)"
   ]
  },
  {
   "cell_type": "code",
   "execution_count": 151,
   "metadata": {},
   "outputs": [],
   "source": [
    "X_train_sequences = tokenizer.texts_to_sequences(X_train_events)\n",
    "X_val_sequences = tokenizer.texts_to_sequences(X_val_events)"
   ]
  },
  {
   "cell_type": "code",
   "execution_count": 152,
   "metadata": {},
   "outputs": [
    {
     "name": "stdout",
     "output_type": "stream",
     "text": [
      "Before texts_to_sequences():\n",
      " 225828 226364 225975 225907 225975 225850 225907 225975 225850 225168 225907 225828 225975 225828 221794 225975 227523 222011 225975 3259 4029 8674 3420\n",
      "\n",
      "After texts_to_sequences():\n",
      " [5, 31, 3, 33, 3, 21, 33, 3, 21, 13, 33, 5, 3, 5, 10, 3, 20, 12, 3, 379, 495, 380, 328]\n"
     ]
    }
   ],
   "source": [
    "# Before texts_to_sequences()\n",
    "print(f'Before texts_to_sequences():\\n {X_train_events.iloc[0]}\\n')\n",
    "\n",
    "# After texts_to_sequences()\n",
    "print(f'After texts_to_sequences():\\n {X_train_sequences[0]}')"
   ]
  },
  {
   "cell_type": "markdown",
   "metadata": {},
   "source": [
    "#### 1.2 Padding converted sequences"
   ]
  },
  {
   "cell_type": "code",
   "execution_count": 153,
   "metadata": {},
   "outputs": [],
   "source": [
    "# Pad X_train_sequences and X_val_sequences\n",
    "X_train_padded = sequence.pad_sequences(X_train_sequences, maxlen=max_seq_length, padding='post')\n",
    "X_val_padded = sequence.pad_sequences(X_val_sequences, maxlen=max_seq_length, padding='post')"
   ]
  },
  {
   "cell_type": "code",
   "execution_count": 154,
   "metadata": {},
   "outputs": [
    {
     "data": {
      "text/plain": "(4039, 74)"
     },
     "execution_count": 154,
     "metadata": {},
     "output_type": "execute_result"
    }
   ],
   "source": [
    "X_train_padded.shape"
   ]
  },
  {
   "cell_type": "code",
   "execution_count": 155,
   "metadata": {},
   "outputs": [
    {
     "data": {
      "text/plain": "(400, 74)"
     },
     "execution_count": 155,
     "metadata": {},
     "output_type": "execute_result"
    }
   ],
   "source": [
    "X_val_padded.shape"
   ]
  },
  {
   "cell_type": "code",
   "execution_count": 156,
   "metadata": {},
   "outputs": [
    {
     "data": {
      "text/plain": "array([[198, 116,  29, ...,   0,   0,   0],\n       [ 15,  45,  40, ...,   0,   0,   0],\n       [ 10,   5,  10, ...,   0,   0,   0],\n       ...,\n       [ 48,  14,  10, ...,   0,   0,   0],\n       [ 14,  28,  12, ...,   0,   0,   0],\n       [227,  10,  10, ...,   0,   0,   0]])"
     },
     "execution_count": 156,
     "metadata": {},
     "output_type": "execute_result"
    }
   ],
   "source": [
    "X_val_padded"
   ]
  },
  {
   "cell_type": "markdown",
   "metadata": {},
   "source": [
    "## 2. Train the main LSTM model for survival prediction"
   ]
  },
  {
   "cell_type": "code",
   "execution_count": 157,
   "metadata": {},
   "outputs": [],
   "source": [
    "# For plotting the accuracy/loss of keras models\n",
    "def plot_graphs(history, string):\n",
    "    plt.plot(history.history[string])\n",
    "    plt.plot(history.history['val_'+string])\n",
    "    plt.xlabel(\"Epochs\")\n",
    "    plt.ylabel(string)\n",
    "    plt.legend([string, 'val_'+string])\n",
    "    plt.show()"
   ]
  },
  {
   "cell_type": "code",
   "execution_count": 158,
   "metadata": {},
   "outputs": [],
   "source": [
    "# Fix the random seeds to get consistent models\n",
    "## ref: https://keras.io/getting_started/faq/#how-can-i-obtain-reproducible-results-using-keras-during-development\n",
    "seed_value = 3\n",
    "\n",
    "os.environ['PYTHONHASHSEED']=str(seed_value)\n",
    "\n",
    "# The below is necessary for starting Numpy generated random numbers in a well-defined initial state.\n",
    "np.random.seed(seed_value)\n",
    "\n",
    "# The below is necessary for starting core Python generated random numbers in a well-defined state.\n",
    "python_random.seed(seed_value)\n",
    "\n",
    "# The below set_seed() will make random number generation\n",
    "tf.random.set_seed(seed_value)\n",
    "\n",
    "# configure a new global `tensorflow` session\n",
    "session_conf = tf.compat.v1.ConfigProto(intra_op_parallelism_threads=1, inter_op_parallelism_threads=1)\n",
    "sess = tf.compat.v1.Session(graph=tf.compat.v1.get_default_graph(), config=session_conf)\n",
    "tf.compat.v1.keras.backend.set_session(sess)\n",
    "\n",
    "def reset_seeds(seed_value=3):\n",
    "    os.environ['PYTHONHASHSEED']=str(seed_value)\n",
    "    np.random.seed(seed_value) \n",
    "    python_random.seed(seed_value)\n",
    "    tf.random.set_seed(seed_value)\n",
    "\n",
    "reset_seeds() "
   ]
  },
  {
   "cell_type": "code",
   "execution_count": 159,
   "metadata": {},
   "outputs": [],
   "source": [
    "# Define the early stopping criteria\n",
    "early_stopping = EarlyStopping(monitor='val_accuracy', patience=3)"
   ]
  },
  {
   "cell_type": "code",
   "execution_count": 160,
   "metadata": {},
   "outputs": [
    {
     "name": "stdout",
     "output_type": "stream",
     "text": [
      "Model: \"model_1\"\n",
      "_________________________________________________________________\n",
      " Layer (type)                Output Shape              Param #   \n",
      "=================================================================\n",
      " input_2 (InputLayer)        [(None, None)]            0         \n",
      "                                                                 \n",
      " embedding_1 (Embedding)     (None, None, 128)         140800    \n",
      "                                                                 \n",
      " bidirectional_2 (Bidirectio  (None, None, 128)        98816     \n",
      " nal)                                                            \n",
      "                                                                 \n",
      " bidirectional_3 (Bidirectio  (None, 128)              98816     \n",
      " nal)                                                            \n",
      "                                                                 \n",
      " dense_3 (Dense)             (None, 64)                8256      \n",
      "                                                                 \n",
      " dense_4 (Dense)             (None, 64)                4160      \n",
      "                                                                 \n",
      " dense_5 (Dense)             (None, 1)                 65        \n",
      "                                                                 \n",
      "=================================================================\n",
      "Total params: 350,913\n",
      "Trainable params: 350,913\n",
      "Non-trainable params: 0\n",
      "_________________________________________________________________\n"
     ]
    }
   ],
   "source": [
    "# Define the model structure\n",
    "# Input for variable-length sequences of integers\n",
    "inputs = keras.Input(shape=(None,), dtype=\"int32\")\n",
    "\n",
    "# Embed each integer in a 128-dimensional vector\n",
    "x = layers.Embedding(vocab_size, 128)(inputs)\n",
    "\n",
    "# Add 2 bidirectional LSTMs\n",
    "x = layers.Bidirectional(layers.LSTM(64, return_sequences=True))(x)\n",
    "x = layers.Bidirectional(layers.LSTM(64))(x)\n",
    "x = layers.Dense(64)(x)\n",
    "x = layers.Dense(64)(x)\n",
    "\n",
    "# Add a classifier\n",
    "outputs = layers.Dense(1, activation=\"sigmoid\")(x)\n",
    "main_model = keras.Model(inputs, outputs)\n",
    "\n",
    "main_model.summary()"
   ]
  },
  {
   "cell_type": "code",
   "execution_count": 161,
   "metadata": {},
   "outputs": [
    {
     "name": "stdout",
     "output_type": "stream",
     "text": [
      "Epoch 1/30\n",
      "64/64 [==============================] - 11s 69ms/step - loss: 0.5749 - accuracy: 0.7029 - val_loss: 0.6873 - val_accuracy: 0.5650\n",
      "Epoch 2/30\n",
      "64/64 [==============================] - 3s 41ms/step - loss: 0.5006 - accuracy: 0.7480 - val_loss: 0.5758 - val_accuracy: 0.6800\n",
      "Epoch 3/30\n",
      "64/64 [==============================] - 3s 40ms/step - loss: 0.4628 - accuracy: 0.7735 - val_loss: 0.6189 - val_accuracy: 0.6725\n",
      "Epoch 4/30\n",
      "64/64 [==============================] - 3s 40ms/step - loss: 0.4355 - accuracy: 0.8047 - val_loss: 0.7104 - val_accuracy: 0.6525\n",
      "Epoch 5/30\n",
      "64/64 [==============================] - 3s 40ms/step - loss: 0.4119 - accuracy: 0.8089 - val_loss: 0.6867 - val_accuracy: 0.6400\n"
     ]
    }
   ],
   "source": [
    "main_model.compile(\"adam\", \"binary_crossentropy\", metrics=[\"accuracy\"])\n",
    "\n",
    "reset_seeds()\n",
    "model_history = main_model.fit(\n",
    "    X_train_padded, \n",
    "    y_train, \n",
    "    epochs=30, \n",
    "    batch_size=64, \n",
    "    validation_data=(X_val_padded, y_val), \n",
    "    callbacks=[early_stopping]\n",
    "    )"
   ]
  },
  {
   "cell_type": "code",
   "execution_count": 162,
   "metadata": {},
   "outputs": [
    {
     "data": {
      "text/plain": "<Figure size 432x288 with 1 Axes>",
      "image/png": "[encoded data removed]"
     },
     "metadata": {
      "needs_background": "light"
     },
     "output_type": "display_data"
    },
    {
     "data": {
      "text/plain": "<Figure size 432x288 with 1 Axes>",
      "image/png": "[encoded data removed]"
     },
     "metadata": {
      "needs_background": "light"
     },
     "output_type": "display_data"
    }
   ],
   "source": [
    "# Visualize the training/validation accuracy and loss\n",
    "plot_graphs(model_history, \"accuracy\")\n",
    "plot_graphs(model_history, \"loss\")"
   ]
  },
  {
   "cell_type": "code",
   "execution_count": 163,
   "metadata": {},
   "outputs": [],
   "source": [
    "# Get the predicted target class: if pred > 0.5, then y_pred = 1; else, y_pred = 0\n",
    "y_pred = np.array([1 if pred > 0.5 else 0 for pred in main_model.predict(X_val_padded)])"
   ]
  },
  {
   "cell_type": "code",
   "execution_count": 164,
   "metadata": {},
   "outputs": [
    {
     "data": {
      "text/plain": "0.64"
     },
     "execution_count": 164,
     "metadata": {},
     "output_type": "execute_result"
    }
   ],
   "source": [
    "# Calculate the validation accuracy\n",
    "validation_acc = sum(y_pred == y_val)/len(y_val)\n",
    "validation_acc"
   ]
  },
  {
   "cell_type": "code",
   "execution_count": 165,
   "metadata": {},
   "outputs": [
    {
     "data": {
      "text/plain": "          Pred:pos  Pred:neg\nTrue:pos       181        19\nTrue:neg       125        75",
      "text/html": "<div>\n<style scoped>\n    .dataframe tbody tr th:only-of-type {\n        vertical-align: middle;\n    }\n\n    .dataframe tbody tr th {\n        vertical-align: top;\n    }\n\n    .dataframe thead th {\n        text-align: right;\n    }\n</style>\n<table border=\"1\" class=\"dataframe\">\n  <thead>\n    <tr style=\"text-align: right;\">\n      <th></th>\n      <th>Pred:pos</th>\n      <th>Pred:neg</th>\n    </tr>\n  </thead>\n  <tbody>\n    <tr>\n      <th>True:pos</th>\n      <td>181</td>\n      <td>19</td>\n    </tr>\n    <tr>\n      <th>True:neg</th>\n      <td>125</td>\n      <td>75</td>\n    </tr>\n  </tbody>\n</table>\n</div>"
     },
     "execution_count": 165,
     "metadata": {},
     "output_type": "execute_result"
    }
   ],
   "source": [
    "# Get the confusion matrix\n",
    "confusion_matrix_df = pd.DataFrame(\n",
    "        confusion_matrix(y_true=y_val, y_pred=y_pred, labels=[1, 0]),\n",
    "        index=['True:pos', 'True:neg'], \n",
    "        columns=['Pred:pos', 'Pred:neg']\n",
    "    )\n",
    "confusion_matrix_df"
   ]
  },
  {
   "cell_type": "code",
   "execution_count": 166,
   "metadata": {},
   "outputs": [
    {
     "data": {
      "text/plain": "1    306\n0     94\ndtype: int64"
     },
     "execution_count": 166,
     "metadata": {},
     "output_type": "execute_result"
    }
   ],
   "source": [
    "# Counts of positive and negative predictions\n",
    "pd.value_counts(y_pred)"
   ]
  },
  {
   "cell_type": "markdown",
   "metadata": {},
   "source": [
    "## 3. Get the negative predictions from LSTM, for counterfactual explanations"
   ]
  },
  {
   "cell_type": "code",
   "execution_count": 167,
   "metadata": {},
   "outputs": [],
   "source": [
    "# Get these instances of negative predictions\n",
    "X_pred_negative = X_val_padded[y_pred == 0]"
   ]
  },
  {
   "cell_type": "code",
   "execution_count": 168,
   "metadata": {},
   "outputs": [
    {
     "data": {
      "text/plain": "(94, 74)"
     },
     "execution_count": 168,
     "metadata": {},
     "output_type": "execute_result"
    }
   ],
   "source": [
    "X_pred_negative.shape"
   ]
  },
  {
   "cell_type": "markdown",
   "metadata": {},
   "source": [
    "#### Export as the desired input format of the DRG framework"
   ]
  },
  {
   "cell_type": "code",
   "execution_count": 169,
   "metadata": {},
   "outputs": [],
   "source": [
    "# Convert negatively predicted instances back to medical event form\n",
    "original_event_sequences = tokenizer.sequences_to_texts(X_pred_negative)"
   ]
  },
  {
   "cell_type": "code",
   "execution_count": 170,
   "metadata": {},
   "outputs": [
    {
     "data": {
      "text/plain": "['225799 226453 225884 226453 225799 225851 225799 225884 225910 225837 226453 225799 227690 225799 226453 225799 225884 226453 227690 225910 226453 225799 225884 225798 225799 226089 226089 226089 225851 225798 0331 3995 966 3893',\n '226089 220995 225835 3323 8844 9929 9229',\n '221749 225828 221668 226361 225828 221749 221749 225884 225893 225907 225798 225828 225828 225893 225884 221749 221668 225907 221668 225884 225828 221668 225893 221668 221668 221668 225884 221668 221749 225893 225907 225828 225893 225828 225884 225893 225828 225907 225893 225166 225798 225859 225799 225884 9671 3891 3893',\n '226361 225893 225975 225893 226089 225166 226089 225166 225893 225975 225975 225798 225851 225828 223262 223262 223262 225975 9702 9390 966 3893',\n '225168 225168 225893 223258 225168 223258 225893 225893 223258 225798 225168 225893 223258 223258 225798 223258 225798 221794 223258 221744 221668 221744 221668 221668 221668 221668 223258 225863 221906 221906 225893 221906 225168 222011 227523 227523 222011 225170 226089 225166 225975 225892 225893 225168 225170 225893 225975 8872 3893 8411 3893 8872']"
     },
     "execution_count": 170,
     "metadata": {},
     "output_type": "execute_result"
    }
   ],
   "source": [
    "original_event_sequences[:5]"
   ]
  },
  {
   "cell_type": "code",
   "execution_count": 171,
   "metadata": {},
   "outputs": [],
   "source": [
    "pd.DataFrame(original_event_sequences).to_csv(path_or_buf='../mimic_data/test_neg.txt', index=False, header=False, sep=' ', quoting = csv.QUOTE_NONE, escapechar = ' ')"
   ]
  },
  {
   "cell_type": "markdown",
   "metadata": {},
   "source": [
    "Here, we need to use the inference script from the DRG framework (instructions in the README file) to modify those 110 negative predictions into positive instances. After that, we import the transformed results as below."
   ]
  },
  {
   "cell_type": "markdown",
   "metadata": {},
   "source": [
    "### 3.1 DeleteOnly model results"
   ]
  },
  {
   "cell_type": "code",
   "execution_count": 172,
   "metadata": {},
   "outputs": [],
   "source": [
    "# Load the transformed data\n",
    "results_path = '../drg_preds_delete/'\n",
    "trans_results_delete = pd.read_csv(results_path+'preds', header=None)"
   ]
  },
  {
   "cell_type": "code",
   "execution_count": 173,
   "metadata": {},
   "outputs": [],
   "source": [
    "X_test_sequences = tokenizer.texts_to_sequences(trans_results_delete[0])\n",
    "\n",
    "X_test_padded = sequence.pad_sequences(X_test_sequences, maxlen=max_seq_length, padding='post')"
   ]
  },
  {
   "cell_type": "markdown",
   "metadata": {},
   "source": [
    "### 3.2 DeleteAndRetrieve model results"
   ]
  },
  {
   "cell_type": "code",
   "execution_count": 174,
   "metadata": {},
   "outputs": [],
   "source": [
    "# Load the transformed data\n",
    "# TODO change this directory\n",
    "delete_generate_results_path = '../drg_preds_delete/'\n",
    "delete_generate_results = pd.read_csv(delete_generate_results_path+'preds', header=None)"
   ]
  },
  {
   "cell_type": "code",
   "execution_count": 175,
   "metadata": {},
   "outputs": [],
   "source": [
    "X_test_sequences2 = tokenizer.texts_to_sequences(delete_generate_results[0])\n",
    "\n",
    "X_test_padded2 = sequence.pad_sequences(X_test_sequences2, maxlen=max_seq_length, padding='post')"
   ]
  },
  {
   "cell_type": "markdown",
   "metadata": {},
   "source": [
    "### 3.3 Use 1NN baseline method to modify the negatively predicted instances"
   ]
  },
  {
   "cell_type": "code",
   "execution_count": 176,
   "outputs": [
    {
     "data": {
      "text/plain": "NearestNeighbors(metric='hamming', n_neighbors=1)"
     },
     "execution_count": 176,
     "metadata": {},
     "output_type": "execute_result"
    }
   ],
   "source": [
    "# Fit an unsupervised 1NN with all the positive sequences, using 'hamming' distance\n",
    "nn_model = NearestNeighbors(n_neighbors=1, metric='hamming')\n",
    "target_label = 1\n",
    "X_target_label = X_train_padded[y_train == target_label]\n",
    "\n",
    "nn_model.fit(X_target_label)"
   ],
   "metadata": {
    "collapsed": false,
    "pycharm": {
     "name": "#%%\n"
    }
   }
  },
  {
   "cell_type": "code",
   "execution_count": 177,
   "metadata": {},
   "outputs": [
    {
     "data": {
      "text/plain": "array([ 27,  46,  27,  46,  46,  27,  27,  46,  46,  27,  15,  27,  27,\n         9,  27,  27,  27,  35,  27,  27,  27,   9,  82,  82,  82,   9,\n        82,   9,  35,  15,  79,  36,  70, 140,   0,   0,   0,   0,   0,\n         0,   0,   0,   0,   0,   0,   0,   0,   0,   0,   0,   0,   0,\n         0,   0,   0,   0,   0,   0,   0,   0,   0,   0,   0,   0,   0,\n         0,   0,   0,   0,   0,   0,   0,   0,   0])"
     },
     "execution_count": 177,
     "metadata": {},
     "output_type": "execute_result"
    }
   ],
   "source": [
    "# Find the closest neighbor (positive sequence) with the minimum 'hamming' distance, take it as a counterfactual\n",
    "closest = nn_model.kneighbors(X_pred_negative, return_distance=False)\n",
    "trans_results_nn = X_target_label[closest[:, 0]]\n",
    "\n",
    "trans_results_nn[0]"
   ]
  },
  {
   "cell_type": "code",
   "execution_count": 178,
   "metadata": {},
   "outputs": [],
   "source": [
    "# Rename 'trans_results_nn' to 'X_test_padded3' for result comparison\n",
    "X_test_padded3 = trans_results_nn"
   ]
  },
  {
   "cell_type": "markdown",
   "metadata": {},
   "source": [
    "### 3.4 Convert transformed results to event sequence format"
   ]
  },
  {
   "cell_type": "code",
   "execution_count": 179,
   "metadata": {},
   "outputs": [],
   "source": [
    "# Convert transformed sequences back to the form of original event sequences\n",
    "trans_event_sequences1 = tokenizer.sequences_to_texts(X_test_padded)\n",
    "trans_event_sequences2 = tokenizer.sequences_to_texts(X_test_padded2)\n",
    "trans_event_sequences3 = tokenizer.sequences_to_texts(X_test_padded3)"
   ]
  },
  {
   "cell_type": "markdown",
   "metadata": {},
   "source": [
    "## 4. Results comparison"
   ]
  },
  {
   "cell_type": "markdown",
   "metadata": {},
   "source": [
    "### 4.1 Comparison between fraction of valid CFs (i.e. successfully generated counterfactuals)"
   ]
  },
  {
   "cell_type": "code",
   "execution_count": 180,
   "metadata": {},
   "outputs": [],
   "source": [
    "# Get the total counts \n",
    "test_size = X_pred_negative.shape[0]"
   ]
  },
  {
   "cell_type": "code",
   "execution_count": 181,
   "metadata": {},
   "outputs": [
    {
     "name": "stdout",
     "output_type": "stream",
     "text": [
      "1.6489\n"
     ]
    }
   ],
   "source": [
    "# Fraction of valid transformed sequences, for DeleteOnly\n",
    "fraction_success = np.sum(main_model.predict(X_test_padded) > 0.5)/test_size\n",
    "print(round(fraction_success, 4))"
   ]
  },
  {
   "cell_type": "code",
   "execution_count": 182,
   "metadata": {},
   "outputs": [
    {
     "name": "stdout",
     "output_type": "stream",
     "text": [
      "1.6489\n"
     ]
    }
   ],
   "source": [
    "# For DeleteAndRetrieve\n",
    "fraction_success2 = np.sum(main_model.predict(X_test_padded2) > 0.5)/test_size\n",
    "print(round(fraction_success2, 4))"
   ]
  },
  {
   "cell_type": "code",
   "execution_count": 183,
   "metadata": {},
   "outputs": [
    {
     "name": "stdout",
     "output_type": "stream",
     "text": [
      "0.8723\n"
     ]
    }
   ],
   "source": [
    "# For 1NN modification\n",
    "fraction_success3 = np.sum(main_model.predict(X_test_padded3) > 0.5)/test_size\n",
    "print(round(fraction_success3, 4))"
   ]
  },
  {
   "cell_type": "markdown",
   "metadata": {},
   "source": [
    "### 4.2 Local outlier factor (LOF score)"
   ]
  },
  {
   "cell_type": "code",
   "execution_count": 184,
   "metadata": {},
   "outputs": [
    {
     "data": {
      "text/plain": "LocalOutlierFactor(contamination=0.1, novelty=True)"
     },
     "execution_count": 184,
     "metadata": {},
     "output_type": "execute_result"
    }
   ],
   "source": [
    "# Fit the model for novelty detection (novelty=True), in order to get LOF score\n",
    "clf = LocalOutlierFactor(n_neighbors=20, novelty=True, contamination=0.1)\n",
    "clf.fit(X_train_padded)"
   ]
  },
  {
   "cell_type": "code",
   "execution_count": 185,
   "metadata": {},
   "outputs": [],
   "source": [
    "# Get the LOF score for leave-out validation data\n",
    "y_pred_val = clf.predict(X_val_padded)\n",
    "\n",
    "n_error_val = y_pred_val[y_pred_val == -1].size"
   ]
  },
  {
   "cell_type": "code",
   "execution_count": 186,
   "metadata": {},
   "outputs": [
    {
     "data": {
      "text/plain": "0.075"
     },
     "execution_count": 186,
     "metadata": {},
     "output_type": "execute_result"
    }
   ],
   "source": [
    "validation_size = X_val_padded.shape[0]\n",
    "outlier_score_val = n_error_val/validation_size\n",
    "\n",
    "outlier_score_val"
   ]
  },
  {
   "cell_type": "code",
   "execution_count": 187,
   "metadata": {},
   "outputs": [
    {
     "name": "stdout",
     "output_type": "stream",
     "text": [
      "0.0957\n"
     ]
    }
   ],
   "source": [
    "# Get the LOF score for DeleteOnly results\n",
    "y_pred_test = clf.predict(X_test_padded)\n",
    "n_error_test = y_pred_test[y_pred_test == -1].size\n",
    "\n",
    "outlier_score_test = n_error_test / test_size\n",
    "print(round(outlier_score_test, 4))"
   ]
  },
  {
   "cell_type": "code",
   "execution_count": 188,
   "metadata": {},
   "outputs": [
    {
     "name": "stdout",
     "output_type": "stream",
     "text": [
      "0.0957\n"
     ]
    }
   ],
   "source": [
    "# Get the outlier score for DeleteAndRetrieve results\n",
    "y_pred_test2 = clf.predict(X_test_padded2)\n",
    "n_error_test2 = y_pred_test2[y_pred_test2 == -1].size\n",
    "\n",
    "outlier_score_test2 = n_error_test2 / test_size\n",
    "print(round(outlier_score_test2, 4))"
   ]
  },
  {
   "cell_type": "code",
   "execution_count": 189,
   "metadata": {},
   "outputs": [
    {
     "name": "stdout",
     "output_type": "stream",
     "text": [
      "0.0426\n"
     ]
    }
   ],
   "source": [
    "# Outlier score for 1NN baseline method\n",
    "y_pred_test3 = clf.predict(X_test_padded3)\n",
    "n_error_test3 = y_pred_test3[y_pred_test3 == -1].size\n",
    "\n",
    "outlier_score_test3 = n_error_test3 / test_size\n",
    "print(round(outlier_score_test3, 4))"
   ]
  },
  {
   "cell_type": "markdown",
   "metadata": {},
   "source": [
    "### 4.3 BLEU-4 score (cumulative 4-gram BLEU score) "
   ]
  },
  {
   "cell_type": "code",
   "execution_count": 190,
   "metadata": {},
   "outputs": [],
   "source": [
    "# Define smoothing function\n",
    "chencherry = SmoothingFunction()"
   ]
  },
  {
   "cell_type": "code",
   "execution_count": 191,
   "metadata": {},
   "outputs": [],
   "source": [
    "# Define a function to get pairwise BLEU scores\n",
    "def get_pairwise_bleu(original, transformed):\n",
    "    # 'weights=[0.25, 0.25, 0.25, 0.25]' means that calculate 4-gram BLEU scores cumulatively\n",
    "    results = [sentence_bleu(\n",
    "        references=[pair[0].split()], \n",
    "        hypothesis=pair[1].split(), \n",
    "        weights=[0.25, 0.25, 0.25, 0.25], \n",
    "        smoothing_function=chencherry.method1) \n",
    "        for pair in zip(original, transformed)]\n",
    "    \n",
    "    return results"
   ]
  },
  {
   "cell_type": "code",
   "execution_count": 192,
   "metadata": {},
   "outputs": [
    {
     "name": "stdout",
     "output_type": "stream",
     "text": [
      "0.0091\n"
     ]
    }
   ],
   "source": [
    "pairwise_bleu = get_pairwise_bleu(original_event_sequences, trans_event_sequences1)\n",
    "avg_bleu = sum(pairwise_bleu)/test_size\n",
    "print(round(avg_bleu, 4))"
   ]
  },
  {
   "cell_type": "code",
   "execution_count": 193,
   "metadata": {},
   "outputs": [
    {
     "name": "stdout",
     "output_type": "stream",
     "text": [
      "0.0091\n"
     ]
    }
   ],
   "source": [
    "pairwise_bleu2 = get_pairwise_bleu(original_event_sequences, trans_event_sequences2)\n",
    "avg_bleu2 = sum(pairwise_bleu2)/test_size\n",
    "print(round(avg_bleu2, 4))"
   ]
  },
  {
   "cell_type": "code",
   "execution_count": 194,
   "metadata": {
    "scrolled": false
   },
   "outputs": [
    {
     "name": "stdout",
     "output_type": "stream",
     "text": [
      "0.0639\n"
     ]
    }
   ],
   "source": [
    "pairwise_bleu3 = get_pairwise_bleu(original_event_sequences, trans_event_sequences3)\n",
    "avg_bleu3 = sum(pairwise_bleu3)/test_size\n",
    "print(round(avg_bleu3, 4))"
   ]
  },
  {
   "cell_type": "markdown",
   "metadata": {},
   "source": [
    "#### 4.3.1 Plot histograms of individual BLEU-4 scores"
   ]
  },
  {
   "cell_type": "code",
   "execution_count": 195,
   "metadata": {},
   "outputs": [
    {
     "data": {
      "text/plain": "<Figure size 1152x288 with 3 Axes>",
      "image/png": "[encoded data removed]"
     },
     "metadata": {
      "needs_background": "light"
     },
     "output_type": "display_data"
    }
   ],
   "source": [
    "fig, ax = plt.subplots(nrows=1, ncols=3, figsize=(16,4))     \n",
    "\n",
    "plt.sca(ax[0])\n",
    "plt.title('DeleteOnly, BLUE score')\n",
    "plt.hist(pairwise_bleu, density=True, bins=30)\n",
    "\n",
    "plt.sca(ax[1])\n",
    "plt.title('DeleteAndRetrieve, BLUE score')\n",
    "plt.hist(pairwise_bleu2, density=True, bins=30)\n",
    "\n",
    "plt.sca(ax[2])\n",
    "plt.title('1-NN, BLUE score')\n",
    "plt.hist(pairwise_bleu3, density=True, bins=30)\n",
    "\n",
    "plt.show()"
   ]
  },
  {
   "cell_type": "markdown",
   "metadata": {},
   "source": [
    "### 4.4 Plot histograms of event count differences (modification counts)"
   ]
  },
  {
   "cell_type": "code",
   "execution_count": 196,
   "metadata": {},
   "outputs": [],
   "source": [
    "# The counts of total, drug events and procedures, for the original sequences\n",
    "original_counts = pd.DataFrame(columns=['total', 'drug', 'procedure'])"
   ]
  },
  {
   "cell_type": "code",
   "execution_count": 197,
   "metadata": {},
   "outputs": [],
   "source": [
    "def get_counts_table(event_sequences):\n",
    "    temp_list = list()\n",
    "    for seq in event_sequences:\n",
    "        splitted = seq.split()\n",
    "        total = len(splitted)\n",
    "        # MetaVision ITEMID values are all above 220000. Since this data only contains data from MetaVision, it only contains ITEMID above 220000\n",
    "        drug = len([x for x in splitted if int(x)>=220000])\n",
    "        procedure = total - drug\n",
    "\n",
    "        temp_list.append({'total': total, 'drug': drug, 'procedure': procedure})\n",
    "    \n",
    "    return pd.DataFrame(temp_list)"
   ]
  },
  {
   "cell_type": "code",
   "execution_count": 198,
   "metadata": {},
   "outputs": [],
   "source": [
    "df_original_counts = get_counts_table(original_event_sequences)"
   ]
  },
  {
   "cell_type": "code",
   "execution_count": 199,
   "metadata": {},
   "outputs": [
    {
     "data": {
      "text/plain": "   total  drug  procedure\n0     34    30          4\n1      7     3          4\n2     47    44          3\n3     22    18          4\n4     52    47          5",
      "text/html": "<div>\n<style scoped>\n    .dataframe tbody tr th:only-of-type {\n        vertical-align: middle;\n    }\n\n    .dataframe tbody tr th {\n        vertical-align: top;\n    }\n\n    .dataframe thead th {\n        text-align: right;\n    }\n</style>\n<table border=\"1\" class=\"dataframe\">\n  <thead>\n    <tr style=\"text-align: right;\">\n      <th></th>\n      <th>total</th>\n      <th>drug</th>\n      <th>procedure</th>\n    </tr>\n  </thead>\n  <tbody>\n    <tr>\n      <th>0</th>\n      <td>34</td>\n      <td>30</td>\n      <td>4</td>\n    </tr>\n    <tr>\n      <th>1</th>\n      <td>7</td>\n      <td>3</td>\n      <td>4</td>\n    </tr>\n    <tr>\n      <th>2</th>\n      <td>47</td>\n      <td>44</td>\n      <td>3</td>\n    </tr>\n    <tr>\n      <th>3</th>\n      <td>22</td>\n      <td>18</td>\n      <td>4</td>\n    </tr>\n    <tr>\n      <th>4</th>\n      <td>52</td>\n      <td>47</td>\n      <td>5</td>\n    </tr>\n  </tbody>\n</table>\n</div>"
     },
     "execution_count": 199,
     "metadata": {},
     "output_type": "execute_result"
    }
   ],
   "source": [
    "df_original_counts.head()"
   ]
  },
  {
   "cell_type": "code",
   "execution_count": 200,
   "metadata": {},
   "outputs": [],
   "source": [
    "# Get count tables for all the tranformed results (generated counterfactuals)\n",
    "trans_counts1 = get_counts_table(trans_event_sequences1)\n",
    "trans_counts2 = get_counts_table(trans_event_sequences2)\n",
    "trans_counts3 = get_counts_table(trans_event_sequences3)"
   ]
  },
  {
   "cell_type": "code",
   "execution_count": 201,
   "metadata": {},
   "outputs": [],
   "source": [
    "# Substract the original counts to get event modifications for total, drug events and procedures\n",
    "substracted1 = trans_counts1.subtract(df_original_counts)\n",
    "substracted2 = trans_counts2.subtract(df_original_counts)\n",
    "substracted3 = trans_counts3.subtract(df_original_counts)"
   ]
  },
  {
   "cell_type": "code",
   "execution_count": 202,
   "metadata": {},
   "outputs": [
    {
     "data": {
      "text/plain": "<Figure size 1152x864 with 9 Axes>",
      "image/png": "[encoded data removed]"
     },
     "metadata": {
      "needs_background": "light"
     },
     "output_type": "display_data"
    }
   ],
   "source": [
    "# Plot 3x3 subplots\n",
    "fig, ax = plt.subplots(nrows=3, ncols=3, figsize=(16,12))\n",
    "\n",
    "plt.sca(ax[0,0])\n",
    "plt.title('DeleteOnly, total difference')\n",
    "plt.hist(substracted1['total'], density=True, bins=30)\n",
    "\n",
    "plt.sca(ax[0,1])\n",
    "plt.title('DeleteOnly, drug event difference')\n",
    "plt.hist(substracted1['drug'], density=True, bins=30)\n",
    "\n",
    "plt.sca(ax[0,2])\n",
    "plt.title('DeleteOnly, procedure difference')\n",
    "plt.hist(substracted1['procedure'], density=True, bins=12)\n",
    "\n",
    "plt.sca(ax[1,0])\n",
    "plt.title('DeleteAndRetrieve, total difference')\n",
    "plt.hist(substracted2['total'], density=True, bins=30)\n",
    "\n",
    "plt.sca(ax[1,1])\n",
    "plt.title('DeleteAndRetrieve, drug event difference')\n",
    "plt.hist(substracted2['drug'], density=True, bins=30)\n",
    "\n",
    "plt.sca(ax[1,2])\n",
    "plt.title('DeleteAndRetrieve, procedure difference')\n",
    "plt.hist(substracted2['procedure'], density=True, bins=12)\n",
    "\n",
    "plt.sca(ax[2,0])\n",
    "plt.title('1-NN, total difference')\n",
    "plt.hist(substracted3['total'], density=True, bins=30)\n",
    "\n",
    "plt.sca(ax[2,1])\n",
    "plt.title('1-NN, drug event difference')\n",
    "plt.hist(substracted3['drug'], density=True, bins=30)\n",
    "\n",
    "plt.sca(ax[2,2])\n",
    "plt.title('1-NN, procedure difference')\n",
    "plt.hist(substracted3['procedure'], density=True, bins=12)\n",
    "\n",
    "plt.show()"
   ]
  },
  {
   "cell_type": "markdown",
   "metadata": {},
   "source": [
    "### 4.5 Export example counterfactuals "
   ]
  },
  {
   "cell_type": "code",
   "execution_count": 203,
   "metadata": {},
   "outputs": [],
   "source": [
    "# Convert id to original event name\n",
    "conn = psycopg2.connect(\n",
    "    database=\"mimic\", \n",
    "    user='postgres',\n",
    "    password=getpass.getpass(\"Enter postgres password\"), \n",
    "    host=\"127.0.0.1\", \n",
    "    port=\"5432\",\n",
    "    options=f'-c search_path=mimiciii')"
   ]
  },
  {
   "cell_type": "code",
   "execution_count": 204,
   "metadata": {},
   "outputs": [
    {
     "data": {
      "text/plain": "      itemid              abbreviation                    label\n8673  221015                    Ensure                   Ensure\n8674  221016               Ensure Plus              Ensure Plus\n8675  221017             Dextrose 2,5%            Dextrose 2,5%\n8676  225166  Potassium Chloride - KCL       Potassium Chloride\n8677  225167   Hydrochloric Acid - HCL  Hydrochloric Acid - HCL",
      "text/html": "<div>\n<style scoped>\n    .dataframe tbody tr th:only-of-type {\n        vertical-align: middle;\n    }\n\n    .dataframe tbody tr th {\n        vertical-align: top;\n    }\n\n    .dataframe thead th {\n        text-align: right;\n    }\n</style>\n<table border=\"1\" class=\"dataframe\">\n  <thead>\n    <tr style=\"text-align: right;\">\n      <th></th>\n      <th>itemid</th>\n      <th>abbreviation</th>\n      <th>label</th>\n    </tr>\n  </thead>\n  <tbody>\n    <tr>\n      <th>8673</th>\n      <td>221015</td>\n      <td>Ensure</td>\n      <td>Ensure</td>\n    </tr>\n    <tr>\n      <th>8674</th>\n      <td>221016</td>\n      <td>Ensure Plus</td>\n      <td>Ensure Plus</td>\n    </tr>\n    <tr>\n      <th>8675</th>\n      <td>221017</td>\n      <td>Dextrose 2,5%</td>\n      <td>Dextrose 2,5%</td>\n    </tr>\n    <tr>\n      <th>8676</th>\n      <td>225166</td>\n      <td>Potassium Chloride - KCL</td>\n      <td>Potassium Chloride</td>\n    </tr>\n    <tr>\n      <th>8677</th>\n      <td>225167</td>\n      <td>Hydrochloric Acid - HCL</td>\n      <td>Hydrochloric Acid - HCL</td>\n    </tr>\n  </tbody>\n</table>\n</div>"
     },
     "execution_count": 204,
     "metadata": {},
     "output_type": "execute_result"
    }
   ],
   "source": [
    "# Get a mapping from itemid to name (drug events)\n",
    "itemid_to_name = pd.read_sql(\n",
    "    \"\"\"\n",
    "    SELECT itemid, abbreviation, label\n",
    "    FROM d_items;\n",
    "    \"\"\", conn)\n",
    "\n",
    "itemid_to_name = itemid_to_name[itemid_to_name['itemid'] >= 220000]\n",
    "itemid_to_name.head()"
   ]
  },
  {
   "cell_type": "code",
   "execution_count": 205,
   "metadata": {},
   "outputs": [
    {
     "data": {
      "text/plain": "  icd9_code               short_title  \\\n0      0851                Canthotomy   \n1      0852           Blepharorrhaphy   \n2      0859   Adjust lid position NEC   \n3      0861  Lid reconst w skin graft   \n4      0862   Lid reconst w muc graft   \n\n                                          long_title  \n0                                         Canthotomy  \n1                                    Blepharorrhaphy  \n2                   Other adjustment of lid position  \n3   Reconstruction of eyelid with skin flap or graft  \n4  Reconstruction of eyelid with mucous membrane ...  ",
      "text/html": "<div>\n<style scoped>\n    .dataframe tbody tr th:only-of-type {\n        vertical-align: middle;\n    }\n\n    .dataframe tbody tr th {\n        vertical-align: top;\n    }\n\n    .dataframe thead th {\n        text-align: right;\n    }\n</style>\n<table border=\"1\" class=\"dataframe\">\n  <thead>\n    <tr style=\"text-align: right;\">\n      <th></th>\n      <th>icd9_code</th>\n      <th>short_title</th>\n      <th>long_title</th>\n    </tr>\n  </thead>\n  <tbody>\n    <tr>\n      <th>0</th>\n      <td>0851</td>\n      <td>Canthotomy</td>\n      <td>Canthotomy</td>\n    </tr>\n    <tr>\n      <th>1</th>\n      <td>0852</td>\n      <td>Blepharorrhaphy</td>\n      <td>Blepharorrhaphy</td>\n    </tr>\n    <tr>\n      <th>2</th>\n      <td>0859</td>\n      <td>Adjust lid position NEC</td>\n      <td>Other adjustment of lid position</td>\n    </tr>\n    <tr>\n      <th>3</th>\n      <td>0861</td>\n      <td>Lid reconst w skin graft</td>\n      <td>Reconstruction of eyelid with skin flap or graft</td>\n    </tr>\n    <tr>\n      <th>4</th>\n      <td>0862</td>\n      <td>Lid reconst w muc graft</td>\n      <td>Reconstruction of eyelid with mucous membrane ...</td>\n    </tr>\n  </tbody>\n</table>\n</div>"
     },
     "execution_count": 205,
     "metadata": {},
     "output_type": "execute_result"
    }
   ],
   "source": [
    "# Get another mapping from procedure itemid to name \n",
    "itemid_to_name2 = pd.read_sql(\n",
    "    \"\"\"\n",
    "    SELECT icd9_code, short_title, long_title\n",
    "    FROM d_icd_procedures;\n",
    "    \"\"\", conn)\n",
    "\n",
    "itemid_to_name2.head()"
   ]
  },
  {
   "cell_type": "code",
   "execution_count": 206,
   "metadata": {},
   "outputs": [],
   "source": [
    "# Concate two itemid_to_name into one table\n",
    "itemid_to_name2 = itemid_to_name2.rename(columns={'icd9_code': 'itemid', 'short_title': 'abbreviation', 'long_title': 'label'})\n",
    "\n",
    "itemid_to_name_concat = pd.concat([itemid_to_name, itemid_to_name2])"
   ]
  },
  {
   "cell_type": "code",
   "execution_count": 207,
   "metadata": {},
   "outputs": [],
   "source": [
    "# Convert data type to be consistent when filtering, e.g. 'itemid_to_name_concat['itemid'] == 9671'\n",
    "itemid_to_name_concat['label'] = itemid_to_name_concat['label'].astype('str') \n",
    "itemid_to_name_concat['itemid'] = itemid_to_name_concat['itemid'].astype('int') "
   ]
  },
  {
   "cell_type": "code",
   "execution_count": 208,
   "metadata": {},
   "outputs": [],
   "source": [
    "# Define a method to convert event codes to original names\n",
    "def code_to_name(event_sequence):\n",
    "    code_sequence = [int(event) for event in event_sequence.split()]\n",
    "    \n",
    "    temp_list = list()\n",
    "    for code in code_sequence:\n",
    "        event_name = itemid_to_name_concat[itemid_to_name_concat['itemid'] == code]['label'].item()\n",
    "        temp_list.append(event_name)\n",
    "    \n",
    "    return temp_list"
   ]
  },
  {
   "cell_type": "code",
   "execution_count": 209,
   "metadata": {},
   "outputs": [],
   "source": [
    "# Get the sample for example counterfactuals\n",
    "sample_id = 44"
   ]
  },
  {
   "cell_type": "code",
   "execution_count": 210,
   "metadata": {},
   "outputs": [
    {
     "data": {
      "text/plain": "['Propofol',\n 'Propofol',\n 'Gastric Meds',\n 'Morphine Sulfate',\n 'Metoprolol',\n 'Morphine Sulfate',\n 'Morphine Sulfate',\n 'Insertion of endotracheal tube']"
     },
     "execution_count": 210,
     "metadata": {},
     "output_type": "execute_result"
    }
   ],
   "source": [
    "code_to_name(original_event_sequences[sample_id])"
   ]
  },
  {
   "cell_type": "code",
   "execution_count": 211,
   "metadata": {},
   "outputs": [],
   "source": [
    "# original_event_sequences[sample_id]"
   ]
  },
  {
   "cell_type": "code",
   "execution_count": 212,
   "metadata": {},
   "outputs": [
    {
     "data": {
      "text/plain": "['Diltiazem',\n 'Diltiazem',\n 'Diltiazem',\n 'Diltiazem',\n 'Diltiazem',\n 'Heparin Sodium (Prophylaxis)',\n 'Diltiazem',\n 'Diltiazem',\n 'Diltiazem',\n 'Diltiazem',\n 'Diltiazem',\n 'Diltiazem',\n 'Diltiazem',\n 'Diltiazem',\n 'Diltiazem',\n 'Calcium Gluconate',\n 'Piggyback',\n 'Calcium Gluconate',\n 'Diltiazem',\n 'Diltiazem',\n 'Heparin Sodium (Prophylaxis)',\n 'D5NS',\n 'Calcium Gluconate',\n 'Piggyback',\n 'Dilantin',\n 'Heparin Sodium (Prophylaxis)',\n 'Dilantin',\n 'Dilantin',\n 'Metoprolol',\n 'Heparin Sodium (Prophylaxis)',\n 'Continuous invasive mechanical ventilation for less than 96 consecutive hours',\n 'Bronchial dilation',\n 'Other intubation of respiratory tract']"
     },
     "execution_count": 212,
     "metadata": {},
     "output_type": "execute_result"
    }
   ],
   "source": [
    "code_to_name(trans_event_sequences1[sample_id])"
   ]
  },
  {
   "cell_type": "code",
   "execution_count": 213,
   "metadata": {},
   "outputs": [],
   "source": [
    "# trans_event_sequences1[sample_id]"
   ]
  },
  {
   "cell_type": "code",
   "execution_count": 214,
   "metadata": {},
   "outputs": [
    {
     "data": {
      "text/plain": "['Diltiazem',\n 'Diltiazem',\n 'Diltiazem',\n 'Diltiazem',\n 'Diltiazem',\n 'Heparin Sodium (Prophylaxis)',\n 'Diltiazem',\n 'Diltiazem',\n 'Diltiazem',\n 'Diltiazem',\n 'Diltiazem',\n 'Diltiazem',\n 'Diltiazem',\n 'Diltiazem',\n 'Diltiazem',\n 'Calcium Gluconate',\n 'Piggyback',\n 'Calcium Gluconate',\n 'Diltiazem',\n 'Diltiazem',\n 'Heparin Sodium (Prophylaxis)',\n 'D5NS',\n 'Calcium Gluconate',\n 'Piggyback',\n 'Dilantin',\n 'Heparin Sodium (Prophylaxis)',\n 'Dilantin',\n 'Dilantin',\n 'Metoprolol',\n 'Heparin Sodium (Prophylaxis)',\n 'Continuous invasive mechanical ventilation for less than 96 consecutive hours',\n 'Bronchial dilation',\n 'Other intubation of respiratory tract']"
     },
     "execution_count": 214,
     "metadata": {},
     "output_type": "execute_result"
    }
   ],
   "source": [
    "code_to_name(trans_event_sequences2[sample_id])"
   ]
  },
  {
   "cell_type": "code",
   "execution_count": 215,
   "metadata": {},
   "outputs": [],
   "source": [
    "# trans_event_sequences2[sample_id]"
   ]
  },
  {
   "cell_type": "code",
   "execution_count": 216,
   "metadata": {
    "scrolled": true
   },
   "outputs": [
    {
     "data": {
      "text/plain": "['D5 1/2NS',\n 'Packed Red Blood Cells',\n 'Packed Red Blood Cells',\n 'Morphine Sulfate',\n 'D5 1/2NS',\n 'Morphine Sulfate',\n 'Morphine Sulfate',\n 'Closed reduction of fracture with internal fixation, femur']"
     },
     "execution_count": 216,
     "metadata": {},
     "output_type": "execute_result"
    }
   ],
   "source": [
    "code_to_name(trans_event_sequences3[sample_id])"
   ]
  },
  {
   "cell_type": "code",
   "execution_count": 217,
   "metadata": {},
   "outputs": [],
   "source": [
    "# trans_event_sequences3[sample_id]"
   ]
  }
 ],
 "metadata": {
  "kernelspec": {
   "display_name": "Python 3",
   "language": "python",
   "name": "python3"
  },
  "language_info": {
   "codemirror_mode": {
    "name": "ipython",
    "version": 3
   },
   "file_extension": ".py",
   "mimetype": "text/x-python",
   "name": "python",
   "nbconvert_exporter": "python",
   "pygments_lexer": "ipython3",
   "version": "3.7.9"
  }
 },
 "nbformat": 4,
 "nbformat_minor": 4
}