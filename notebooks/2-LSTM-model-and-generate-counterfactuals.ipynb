{
 "cells": [
  {
   "cell_type": "code",
   "execution_count": 414,
   "metadata": {},
   "outputs": [],
   "source": [
    "import os\n",
    "import csv\n",
    "\n",
    "import pandas as pd\n",
    "import numpy as np\n",
    "from sklearn.metrics import confusion_matrix\n",
    "from sklearn.neighbors import NearestNeighbors, LocalOutlierFactor\n",
    "from nltk.translate.bleu_score import sentence_bleu, SmoothingFunction\n",
    "\n",
    "import keras\n",
    "import tensorflow as tf\n",
    "import random as python_random\n",
    "from keras import layers\n",
    "from keras.preprocessing import sequence\n",
    "from keras.preprocessing.text import Tokenizer\n",
    "from tensorflow.keras.callbacks import EarlyStopping\n",
    "from keras.models import Model\n",
    "from keras.layers import LSTM, CuDNNLSTM, Dense, Dropout, Input, ConvLSTM2D, Flatten, Add, Concatenate, Dot, Multiply\n",
    "from keras.layers import Maximum, Average, Activation\n",
    "from tensorflow.keras.optimizers import Adam, SGD\n",
    "from keras.callbacks import ModelCheckpoint, LearningRateScheduler\n",
    "import math\n",
    "from sklearn import preprocessing\n",
    "\n",
    "\n",
    "from keras import backend as K\n",
    "\n",
    "import pandas.io.sql as sqlio\n",
    "import psycopg2\n",
    "import getpass\n",
    "\n",
    "import matplotlib.pyplot as plt"
   ]
  },
  {
   "cell_type": "code",
   "execution_count": 415,
   "outputs": [
    {
     "data": {
      "text/plain": "True"
     },
     "execution_count": 415,
     "metadata": {},
     "output_type": "execute_result"
    }
   ],
   "source": [
    "tf.test.is_gpu_available()"
   ],
   "metadata": {
    "collapsed": false,
    "pycharm": {
     "name": "#%%\n"
    }
   }
  },
  {
   "cell_type": "markdown",
   "metadata": {},
   "source": [
    "## 1. Load data"
   ]
  },
  {
   "cell_type": "code",
   "execution_count": 416,
   "metadata": {},
   "outputs": [],
   "source": [
    "# Define data paths\n",
    "data_path = '../processed_mimic_data/'\n",
    "drg_path = '../drg_models'\n",
    "\n",
    "# Load training data\n",
    "train_pos = pd.read_csv(data_path+'train_pos.txt')\n",
    "train_neg = pd.read_csv(data_path+'train_neg.txt')\n",
    "\n",
    "# Add target class label\n",
    "train_pos['survival'] = [1 for i in range(train_pos.shape[0])]\n",
    "train_neg['survival'] = [0 for i in range(train_neg.shape[0])]\n",
    "\n",
    "# Set static feature names\n",
    "static_feature_names = [\n",
    "    'gender',\n",
    "    'age',\n",
    "    'los_hospital',\n",
    "    'ethnicity',\n",
    "    'admission_type',\n",
    "    'first_hosp_stay',\n",
    "    'first_icu_stay'\n",
    "]"
   ]
  },
  {
   "cell_type": "markdown",
   "source": [
    "Concatinate the drug and procedure codes into a single feature"
   ],
   "metadata": {
    "collapsed": false
   }
  },
  {
   "cell_type": "code",
   "execution_count": 417,
   "outputs": [],
   "source": [
    "train_neg['events'] = train_neg['drug_events'] + \" \" + train_neg['procedure_codes']\n",
    "train_pos['events'] = train_pos['drug_events'] + \" \" + train_pos['procedure_codes']"
   ],
   "metadata": {
    "collapsed": false,
    "pycharm": {
     "name": "#%%\n"
    }
   }
  },
  {
   "cell_type": "code",
   "execution_count": 418,
   "metadata": {},
   "outputs": [],
   "source": [
    "# Concat into one data frame; and reorder it\n",
    "train = pd.concat([train_pos, train_neg]).reset_index()[['survival','events'] + static_feature_names].dropna()\n",
    "train_reordered = train.sample(frac=1, random_state=3)"
   ]
  },
  {
   "cell_type": "code",
   "execution_count": 419,
   "outputs": [],
   "source": [
    "train_reordered[static_feature_names] = preprocessing.MinMaxScaler().fit_transform(train_reordered[static_feature_names].values)"
   ],
   "metadata": {
    "collapsed": false,
    "pycharm": {
     "name": "#%%\n"
    }
   }
  },
  {
   "cell_type": "code",
   "execution_count": 420,
   "outputs": [],
   "source": [
    "X_train_events, X_train_static, y_train = train_reordered['events'], train_reordered[static_feature_names], train_reordered['survival']"
   ],
   "metadata": {
    "collapsed": false,
    "pycharm": {
     "name": "#%%\n"
    }
   }
  },
  {
   "cell_type": "code",
   "execution_count": 421,
   "outputs": [
    {
     "data": {
      "text/plain": "['gender',\n 'age',\n 'los_hospital',\n 'ethnicity',\n 'admission_type',\n 'first_hosp_stay',\n 'first_icu_stay']"
     },
     "execution_count": 421,
     "metadata": {},
     "output_type": "execute_result"
    }
   ],
   "source": [
    "static_feature_names"
   ],
   "metadata": {
    "collapsed": false,
    "pycharm": {
     "name": "#%%\n"
    }
   }
  },
  {
   "cell_type": "code",
   "execution_count": 422,
   "metadata": {},
   "outputs": [
    {
     "data": {
      "text/plain": "      gender       age  los_hospital  ethnicity  admission_type  \\\n2367     1.0  1.000000      0.034031      0.025             0.0   \n4760     1.0  1.000000      0.034914      0.025             0.0   \n24       1.0  0.449583      0.048671      0.075             0.0   \n3704     0.0  0.758303      0.016734      0.450             0.0   \n4267     1.0  0.525779      0.053804      0.025             0.0   \n...      ...       ...           ...        ...             ...   \n968      0.0  0.911766      0.038537      0.025             0.0   \n1667     0.0  0.285384      0.053816      0.450             0.0   \n3322     1.0  0.781714      0.052194      0.025             0.0   \n1688     0.0  0.506551      0.034477      0.025             0.0   \n5995     0.0  0.817563      0.145152      0.075             0.0   \n\n      first_hosp_stay  first_icu_stay  \n2367              0.0             0.0  \n4760              0.0             0.0  \n24                1.0             0.0  \n3704              0.0             0.0  \n4267              1.0             0.0  \n...               ...             ...  \n968               0.0             0.0  \n1667              0.0             0.0  \n3322              0.0             0.0  \n1688              1.0             0.0  \n5995              0.0             0.0  \n\n[6041 rows x 7 columns]",
      "text/html": "<div>\n<style scoped>\n    .dataframe tbody tr th:only-of-type {\n        vertical-align: middle;\n    }\n\n    .dataframe tbody tr th {\n        vertical-align: top;\n    }\n\n    .dataframe thead th {\n        text-align: right;\n    }\n</style>\n<table border=\"1\" class=\"dataframe\">\n  <thead>\n    <tr style=\"text-align: right;\">\n      <th></th>\n      <th>gender</th>\n      <th>age</th>\n      <th>los_hospital</th>\n      <th>ethnicity</th>\n      <th>admission_type</th>\n      <th>first_hosp_stay</th>\n      <th>first_icu_stay</th>\n    </tr>\n  </thead>\n  <tbody>\n    <tr>\n      <th>2367</th>\n      <td>1.0</td>\n      <td>1.000000</td>\n      <td>0.034031</td>\n      <td>0.025</td>\n      <td>0.0</td>\n      <td>0.0</td>\n      <td>0.0</td>\n    </tr>\n    <tr>\n      <th>4760</th>\n      <td>1.0</td>\n      <td>1.000000</td>\n      <td>0.034914</td>\n      <td>0.025</td>\n      <td>0.0</td>\n      <td>0.0</td>\n      <td>0.0</td>\n    </tr>\n    <tr>\n      <th>24</th>\n      <td>1.0</td>\n      <td>0.449583</td>\n      <td>0.048671</td>\n      <td>0.075</td>\n      <td>0.0</td>\n      <td>1.0</td>\n      <td>0.0</td>\n    </tr>\n    <tr>\n      <th>3704</th>\n      <td>0.0</td>\n      <td>0.758303</td>\n      <td>0.016734</td>\n      <td>0.450</td>\n      <td>0.0</td>\n      <td>0.0</td>\n      <td>0.0</td>\n    </tr>\n    <tr>\n      <th>4267</th>\n      <td>1.0</td>\n      <td>0.525779</td>\n      <td>0.053804</td>\n      <td>0.025</td>\n      <td>0.0</td>\n      <td>1.0</td>\n      <td>0.0</td>\n    </tr>\n    <tr>\n      <th>...</th>\n      <td>...</td>\n      <td>...</td>\n      <td>...</td>\n      <td>...</td>\n      <td>...</td>\n      <td>...</td>\n      <td>...</td>\n    </tr>\n    <tr>\n      <th>968</th>\n      <td>0.0</td>\n      <td>0.911766</td>\n      <td>0.038537</td>\n      <td>0.025</td>\n      <td>0.0</td>\n      <td>0.0</td>\n      <td>0.0</td>\n    </tr>\n    <tr>\n      <th>1667</th>\n      <td>0.0</td>\n      <td>0.285384</td>\n      <td>0.053816</td>\n      <td>0.450</td>\n      <td>0.0</td>\n      <td>0.0</td>\n      <td>0.0</td>\n    </tr>\n    <tr>\n      <th>3322</th>\n      <td>1.0</td>\n      <td>0.781714</td>\n      <td>0.052194</td>\n      <td>0.025</td>\n      <td>0.0</td>\n      <td>0.0</td>\n      <td>0.0</td>\n    </tr>\n    <tr>\n      <th>1688</th>\n      <td>0.0</td>\n      <td>0.506551</td>\n      <td>0.034477</td>\n      <td>0.025</td>\n      <td>0.0</td>\n      <td>1.0</td>\n      <td>0.0</td>\n    </tr>\n    <tr>\n      <th>5995</th>\n      <td>0.0</td>\n      <td>0.817563</td>\n      <td>0.145152</td>\n      <td>0.075</td>\n      <td>0.0</td>\n      <td>0.0</td>\n      <td>0.0</td>\n    </tr>\n  </tbody>\n</table>\n<p>6041 rows × 7 columns</p>\n</div>"
     },
     "execution_count": 422,
     "metadata": {},
     "output_type": "execute_result"
    }
   ],
   "source": [
    "X_train_static"
   ]
  },
  {
   "cell_type": "code",
   "execution_count": 423,
   "metadata": {},
   "outputs": [],
   "source": [
    "# Load validation data\n",
    "validation_pos = pd.read_csv(data_path+'validation_pos.txt')\n",
    "validation_neg = pd.read_csv(data_path+'validation_neg.txt')\n",
    "\n",
    "# Add target class\n",
    "validation_pos['survival'] = [1 for i in range(validation_pos.shape[0])]\n",
    "validation_neg['survival'] = [0 for i in range(validation_neg.shape[0])]\n",
    "\n",
    "validation_neg['events'] = validation_neg['drug_events'] + \" \" + validation_neg['procedure_codes']\n",
    "validation_pos['events'] = validation_pos['drug_events'] + \" \" + validation_pos['procedure_codes']"
   ]
  },
  {
   "cell_type": "code",
   "execution_count": 424,
   "outputs": [
    {
     "data": {
      "text/plain": "     subject_id                                        drug_events  \\\n0         84818  225910 225823 225910 225823 225910 225823 2259...   \n1         99412  222042 220970 220970 226364 225907 225799 2258...   \n2         77487                        225910 226361 225910 225910   \n3         63219  226364 226372 222168 222056 225154 225154 2214...   \n4         46060  226361 225168 226361 226361 220970 225154 2217...   \n..          ...                                                ...   \n195       70314  226361 225154 220995 225154 225154 225154 2251...   \n196       43736                 225151 225159 223262 225159 223258   \n197       51754  225910 220970 220970 225168 225168 220995 2251...   \n198       42180  221986 222168 225828 227522 225166 225828 2258...   \n199       32082  225859 225975 225884 225975 225884 225910 2251...   \n\n                                       procedure_codes   hadm_id  icustay_id  \\\n0                                            4513 4523  175593.0    226866.0   \n1                                            3972 8841  192975.0    295903.0   \n2                                  4513 4516 4513 8604  144009.0    250934.0   \n3                                            3615 3961  194579.0    220120.0   \n4                                            9907 9904  123807.0    268137.0   \n..                                                 ...       ...         ...   \n195  4131 3893 5013 8864 3897 3897 9925 370 0392 99...  129845.0    206464.0   \n196                 0066 3607 9920 0046 0040 8856 3778  143451.0    246005.0   \n197       4523 4513 4513 4523 4513 3734 3722 3964 8856  105236.0    257838.0   \n198                 3929 8411 3527 3774 3787 3776 3961  135448.0    212790.0   \n199                                          5185 5187  131005.0    240333.0   \n\n     gender  dod            admittime            dischtime  los_hospital  ...  \\\n0       0.0  NaN  2122-06-19 20:41:00  2122-06-24 12:24:00        4.6549  ...   \n1       1.0  NaN  2142-04-24 12:19:00  2142-05-03 13:00:00        9.0285  ...   \n2       0.0  NaN  2198-11-17 09:15:00  2198-11-23 19:57:00        6.4458  ...   \n3       0.0  NaN  2130-11-15 07:30:00  2130-11-19 13:40:00        4.2569  ...   \n4       1.0  NaN  2181-09-05 12:00:00  2181-09-14 21:32:00        9.3972  ...   \n..      ...  ...                  ...                  ...           ...  ...   \n195     1.0  NaN  2191-11-24 15:33:00  2192-01-13 17:53:00       50.0972  ...   \n196     1.0  NaN  2137-12-28 22:50:00  2138-01-03 15:15:00        5.6840  ...   \n197     0.0  NaN  2100-10-31 21:51:00  2100-11-03 10:15:00        2.5167  ...   \n198     0.0  NaN  2114-12-27 07:15:00  2115-01-01 13:15:00        5.2500  ...   \n199     0.0  NaN  2112-04-04 13:50:00  2112-04-13 16:00:00        9.0903  ...   \n\n     hospital_expire_flag  hospstay_seq first_hosp_stay               intime  \\\n0                     0.0           1.0             0.0  2122-06-19 20:42:04   \n1                     0.0           1.0             0.0  2142-04-24 14:50:11   \n2                     0.0           2.0             1.0  2198-11-17 09:16:18   \n3                     0.0           1.0             0.0  2130-11-15 11:28:52   \n4                     0.0           1.0             0.0  2181-09-09 01:45:54   \n..                    ...           ...             ...                  ...   \n195                   0.0           1.0             0.0  2191-11-28 20:58:28   \n196                   0.0           1.0             0.0  2138-01-01 18:37:36   \n197                   0.0           2.0             1.0  2100-10-31 21:52:03   \n198                   0.0           1.0             0.0  2114-12-27 11:00:10   \n199                   0.0           1.0             0.0  2112-04-07 09:28:02   \n\n                 outtime  los_icu  icustay_seq first_icu_stay survival  \\\n0    2122-06-21 15:37:24   1.7884          1.0            0.0        1   \n1    2142-04-30 17:58:10   6.1305          1.0            0.0        1   \n2    2198-11-18 14:24:09   1.2138          1.0            0.0        1   \n3    2130-11-16 11:42:45   1.0096          1.0            0.0        1   \n4    2181-09-11 15:24:40   2.5686          1.0            0.0        1   \n..                   ...      ...          ...            ...      ...   \n195  2191-11-29 18:35:18   0.9006          1.0            0.0        1   \n196  2138-01-02 12:54:44   0.7619          1.0            0.0        1   \n197  2100-11-03 10:58:55   2.5464          1.0            0.0        1   \n198  2114-12-29 22:13:50   2.4678          1.0            0.0        1   \n199  2112-04-08 17:57:32   1.3538          1.0            0.0        1   \n\n                                                events  \n0    225910 225823 225910 225823 225910 225823 2259...  \n1    222042 220970 220970 226364 225907 225799 2258...  \n2      225910 226361 225910 225910 4513 4516 4513 8604  \n3    226364 226372 222168 222056 225154 225154 2214...  \n4    226361 225168 226361 226361 220970 225154 2217...  \n..                                                 ...  \n195  226361 225154 220995 225154 225154 225154 2251...  \n196  225151 225159 223262 225159 223258 0066 3607 9...  \n197  225910 220970 220970 225168 225168 220995 2251...  \n198  221986 222168 225828 227522 225166 225828 2258...  \n199  225859 225975 225884 225975 225884 225910 2251...  \n\n[200 rows x 24 columns]",
      "text/html": "<div>\n<style scoped>\n    .dataframe tbody tr th:only-of-type {\n        vertical-align: middle;\n    }\n\n    .dataframe tbody tr th {\n        vertical-align: top;\n    }\n\n    .dataframe thead th {\n        text-align: right;\n    }\n</style>\n<table border=\"1\" class=\"dataframe\">\n  <thead>\n    <tr style=\"text-align: right;\">\n      <th></th>\n      <th>subject_id</th>\n      <th>drug_events</th>\n      <th>procedure_codes</th>\n      <th>hadm_id</th>\n      <th>icustay_id</th>\n      <th>gender</th>\n      <th>dod</th>\n      <th>admittime</th>\n      <th>dischtime</th>\n      <th>los_hospital</th>\n      <th>...</th>\n      <th>hospital_expire_flag</th>\n      <th>hospstay_seq</th>\n      <th>first_hosp_stay</th>\n      <th>intime</th>\n      <th>outtime</th>\n      <th>los_icu</th>\n      <th>icustay_seq</th>\n      <th>first_icu_stay</th>\n      <th>survival</th>\n      <th>events</th>\n    </tr>\n  </thead>\n  <tbody>\n    <tr>\n      <th>0</th>\n      <td>84818</td>\n      <td>225910 225823 225910 225823 225910 225823 2259...</td>\n      <td>4513 4523</td>\n      <td>175593.0</td>\n      <td>226866.0</td>\n      <td>0.0</td>\n      <td>NaN</td>\n      <td>2122-06-19 20:41:00</td>\n      <td>2122-06-24 12:24:00</td>\n      <td>4.6549</td>\n      <td>...</td>\n      <td>0.0</td>\n      <td>1.0</td>\n      <td>0.0</td>\n      <td>2122-06-19 20:42:04</td>\n      <td>2122-06-21 15:37:24</td>\n      <td>1.7884</td>\n      <td>1.0</td>\n      <td>0.0</td>\n      <td>1</td>\n      <td>225910 225823 225910 225823 225910 225823 2259...</td>\n    </tr>\n    <tr>\n      <th>1</th>\n      <td>99412</td>\n      <td>222042 220970 220970 226364 225907 225799 2258...</td>\n      <td>3972 8841</td>\n      <td>192975.0</td>\n      <td>295903.0</td>\n      <td>1.0</td>\n      <td>NaN</td>\n      <td>2142-04-24 12:19:00</td>\n      <td>2142-05-03 13:00:00</td>\n      <td>9.0285</td>\n      <td>...</td>\n      <td>0.0</td>\n      <td>1.0</td>\n      <td>0.0</td>\n      <td>2142-04-24 14:50:11</td>\n      <td>2142-04-30 17:58:10</td>\n      <td>6.1305</td>\n      <td>1.0</td>\n      <td>0.0</td>\n      <td>1</td>\n      <td>222042 220970 220970 226364 225907 225799 2258...</td>\n    </tr>\n    <tr>\n      <th>2</th>\n      <td>77487</td>\n      <td>225910 226361 225910 225910</td>\n      <td>4513 4516 4513 8604</td>\n      <td>144009.0</td>\n      <td>250934.0</td>\n      <td>0.0</td>\n      <td>NaN</td>\n      <td>2198-11-17 09:15:00</td>\n      <td>2198-11-23 19:57:00</td>\n      <td>6.4458</td>\n      <td>...</td>\n      <td>0.0</td>\n      <td>2.0</td>\n      <td>1.0</td>\n      <td>2198-11-17 09:16:18</td>\n      <td>2198-11-18 14:24:09</td>\n      <td>1.2138</td>\n      <td>1.0</td>\n      <td>0.0</td>\n      <td>1</td>\n      <td>225910 226361 225910 225910 4513 4516 4513 8604</td>\n    </tr>\n    <tr>\n      <th>3</th>\n      <td>63219</td>\n      <td>226364 226372 222168 222056 225154 225154 2214...</td>\n      <td>3615 3961</td>\n      <td>194579.0</td>\n      <td>220120.0</td>\n      <td>0.0</td>\n      <td>NaN</td>\n      <td>2130-11-15 07:30:00</td>\n      <td>2130-11-19 13:40:00</td>\n      <td>4.2569</td>\n      <td>...</td>\n      <td>0.0</td>\n      <td>1.0</td>\n      <td>0.0</td>\n      <td>2130-11-15 11:28:52</td>\n      <td>2130-11-16 11:42:45</td>\n      <td>1.0096</td>\n      <td>1.0</td>\n      <td>0.0</td>\n      <td>1</td>\n      <td>226364 226372 222168 222056 225154 225154 2214...</td>\n    </tr>\n    <tr>\n      <th>4</th>\n      <td>46060</td>\n      <td>226361 225168 226361 226361 220970 225154 2217...</td>\n      <td>9907 9904</td>\n      <td>123807.0</td>\n      <td>268137.0</td>\n      <td>1.0</td>\n      <td>NaN</td>\n      <td>2181-09-05 12:00:00</td>\n      <td>2181-09-14 21:32:00</td>\n      <td>9.3972</td>\n      <td>...</td>\n      <td>0.0</td>\n      <td>1.0</td>\n      <td>0.0</td>\n      <td>2181-09-09 01:45:54</td>\n      <td>2181-09-11 15:24:40</td>\n      <td>2.5686</td>\n      <td>1.0</td>\n      <td>0.0</td>\n      <td>1</td>\n      <td>226361 225168 226361 226361 220970 225154 2217...</td>\n    </tr>\n    <tr>\n      <th>...</th>\n      <td>...</td>\n      <td>...</td>\n      <td>...</td>\n      <td>...</td>\n      <td>...</td>\n      <td>...</td>\n      <td>...</td>\n      <td>...</td>\n      <td>...</td>\n      <td>...</td>\n      <td>...</td>\n      <td>...</td>\n      <td>...</td>\n      <td>...</td>\n      <td>...</td>\n      <td>...</td>\n      <td>...</td>\n      <td>...</td>\n      <td>...</td>\n      <td>...</td>\n      <td>...</td>\n    </tr>\n    <tr>\n      <th>195</th>\n      <td>70314</td>\n      <td>226361 225154 220995 225154 225154 225154 2251...</td>\n      <td>4131 3893 5013 8864 3897 3897 9925 370 0392 99...</td>\n      <td>129845.0</td>\n      <td>206464.0</td>\n      <td>1.0</td>\n      <td>NaN</td>\n      <td>2191-11-24 15:33:00</td>\n      <td>2192-01-13 17:53:00</td>\n      <td>50.0972</td>\n      <td>...</td>\n      <td>0.0</td>\n      <td>1.0</td>\n      <td>0.0</td>\n      <td>2191-11-28 20:58:28</td>\n      <td>2191-11-29 18:35:18</td>\n      <td>0.9006</td>\n      <td>1.0</td>\n      <td>0.0</td>\n      <td>1</td>\n      <td>226361 225154 220995 225154 225154 225154 2251...</td>\n    </tr>\n    <tr>\n      <th>196</th>\n      <td>43736</td>\n      <td>225151 225159 223262 225159 223258</td>\n      <td>0066 3607 9920 0046 0040 8856 3778</td>\n      <td>143451.0</td>\n      <td>246005.0</td>\n      <td>1.0</td>\n      <td>NaN</td>\n      <td>2137-12-28 22:50:00</td>\n      <td>2138-01-03 15:15:00</td>\n      <td>5.6840</td>\n      <td>...</td>\n      <td>0.0</td>\n      <td>1.0</td>\n      <td>0.0</td>\n      <td>2138-01-01 18:37:36</td>\n      <td>2138-01-02 12:54:44</td>\n      <td>0.7619</td>\n      <td>1.0</td>\n      <td>0.0</td>\n      <td>1</td>\n      <td>225151 225159 223262 225159 223258 0066 3607 9...</td>\n    </tr>\n    <tr>\n      <th>197</th>\n      <td>51754</td>\n      <td>225910 220970 220970 225168 225168 220995 2251...</td>\n      <td>4523 4513 4513 4523 4513 3734 3722 3964 8856</td>\n      <td>105236.0</td>\n      <td>257838.0</td>\n      <td>0.0</td>\n      <td>NaN</td>\n      <td>2100-10-31 21:51:00</td>\n      <td>2100-11-03 10:15:00</td>\n      <td>2.5167</td>\n      <td>...</td>\n      <td>0.0</td>\n      <td>2.0</td>\n      <td>1.0</td>\n      <td>2100-10-31 21:52:03</td>\n      <td>2100-11-03 10:58:55</td>\n      <td>2.5464</td>\n      <td>1.0</td>\n      <td>0.0</td>\n      <td>1</td>\n      <td>225910 220970 220970 225168 225168 220995 2251...</td>\n    </tr>\n    <tr>\n      <th>198</th>\n      <td>42180</td>\n      <td>221986 222168 225828 227522 225166 225828 2258...</td>\n      <td>3929 8411 3527 3774 3787 3776 3961</td>\n      <td>135448.0</td>\n      <td>212790.0</td>\n      <td>0.0</td>\n      <td>NaN</td>\n      <td>2114-12-27 07:15:00</td>\n      <td>2115-01-01 13:15:00</td>\n      <td>5.2500</td>\n      <td>...</td>\n      <td>0.0</td>\n      <td>1.0</td>\n      <td>0.0</td>\n      <td>2114-12-27 11:00:10</td>\n      <td>2114-12-29 22:13:50</td>\n      <td>2.4678</td>\n      <td>1.0</td>\n      <td>0.0</td>\n      <td>1</td>\n      <td>221986 222168 225828 227522 225166 225828 2258...</td>\n    </tr>\n    <tr>\n      <th>199</th>\n      <td>32082</td>\n      <td>225859 225975 225884 225975 225884 225910 2251...</td>\n      <td>5185 5187</td>\n      <td>131005.0</td>\n      <td>240333.0</td>\n      <td>0.0</td>\n      <td>NaN</td>\n      <td>2112-04-04 13:50:00</td>\n      <td>2112-04-13 16:00:00</td>\n      <td>9.0903</td>\n      <td>...</td>\n      <td>0.0</td>\n      <td>1.0</td>\n      <td>0.0</td>\n      <td>2112-04-07 09:28:02</td>\n      <td>2112-04-08 17:57:32</td>\n      <td>1.3538</td>\n      <td>1.0</td>\n      <td>0.0</td>\n      <td>1</td>\n      <td>225859 225975 225884 225975 225884 225910 2251...</td>\n    </tr>\n  </tbody>\n</table>\n<p>200 rows × 24 columns</p>\n</div>"
     },
     "execution_count": 424,
     "metadata": {},
     "output_type": "execute_result"
    }
   ],
   "source": [
    "validation_pos"
   ],
   "metadata": {
    "collapsed": false,
    "pycharm": {
     "name": "#%%\n"
    }
   }
  },
  {
   "cell_type": "code",
   "execution_count": 425,
   "outputs": [],
   "source": [
    "train_neg['events'] = train_neg['drug_events'] + \" \" + train_neg['procedure_codes']\n",
    "train_pos['events'] = train_pos['drug_events'] + \" \" + train_pos['procedure_codes']"
   ],
   "metadata": {
    "collapsed": false,
    "pycharm": {
     "name": "#%%\n"
    }
   }
  },
  {
   "cell_type": "code",
   "execution_count": 426,
   "metadata": {},
   "outputs": [],
   "source": [
    "validation = pd.concat([validation_pos, validation_neg]).reset_index()\n",
    "validation_reordered = validation.sample(frac=1, random_state=3)\n",
    "\n",
    "\n",
    "X_val_events, X_val_static, y_val = validation_reordered[\"events\"],validation_reordered[static_feature_names], validation_reordered['survival']"
   ]
  },
  {
   "cell_type": "code",
   "execution_count": 427,
   "metadata": {},
   "outputs": [
    {
     "data": {
      "text/plain": "376    225893 225798 221794 225893 225893 221794 2258...\n16                        226361 225168 225910 4525 4513\n365    226361 225798 225975 223262 223262 225855 2259...\n82     221468 221794 221468 221794 221347 225152 2213...\n107    225910 220970 225168 221794 225910 225884 2216...\nName: events, dtype: object"
     },
     "execution_count": 427,
     "metadata": {},
     "output_type": "execute_result"
    }
   ],
   "source": [
    "X_val_events.head()"
   ]
  },
  {
   "cell_type": "markdown",
   "metadata": {},
   "source": [
    "### Data preprocessing\n",
    "\n",
    "#### 1.1 Conver all the events into sequence (token) ids"
   ]
  },
  {
   "cell_type": "code",
   "execution_count": 428,
   "metadata": {},
   "outputs": [],
   "source": [
    "# Set the vocab size and max sequence lenght\n",
    "vocab_size = 1100 #(max vocab id=1024 in the training data)\n",
    "max_seq_length = 74 #(the maximum sequence length in training/testing data)"
   ]
  },
  {
   "cell_type": "code",
   "execution_count": 429,
   "metadata": {},
   "outputs": [],
   "source": [
    "# Use a text tokenizer to convert events\n",
    "tokenizer = Tokenizer(num_words = vocab_size)\n",
    "tokenizer.fit_on_texts(X_train_events)"
   ]
  },
  {
   "cell_type": "code",
   "execution_count": 430,
   "metadata": {},
   "outputs": [],
   "source": [
    "X_train_sequences = tokenizer.texts_to_sequences(X_train_events)\n",
    "X_val_sequences = tokenizer.texts_to_sequences(X_val_events)"
   ]
  },
  {
   "cell_type": "code",
   "execution_count": 431,
   "metadata": {},
   "outputs": [
    {
     "name": "stdout",
     "output_type": "stream",
     "text": [
      "Before texts_to_sequences():\n",
      " 220995 220995 223262 221456 227523 222011 225975 223262 4525\n",
      "\n",
      "After texts_to_sequences():\n",
      " [48, 48, 7, 30, 20, 14, 2, 7, 212]\n"
     ]
    }
   ],
   "source": [
    "# Before texts_to_sequences()\n",
    "print(f'Before texts_to_sequences():\\n {X_train_events.iloc[0]}\\n')\n",
    "\n",
    "# After texts_to_sequences()\n",
    "print(f'After texts_to_sequences():\\n {X_train_sequences[0]}')"
   ]
  },
  {
   "cell_type": "markdown",
   "metadata": {},
   "source": [
    "#### 1.2 Padding converted sequences"
   ]
  },
  {
   "cell_type": "code",
   "execution_count": 432,
   "metadata": {},
   "outputs": [],
   "source": [
    "# Pad X_train_sequences and X_val_sequences\n",
    "X_train_padded = sequence.pad_sequences(X_train_sequences, maxlen=max_seq_length, padding='post')\n",
    "X_val_padded = sequence.pad_sequences(X_val_sequences, maxlen=max_seq_length, padding='post')"
   ]
  },
  {
   "cell_type": "code",
   "execution_count": 433,
   "metadata": {},
   "outputs": [
    {
     "data": {
      "text/plain": "(6041, 74)"
     },
     "execution_count": 433,
     "metadata": {},
     "output_type": "execute_result"
    }
   ],
   "source": [
    "X_train_padded.shape"
   ]
  },
  {
   "cell_type": "code",
   "execution_count": 434,
   "metadata": {},
   "outputs": [
    {
     "data": {
      "text/plain": "(400, 74)"
     },
     "execution_count": 434,
     "metadata": {},
     "output_type": "execute_result"
    }
   ],
   "source": [
    "X_val_padded.shape"
   ]
  },
  {
   "cell_type": "code",
   "execution_count": 435,
   "metadata": {},
   "outputs": [
    {
     "data": {
      "text/plain": "array([[22, 11, 12, ...,  0,  0,  0],\n       [21,  9, 15, ...,  0,  0,  0],\n       [21, 11,  2, ...,  0,  0,  0],\n       ...,\n       [13,  5, 16, ...,  0,  0,  0],\n       [ 9, 21,  9, ...,  0,  0,  0],\n       [12, 21, 11, ...,  0,  0,  0]])"
     },
     "execution_count": 435,
     "metadata": {},
     "output_type": "execute_result"
    }
   ],
   "source": [
    "X_val_padded"
   ]
  },
  {
   "cell_type": "code",
   "metadata": {
    "pycharm": {
     "name": "#%%\n"
    }
   },
   "source": [
    "## 2. Train prediction models\n",
    "# For plotting the accuracy/loss of keras models\n",
    "def plot_graphs(history, string):\n",
    "    plt.plot(history.history[string])\n",
    "    plt.plot(history.history['val_' + string])\n",
    "    plt.xlabel(\"Epochs\")\n",
    "    plt.ylabel(string)\n",
    "    plt.legend([string, 'val_' + string])\n",
    "    plt.show()"
   ],
   "execution_count": null,
   "outputs": []
  },
  {
   "cell_type": "code",
   "execution_count": 272,
   "outputs": [],
   "source": [
    "def eval_model_preds(preds, reference):\n",
    "    # Calculate the validation accuracy\n",
    "    validation_acc = sum(preds == reference)/len(reference)\n",
    "    print(f'Validation Accuracy: {validation_acc}')\n",
    "    print()\n",
    "    # Get the confusion matrix\n",
    "    confusion_matrix_df = pd.DataFrame(\n",
    "        confusion_matrix(y_true=reference, y_pred=preds, labels=[1, 0]),\n",
    "        index=['True:pos', 'True:neg'],\n",
    "        columns=['Pred:pos', 'Pred:neg']\n",
    "    )\n",
    "    print('Confusion Matrix:')\n",
    "    print(confusion_matrix_df)\n",
    "    print( )\n",
    "\n",
    "    # Counts of positive and negative predictions\n",
    "    print('Negative and positive predictions')\n",
    "    print(pd.value_counts(preds))"
   ],
   "metadata": {
    "collapsed": false,
    "pycharm": {
     "name": "#%%\n"
    }
   }
  },
  {
   "cell_type": "code",
   "execution_count": 241,
   "outputs": [],
   "source": [
    "# Define the early stopping criteria\n",
    "early_stopping = EarlyStopping(monitor='val_accuracy', patience=3)"
   ],
   "metadata": {
    "collapsed": false,
    "pycharm": {
     "name": "#%%\n"
    }
   }
  },
  {
   "cell_type": "markdown",
   "source": [
    "### 2.1 Train the dynamic feature LSTM"
   ],
   "metadata": {
    "collapsed": false
   }
  },
  {
   "cell_type": "code",
   "execution_count": 323,
   "metadata": {},
   "outputs": [],
   "source": [
    "# Fix the random seeds to get consistent models\n",
    "## ref: https://keras.io/getting_started/faq/#how-can-i-obtain-reproducible-results-using-keras-during-development\n",
    "seed_value = 3\n",
    "\n",
    "os.environ['PYTHONHASHSEED']=str(seed_value)\n",
    "\n",
    "# The below is necessary for starting Numpy generated random numbers in a well-defined initial state.\n",
    "np.random.seed(seed_value)\n",
    "\n",
    "# The below is necessary for starting core Python generated random numbers in a well-defined state.\n",
    "python_random.seed(seed_value)\n",
    "\n",
    "# The below set_seed() will make random number generation\n",
    "tf.random.set_seed(seed_value)\n",
    "\n",
    "# configure a new global `tensorflow` session\n",
    "session_conf = tf.compat.v1.ConfigProto(intra_op_parallelism_threads=1, inter_op_parallelism_threads=1)\n",
    "sess = tf.compat.v1.Session(graph=tf.compat.v1.get_default_graph(), config=session_conf)\n",
    "tf.compat.v1.keras.backend.set_session(sess)\n",
    "\n",
    "def reset_seeds(seed_value=3):\n",
    "    os.environ['PYTHONHASHSEED']=str(seed_value)\n",
    "    np.random.seed(seed_value) \n",
    "    python_random.seed(seed_value)\n",
    "    tf.random.set_seed(seed_value)\n",
    "\n",
    "reset_seeds()"
   ]
  },
  {
   "cell_type": "code",
   "execution_count": 324,
   "metadata": {},
   "outputs": [
    {
     "name": "stdout",
     "output_type": "stream",
     "text": [
      "Model: \"model_17\"\n",
      "_________________________________________________________________\n",
      " Layer (type)                Output Shape              Param #   \n",
      "=================================================================\n",
      " input_54 (InputLayer)       [(None, None)]            0         \n",
      "                                                                 \n",
      " embedding_21 (Embedding)    (None, None, 128)         140800    \n",
      "                                                                 \n",
      " bidirectional_8 (Bidirectio  (None, None, 128)        98816     \n",
      " nal)                                                            \n",
      "                                                                 \n",
      " bidirectional_9 (Bidirectio  (None, 128)              98816     \n",
      " nal)                                                            \n",
      "                                                                 \n",
      " dense_52 (Dense)            (None, 64)                8256      \n",
      "                                                                 \n",
      " dense_53 (Dense)            (None, 64)                4160      \n",
      "                                                                 \n",
      " dense_54 (Dense)            (None, 1)                 65        \n",
      "                                                                 \n",
      "=================================================================\n",
      "Total params: 350,913\n",
      "Trainable params: 350,913\n",
      "Non-trainable params: 0\n",
      "_________________________________________________________________\n"
     ]
    }
   ],
   "source": [
    "# Define the model structure\n",
    "# Input for variable-length sequences of integers\n",
    "inputs = keras.Input(shape=(None,), dtype=\"int32\")\n",
    "\n",
    "# Embed each integer in a 128-dimensional vector\n",
    "x = layers.Embedding(vocab_size, 128)(inputs)\n",
    "\n",
    "# Add 2 bidirectional LSTMs\n",
    "x = layers.Bidirectional(layers.LSTM(64, return_sequences=True))(x)\n",
    "x = layers.Bidirectional(layers.LSTM(64))(x)\n",
    "x = layers.Dense(64)(x)\n",
    "x = layers.Dense(64)(x)\n",
    "\n",
    "# Add a classifier\n",
    "outputs = layers.Dense(1, activation=\"sigmoid\")(x)\n",
    "main_model = keras.Model(inputs, outputs)\n",
    "\n",
    "main_model.summary()"
   ]
  },
  {
   "cell_type": "code",
   "execution_count": 325,
   "metadata": {},
   "outputs": [
    {
     "name": "stdout",
     "output_type": "stream",
     "text": [
      "Epoch 1/30\n",
      "95/95 [==============================] - 11s 60ms/step - loss: 0.5837 - accuracy: 0.6919 - val_loss: 0.5690 - val_accuracy: 0.7050\n",
      "Epoch 2/30\n",
      "95/95 [==============================] - 4s 39ms/step - loss: 0.4952 - accuracy: 0.7578 - val_loss: 0.5505 - val_accuracy: 0.7000\n",
      "Epoch 3/30\n",
      "95/95 [==============================] - 4s 40ms/step - loss: 0.4458 - accuracy: 0.7921 - val_loss: 0.5189 - val_accuracy: 0.7350\n",
      "Epoch 4/30\n",
      "95/95 [==============================] - 4s 39ms/step - loss: 0.4028 - accuracy: 0.8118 - val_loss: 0.5250 - val_accuracy: 0.7525\n",
      "Epoch 5/30\n",
      "95/95 [==============================] - 4s 39ms/step - loss: 0.3849 - accuracy: 0.8283 - val_loss: 0.4932 - val_accuracy: 0.7600\n",
      "Epoch 6/30\n",
      "95/95 [==============================] - 4s 38ms/step - loss: 0.3466 - accuracy: 0.8482 - val_loss: 0.4674 - val_accuracy: 0.7750\n",
      "Epoch 7/30\n",
      "95/95 [==============================] - 4s 40ms/step - loss: 0.3176 - accuracy: 0.8651 - val_loss: 0.4947 - val_accuracy: 0.7750\n",
      "Epoch 8/30\n",
      "95/95 [==============================] - 4s 44ms/step - loss: 0.2967 - accuracy: 0.8798 - val_loss: 0.5026 - val_accuracy: 0.7875\n",
      "Epoch 9/30\n",
      "95/95 [==============================] - 4s 39ms/step - loss: 0.2809 - accuracy: 0.8878 - val_loss: 0.4740 - val_accuracy: 0.8125\n",
      "Epoch 10/30\n",
      "95/95 [==============================] - 4s 40ms/step - loss: 0.2724 - accuracy: 0.8909 - val_loss: 0.5021 - val_accuracy: 0.8000\n",
      "Epoch 11/30\n",
      "95/95 [==============================] - 4s 43ms/step - loss: 0.2532 - accuracy: 0.9002 - val_loss: 0.5445 - val_accuracy: 0.7825\n",
      "Epoch 12/30\n",
      "95/95 [==============================] - 4s 40ms/step - loss: 0.2272 - accuracy: 0.9131 - val_loss: 0.5663 - val_accuracy: 0.8125\n"
     ]
    }
   ],
   "source": [
    "main_model.compile(\"adam\", \"binary_crossentropy\", metrics=[\"accuracy\"])\n",
    "\n",
    "reset_seeds()\n",
    "model_history = main_model.fit(\n",
    "    X_train_padded, \n",
    "    y_train, \n",
    "    epochs=30, \n",
    "    batch_size=64, \n",
    "    validation_data=(X_val_padded, y_val), \n",
    "    callbacks=[early_stopping]\n",
    "    )"
   ]
  },
  {
   "cell_type": "code",
   "execution_count": 326,
   "metadata": {},
   "outputs": [
    {
     "data": {
      "text/plain": "<Figure size 432x288 with 1 Axes>",
      "image/png": "[encoded data removed]"
     },
     "metadata": {
      "needs_background": "light"
     },
     "output_type": "display_data"
    },
    {
     "data": {
      "text/plain": "<Figure size 432x288 with 1 Axes>",
      "image/png": "[encoded data removed]"
     },
     "metadata": {
      "needs_background": "light"
     },
     "output_type": "display_data"
    }
   ],
   "source": [
    "# Visualize the training/validation accuracy and loss\n",
    "plot_graphs(model_history, \"accuracy\")\n",
    "plot_graphs(model_history, \"loss\")"
   ]
  },
  {
   "cell_type": "code",
   "execution_count": 329,
   "metadata": {},
   "outputs": [],
   "source": [
    "# Get the predicted target class: if pred > 0.5, then y_pred = 1; else, y_pred = 0\n",
    "y_pred = np.array([1 if pred > 0.5 else 0 for pred in main_model.predict(X_val_padded)])"
   ]
  },
  {
   "cell_type": "code",
   "execution_count": 330,
   "metadata": {},
   "outputs": [
    {
     "name": "stdout",
     "output_type": "stream",
     "text": [
      "Validation Accuracy: 0.8125\n",
      "\n",
      "Confusion Matrix:\n",
      "          Pred:pos  Pred:neg\n",
      "True:pos       175        25\n",
      "True:neg        50       150\n",
      "\n",
      "Negative and positive predictions\n",
      "1    225\n",
      "0    175\n",
      "dtype: int64\n"
     ]
    }
   ],
   "source": [
    "eval_model_preds(y_pred, y_val)"
   ]
  },
  {
   "cell_type": "markdown",
   "source": [
    "### 2.2 Train full feature LSTM"
   ],
   "metadata": {
    "collapsed": false
   }
  },
  {
   "cell_type": "code",
   "execution_count": 436,
   "outputs": [],
   "source": [
    "# Fix the random seeds to get consistent models\n",
    "## ref: https://keras.io/getting_started/faq/#how-can-i-obtain-reproducible-results-using-keras-during-development\n",
    "seed_value = 3\n",
    "\n",
    "os.environ['PYTHONHASHSEED']=str(seed_value)\n",
    "\n",
    "# The below is necessary for starting Numpy generated random numbers in a well-defined initial state.\n",
    "np.random.seed(seed_value)\n",
    "\n",
    "# The below is necessary for starting core Python generated random numbers in a well-defined state.\n",
    "python_random.seed(seed_value)\n",
    "\n",
    "# The below set_seed() will make random number generation\n",
    "tf.random.set_seed(seed_value)\n",
    "\n",
    "# configure a new global `tensorflow` session\n",
    "session_conf = tf.compat.v1.ConfigProto(intra_op_parallelism_threads=1, inter_op_parallelism_threads=1)\n",
    "sess = tf.compat.v1.Session(graph=tf.compat.v1.get_default_graph(), config=session_conf)\n",
    "tf.compat.v1.keras.backend.set_session(sess)\n",
    "\n",
    "def reset_seeds(seed_value=3):\n",
    "    os.environ['PYTHONHASHSEED']=str(seed_value)\n",
    "    np.random.seed(seed_value)\n",
    "    python_random.seed(seed_value)\n",
    "    tf.random.set_seed(seed_value)\n",
    "\n",
    "reset_seeds()"
   ],
   "metadata": {
    "collapsed": false,
    "pycharm": {
     "name": "#%%\n"
    }
   }
  },
  {
   "cell_type": "code",
   "execution_count": 474,
   "outputs": [],
   "source": [
    "# dynamic features\n",
    "x_i = Input(shape=(None,), dtype=\"int32\")\n",
    "x = layers.Embedding(vocab_size, 128)(x_i)\n",
    "x = layers.Bidirectional(layers.LSTM(64, return_sequences=True))(x)\n",
    "x_pa = layers.Bidirectional(layers.LSTM(64))(x)\n",
    "x = layers.Dense(64)(x_pa)\n",
    "x = layers.Dense(64)(x)\n",
    "\n",
    "# static features\n",
    "x_i2 = Input(shape = (len(static_feature_names),))\n",
    "x2 = layers.Dense(64)(x_i2)\n",
    "x2 = layers.Activation('relu')(x2)\n",
    "x_pa2 = layers.Dense(64)(x2)\n",
    "x2 = Activation('relu')(x_pa2)\n",
    "x2 = Dropout(0.1)(x2)\n",
    "\n",
    "# combined part\n",
    "x_dot = Dot(axes=1, normalize=True)([x2, x])\n",
    "x = layers.Dense(64)(x_dot)\n",
    "x = Activation('relu')(x)\n",
    "x = layers.Dense(64)(x)\n",
    "x = layers.Dense(64)(x)\n",
    "x = Activation('relu')(x)\n",
    "x = layers.Dense(64)(x)\n",
    "\n",
    "x_o = Dense(1, activation=\"sigmoid\")(x)\n",
    "\n",
    "full_lstm_model = Model([x_i, x_i2], x_o)\n",
    "\n",
    "\n",
    "full_lstm_model.compile(\"adam\", \"binary_crossentropy\", metrics=[\"accuracy\"])"
   ],
   "metadata": {
    "collapsed": false,
    "pycharm": {
     "name": "#%%\n"
    }
   }
  },
  {
   "cell_type": "code",
   "execution_count": 475,
   "outputs": [
    {
     "name": "stdout",
     "output_type": "stream",
     "text": [
      "Model: \"model_33\"\n",
      "__________________________________________________________________________________________________\n",
      " Layer (type)                   Output Shape         Param #     Connected to                     \n",
      "==================================================================================================\n",
      " input_98 (InputLayer)          [(None, 7)]          0           []                               \n",
      "                                                                                                  \n",
      " input_97 (InputLayer)          [(None, None)]       0           []                               \n",
      "                                                                                                  \n",
      " dense_137 (Dense)              (None, 64)           512         ['input_98[0][0]']               \n",
      "                                                                                                  \n",
      " embedding_43 (Embedding)       (None, None, 128)    140800      ['input_97[0][0]']               \n",
      "                                                                                                  \n",
      " activation_251 (Activation)    (None, 64)           0           ['dense_137[0][0]']              \n",
      "                                                                                                  \n",
      " bidirectional_37 (Bidirectiona  (None, None, 128)   98816       ['embedding_43[0][0]']           \n",
      " l)                                                                                               \n",
      "                                                                                                  \n",
      " dense_138 (Dense)              (None, 64)           4160        ['activation_251[0][0]']         \n",
      "                                                                                                  \n",
      " bidirectional_38 (Bidirectiona  (None, 128)         98816       ['bidirectional_37[0][0]']       \n",
      " l)                                                                                               \n",
      "                                                                                                  \n",
      " activation_252 (Activation)    (None, 64)           0           ['dense_138[0][0]']              \n",
      "                                                                                                  \n",
      " dense_135 (Dense)              (None, 64)           8256        ['bidirectional_38[0][0]']       \n",
      "                                                                                                  \n",
      " dropout_99 (Dropout)           (None, 64)           0           ['activation_252[0][0]']         \n",
      "                                                                                                  \n",
      " dense_136 (Dense)              (None, 64)           4160        ['dense_135[0][0]']              \n",
      "                                                                                                  \n",
      " dot_117 (Dot)                  (None, 1)            0           ['dropout_99[0][0]',             \n",
      "                                                                  'dense_136[0][0]']              \n",
      "                                                                                                  \n",
      " dense_139 (Dense)              (None, 64)           128         ['dot_117[0][0]']                \n",
      "                                                                                                  \n",
      " activation_253 (Activation)    (None, 64)           0           ['dense_139[0][0]']              \n",
      "                                                                                                  \n",
      " dense_140 (Dense)              (None, 64)           4160        ['activation_253[0][0]']         \n",
      "                                                                                                  \n",
      " dense_141 (Dense)              (None, 64)           4160        ['dense_140[0][0]']              \n",
      "                                                                                                  \n",
      " activation_254 (Activation)    (None, 64)           0           ['dense_141[0][0]']              \n",
      "                                                                                                  \n",
      " dense_142 (Dense)              (None, 64)           4160        ['activation_254[0][0]']         \n",
      "                                                                                                  \n",
      " dense_143 (Dense)              (None, 1)            65          ['dense_142[0][0]']              \n",
      "                                                                                                  \n",
      "==================================================================================================\n",
      "Total params: 368,193\n",
      "Trainable params: 368,193\n",
      "Non-trainable params: 0\n",
      "__________________________________________________________________________________________________\n"
     ]
    }
   ],
   "source": [
    "full_lstm_model.summary()"
   ],
   "metadata": {
    "collapsed": false,
    "pycharm": {
     "name": "#%%\n"
    }
   }
  },
  {
   "cell_type": "code",
   "execution_count": 480,
   "outputs": [
    {
     "name": "stdout",
     "output_type": "stream",
     "text": [
      "Epoch 1/100\n",
      "95/95 [==============================] - 4s 39ms/step - loss: 0.2312 - accuracy: 0.9113 - val_loss: 0.5729 - val_accuracy: 0.7500\n",
      "Epoch 2/100\n",
      "95/95 [==============================] - 4s 39ms/step - loss: 0.2015 - accuracy: 0.9248 - val_loss: 0.5294 - val_accuracy: 0.7825\n",
      "Epoch 3/100\n",
      "95/95 [==============================] - 4s 39ms/step - loss: 0.1960 - accuracy: 0.9237 - val_loss: 0.5084 - val_accuracy: 0.8025\n",
      "Epoch 4/100\n",
      "95/95 [==============================] - 4s 39ms/step - loss: 0.1838 - accuracy: 0.9293 - val_loss: 0.5442 - val_accuracy: 0.7800\n",
      "Epoch 5/100\n",
      "95/95 [==============================] - 4s 39ms/step - loss: 0.1752 - accuracy: 0.9354 - val_loss: 0.5360 - val_accuracy: 0.7800\n",
      "Epoch 6/100\n",
      "95/95 [==============================] - 4s 39ms/step - loss: 0.1907 - accuracy: 0.9273 - val_loss: 0.5335 - val_accuracy: 0.7850\n",
      "Epoch 7/100\n",
      "95/95 [==============================] - 4s 41ms/step - loss: 0.1651 - accuracy: 0.9378 - val_loss: 0.5963 - val_accuracy: 0.7700\n",
      "Epoch 8/100\n",
      "95/95 [==============================] - 4s 40ms/step - loss: 0.1500 - accuracy: 0.9424 - val_loss: 0.5987 - val_accuracy: 0.7975\n",
      "Epoch 9/100\n",
      "95/95 [==============================] - 4s 41ms/step - loss: 0.1370 - accuracy: 0.9492 - val_loss: 0.6351 - val_accuracy: 0.7575\n",
      "Epoch 10/100\n",
      "95/95 [==============================] - 4s 40ms/step - loss: 0.1405 - accuracy: 0.9482 - val_loss: 0.6500 - val_accuracy: 0.7750\n",
      "Epoch 11/100\n",
      "95/95 [==============================] - 4s 40ms/step - loss: 0.1178 - accuracy: 0.9593 - val_loss: 0.6208 - val_accuracy: 0.7975\n",
      "Epoch 12/100\n",
      "95/95 [==============================] - 4s 39ms/step - loss: 0.1151 - accuracy: 0.9576 - val_loss: 0.6926 - val_accuracy: 0.7975\n",
      "Epoch 13/100\n",
      "95/95 [==============================] - 4s 40ms/step - loss: 0.0995 - accuracy: 0.9637 - val_loss: 0.6675 - val_accuracy: 0.7725\n",
      "Epoch 14/100\n",
      "95/95 [==============================] - 4s 39ms/step - loss: 0.0957 - accuracy: 0.9676 - val_loss: 0.7052 - val_accuracy: 0.8000\n",
      "Epoch 15/100\n",
      "95/95 [==============================] - 4s 40ms/step - loss: 0.1075 - accuracy: 0.9621 - val_loss: 0.6456 - val_accuracy: 0.7750\n",
      "Epoch 16/100\n",
      "95/95 [==============================] - 4s 40ms/step - loss: 0.1098 - accuracy: 0.9594 - val_loss: 0.7746 - val_accuracy: 0.7875\n",
      "Epoch 17/100\n",
      "95/95 [==============================] - 4s 40ms/step - loss: 0.0992 - accuracy: 0.9662 - val_loss: 0.7599 - val_accuracy: 0.8050\n",
      "Epoch 18/100\n",
      "95/95 [==============================] - 4s 40ms/step - loss: 0.0774 - accuracy: 0.9715 - val_loss: 0.9041 - val_accuracy: 0.7975\n",
      "Epoch 19/100\n",
      "95/95 [==============================] - 4s 40ms/step - loss: 0.0631 - accuracy: 0.9773 - val_loss: 0.8781 - val_accuracy: 0.8050\n",
      "Epoch 20/100\n",
      "95/95 [==============================] - 4s 40ms/step - loss: 0.0642 - accuracy: 0.9763 - val_loss: 0.9402 - val_accuracy: 0.8025\n",
      "Epoch 21/100\n",
      "95/95 [==============================] - 4s 40ms/step - loss: 0.0676 - accuracy: 0.9765 - val_loss: 0.7873 - val_accuracy: 0.8125\n",
      "Epoch 22/100\n",
      "95/95 [==============================] - 4s 41ms/step - loss: 0.0863 - accuracy: 0.9712 - val_loss: 0.9925 - val_accuracy: 0.7850\n",
      "Epoch 23/100\n",
      "95/95 [==============================] - 4s 39ms/step - loss: 0.0603 - accuracy: 0.9796 - val_loss: 0.9351 - val_accuracy: 0.8075\n",
      "Epoch 24/100\n",
      "95/95 [==============================] - 4s 41ms/step - loss: 0.0477 - accuracy: 0.9848 - val_loss: 0.9423 - val_accuracy: 0.8175\n",
      "Epoch 25/100\n",
      "95/95 [==============================] - 4s 41ms/step - loss: 0.0364 - accuracy: 0.9889 - val_loss: 1.0635 - val_accuracy: 0.7925\n",
      "Epoch 26/100\n",
      "95/95 [==============================] - 4s 40ms/step - loss: 0.0536 - accuracy: 0.9829 - val_loss: 0.9887 - val_accuracy: 0.7900\n",
      "Epoch 27/100\n",
      "95/95 [==============================] - 4s 40ms/step - loss: 0.0528 - accuracy: 0.9825 - val_loss: 0.8979 - val_accuracy: 0.8075\n",
      "Epoch 28/100\n",
      "95/95 [==============================] - 4s 40ms/step - loss: 0.0518 - accuracy: 0.9858 - val_loss: 0.8481 - val_accuracy: 0.8075\n",
      "Epoch 29/100\n",
      "95/95 [==============================] - 4s 41ms/step - loss: 0.0457 - accuracy: 0.9854 - val_loss: 1.0139 - val_accuracy: 0.8050\n",
      "Epoch 30/100\n",
      "95/95 [==============================] - 4s 40ms/step - loss: 0.0554 - accuracy: 0.9834 - val_loss: 0.9431 - val_accuracy: 0.8100\n",
      "Epoch 31/100\n",
      "95/95 [==============================] - 4s 40ms/step - loss: 0.0370 - accuracy: 0.9897 - val_loss: 0.9929 - val_accuracy: 0.8225\n",
      "Epoch 32/100\n",
      "95/95 [==============================] - 4s 40ms/step - loss: 0.0465 - accuracy: 0.9854 - val_loss: 0.9395 - val_accuracy: 0.8125\n",
      "Epoch 33/100\n",
      "95/95 [==============================] - 4s 40ms/step - loss: 0.0428 - accuracy: 0.9866 - val_loss: 1.1086 - val_accuracy: 0.8000\n",
      "Epoch 34/100\n",
      "95/95 [==============================] - 4s 40ms/step - loss: 0.0385 - accuracy: 0.9897 - val_loss: 0.9804 - val_accuracy: 0.8000\n",
      "Epoch 35/100\n",
      "95/95 [==============================] - 4s 42ms/step - loss: 0.0378 - accuracy: 0.9889 - val_loss: 0.8936 - val_accuracy: 0.8250\n",
      "Epoch 36/100\n",
      "95/95 [==============================] - 4s 40ms/step - loss: 0.0452 - accuracy: 0.9848 - val_loss: 1.0031 - val_accuracy: 0.8025\n",
      "Epoch 37/100\n",
      "95/95 [==============================] - 4s 40ms/step - loss: 0.0360 - accuracy: 0.9891 - val_loss: 1.0258 - val_accuracy: 0.8200\n",
      "Epoch 38/100\n",
      "95/95 [==============================] - 4s 41ms/step - loss: 0.0180 - accuracy: 0.9952 - val_loss: 1.2655 - val_accuracy: 0.8000\n",
      "Epoch 39/100\n",
      "95/95 [==============================] - 4s 41ms/step - loss: 0.0239 - accuracy: 0.9922 - val_loss: 1.1762 - val_accuracy: 0.7950\n",
      "Epoch 40/100\n",
      "95/95 [==============================] - 4s 41ms/step - loss: 0.0190 - accuracy: 0.9930 - val_loss: 1.1837 - val_accuracy: 0.8225\n",
      "Epoch 41/100\n",
      "95/95 [==============================] - 4s 40ms/step - loss: 0.0225 - accuracy: 0.9940 - val_loss: 1.2335 - val_accuracy: 0.8075\n",
      "Epoch 42/100\n",
      "95/95 [==============================] - 4s 41ms/step - loss: 0.0109 - accuracy: 0.9974 - val_loss: 1.3932 - val_accuracy: 0.8175\n",
      "Epoch 43/100\n",
      "95/95 [==============================] - 4s 44ms/step - loss: 0.0173 - accuracy: 0.9955 - val_loss: 1.0712 - val_accuracy: 0.8250\n",
      "Epoch 44/100\n",
      "95/95 [==============================] - 4s 42ms/step - loss: 0.0819 - accuracy: 0.9772 - val_loss: 0.8661 - val_accuracy: 0.7825\n",
      "Epoch 45/100\n",
      "95/95 [==============================] - 4s 45ms/step - loss: 0.0695 - accuracy: 0.9758 - val_loss: 0.9140 - val_accuracy: 0.8125\n",
      "Epoch 46/100\n",
      "95/95 [==============================] - 4s 40ms/step - loss: 0.0338 - accuracy: 0.9891 - val_loss: 1.0476 - val_accuracy: 0.8100\n",
      "Epoch 47/100\n",
      "95/95 [==============================] - 4s 40ms/step - loss: 0.0241 - accuracy: 0.9921 - val_loss: 1.0350 - val_accuracy: 0.8100\n",
      "Epoch 48/100\n",
      "95/95 [==============================] - 4s 41ms/step - loss: 0.0280 - accuracy: 0.9909 - val_loss: 1.1633 - val_accuracy: 0.8000\n",
      "Epoch 49/100\n",
      "95/95 [==============================] - 5s 48ms/step - loss: 0.0156 - accuracy: 0.9955 - val_loss: 1.3342 - val_accuracy: 0.8150\n",
      "Epoch 50/100\n",
      "95/95 [==============================] - 4s 44ms/step - loss: 0.0058 - accuracy: 0.9985 - val_loss: 1.6649 - val_accuracy: 0.8100\n",
      "Epoch 51/100\n",
      "95/95 [==============================] - 4s 40ms/step - loss: 0.0135 - accuracy: 0.9960 - val_loss: 1.2218 - val_accuracy: 0.7800\n",
      "Epoch 52/100\n",
      "95/95 [==============================] - 4s 42ms/step - loss: 0.0133 - accuracy: 0.9960 - val_loss: 1.3102 - val_accuracy: 0.8250\n",
      "Epoch 53/100\n",
      "95/95 [==============================] - 4s 42ms/step - loss: 0.0148 - accuracy: 0.9957 - val_loss: 1.3410 - val_accuracy: 0.7925\n",
      "Epoch 54/100\n",
      "95/95 [==============================] - 4s 44ms/step - loss: 0.0053 - accuracy: 0.9985 - val_loss: 1.5418 - val_accuracy: 0.7975\n",
      "Epoch 55/100\n",
      "95/95 [==============================] - 4s 45ms/step - loss: 0.0127 - accuracy: 0.9960 - val_loss: 1.0897 - val_accuracy: 0.7975\n",
      "Epoch 56/100\n",
      "95/95 [==============================] - 4s 45ms/step - loss: 0.0233 - accuracy: 0.9930 - val_loss: 1.0836 - val_accuracy: 0.8150\n",
      "Epoch 57/100\n",
      "95/95 [==============================] - 4s 41ms/step - loss: 0.0138 - accuracy: 0.9954 - val_loss: 1.3630 - val_accuracy: 0.8325\n",
      "Epoch 58/100\n",
      "95/95 [==============================] - 4s 40ms/step - loss: 0.0162 - accuracy: 0.9950 - val_loss: 1.0902 - val_accuracy: 0.8200\n",
      "Epoch 59/100\n",
      "95/95 [==============================] - 4s 40ms/step - loss: 0.0193 - accuracy: 0.9950 - val_loss: 1.0884 - val_accuracy: 0.8225\n",
      "Epoch 60/100\n",
      "95/95 [==============================] - 4s 43ms/step - loss: 0.0067 - accuracy: 0.9985 - val_loss: 1.4354 - val_accuracy: 0.8225\n",
      "Epoch 61/100\n",
      "95/95 [==============================] - 4s 46ms/step - loss: 0.0320 - accuracy: 0.9929 - val_loss: 0.9887 - val_accuracy: 0.8050\n",
      "Epoch 62/100\n",
      "95/95 [==============================] - 4s 41ms/step - loss: 0.0355 - accuracy: 0.9906 - val_loss: 1.0243 - val_accuracy: 0.7800\n",
      "Epoch 63/100\n",
      "95/95 [==============================] - 4s 40ms/step - loss: 0.0256 - accuracy: 0.9914 - val_loss: 1.2472 - val_accuracy: 0.8200\n",
      "Epoch 64/100\n",
      "95/95 [==============================] - 4s 42ms/step - loss: 0.0339 - accuracy: 0.9878 - val_loss: 0.9535 - val_accuracy: 0.8000\n",
      "Epoch 65/100\n",
      "95/95 [==============================] - 4s 41ms/step - loss: 0.0211 - accuracy: 0.9937 - val_loss: 1.2043 - val_accuracy: 0.8025\n",
      "Epoch 66/100\n",
      "95/95 [==============================] - 4s 40ms/step - loss: 0.0196 - accuracy: 0.9940 - val_loss: 0.9235 - val_accuracy: 0.8275\n",
      "Epoch 67/100\n",
      "95/95 [==============================] - 4s 42ms/step - loss: 0.0241 - accuracy: 0.9935 - val_loss: 1.1102 - val_accuracy: 0.8125\n",
      "Epoch 68/100\n",
      "95/95 [==============================] - 4s 42ms/step - loss: 0.0092 - accuracy: 0.9980 - val_loss: 1.6169 - val_accuracy: 0.8000\n",
      "Epoch 69/100\n",
      "95/95 [==============================] - 4s 41ms/step - loss: 0.0248 - accuracy: 0.9922 - val_loss: 1.2561 - val_accuracy: 0.8175\n",
      "Epoch 70/100\n",
      "95/95 [==============================] - 4s 42ms/step - loss: 0.0147 - accuracy: 0.9950 - val_loss: 1.0486 - val_accuracy: 0.8200\n",
      "Epoch 71/100\n",
      "95/95 [==============================] - 4s 41ms/step - loss: 0.0108 - accuracy: 0.9965 - val_loss: 1.3974 - val_accuracy: 0.8175\n",
      "Epoch 72/100\n",
      "95/95 [==============================] - 4s 40ms/step - loss: 0.0147 - accuracy: 0.9964 - val_loss: 0.9937 - val_accuracy: 0.8100\n",
      "Epoch 73/100\n",
      "95/95 [==============================] - 4s 40ms/step - loss: 0.0027 - accuracy: 0.9995 - val_loss: 1.6479 - val_accuracy: 0.8175\n",
      "Epoch 74/100\n",
      "95/95 [==============================] - 4s 40ms/step - loss: 0.0200 - accuracy: 0.9952 - val_loss: 0.8765 - val_accuracy: 0.8100\n",
      "Epoch 75/100\n",
      "95/95 [==============================] - 4s 40ms/step - loss: 0.0132 - accuracy: 0.9962 - val_loss: 1.2660 - val_accuracy: 0.8100\n",
      "Epoch 76/100\n",
      "95/95 [==============================] - 4s 41ms/step - loss: 0.0049 - accuracy: 0.9985 - val_loss: 1.3735 - val_accuracy: 0.8075\n",
      "Epoch 77/100\n",
      "95/95 [==============================] - 4s 41ms/step - loss: 0.0059 - accuracy: 0.9987 - val_loss: 1.4004 - val_accuracy: 0.8075\n",
      "Epoch 78/100\n",
      "95/95 [==============================] - 4s 42ms/step - loss: 0.0078 - accuracy: 0.9983 - val_loss: 1.4146 - val_accuracy: 0.8025\n",
      "Epoch 79/100\n",
      "95/95 [==============================] - 4s 44ms/step - loss: 0.0082 - accuracy: 0.9972 - val_loss: 1.3930 - val_accuracy: 0.8050\n",
      "Epoch 80/100\n",
      "95/95 [==============================] - 4s 42ms/step - loss: 0.0240 - accuracy: 0.9935 - val_loss: 1.2213 - val_accuracy: 0.8250\n",
      "Epoch 81/100\n",
      "95/95 [==============================] - 4s 41ms/step - loss: 0.0073 - accuracy: 0.9988 - val_loss: 1.4836 - val_accuracy: 0.8150\n",
      "Epoch 82/100\n",
      "95/95 [==============================] - 4s 40ms/step - loss: 0.0025 - accuracy: 0.9995 - val_loss: 1.5852 - val_accuracy: 0.8125\n",
      "Epoch 83/100\n",
      "95/95 [==============================] - 4s 40ms/step - loss: 0.0072 - accuracy: 0.9980 - val_loss: 1.4196 - val_accuracy: 0.8250\n",
      "Epoch 84/100\n",
      "95/95 [==============================] - 4s 40ms/step - loss: 0.0179 - accuracy: 0.9937 - val_loss: 1.2838 - val_accuracy: 0.8025\n",
      "Epoch 85/100\n",
      "95/95 [==============================] - 4s 42ms/step - loss: 0.0092 - accuracy: 0.9974 - val_loss: 1.2108 - val_accuracy: 0.8000\n",
      "Epoch 86/100\n",
      "95/95 [==============================] - 4s 41ms/step - loss: 0.0042 - accuracy: 0.9990 - val_loss: 1.5434 - val_accuracy: 0.8200\n",
      "Epoch 87/100\n",
      "95/95 [==============================] - 4s 41ms/step - loss: 0.0042 - accuracy: 0.9982 - val_loss: 1.6481 - val_accuracy: 0.7975\n",
      "Epoch 88/100\n",
      "95/95 [==============================] - 4s 41ms/step - loss: 0.0058 - accuracy: 0.9982 - val_loss: 1.6667 - val_accuracy: 0.8025\n",
      "Epoch 89/100\n",
      "95/95 [==============================] - 4s 40ms/step - loss: 0.0162 - accuracy: 0.9950 - val_loss: 1.2637 - val_accuracy: 0.8100\n",
      "Epoch 90/100\n",
      "95/95 [==============================] - 4s 42ms/step - loss: 0.0234 - accuracy: 0.9932 - val_loss: 0.9430 - val_accuracy: 0.8075\n",
      "Epoch 91/100\n",
      "95/95 [==============================] - 4s 43ms/step - loss: 0.0111 - accuracy: 0.9964 - val_loss: 1.6106 - val_accuracy: 0.8025\n",
      "Epoch 92/100\n",
      "95/95 [==============================] - 4s 41ms/step - loss: 0.0103 - accuracy: 0.9975 - val_loss: 1.3836 - val_accuracy: 0.8250\n",
      "Epoch 93/100\n",
      "95/95 [==============================] - 4s 42ms/step - loss: 0.1218 - accuracy: 0.9619 - val_loss: 0.8361 - val_accuracy: 0.7900\n",
      "Epoch 94/100\n",
      "95/95 [==============================] - 4s 44ms/step - loss: 0.0510 - accuracy: 0.9856 - val_loss: 0.9768 - val_accuracy: 0.7925\n",
      "Epoch 95/100\n",
      "95/95 [==============================] - 4s 46ms/step - loss: 0.0367 - accuracy: 0.9889 - val_loss: 0.9385 - val_accuracy: 0.7725\n",
      "Epoch 96/100\n",
      "95/95 [==============================] - 4s 43ms/step - loss: 0.0261 - accuracy: 0.9924 - val_loss: 1.2303 - val_accuracy: 0.7825\n",
      "Epoch 97/100\n",
      "95/95 [==============================] - 4s 43ms/step - loss: 0.0109 - accuracy: 0.9965 - val_loss: 1.5535 - val_accuracy: 0.7800\n",
      "Epoch 98/100\n",
      "95/95 [==============================] - 4s 40ms/step - loss: 0.0105 - accuracy: 0.9962 - val_loss: 1.4978 - val_accuracy: 0.7975\n",
      "Epoch 99/100\n",
      "95/95 [==============================] - 4s 40ms/step - loss: 0.0168 - accuracy: 0.9962 - val_loss: 1.0835 - val_accuracy: 0.8000\n",
      "Epoch 100/100\n",
      "95/95 [==============================] - 4s 41ms/step - loss: 0.0104 - accuracy: 0.9974 - val_loss: 1.3761 - val_accuracy: 0.8000\n"
     ]
    }
   ],
   "source": [
    "hist = full_lstm_model.fit(\n",
    "    [X_train_padded, X_train_static],\n",
    "    y_train,\n",
    "    epochs = 100,\n",
    "    batch_size = 64,\n",
    "    validation_data=([X_val_padded, X_val_static], y_val),\n",
    "    #callbacks=early_stopping\n",
    "    )"
   ],
   "metadata": {
    "collapsed": false,
    "pycharm": {
     "name": "#%%\n"
    }
   }
  },
  {
   "cell_type": "code",
   "execution_count": 481,
   "outputs": [
    {
     "data": {
      "text/plain": "<Figure size 432x288 with 1 Axes>",
      "image/png": "[encoded data removed]"
     },
     "metadata": {
      "needs_background": "light"
     },
     "output_type": "display_data"
    },
    {
     "data": {
      "text/plain": "<Figure size 432x288 with 1 Axes>",
      "image/png": "[encoded data removed]"
     },
     "metadata": {
      "needs_background": "light"
     },
     "output_type": "display_data"
    }
   ],
   "source": [
    "# Visualize the training/validation accuracy and loss\n",
    "plot_graphs(hist, \"accuracy\")\n",
    "plot_graphs(hist, \"loss\")"
   ],
   "metadata": {
    "collapsed": false,
    "pycharm": {
     "name": "#%%\n"
    }
   }
  },
  {
   "cell_type": "code",
   "execution_count": 482,
   "outputs": [
    {
     "name": "stdout",
     "output_type": "stream",
     "text": [
      "Validation Accuracy: 0.8\n",
      "\n",
      "Confusion Matrix:\n",
      "          Pred:pos  Pred:neg\n",
      "True:pos       158        42\n",
      "True:neg        38       162\n",
      "\n",
      "Negative and positive predictions\n",
      "0    204\n",
      "1    196\n",
      "dtype: int64\n"
     ]
    }
   ],
   "source": [
    "# Get the predicted target class: if pred > 0.5, then y_pred = 1; else, y_pred = 0\n",
    "y_pred_full_lstm = np.array([1 if pred > 0.5 else 0 for pred in full_lstm_model.predict([X_val_padded,X_val_static])])\n",
    "eval_model_preds(y_pred_full_lstm, y_val)"
   ],
   "metadata": {
    "collapsed": false,
    "pycharm": {
     "name": "#%%\n"
    }
   }
  },
  {
   "cell_type": "markdown",
   "metadata": {},
   "source": [
    "## 3. Get the negative predictions from LSTM, for counterfactual explanations"
   ]
  },
  {
   "cell_type": "code",
   "execution_count": 95,
   "metadata": {},
   "outputs": [],
   "source": [
    "# Get these instances of negative predictions\n",
    "X_pred_negative = X_val_padded[y_pred == 0]"
   ]
  },
  {
   "cell_type": "code",
   "execution_count": 96,
   "metadata": {},
   "outputs": [
    {
     "data": {
      "text/plain": "(94, 74)"
     },
     "execution_count": 96,
     "metadata": {},
     "output_type": "execute_result"
    }
   ],
   "source": [
    "X_pred_negative.shape"
   ]
  },
  {
   "cell_type": "markdown",
   "metadata": {},
   "source": [
    "#### Export as the desired input format of the DRG framework"
   ]
  },
  {
   "cell_type": "code",
   "execution_count": 97,
   "metadata": {},
   "outputs": [],
   "source": [
    "# Convert negatively predicted instances back to medical event form\n",
    "original_event_sequences = tokenizer.sequences_to_texts(X_pred_negative)"
   ]
  },
  {
   "cell_type": "code",
   "execution_count": 98,
   "metadata": {},
   "outputs": [
    {
     "data": {
      "text/plain": "['225799 226453 225884 226453 225799 225851 225799 225884 225910 225837 226453 225799 227690 225799 226453 225799 225884 226453 227690 225910 226453 225799 225884 225798 225799 226089 226089 226089 225851 225798 0331 3995 966 3893',\n '226089 220995 225835 3323 8844 9929 9229',\n '221749 225828 221668 226361 225828 221749 221749 225884 225893 225907 225798 225828 225828 225893 225884 221749 221668 225907 221668 225884 225828 221668 225893 221668 221668 221668 225884 221668 221749 225893 225907 225828 225893 225828 225884 225893 225828 225907 225893 225166 225798 225859 225799 225884 9671 3891 3893',\n '226361 225893 225975 225893 226089 225166 226089 225166 225893 225975 225975 225798 225851 225828 223262 223262 223262 225975 9702 9390 966 3893',\n '225168 225168 225893 223258 225168 223258 225893 225893 223258 225798 225168 225893 223258 223258 225798 223258 225798 221794 223258 221744 221668 221744 221668 221668 221668 221668 223258 225863 221906 221906 225893 221906 225168 222011 227523 227523 222011 225170 226089 225166 225975 225892 225893 225168 225170 225893 225975 8872 3893 8411 3893 8872']"
     },
     "execution_count": 98,
     "metadata": {},
     "output_type": "execute_result"
    }
   ],
   "source": [
    "original_event_sequences[:5]"
   ]
  },
  {
   "cell_type": "code",
   "execution_count": 99,
   "metadata": {},
   "outputs": [],
   "source": [
    "pd.DataFrame(original_event_sequences).to_csv(path_or_buf=f'{data_path}/test_neg.txt', index=False, header=False, sep=' ', quoting = csv.QUOTE_NONE, escapechar = ' ')"
   ]
  },
  {
   "cell_type": "markdown",
   "metadata": {},
   "source": [
    "Here, we need to use the inference script from the DRG framework (instructions in the README file) to modify those 110 negative predictions into positive instances. After that, we import the transformed results as below."
   ]
  },
  {
   "cell_type": "markdown",
   "metadata": {},
   "source": [
    "### 3.1 DeleteOnly model results"
   ]
  },
  {
   "cell_type": "code",
   "execution_count": 39,
   "metadata": {},
   "outputs": [],
   "source": [
    "# Load the transformed data\n",
    "trans_results_delete = pd.read_csv(f'{drg_path}/drg_delete/preds', header=None)"
   ]
  },
  {
   "cell_type": "code",
   "execution_count": 40,
   "metadata": {},
   "outputs": [],
   "source": [
    "X_test_sequences = tokenizer.texts_to_sequences(trans_results_delete[0])\n",
    "\n",
    "X_test_padded = sequence.pad_sequences(X_test_sequences, maxlen=max_seq_length, padding='post')"
   ]
  },
  {
   "cell_type": "markdown",
   "metadata": {},
   "source": [
    "### 3.2 DeleteAndRetrieve model results"
   ]
  },
  {
   "cell_type": "code",
   "execution_count": 41,
   "metadata": {},
   "outputs": [],
   "source": [
    "# Load the transformed data\n",
    "# TODO change this directory\n",
    "delete_generate_results = pd.read_csv(f'{drg_path}/drg_delete_retrieve/preds', header=None)"
   ]
  },
  {
   "cell_type": "code",
   "execution_count": 42,
   "metadata": {},
   "outputs": [],
   "source": [
    "X_test_sequences2 = tokenizer.texts_to_sequences(delete_generate_results[0])\n",
    "\n",
    "X_test_padded2 = sequence.pad_sequences(X_test_sequences2, maxlen=max_seq_length, padding='post')"
   ]
  },
  {
   "cell_type": "markdown",
   "metadata": {},
   "source": [
    "### 3.3 Use 1NN baseline method to modify the negatively predicted instances"
   ]
  },
  {
   "cell_type": "code",
   "execution_count": 43,
   "outputs": [
    {
     "data": {
      "text/plain": "NearestNeighbors(metric='hamming', n_neighbors=1)"
     },
     "execution_count": 43,
     "metadata": {},
     "output_type": "execute_result"
    }
   ],
   "source": [
    "# Fit an unsupervised 1NN with all the positive sequences, using 'hamming' distance\n",
    "nn_model = NearestNeighbors(n_neighbors=1, metric='hamming')\n",
    "target_label = 1\n",
    "X_target_label = X_train_padded[y_train == target_label]\n",
    "\n",
    "nn_model.fit(X_target_label)"
   ],
   "metadata": {
    "collapsed": false,
    "pycharm": {
     "name": "#%%\n"
    }
   }
  },
  {
   "cell_type": "code",
   "execution_count": 44,
   "metadata": {},
   "outputs": [
    {
     "data": {
      "text/plain": "array([ 27,  46,  27,  46,  46,  27,  27,  46,  46,  27,  15,  27,  27,\n         9,  27,  27,  27,  35,  27,  27,  27,   9,  82,  82,  82,   9,\n        82,   9,  35,  15,  79,  36,  70, 140,   0,   0,   0,   0,   0,\n         0,   0,   0,   0,   0,   0,   0,   0,   0,   0,   0,   0,   0,\n         0,   0,   0,   0,   0,   0,   0,   0,   0,   0,   0,   0,   0,\n         0,   0,   0,   0,   0,   0,   0,   0,   0])"
     },
     "execution_count": 44,
     "metadata": {},
     "output_type": "execute_result"
    }
   ],
   "source": [
    "# Find the closest neighbor (positive sequence) with the minimum 'hamming' distance, take it as a counterfactual\n",
    "closest = nn_model.kneighbors(X_pred_negative, return_distance=False)\n",
    "trans_results_nn = X_target_label[closest[:, 0]]\n",
    "\n",
    "trans_results_nn[0]"
   ]
  },
  {
   "cell_type": "code",
   "execution_count": 45,
   "metadata": {},
   "outputs": [],
   "source": [
    "# Rename 'trans_results_nn' to 'X_test_padded3' for result comparison\n",
    "X_test_padded3 = trans_results_nn"
   ]
  },
  {
   "cell_type": "markdown",
   "metadata": {},
   "source": [
    "### 3.4 Convert transformed results to event sequence format"
   ]
  },
  {
   "cell_type": "code",
   "execution_count": 46,
   "metadata": {},
   "outputs": [],
   "source": [
    "# Convert transformed sequences back to the form of original event sequences\n",
    "trans_event_sequences1 = tokenizer.sequences_to_texts(X_test_padded)\n",
    "trans_event_sequences2 = tokenizer.sequences_to_texts(X_test_padded2)\n",
    "trans_event_sequences3 = tokenizer.sequences_to_texts(X_test_padded3)"
   ]
  },
  {
   "cell_type": "markdown",
   "metadata": {},
   "source": [
    "## 4. Results comparison"
   ]
  },
  {
   "cell_type": "markdown",
   "metadata": {},
   "source": [
    "### 4.1 Comparison between fraction of valid CFs (i.e. successfully generated counterfactuals)"
   ]
  },
  {
   "cell_type": "code",
   "execution_count": 47,
   "metadata": {},
   "outputs": [],
   "source": [
    "# Get the total counts \n",
    "test_size = X_pred_negative.shape[0]"
   ]
  },
  {
   "cell_type": "code",
   "execution_count": 48,
   "metadata": {},
   "outputs": [
    {
     "name": "stdout",
     "output_type": "stream",
     "text": [
      "1.6489\n"
     ]
    }
   ],
   "source": [
    "# Fraction of valid transformed sequences, for DeleteOnly\n",
    "fraction_success = np.sum(main_model.predict(X_test_padded) > 0.5)/test_size\n",
    "print(round(fraction_success, 4))"
   ]
  },
  {
   "cell_type": "code",
   "execution_count": 49,
   "metadata": {},
   "outputs": [
    {
     "name": "stdout",
     "output_type": "stream",
     "text": [
      "1.4681\n"
     ]
    }
   ],
   "source": [
    "# For DeleteAndRetrieve\n",
    "fraction_success2 = np.sum(main_model.predict(X_test_padded2) > 0.5)/test_size\n",
    "print(round(fraction_success2, 4))"
   ]
  },
  {
   "cell_type": "code",
   "execution_count": 50,
   "metadata": {},
   "outputs": [
    {
     "name": "stdout",
     "output_type": "stream",
     "text": [
      "0.8723\n"
     ]
    }
   ],
   "source": [
    "# For 1NN modification\n",
    "fraction_success3 = np.sum(main_model.predict(X_test_padded3) > 0.5)/test_size\n",
    "print(round(fraction_success3, 4))"
   ]
  },
  {
   "cell_type": "markdown",
   "metadata": {},
   "source": [
    "### 4.2 Local outlier factor (LOF score)"
   ]
  },
  {
   "cell_type": "code",
   "execution_count": 51,
   "metadata": {},
   "outputs": [
    {
     "data": {
      "text/plain": "LocalOutlierFactor(contamination=0.1, novelty=True)"
     },
     "execution_count": 51,
     "metadata": {},
     "output_type": "execute_result"
    }
   ],
   "source": [
    "# Fit the model for novelty detection (novelty=True), in order to get LOF score\n",
    "clf = LocalOutlierFactor(n_neighbors=20, novelty=True, contamination=0.1)\n",
    "clf.fit(X_train_padded)"
   ]
  },
  {
   "cell_type": "code",
   "execution_count": 52,
   "metadata": {},
   "outputs": [],
   "source": [
    "# Get the LOF score for leave-out validation data\n",
    "y_pred_val = clf.predict(X_val_padded)\n",
    "\n",
    "n_error_val = y_pred_val[y_pred_val == -1].size"
   ]
  },
  {
   "cell_type": "code",
   "execution_count": 53,
   "metadata": {},
   "outputs": [
    {
     "data": {
      "text/plain": "0.075"
     },
     "execution_count": 53,
     "metadata": {},
     "output_type": "execute_result"
    }
   ],
   "source": [
    "validation_size = X_val_padded.shape[0]\n",
    "outlier_score_val = n_error_val/validation_size\n",
    "\n",
    "outlier_score_val"
   ]
  },
  {
   "cell_type": "code",
   "execution_count": 54,
   "metadata": {},
   "outputs": [
    {
     "name": "stdout",
     "output_type": "stream",
     "text": [
      "0.0957\n"
     ]
    }
   ],
   "source": [
    "# Get the LOF score for DeleteOnly results\n",
    "y_pred_test = clf.predict(X_test_padded)\n",
    "n_error_test = y_pred_test[y_pred_test == -1].size\n",
    "\n",
    "outlier_score_test = n_error_test / test_size\n",
    "print(round(outlier_score_test, 4))"
   ]
  },
  {
   "cell_type": "code",
   "execution_count": 55,
   "metadata": {},
   "outputs": [
    {
     "name": "stdout",
     "output_type": "stream",
     "text": [
      "0.0426\n"
     ]
    }
   ],
   "source": [
    "# Get the outlier score for DeleteAndRetrieve results\n",
    "y_pred_test2 = clf.predict(X_test_padded2)\n",
    "n_error_test2 = y_pred_test2[y_pred_test2 == -1].size\n",
    "\n",
    "outlier_score_test2 = n_error_test2 / test_size\n",
    "print(round(outlier_score_test2, 4))"
   ]
  },
  {
   "cell_type": "code",
   "execution_count": 56,
   "metadata": {},
   "outputs": [
    {
     "name": "stdout",
     "output_type": "stream",
     "text": [
      "0.0426\n"
     ]
    }
   ],
   "source": [
    "# Outlier score for 1NN baseline method\n",
    "y_pred_test3 = clf.predict(X_test_padded3)\n",
    "n_error_test3 = y_pred_test3[y_pred_test3 == -1].size\n",
    "\n",
    "outlier_score_test3 = n_error_test3 / test_size\n",
    "print(round(outlier_score_test3, 4))"
   ]
  },
  {
   "cell_type": "markdown",
   "metadata": {},
   "source": [
    "### 4.3 BLEU-4 score (cumulative 4-gram BLEU score) "
   ]
  },
  {
   "cell_type": "code",
   "execution_count": 57,
   "metadata": {},
   "outputs": [],
   "source": [
    "# Define smoothing function\n",
    "chencherry = SmoothingFunction()"
   ]
  },
  {
   "cell_type": "code",
   "execution_count": 58,
   "metadata": {},
   "outputs": [],
   "source": [
    "# Define a function to get pairwise BLEU scores\n",
    "def get_pairwise_bleu(original, transformed):\n",
    "    # 'weights=[0.25, 0.25, 0.25, 0.25]' means that calculate 4-gram BLEU scores cumulatively\n",
    "    results = [sentence_bleu(\n",
    "        references=[pair[0].split()], \n",
    "        hypothesis=pair[1].split(), \n",
    "        weights=[0.25, 0.25, 0.25, 0.25], \n",
    "        smoothing_function=chencherry.method1) \n",
    "        for pair in zip(original, transformed)]\n",
    "    \n",
    "    return results"
   ]
  },
  {
   "cell_type": "code",
   "execution_count": 59,
   "metadata": {},
   "outputs": [
    {
     "name": "stdout",
     "output_type": "stream",
     "text": [
      "0.0091\n"
     ]
    }
   ],
   "source": [
    "pairwise_bleu = get_pairwise_bleu(original_event_sequences, trans_event_sequences1)\n",
    "avg_bleu = sum(pairwise_bleu)/test_size\n",
    "print(round(avg_bleu, 4))"
   ]
  },
  {
   "cell_type": "code",
   "execution_count": 60,
   "metadata": {},
   "outputs": [
    {
     "name": "stdout",
     "output_type": "stream",
     "text": [
      "0.0067\n"
     ]
    }
   ],
   "source": [
    "pairwise_bleu2 = get_pairwise_bleu(original_event_sequences, trans_event_sequences2)\n",
    "avg_bleu2 = sum(pairwise_bleu2)/test_size\n",
    "print(round(avg_bleu2, 4))"
   ]
  },
  {
   "cell_type": "code",
   "execution_count": 61,
   "metadata": {
    "scrolled": false
   },
   "outputs": [
    {
     "name": "stdout",
     "output_type": "stream",
     "text": [
      "0.0639\n"
     ]
    }
   ],
   "source": [
    "pairwise_bleu3 = get_pairwise_bleu(original_event_sequences, trans_event_sequences3)\n",
    "avg_bleu3 = sum(pairwise_bleu3)/test_size\n",
    "print(round(avg_bleu3, 4))"
   ]
  },
  {
   "cell_type": "markdown",
   "metadata": {},
   "source": [
    "#### 4.3.1 Plot histograms of individual BLEU-4 scores"
   ]
  },
  {
   "cell_type": "code",
   "execution_count": 62,
   "metadata": {},
   "outputs": [
    {
     "data": {
      "text/plain": "<Figure size 1152x288 with 3 Axes>",
      "image/png": "[encoded data removed]"
     },
     "metadata": {
      "needs_background": "light"
     },
     "output_type": "display_data"
    }
   ],
   "source": [
    "fig, ax = plt.subplots(nrows=1, ncols=3, figsize=(16,4))     \n",
    "\n",
    "plt.sca(ax[0])\n",
    "plt.title('DeleteOnly, BLUE score')\n",
    "plt.hist(pairwise_bleu, density=True, bins=30)\n",
    "\n",
    "plt.sca(ax[1])\n",
    "plt.title('DeleteAndRetrieve, BLUE score')\n",
    "plt.hist(pairwise_bleu2, density=True, bins=30)\n",
    "\n",
    "plt.sca(ax[2])\n",
    "plt.title('1-NN, BLUE score')\n",
    "plt.hist(pairwise_bleu3, density=True, bins=30)\n",
    "\n",
    "plt.show()"
   ]
  },
  {
   "cell_type": "markdown",
   "metadata": {},
   "source": [
    "### 4.4 Plot histograms of event count differences (modification counts)"
   ]
  },
  {
   "cell_type": "code",
   "execution_count": 63,
   "metadata": {},
   "outputs": [],
   "source": [
    "# The counts of total, drug events and procedures, for the original sequences\n",
    "original_counts = pd.DataFrame(columns=['total', 'drug', 'procedure'])"
   ]
  },
  {
   "cell_type": "code",
   "execution_count": 64,
   "metadata": {},
   "outputs": [],
   "source": [
    "def get_counts_table(event_sequences):\n",
    "    temp_list = list()\n",
    "    for seq in event_sequences:\n",
    "        splitted = seq.split()\n",
    "        total = len(splitted)\n",
    "        # MetaVision ITEMID values are all above 220000. Since this data only contains data from MetaVision, it only contains ITEMID above 220000\n",
    "        drug = len([x for x in splitted if int(x)>=220000])\n",
    "        procedure = total - drug\n",
    "\n",
    "        temp_list.append({'total': total, 'drug': drug, 'procedure': procedure})\n",
    "    \n",
    "    return pd.DataFrame(temp_list)"
   ]
  },
  {
   "cell_type": "code",
   "execution_count": 65,
   "metadata": {},
   "outputs": [],
   "source": [
    "df_original_counts = get_counts_table(original_event_sequences)"
   ]
  },
  {
   "cell_type": "code",
   "execution_count": 66,
   "metadata": {},
   "outputs": [
    {
     "data": {
      "text/plain": "   total  drug  procedure\n0     34    30          4\n1      7     3          4\n2     47    44          3\n3     22    18          4\n4     52    47          5",
      "text/html": "<div>\n<style scoped>\n    .dataframe tbody tr th:only-of-type {\n        vertical-align: middle;\n    }\n\n    .dataframe tbody tr th {\n        vertical-align: top;\n    }\n\n    .dataframe thead th {\n        text-align: right;\n    }\n</style>\n<table border=\"1\" class=\"dataframe\">\n  <thead>\n    <tr style=\"text-align: right;\">\n      <th></th>\n      <th>total</th>\n      <th>drug</th>\n      <th>procedure</th>\n    </tr>\n  </thead>\n  <tbody>\n    <tr>\n      <th>0</th>\n      <td>34</td>\n      <td>30</td>\n      <td>4</td>\n    </tr>\n    <tr>\n      <th>1</th>\n      <td>7</td>\n      <td>3</td>\n      <td>4</td>\n    </tr>\n    <tr>\n      <th>2</th>\n      <td>47</td>\n      <td>44</td>\n      <td>3</td>\n    </tr>\n    <tr>\n      <th>3</th>\n      <td>22</td>\n      <td>18</td>\n      <td>4</td>\n    </tr>\n    <tr>\n      <th>4</th>\n      <td>52</td>\n      <td>47</td>\n      <td>5</td>\n    </tr>\n  </tbody>\n</table>\n</div>"
     },
     "execution_count": 66,
     "metadata": {},
     "output_type": "execute_result"
    }
   ],
   "source": [
    "df_original_counts.head()"
   ]
  },
  {
   "cell_type": "code",
   "execution_count": 67,
   "metadata": {},
   "outputs": [],
   "source": [
    "# Get count tables for all the tranformed results (generated counterfactuals)\n",
    "trans_counts1 = get_counts_table(trans_event_sequences1)\n",
    "trans_counts2 = get_counts_table(trans_event_sequences2)\n",
    "trans_counts3 = get_counts_table(trans_event_sequences3)"
   ]
  },
  {
   "cell_type": "code",
   "execution_count": 68,
   "metadata": {},
   "outputs": [],
   "source": [
    "# Substract the original counts to get event modifications for total, drug events and procedures\n",
    "substracted1 = trans_counts1.subtract(df_original_counts)\n",
    "substracted2 = trans_counts2.subtract(df_original_counts)\n",
    "substracted3 = trans_counts3.subtract(df_original_counts)"
   ]
  },
  {
   "cell_type": "code",
   "execution_count": 69,
   "metadata": {},
   "outputs": [
    {
     "data": {
      "text/plain": "<Figure size 1152x864 with 9 Axes>",
      "image/png": "[encoded data removed]"
     },
     "metadata": {
      "needs_background": "light"
     },
     "output_type": "display_data"
    }
   ],
   "source": [
    "# Plot 3x3 subplots\n",
    "fig, ax = plt.subplots(nrows=3, ncols=3, figsize=(16,12))\n",
    "\n",
    "plt.sca(ax[0,0])\n",
    "plt.title('DeleteOnly, total difference')\n",
    "plt.hist(substracted1['total'], density=True, bins=30)\n",
    "\n",
    "plt.sca(ax[0,1])\n",
    "plt.title('DeleteOnly, drug event difference')\n",
    "plt.hist(substracted1['drug'], density=True, bins=30)\n",
    "\n",
    "plt.sca(ax[0,2])\n",
    "plt.title('DeleteOnly, procedure difference')\n",
    "plt.hist(substracted1['procedure'], density=True, bins=12)\n",
    "\n",
    "plt.sca(ax[1,0])\n",
    "plt.title('DeleteAndRetrieve, total difference')\n",
    "plt.hist(substracted2['total'], density=True, bins=30)\n",
    "\n",
    "plt.sca(ax[1,1])\n",
    "plt.title('DeleteAndRetrieve, drug event difference')\n",
    "plt.hist(substracted2['drug'], density=True, bins=30)\n",
    "\n",
    "plt.sca(ax[1,2])\n",
    "plt.title('DeleteAndRetrieve, procedure difference')\n",
    "plt.hist(substracted2['procedure'], density=True, bins=12)\n",
    "\n",
    "plt.sca(ax[2,0])\n",
    "plt.title('1-NN, total difference')\n",
    "plt.hist(substracted3['total'], density=True, bins=30)\n",
    "\n",
    "plt.sca(ax[2,1])\n",
    "plt.title('1-NN, drug event difference')\n",
    "plt.hist(substracted3['drug'], density=True, bins=30)\n",
    "\n",
    "plt.sca(ax[2,2])\n",
    "plt.title('1-NN, procedure difference')\n",
    "plt.hist(substracted3['procedure'], density=True, bins=12)\n",
    "\n",
    "plt.show()"
   ]
  },
  {
   "cell_type": "markdown",
   "metadata": {},
   "source": [
    "### 4.5 Export example counterfactuals "
   ]
  },
  {
   "cell_type": "code",
   "execution_count": 70,
   "metadata": {},
   "outputs": [],
   "source": [
    "# Convert id to original event name\n",
    "conn = psycopg2.connect(\n",
    "    database=\"mimic\", \n",
    "    user='postgres',\n",
    "    password=getpass.getpass(\"Enter postgres password\"), \n",
    "    host=\"127.0.0.1\", \n",
    "    port=\"5432\",\n",
    "    options=f'-c search_path=mimiciii')"
   ]
  },
  {
   "cell_type": "code",
   "execution_count": 71,
   "metadata": {},
   "outputs": [
    {
     "data": {
      "text/plain": "      itemid              abbreviation                    label\n8673  221015                    Ensure                   Ensure\n8674  221016               Ensure Plus              Ensure Plus\n8675  221017             Dextrose 2,5%            Dextrose 2,5%\n8676  225166  Potassium Chloride - KCL       Potassium Chloride\n8677  225167   Hydrochloric Acid - HCL  Hydrochloric Acid - HCL",
      "text/html": "<div>\n<style scoped>\n    .dataframe tbody tr th:only-of-type {\n        vertical-align: middle;\n    }\n\n    .dataframe tbody tr th {\n        vertical-align: top;\n    }\n\n    .dataframe thead th {\n        text-align: right;\n    }\n</style>\n<table border=\"1\" class=\"dataframe\">\n  <thead>\n    <tr style=\"text-align: right;\">\n      <th></th>\n      <th>itemid</th>\n      <th>abbreviation</th>\n      <th>label</th>\n    </tr>\n  </thead>\n  <tbody>\n    <tr>\n      <th>8673</th>\n      <td>221015</td>\n      <td>Ensure</td>\n      <td>Ensure</td>\n    </tr>\n    <tr>\n      <th>8674</th>\n      <td>221016</td>\n      <td>Ensure Plus</td>\n      <td>Ensure Plus</td>\n    </tr>\n    <tr>\n      <th>8675</th>\n      <td>221017</td>\n      <td>Dextrose 2,5%</td>\n      <td>Dextrose 2,5%</td>\n    </tr>\n    <tr>\n      <th>8676</th>\n      <td>225166</td>\n      <td>Potassium Chloride - KCL</td>\n      <td>Potassium Chloride</td>\n    </tr>\n    <tr>\n      <th>8677</th>\n      <td>225167</td>\n      <td>Hydrochloric Acid - HCL</td>\n      <td>Hydrochloric Acid - HCL</td>\n    </tr>\n  </tbody>\n</table>\n</div>"
     },
     "execution_count": 71,
     "metadata": {},
     "output_type": "execute_result"
    }
   ],
   "source": [
    "# Get a mapping from itemid to name (drug events)\n",
    "itemid_to_name = pd.read_sql(\n",
    "    \"\"\"\n",
    "    SELECT itemid, abbreviation, label\n",
    "    FROM d_items;\n",
    "    \"\"\", conn)\n",
    "\n",
    "itemid_to_name = itemid_to_name[itemid_to_name['itemid'] >= 220000]\n",
    "itemid_to_name.head()"
   ]
  },
  {
   "cell_type": "code",
   "execution_count": 72,
   "metadata": {},
   "outputs": [
    {
     "data": {
      "text/plain": "  icd9_code               short_title  \\\n0      0851                Canthotomy   \n1      0852           Blepharorrhaphy   \n2      0859   Adjust lid position NEC   \n3      0861  Lid reconst w skin graft   \n4      0862   Lid reconst w muc graft   \n\n                                          long_title  \n0                                         Canthotomy  \n1                                    Blepharorrhaphy  \n2                   Other adjustment of lid position  \n3   Reconstruction of eyelid with skin flap or graft  \n4  Reconstruction of eyelid with mucous membrane ...  ",
      "text/html": "<div>\n<style scoped>\n    .dataframe tbody tr th:only-of-type {\n        vertical-align: middle;\n    }\n\n    .dataframe tbody tr th {\n        vertical-align: top;\n    }\n\n    .dataframe thead th {\n        text-align: right;\n    }\n</style>\n<table border=\"1\" class=\"dataframe\">\n  <thead>\n    <tr style=\"text-align: right;\">\n      <th></th>\n      <th>icd9_code</th>\n      <th>short_title</th>\n      <th>long_title</th>\n    </tr>\n  </thead>\n  <tbody>\n    <tr>\n      <th>0</th>\n      <td>0851</td>\n      <td>Canthotomy</td>\n      <td>Canthotomy</td>\n    </tr>\n    <tr>\n      <th>1</th>\n      <td>0852</td>\n      <td>Blepharorrhaphy</td>\n      <td>Blepharorrhaphy</td>\n    </tr>\n    <tr>\n      <th>2</th>\n      <td>0859</td>\n      <td>Adjust lid position NEC</td>\n      <td>Other adjustment of lid position</td>\n    </tr>\n    <tr>\n      <th>3</th>\n      <td>0861</td>\n      <td>Lid reconst w skin graft</td>\n      <td>Reconstruction of eyelid with skin flap or graft</td>\n    </tr>\n    <tr>\n      <th>4</th>\n      <td>0862</td>\n      <td>Lid reconst w muc graft</td>\n      <td>Reconstruction of eyelid with mucous membrane ...</td>\n    </tr>\n  </tbody>\n</table>\n</div>"
     },
     "execution_count": 72,
     "metadata": {},
     "output_type": "execute_result"
    }
   ],
   "source": [
    "# Get another mapping from procedure itemid to name \n",
    "itemid_to_name2 = pd.read_sql(\n",
    "    \"\"\"\n",
    "    SELECT icd9_code, short_title, long_title\n",
    "    FROM d_icd_procedures;\n",
    "    \"\"\", conn)\n",
    "\n",
    "itemid_to_name2.head()"
   ]
  },
  {
   "cell_type": "code",
   "execution_count": 73,
   "metadata": {},
   "outputs": [],
   "source": [
    "# Concate two itemid_to_name into one table\n",
    "itemid_to_name2 = itemid_to_name2.rename(columns={'icd9_code': 'itemid', 'short_title': 'abbreviation', 'long_title': 'label'})\n",
    "\n",
    "itemid_to_name_concat = pd.concat([itemid_to_name, itemid_to_name2])"
   ]
  },
  {
   "cell_type": "code",
   "execution_count": 74,
   "metadata": {},
   "outputs": [],
   "source": [
    "# Convert data type to be consistent when filtering, e.g. 'itemid_to_name_concat['itemid'] == 9671'\n",
    "itemid_to_name_concat['label'] = itemid_to_name_concat['label'].astype('str') \n",
    "itemid_to_name_concat['itemid'] = itemid_to_name_concat['itemid'].astype('int') "
   ]
  },
  {
   "cell_type": "code",
   "execution_count": 75,
   "metadata": {},
   "outputs": [],
   "source": [
    "# Define a method to convert event codes to original names\n",
    "def code_to_name(event_sequence):\n",
    "    code_sequence = [int(event) for event in event_sequence.split()]\n",
    "    \n",
    "    temp_list = list()\n",
    "    for code in code_sequence:\n",
    "        event_name = itemid_to_name_concat[itemid_to_name_concat['itemid'] == code]['label'].item()\n",
    "        temp_list.append(event_name)\n",
    "    \n",
    "    return temp_list"
   ]
  },
  {
   "cell_type": "code",
   "execution_count": 76,
   "metadata": {},
   "outputs": [],
   "source": [
    "# Get the sample for example counterfactuals\n",
    "sample_id = 44"
   ]
  },
  {
   "cell_type": "code",
   "execution_count": 77,
   "metadata": {},
   "outputs": [
    {
     "data": {
      "text/plain": "['Propofol',\n 'Propofol',\n 'Gastric Meds',\n 'Morphine Sulfate',\n 'Metoprolol',\n 'Morphine Sulfate',\n 'Morphine Sulfate',\n 'Insertion of endotracheal tube']"
     },
     "execution_count": 77,
     "metadata": {},
     "output_type": "execute_result"
    }
   ],
   "source": [
    "code_to_name(original_event_sequences[sample_id])"
   ]
  },
  {
   "cell_type": "code",
   "metadata": {
    "pycharm": {
     "name": "#%%\n"
    }
   },
   "source": [
    "# original_event_sequences[sample_id]"
   ],
   "execution_count": 85,
   "outputs": []
  },
  {
   "cell_type": "code",
   "execution_count": 79,
   "metadata": {},
   "outputs": [
    {
     "data": {
      "text/plain": "['Diltiazem',\n 'Diltiazem',\n 'Diltiazem',\n 'Diltiazem',\n 'Diltiazem',\n 'Heparin Sodium (Prophylaxis)',\n 'Diltiazem',\n 'Diltiazem',\n 'Diltiazem',\n 'Diltiazem',\n 'Diltiazem',\n 'Diltiazem',\n 'Diltiazem',\n 'Diltiazem',\n 'Diltiazem',\n 'Calcium Gluconate',\n 'Piggyback',\n 'Calcium Gluconate',\n 'Diltiazem',\n 'Diltiazem',\n 'Heparin Sodium (Prophylaxis)',\n 'D5NS',\n 'Calcium Gluconate',\n 'Piggyback',\n 'Dilantin',\n 'Heparin Sodium (Prophylaxis)',\n 'Dilantin',\n 'Dilantin',\n 'Metoprolol',\n 'Heparin Sodium (Prophylaxis)',\n 'Continuous invasive mechanical ventilation for less than 96 consecutive hours',\n 'Bronchial dilation',\n 'Other intubation of respiratory tract']"
     },
     "execution_count": 79,
     "metadata": {},
     "output_type": "execute_result"
    }
   ],
   "source": [
    "code_to_name(trans_event_sequences1[sample_id])"
   ]
  },
  {
   "cell_type": "code",
   "metadata": {
    "pycharm": {
     "name": "#%%\n"
    }
   },
   "source": [
    "# trans_event_sequences1[sample_id]"
   ],
   "execution_count": null,
   "outputs": []
  },
  {
   "cell_type": "code",
   "execution_count": 81,
   "metadata": {},
   "outputs": [
    {
     "data": {
      "text/plain": "['Cath Lab Intake',\n 'NaCl 0.45%',\n 'Other endovascular procedures on other vessels',\n 'Aortography',\n 'Arteriography of other intra-abdominal arteries',\n 'Injection or infusion of other therapeutic or prophylactic substance',\n 'Aortography']"
     },
     "execution_count": 81,
     "metadata": {},
     "output_type": "execute_result"
    }
   ],
   "source": [
    "code_to_name(trans_event_sequences2[sample_id])"
   ]
  },
  {
   "cell_type": "code",
   "execution_count": 82,
   "metadata": {},
   "outputs": [],
   "source": [
    "# trans_event_sequences2[sample_id]"
   ]
  },
  {
   "cell_type": "code",
   "execution_count": 83,
   "metadata": {
    "scrolled": true
   },
   "outputs": [
    {
     "data": {
      "text/plain": "['D5 1/2NS',\n 'Packed Red Blood Cells',\n 'Packed Red Blood Cells',\n 'Morphine Sulfate',\n 'D5 1/2NS',\n 'Morphine Sulfate',\n 'Morphine Sulfate',\n 'Closed reduction of fracture with internal fixation, femur']"
     },
     "execution_count": 83,
     "metadata": {},
     "output_type": "execute_result"
    }
   ],
   "source": [
    "code_to_name(trans_event_sequences3[sample_id])"
   ]
  },
  {
   "cell_type": "code",
   "execution_count": 84,
   "metadata": {},
   "outputs": [],
   "source": [
    "# trans_event_sequences3[sample_id]"
   ]
  }
 ],
 "metadata": {
  "kernelspec": {
   "display_name": "Python 3",
   "language": "python",
   "name": "python3"
  },
  "language_info": {
   "codemirror_mode": {
    "name": "ipython",
    "version": 3
   },
   "file_extension": ".py",
   "mimetype": "text/x-python",
   "name": "python",
   "nbconvert_exporter": "python",
   "pygments_lexer": "ipython3",
   "version": "3.7.9"
  }
 },
 "nbformat": 4,
 "nbformat_minor": 4
}