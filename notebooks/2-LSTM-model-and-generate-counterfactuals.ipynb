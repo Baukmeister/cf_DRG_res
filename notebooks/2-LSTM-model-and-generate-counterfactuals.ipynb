{
 "cells": [
  {
   "cell_type": "code",
   "execution_count": 403,
   "metadata": {},
   "outputs": [],
   "source": [
    "import os\n",
    "import csv\n",
    "\n",
    "import pandas as pd\n",
    "import numpy as np\n",
    "from sklearn.metrics import confusion_matrix\n",
    "from sklearn.neighbors import NearestNeighbors, LocalOutlierFactor\n",
    "from nltk.translate.bleu_score import sentence_bleu, SmoothingFunction\n",
    "\n",
    "import keras\n",
    "import tensorflow as tf\n",
    "import random as python_random\n",
    "from keras import layers\n",
    "from keras.preprocessing import sequence\n",
    "from keras.preprocessing.text import Tokenizer\n",
    "from tensorflow.keras.callbacks import EarlyStopping\n",
    "from keras.models import Model\n",
    "from keras.layers import LSTM, CuDNNLSTM, Dense, Dropout, Input, ConvLSTM2D, Flatten, Add, Concatenate, Dot, Multiply\n",
    "from keras.layers import Maximum, Average, Activation\n",
    "from tensorflow.keras.optimizers import Adam, SGD\n",
    "from keras.callbacks import ModelCheckpoint, LearningRateScheduler\n",
    "from keras.utils.vis_utils import plot_model\n",
    "import math\n",
    "from sklearn import preprocessing\n",
    "from sklearn.ensemble import RandomForestClassifier\n",
    "from sklearn.metrics import *\n",
    "\n",
    "\n",
    "from keras import backend as K\n",
    "\n",
    "import pandas.io.sql as sqlio\n",
    "import psycopg2\n",
    "import getpass\n",
    "\n",
    "import matplotlib.pyplot as plt"
   ]
  },
  {
   "cell_type": "code",
   "execution_count": 404,
   "outputs": [
    {
     "data": {
      "text/plain": "True"
     },
     "execution_count": 404,
     "metadata": {},
     "output_type": "execute_result"
    }
   ],
   "source": [
    "tf.test.is_gpu_available()"
   ],
   "metadata": {
    "collapsed": false,
    "pycharm": {
     "name": "#%%\n"
    }
   }
  },
  {
   "cell_type": "markdown",
   "source": [
    "# 0. Config"
   ],
   "metadata": {
    "collapsed": false
   }
  },
  {
   "cell_type": "code",
   "execution_count": 405,
   "outputs": [],
   "source": [
    "models_to_train = [\n",
    "    #'dynamic_lstm',\n",
    "    'full_lstm',\n",
    "    'rf',\n",
    "    #'1-NN'\n",
    "]\n",
    "\n",
    "model_to_explain = 'full_lstm'"
   ],
   "metadata": {
    "collapsed": false,
    "pycharm": {
     "name": "#%%\n"
    }
   }
  },
  {
   "cell_type": "markdown",
   "metadata": {},
   "source": []
  },
  {
   "cell_type": "code",
   "execution_count": 406,
   "metadata": {},
   "outputs": [],
   "source": [
    "# Define data paths\n",
    "data_path = '../processed_mimic_data/'\n",
    "drg_path = '../drg_models'\n",
    "\n",
    "# Load training data\n",
    "train_pos = pd.read_csv(data_path+'train_pos.txt')\n",
    "train_neg = pd.read_csv(data_path+'train_neg.txt')\n",
    "\n",
    "# Load test data\n",
    "\n",
    "\n",
    "# Add target class label\n",
    "train_pos['survival'] = [1 for i in range(train_pos.shape[0])]\n",
    "train_neg['survival'] = [0 for i in range(train_neg.shape[0])]\n",
    "\n",
    "# Set static feature names\n",
    "static_feature_names = [\n",
    "    'gender',\n",
    "    'age',\n",
    "    'los_hospital',\n",
    "    'ethnicity',\n",
    "    'admission_type',\n",
    "    'first_hosp_stay',\n",
    "    'first_icu_stay'\n",
    "]"
   ]
  },
  {
   "cell_type": "markdown",
   "source": [
    "Concatinate the drug and procedure codes into a single feature"
   ],
   "metadata": {
    "collapsed": false
   }
  },
  {
   "cell_type": "code",
   "execution_count": 407,
   "outputs": [],
   "source": [
    "train_neg['events'] = train_neg['drug_events'] + \" \" + train_neg['procedure_codes']\n",
    "train_pos['events'] = train_pos['drug_events'] + \" \" + train_pos['procedure_codes']"
   ],
   "metadata": {
    "collapsed": false,
    "pycharm": {
     "name": "#%%\n"
    }
   }
  },
  {
   "cell_type": "code",
   "execution_count": 408,
   "metadata": {},
   "outputs": [],
   "source": [
    "# Concat into one data frame; and reorder it\n",
    "train = pd.concat([train_pos, train_neg]).reset_index()[['survival','events'] + static_feature_names].dropna()\n",
    "train_reordered = train.sample(frac=1, random_state=3)"
   ]
  },
  {
   "cell_type": "code",
   "execution_count": 409,
   "outputs": [],
   "source": [
    "train_reordered[static_feature_names] = preprocessing.MinMaxScaler().fit_transform(train_reordered[static_feature_names].values)"
   ],
   "metadata": {
    "collapsed": false,
    "pycharm": {
     "name": "#%%\n"
    }
   }
  },
  {
   "cell_type": "code",
   "execution_count": 410,
   "outputs": [],
   "source": [
    "X_train_events, X_train_static, y_train = train_reordered['events'], train_reordered[static_feature_names], train_reordered['survival']"
   ],
   "metadata": {
    "collapsed": false,
    "pycharm": {
     "name": "#%%\n"
    }
   }
  },
  {
   "cell_type": "code",
   "execution_count": 411,
   "outputs": [
    {
     "data": {
      "text/plain": "['gender',\n 'age',\n 'los_hospital',\n 'ethnicity',\n 'admission_type',\n 'first_hosp_stay',\n 'first_icu_stay']"
     },
     "execution_count": 411,
     "metadata": {},
     "output_type": "execute_result"
    }
   ],
   "source": [
    "static_feature_names"
   ],
   "metadata": {
    "collapsed": false,
    "pycharm": {
     "name": "#%%\n"
    }
   }
  },
  {
   "cell_type": "code",
   "execution_count": 412,
   "metadata": {},
   "outputs": [
    {
     "data": {
      "text/plain": "      gender       age  los_hospital  ethnicity  admission_type  \\\n2367     1.0  1.000000      0.034031      0.025             0.0   \n4760     1.0  1.000000      0.034914      0.025             0.0   \n24       1.0  0.449583      0.048671      0.075             0.0   \n3704     0.0  0.758303      0.016734      0.450             0.0   \n4267     1.0  0.525779      0.053804      0.025             0.0   \n...      ...       ...           ...        ...             ...   \n968      0.0  0.911766      0.038537      0.025             0.0   \n1667     0.0  0.285384      0.053816      0.450             0.0   \n3322     1.0  0.781714      0.052194      0.025             0.0   \n1688     0.0  0.506551      0.034477      0.025             0.0   \n5995     0.0  0.817563      0.145152      0.075             0.0   \n\n      first_hosp_stay  first_icu_stay  \n2367              0.0             0.0  \n4760              0.0             0.0  \n24                1.0             0.0  \n3704              0.0             0.0  \n4267              1.0             0.0  \n...               ...             ...  \n968               0.0             0.0  \n1667              0.0             0.0  \n3322              0.0             0.0  \n1688              1.0             0.0  \n5995              0.0             0.0  \n\n[6041 rows x 7 columns]",
      "text/html": "<div>\n<style scoped>\n    .dataframe tbody tr th:only-of-type {\n        vertical-align: middle;\n    }\n\n    .dataframe tbody tr th {\n        vertical-align: top;\n    }\n\n    .dataframe thead th {\n        text-align: right;\n    }\n</style>\n<table border=\"1\" class=\"dataframe\">\n  <thead>\n    <tr style=\"text-align: right;\">\n      <th></th>\n      <th>gender</th>\n      <th>age</th>\n      <th>los_hospital</th>\n      <th>ethnicity</th>\n      <th>admission_type</th>\n      <th>first_hosp_stay</th>\n      <th>first_icu_stay</th>\n    </tr>\n  </thead>\n  <tbody>\n    <tr>\n      <th>2367</th>\n      <td>1.0</td>\n      <td>1.000000</td>\n      <td>0.034031</td>\n      <td>0.025</td>\n      <td>0.0</td>\n      <td>0.0</td>\n      <td>0.0</td>\n    </tr>\n    <tr>\n      <th>4760</th>\n      <td>1.0</td>\n      <td>1.000000</td>\n      <td>0.034914</td>\n      <td>0.025</td>\n      <td>0.0</td>\n      <td>0.0</td>\n      <td>0.0</td>\n    </tr>\n    <tr>\n      <th>24</th>\n      <td>1.0</td>\n      <td>0.449583</td>\n      <td>0.048671</td>\n      <td>0.075</td>\n      <td>0.0</td>\n      <td>1.0</td>\n      <td>0.0</td>\n    </tr>\n    <tr>\n      <th>3704</th>\n      <td>0.0</td>\n      <td>0.758303</td>\n      <td>0.016734</td>\n      <td>0.450</td>\n      <td>0.0</td>\n      <td>0.0</td>\n      <td>0.0</td>\n    </tr>\n    <tr>\n      <th>4267</th>\n      <td>1.0</td>\n      <td>0.525779</td>\n      <td>0.053804</td>\n      <td>0.025</td>\n      <td>0.0</td>\n      <td>1.0</td>\n      <td>0.0</td>\n    </tr>\n    <tr>\n      <th>...</th>\n      <td>...</td>\n      <td>...</td>\n      <td>...</td>\n      <td>...</td>\n      <td>...</td>\n      <td>...</td>\n      <td>...</td>\n    </tr>\n    <tr>\n      <th>968</th>\n      <td>0.0</td>\n      <td>0.911766</td>\n      <td>0.038537</td>\n      <td>0.025</td>\n      <td>0.0</td>\n      <td>0.0</td>\n      <td>0.0</td>\n    </tr>\n    <tr>\n      <th>1667</th>\n      <td>0.0</td>\n      <td>0.285384</td>\n      <td>0.053816</td>\n      <td>0.450</td>\n      <td>0.0</td>\n      <td>0.0</td>\n      <td>0.0</td>\n    </tr>\n    <tr>\n      <th>3322</th>\n      <td>1.0</td>\n      <td>0.781714</td>\n      <td>0.052194</td>\n      <td>0.025</td>\n      <td>0.0</td>\n      <td>0.0</td>\n      <td>0.0</td>\n    </tr>\n    <tr>\n      <th>1688</th>\n      <td>0.0</td>\n      <td>0.506551</td>\n      <td>0.034477</td>\n      <td>0.025</td>\n      <td>0.0</td>\n      <td>1.0</td>\n      <td>0.0</td>\n    </tr>\n    <tr>\n      <th>5995</th>\n      <td>0.0</td>\n      <td>0.817563</td>\n      <td>0.145152</td>\n      <td>0.075</td>\n      <td>0.0</td>\n      <td>0.0</td>\n      <td>0.0</td>\n    </tr>\n  </tbody>\n</table>\n<p>6041 rows × 7 columns</p>\n</div>"
     },
     "execution_count": 412,
     "metadata": {},
     "output_type": "execute_result"
    }
   ],
   "source": [
    "X_train_static"
   ]
  },
  {
   "cell_type": "code",
   "execution_count": 413,
   "metadata": {},
   "outputs": [],
   "source": [
    "# Load validation data\n",
    "validation_pos = pd.read_csv(data_path+'validation_pos.txt')\n",
    "validation_neg = pd.read_csv(data_path+'validation_neg.txt')\n",
    "\n",
    "# Add target class\n",
    "validation_pos['survival'] = [1 for i in range(validation_pos.shape[0])]\n",
    "validation_neg['survival'] = [0 for i in range(validation_neg.shape[0])]\n",
    "\n",
    "validation_neg['events'] = validation_neg['drug_events'] + \" \" + validation_neg['procedure_codes']\n",
    "validation_pos['events'] = validation_pos['drug_events'] + \" \" + validation_pos['procedure_codes']"
   ]
  },
  {
   "cell_type": "code",
   "execution_count": 414,
   "outputs": [
    {
     "data": {
      "text/plain": "     subject_id                                        drug_events  \\\n0         84818  225910 225823 225910 225823 225910 225823 2259...   \n1         99412  222042 220970 220970 226364 225907 225799 2258...   \n2         77487                        225910 226361 225910 225910   \n3         63219  226364 226372 222168 222056 225154 225154 2214...   \n4         46060  226361 225168 226361 226361 220970 225154 2217...   \n..          ...                                                ...   \n195       70314  226361 225154 220995 225154 225154 225154 2251...   \n196       43736                 225151 225159 223262 225159 223258   \n197       51754  225910 220970 220970 225168 225168 220995 2251...   \n198       42180  221986 222168 225828 227522 225166 225828 2258...   \n199       32082  225859 225975 225884 225975 225884 225910 2251...   \n\n                                       procedure_codes   hadm_id  icustay_id  \\\n0                                            4513 4523  175593.0    226866.0   \n1                                            3972 8841  192975.0    295903.0   \n2                                  4513 4516 4513 8604  144009.0    250934.0   \n3                                            3615 3961  194579.0    220120.0   \n4                                            9907 9904  123807.0    268137.0   \n..                                                 ...       ...         ...   \n195  4131 3893 5013 8864 3897 3897 9925 370 0392 99...  129845.0    206464.0   \n196                 0066 3607 9920 0046 0040 8856 3778  143451.0    246005.0   \n197       4523 4513 4513 4523 4513 3734 3722 3964 8856  105236.0    257838.0   \n198                 3929 8411 3527 3774 3787 3776 3961  135448.0    212790.0   \n199                                          5185 5187  131005.0    240333.0   \n\n     gender  dod            admittime            dischtime  los_hospital  ...  \\\n0       0.0  NaN  2122-06-19 20:41:00  2122-06-24 12:24:00        4.6549  ...   \n1       1.0  NaN  2142-04-24 12:19:00  2142-05-03 13:00:00        9.0285  ...   \n2       0.0  NaN  2198-11-17 09:15:00  2198-11-23 19:57:00        6.4458  ...   \n3       0.0  NaN  2130-11-15 07:30:00  2130-11-19 13:40:00        4.2569  ...   \n4       1.0  NaN  2181-09-05 12:00:00  2181-09-14 21:32:00        9.3972  ...   \n..      ...  ...                  ...                  ...           ...  ...   \n195     1.0  NaN  2191-11-24 15:33:00  2192-01-13 17:53:00       50.0972  ...   \n196     1.0  NaN  2137-12-28 22:50:00  2138-01-03 15:15:00        5.6840  ...   \n197     0.0  NaN  2100-10-31 21:51:00  2100-11-03 10:15:00        2.5167  ...   \n198     0.0  NaN  2114-12-27 07:15:00  2115-01-01 13:15:00        5.2500  ...   \n199     0.0  NaN  2112-04-04 13:50:00  2112-04-13 16:00:00        9.0903  ...   \n\n     hospital_expire_flag  hospstay_seq first_hosp_stay               intime  \\\n0                     0.0           1.0             0.0  2122-06-19 20:42:04   \n1                     0.0           1.0             0.0  2142-04-24 14:50:11   \n2                     0.0           2.0             1.0  2198-11-17 09:16:18   \n3                     0.0           1.0             0.0  2130-11-15 11:28:52   \n4                     0.0           1.0             0.0  2181-09-09 01:45:54   \n..                    ...           ...             ...                  ...   \n195                   0.0           1.0             0.0  2191-11-28 20:58:28   \n196                   0.0           1.0             0.0  2138-01-01 18:37:36   \n197                   0.0           2.0             1.0  2100-10-31 21:52:03   \n198                   0.0           1.0             0.0  2114-12-27 11:00:10   \n199                   0.0           1.0             0.0  2112-04-07 09:28:02   \n\n                 outtime  los_icu  icustay_seq first_icu_stay survival  \\\n0    2122-06-21 15:37:24   1.7884          1.0            0.0        1   \n1    2142-04-30 17:58:10   6.1305          1.0            0.0        1   \n2    2198-11-18 14:24:09   1.2138          1.0            0.0        1   \n3    2130-11-16 11:42:45   1.0096          1.0            0.0        1   \n4    2181-09-11 15:24:40   2.5686          1.0            0.0        1   \n..                   ...      ...          ...            ...      ...   \n195  2191-11-29 18:35:18   0.9006          1.0            0.0        1   \n196  2138-01-02 12:54:44   0.7619          1.0            0.0        1   \n197  2100-11-03 10:58:55   2.5464          1.0            0.0        1   \n198  2114-12-29 22:13:50   2.4678          1.0            0.0        1   \n199  2112-04-08 17:57:32   1.3538          1.0            0.0        1   \n\n                                                events  \n0    225910 225823 225910 225823 225910 225823 2259...  \n1    222042 220970 220970 226364 225907 225799 2258...  \n2      225910 226361 225910 225910 4513 4516 4513 8604  \n3    226364 226372 222168 222056 225154 225154 2214...  \n4    226361 225168 226361 226361 220970 225154 2217...  \n..                                                 ...  \n195  226361 225154 220995 225154 225154 225154 2251...  \n196  225151 225159 223262 225159 223258 0066 3607 9...  \n197  225910 220970 220970 225168 225168 220995 2251...  \n198  221986 222168 225828 227522 225166 225828 2258...  \n199  225859 225975 225884 225975 225884 225910 2251...  \n\n[200 rows x 24 columns]",
      "text/html": "<div>\n<style scoped>\n    .dataframe tbody tr th:only-of-type {\n        vertical-align: middle;\n    }\n\n    .dataframe tbody tr th {\n        vertical-align: top;\n    }\n\n    .dataframe thead th {\n        text-align: right;\n    }\n</style>\n<table border=\"1\" class=\"dataframe\">\n  <thead>\n    <tr style=\"text-align: right;\">\n      <th></th>\n      <th>subject_id</th>\n      <th>drug_events</th>\n      <th>procedure_codes</th>\n      <th>hadm_id</th>\n      <th>icustay_id</th>\n      <th>gender</th>\n      <th>dod</th>\n      <th>admittime</th>\n      <th>dischtime</th>\n      <th>los_hospital</th>\n      <th>...</th>\n      <th>hospital_expire_flag</th>\n      <th>hospstay_seq</th>\n      <th>first_hosp_stay</th>\n      <th>intime</th>\n      <th>outtime</th>\n      <th>los_icu</th>\n      <th>icustay_seq</th>\n      <th>first_icu_stay</th>\n      <th>survival</th>\n      <th>events</th>\n    </tr>\n  </thead>\n  <tbody>\n    <tr>\n      <th>0</th>\n      <td>84818</td>\n      <td>225910 225823 225910 225823 225910 225823 2259...</td>\n      <td>4513 4523</td>\n      <td>175593.0</td>\n      <td>226866.0</td>\n      <td>0.0</td>\n      <td>NaN</td>\n      <td>2122-06-19 20:41:00</td>\n      <td>2122-06-24 12:24:00</td>\n      <td>4.6549</td>\n      <td>...</td>\n      <td>0.0</td>\n      <td>1.0</td>\n      <td>0.0</td>\n      <td>2122-06-19 20:42:04</td>\n      <td>2122-06-21 15:37:24</td>\n      <td>1.7884</td>\n      <td>1.0</td>\n      <td>0.0</td>\n      <td>1</td>\n      <td>225910 225823 225910 225823 225910 225823 2259...</td>\n    </tr>\n    <tr>\n      <th>1</th>\n      <td>99412</td>\n      <td>222042 220970 220970 226364 225907 225799 2258...</td>\n      <td>3972 8841</td>\n      <td>192975.0</td>\n      <td>295903.0</td>\n      <td>1.0</td>\n      <td>NaN</td>\n      <td>2142-04-24 12:19:00</td>\n      <td>2142-05-03 13:00:00</td>\n      <td>9.0285</td>\n      <td>...</td>\n      <td>0.0</td>\n      <td>1.0</td>\n      <td>0.0</td>\n      <td>2142-04-24 14:50:11</td>\n      <td>2142-04-30 17:58:10</td>\n      <td>6.1305</td>\n      <td>1.0</td>\n      <td>0.0</td>\n      <td>1</td>\n      <td>222042 220970 220970 226364 225907 225799 2258...</td>\n    </tr>\n    <tr>\n      <th>2</th>\n      <td>77487</td>\n      <td>225910 226361 225910 225910</td>\n      <td>4513 4516 4513 8604</td>\n      <td>144009.0</td>\n      <td>250934.0</td>\n      <td>0.0</td>\n      <td>NaN</td>\n      <td>2198-11-17 09:15:00</td>\n      <td>2198-11-23 19:57:00</td>\n      <td>6.4458</td>\n      <td>...</td>\n      <td>0.0</td>\n      <td>2.0</td>\n      <td>1.0</td>\n      <td>2198-11-17 09:16:18</td>\n      <td>2198-11-18 14:24:09</td>\n      <td>1.2138</td>\n      <td>1.0</td>\n      <td>0.0</td>\n      <td>1</td>\n      <td>225910 226361 225910 225910 4513 4516 4513 8604</td>\n    </tr>\n    <tr>\n      <th>3</th>\n      <td>63219</td>\n      <td>226364 226372 222168 222056 225154 225154 2214...</td>\n      <td>3615 3961</td>\n      <td>194579.0</td>\n      <td>220120.0</td>\n      <td>0.0</td>\n      <td>NaN</td>\n      <td>2130-11-15 07:30:00</td>\n      <td>2130-11-19 13:40:00</td>\n      <td>4.2569</td>\n      <td>...</td>\n      <td>0.0</td>\n      <td>1.0</td>\n      <td>0.0</td>\n      <td>2130-11-15 11:28:52</td>\n      <td>2130-11-16 11:42:45</td>\n      <td>1.0096</td>\n      <td>1.0</td>\n      <td>0.0</td>\n      <td>1</td>\n      <td>226364 226372 222168 222056 225154 225154 2214...</td>\n    </tr>\n    <tr>\n      <th>4</th>\n      <td>46060</td>\n      <td>226361 225168 226361 226361 220970 225154 2217...</td>\n      <td>9907 9904</td>\n      <td>123807.0</td>\n      <td>268137.0</td>\n      <td>1.0</td>\n      <td>NaN</td>\n      <td>2181-09-05 12:00:00</td>\n      <td>2181-09-14 21:32:00</td>\n      <td>9.3972</td>\n      <td>...</td>\n      <td>0.0</td>\n      <td>1.0</td>\n      <td>0.0</td>\n      <td>2181-09-09 01:45:54</td>\n      <td>2181-09-11 15:24:40</td>\n      <td>2.5686</td>\n      <td>1.0</td>\n      <td>0.0</td>\n      <td>1</td>\n      <td>226361 225168 226361 226361 220970 225154 2217...</td>\n    </tr>\n    <tr>\n      <th>...</th>\n      <td>...</td>\n      <td>...</td>\n      <td>...</td>\n      <td>...</td>\n      <td>...</td>\n      <td>...</td>\n      <td>...</td>\n      <td>...</td>\n      <td>...</td>\n      <td>...</td>\n      <td>...</td>\n      <td>...</td>\n      <td>...</td>\n      <td>...</td>\n      <td>...</td>\n      <td>...</td>\n      <td>...</td>\n      <td>...</td>\n      <td>...</td>\n      <td>...</td>\n      <td>...</td>\n    </tr>\n    <tr>\n      <th>195</th>\n      <td>70314</td>\n      <td>226361 225154 220995 225154 225154 225154 2251...</td>\n      <td>4131 3893 5013 8864 3897 3897 9925 370 0392 99...</td>\n      <td>129845.0</td>\n      <td>206464.0</td>\n      <td>1.0</td>\n      <td>NaN</td>\n      <td>2191-11-24 15:33:00</td>\n      <td>2192-01-13 17:53:00</td>\n      <td>50.0972</td>\n      <td>...</td>\n      <td>0.0</td>\n      <td>1.0</td>\n      <td>0.0</td>\n      <td>2191-11-28 20:58:28</td>\n      <td>2191-11-29 18:35:18</td>\n      <td>0.9006</td>\n      <td>1.0</td>\n      <td>0.0</td>\n      <td>1</td>\n      <td>226361 225154 220995 225154 225154 225154 2251...</td>\n    </tr>\n    <tr>\n      <th>196</th>\n      <td>43736</td>\n      <td>225151 225159 223262 225159 223258</td>\n      <td>0066 3607 9920 0046 0040 8856 3778</td>\n      <td>143451.0</td>\n      <td>246005.0</td>\n      <td>1.0</td>\n      <td>NaN</td>\n      <td>2137-12-28 22:50:00</td>\n      <td>2138-01-03 15:15:00</td>\n      <td>5.6840</td>\n      <td>...</td>\n      <td>0.0</td>\n      <td>1.0</td>\n      <td>0.0</td>\n      <td>2138-01-01 18:37:36</td>\n      <td>2138-01-02 12:54:44</td>\n      <td>0.7619</td>\n      <td>1.0</td>\n      <td>0.0</td>\n      <td>1</td>\n      <td>225151 225159 223262 225159 223258 0066 3607 9...</td>\n    </tr>\n    <tr>\n      <th>197</th>\n      <td>51754</td>\n      <td>225910 220970 220970 225168 225168 220995 2251...</td>\n      <td>4523 4513 4513 4523 4513 3734 3722 3964 8856</td>\n      <td>105236.0</td>\n      <td>257838.0</td>\n      <td>0.0</td>\n      <td>NaN</td>\n      <td>2100-10-31 21:51:00</td>\n      <td>2100-11-03 10:15:00</td>\n      <td>2.5167</td>\n      <td>...</td>\n      <td>0.0</td>\n      <td>2.0</td>\n      <td>1.0</td>\n      <td>2100-10-31 21:52:03</td>\n      <td>2100-11-03 10:58:55</td>\n      <td>2.5464</td>\n      <td>1.0</td>\n      <td>0.0</td>\n      <td>1</td>\n      <td>225910 220970 220970 225168 225168 220995 2251...</td>\n    </tr>\n    <tr>\n      <th>198</th>\n      <td>42180</td>\n      <td>221986 222168 225828 227522 225166 225828 2258...</td>\n      <td>3929 8411 3527 3774 3787 3776 3961</td>\n      <td>135448.0</td>\n      <td>212790.0</td>\n      <td>0.0</td>\n      <td>NaN</td>\n      <td>2114-12-27 07:15:00</td>\n      <td>2115-01-01 13:15:00</td>\n      <td>5.2500</td>\n      <td>...</td>\n      <td>0.0</td>\n      <td>1.0</td>\n      <td>0.0</td>\n      <td>2114-12-27 11:00:10</td>\n      <td>2114-12-29 22:13:50</td>\n      <td>2.4678</td>\n      <td>1.0</td>\n      <td>0.0</td>\n      <td>1</td>\n      <td>221986 222168 225828 227522 225166 225828 2258...</td>\n    </tr>\n    <tr>\n      <th>199</th>\n      <td>32082</td>\n      <td>225859 225975 225884 225975 225884 225910 2251...</td>\n      <td>5185 5187</td>\n      <td>131005.0</td>\n      <td>240333.0</td>\n      <td>0.0</td>\n      <td>NaN</td>\n      <td>2112-04-04 13:50:00</td>\n      <td>2112-04-13 16:00:00</td>\n      <td>9.0903</td>\n      <td>...</td>\n      <td>0.0</td>\n      <td>1.0</td>\n      <td>0.0</td>\n      <td>2112-04-07 09:28:02</td>\n      <td>2112-04-08 17:57:32</td>\n      <td>1.3538</td>\n      <td>1.0</td>\n      <td>0.0</td>\n      <td>1</td>\n      <td>225859 225975 225884 225975 225884 225910 2251...</td>\n    </tr>\n  </tbody>\n</table>\n<p>200 rows × 24 columns</p>\n</div>"
     },
     "execution_count": 414,
     "metadata": {},
     "output_type": "execute_result"
    }
   ],
   "source": [
    "validation_pos"
   ],
   "metadata": {
    "collapsed": false,
    "pycharm": {
     "name": "#%%\n"
    }
   }
  },
  {
   "cell_type": "code",
   "execution_count": 415,
   "outputs": [],
   "source": [
    "train_neg['events'] = train_neg['drug_events'] + \" \" + train_neg['procedure_codes']\n",
    "train_pos['events'] = train_pos['drug_events'] + \" \" + train_pos['procedure_codes']"
   ],
   "metadata": {
    "collapsed": false,
    "pycharm": {
     "name": "#%%\n"
    }
   }
  },
  {
   "cell_type": "code",
   "execution_count": 416,
   "metadata": {},
   "outputs": [],
   "source": [
    "validation = pd.concat([validation_pos, validation_neg]).reset_index()\n",
    "validation_reordered = validation.sample(frac=1, random_state=3)\n",
    "\n",
    "X_val_neg_static = validation_neg[static_feature_names]\n",
    "X_val_events, X_val_static, y_val = validation_reordered[\"events\"],validation_reordered[static_feature_names], validation_reordered['survival']"
   ]
  },
  {
   "cell_type": "code",
   "execution_count": 417,
   "metadata": {},
   "outputs": [
    {
     "data": {
      "text/plain": "376    225893 225798 221794 225893 225893 221794 2258...\n16                        226361 225168 225910 4525 4513\n365    226361 225798 225975 223262 223262 225855 2259...\n82     221468 221794 221468 221794 221347 225152 2213...\n107    225910 220970 225168 221794 225910 225884 2216...\nName: events, dtype: object"
     },
     "execution_count": 417,
     "metadata": {},
     "output_type": "execute_result"
    }
   ],
   "source": [
    "X_val_events.head()"
   ]
  },
  {
   "cell_type": "markdown",
   "metadata": {},
   "source": [
    "### Data preprocessing\n",
    "\n",
    "#### 1.1 Conver all the events into sequence (token) ids"
   ]
  },
  {
   "cell_type": "code",
   "execution_count": 418,
   "metadata": {},
   "outputs": [],
   "source": [
    "# Set the vocab size and max sequence lenght\n",
    "vocab_size = 1100 #(max vocab id=1024 in the training data)\n",
    "max_seq_length = 74 #(the maximum sequence length in training/testing data)"
   ]
  },
  {
   "cell_type": "code",
   "execution_count": 419,
   "metadata": {},
   "outputs": [],
   "source": [
    "# Use a text tokenizer to convert events\n",
    "tokenizer = Tokenizer(num_words = vocab_size)\n",
    "tokenizer.fit_on_texts(X_train_events)"
   ]
  },
  {
   "cell_type": "code",
   "execution_count": 420,
   "metadata": {},
   "outputs": [],
   "source": [
    "X_train_sequences = tokenizer.texts_to_sequences(X_train_events)\n",
    "X_val_sequences = tokenizer.texts_to_sequences(X_val_events)"
   ]
  },
  {
   "cell_type": "code",
   "execution_count": 421,
   "metadata": {},
   "outputs": [
    {
     "name": "stdout",
     "output_type": "stream",
     "text": [
      "Before texts_to_sequences():\n",
      " 220995 220995 223262 221456 227523 222011 225975 223262 4525\n",
      "\n",
      "After texts_to_sequences():\n",
      " [48, 48, 7, 30, 20, 14, 2, 7, 212]\n"
     ]
    }
   ],
   "source": [
    "# Before texts_to_sequences()\n",
    "print(f'Before texts_to_sequences():\\n {X_train_events.iloc[0]}\\n')\n",
    "\n",
    "# After texts_to_sequences()\n",
    "print(f'After texts_to_sequences():\\n {X_train_sequences[0]}')"
   ]
  },
  {
   "cell_type": "markdown",
   "metadata": {},
   "source": [
    "#### 1.2 Padding converted sequences"
   ]
  },
  {
   "cell_type": "code",
   "execution_count": 422,
   "metadata": {},
   "outputs": [],
   "source": [
    "# Pad X_train_sequences and X_val_sequences\n",
    "X_train_padded = sequence.pad_sequences(X_train_sequences, maxlen=max_seq_length, padding='post')\n",
    "X_val_padded = sequence.pad_sequences(X_val_sequences, maxlen=max_seq_length, padding='post')"
   ]
  },
  {
   "cell_type": "code",
   "execution_count": 423,
   "metadata": {},
   "outputs": [
    {
     "data": {
      "text/plain": "(6041, 74)"
     },
     "execution_count": 423,
     "metadata": {},
     "output_type": "execute_result"
    }
   ],
   "source": [
    "X_train_padded.shape"
   ]
  },
  {
   "cell_type": "code",
   "execution_count": 424,
   "metadata": {},
   "outputs": [
    {
     "data": {
      "text/plain": "(400, 74)"
     },
     "execution_count": 424,
     "metadata": {},
     "output_type": "execute_result"
    }
   ],
   "source": [
    "X_val_padded.shape"
   ]
  },
  {
   "cell_type": "code",
   "execution_count": 425,
   "metadata": {},
   "outputs": [
    {
     "data": {
      "text/plain": "array([[22, 11, 12, ...,  0,  0,  0],\n       [21,  9, 15, ...,  0,  0,  0],\n       [21, 11,  2, ...,  0,  0,  0],\n       ...,\n       [13,  5, 16, ...,  0,  0,  0],\n       [ 9, 21,  9, ...,  0,  0,  0],\n       [12, 21, 11, ...,  0,  0,  0]])"
     },
     "execution_count": 425,
     "metadata": {},
     "output_type": "execute_result"
    }
   ],
   "source": [
    "X_val_padded"
   ]
  },
  {
   "cell_type": "markdown",
   "source": [
    "# Train models"
   ],
   "metadata": {
    "collapsed": false
   }
  },
  {
   "cell_type": "code",
   "metadata": {
    "pycharm": {
     "name": "#%%\n"
    }
   },
   "source": [
    "## 2. Train prediction models\n",
    "# For plotting the accuracy/loss of keras models\n",
    "def plot_graphs(history, string):\n",
    "    plt.plot(history.history[string])\n",
    "    plt.plot(history.history['val_' + string])\n",
    "    plt.xlabel(\"Epochs\")\n",
    "    plt.ylabel(string)\n",
    "    plt.legend([string, 'val_' + string])\n",
    "    plt.show()"
   ],
   "execution_count": 426,
   "outputs": []
  },
  {
   "cell_type": "code",
   "execution_count": 427,
   "outputs": [],
   "source": [
    "def eval_model_preds(preds, reference):\n",
    "    # Calculate the validation accuracy\n",
    "    validation_acc = accuracy_score(y_true=reference, y_pred=preds)\n",
    "    f1 = f1_score(y_true=reference, y_pred=preds)\n",
    "    print(f'Validation Accuracy: {validation_acc}')\n",
    "    print()\n",
    "\n",
    "    print(f'F1 Score: {f1}')\n",
    "    print()\n",
    "    # Get the confusion matrix\n",
    "    confusion_matrix_df = pd.DataFrame(\n",
    "        confusion_matrix(y_true=reference, y_pred=preds, labels=[1, 0]),\n",
    "        index=['True:pos', 'True:neg'],\n",
    "        columns=['Pred:pos', 'Pred:neg']\n",
    "    )\n",
    "    print('Confusion Matrix:')\n",
    "    print(confusion_matrix_df)\n",
    "    print( )\n",
    "\n",
    "    # Counts of positive and negative predictions\n",
    "    print('Negative and positive predictions')\n",
    "    print(pd.value_counts(preds))"
   ],
   "metadata": {
    "collapsed": false,
    "pycharm": {
     "name": "#%%\n"
    }
   }
  },
  {
   "cell_type": "code",
   "execution_count": 428,
   "outputs": [],
   "source": [
    "# Define the early stopping criteria\n",
    "early_stopping = EarlyStopping(monitor='val_loss', patience=5)"
   ],
   "metadata": {
    "collapsed": false,
    "pycharm": {
     "name": "#%%\n"
    }
   }
  },
  {
   "cell_type": "markdown",
   "source": [
    "### 2.1 Train the dynamic feature LSTM"
   ],
   "metadata": {
    "collapsed": false
   }
  },
  {
   "cell_type": "code",
   "execution_count": 429,
   "metadata": {},
   "outputs": [],
   "source": [
    "# Fix the random seeds to get consistent models\n",
    "## ref: https://keras.io/getting_started/faq/#how-can-i-obtain-reproducible-results-using-keras-during-development\n",
    "seed_value = 3\n",
    "\n",
    "os.environ['PYTHONHASHSEED']=str(seed_value)\n",
    "\n",
    "# The below is necessary for starting Numpy generated random numbers in a well-defined initial state.\n",
    "np.random.seed(seed_value)\n",
    "\n",
    "# The below is necessary for starting core Python generated random numbers in a well-defined state.\n",
    "python_random.seed(seed_value)\n",
    "\n",
    "# The below set_seed() will make random number generation\n",
    "tf.random.set_seed(seed_value)\n",
    "\n",
    "# configure a new global `tensorflow` session\n",
    "session_conf = tf.compat.v1.ConfigProto(intra_op_parallelism_threads=1, inter_op_parallelism_threads=1)\n",
    "sess = tf.compat.v1.Session(graph=tf.compat.v1.get_default_graph(), config=session_conf)\n",
    "tf.compat.v1.keras.backend.set_session(sess)\n",
    "\n",
    "def reset_seeds(seed_value=3):\n",
    "    os.environ['PYTHONHASHSEED']=str(seed_value)\n",
    "    np.random.seed(seed_value)\n",
    "    python_random.seed(seed_value)\n",
    "    tf.random.set_seed(seed_value)\n",
    "\n",
    "reset_seeds()"
   ]
  },
  {
   "cell_type": "code",
   "execution_count": 430,
   "metadata": {},
   "outputs": [],
   "source": [
    "# Define the model structure\n",
    "# Input for variable-length sequences of integers\n",
    "inputs = keras.Input(shape=(None,), dtype=\"int32\")\n",
    "\n",
    "# Embed each integer in a 128-dimensional vector\n",
    "x = layers.Embedding(vocab_size, 128)(inputs)\n",
    "\n",
    "# Add 2 bidirectional LSTMs\n",
    "x = layers.Bidirectional(layers.LSTM(64, return_sequences=True))(x)\n",
    "x = layers.Bidirectional(layers.LSTM(64))(x)\n",
    "x = layers.Dense(64)(x)\n",
    "x = layers.Dense(64)(x)\n",
    "\n",
    "# Add a classifier\n",
    "outputs = layers.Dense(1, activation=\"sigmoid\")(x)\n",
    "dynamic_lstm_model = keras.Model(inputs, outputs)"
   ]
  },
  {
   "cell_type": "code",
   "execution_count": 431,
   "outputs": [
    {
     "data": {
      "image/png": "[encoded data removed]",
      "text/plain": "<IPython.core.display.Image object>"
     },
     "execution_count": 431,
     "metadata": {},
     "output_type": "execute_result"
    }
   ],
   "source": [
    "plot_model(dynamic_lstm_model)"
   ],
   "metadata": {
    "collapsed": false,
    "pycharm": {
     "name": "#%%\n"
    }
   }
  },
  {
   "cell_type": "code",
   "execution_count": 432,
   "outputs": [
    {
     "name": "stdout",
     "output_type": "stream",
     "text": [
      "Model: \"model_10\"\n",
      "_________________________________________________________________\n",
      " Layer (type)                Output Shape              Param #   \n",
      "=================================================================\n",
      " input_16 (InputLayer)       [(None, None)]            0         \n",
      "                                                                 \n",
      " embedding_10 (Embedding)    (None, None, 128)         140800    \n",
      "                                                                 \n",
      " bidirectional_20 (Bidirecti  (None, None, 128)        98816     \n",
      " onal)                                                           \n",
      "                                                                 \n",
      " bidirectional_21 (Bidirecti  (None, 128)              98816     \n",
      " onal)                                                           \n",
      "                                                                 \n",
      " dense_60 (Dense)            (None, 64)                8256      \n",
      "                                                                 \n",
      " dense_61 (Dense)            (None, 64)                4160      \n",
      "                                                                 \n",
      " dense_62 (Dense)            (None, 1)                 65        \n",
      "                                                                 \n",
      "=================================================================\n",
      "Total params: 350,913\n",
      "Trainable params: 350,913\n",
      "Non-trainable params: 0\n",
      "_________________________________________________________________\n"
     ]
    }
   ],
   "source": [
    "dynamic_lstm_model.summary()"
   ],
   "metadata": {
    "collapsed": false,
    "pycharm": {
     "name": "#%%\n"
    }
   }
  },
  {
   "cell_type": "code",
   "execution_count": 433,
   "outputs": [],
   "source": [
    "if 'dynamic_lstm' in models_to_train:\n",
    "    dynamic_lstm_model.compile(\"adam\", \"binary_crossentropy\", metrics=[\"accuracy\"])\n",
    "    reset_seeds()\n",
    "\n",
    "    model_history = dynamic_lstm_model.fit(\n",
    "        X_train_padded,\n",
    "        y_train,\n",
    "        epochs=30,\n",
    "        batch_size=64,\n",
    "        validation_data=(X_val_padded, y_val),\n",
    "        callbacks=[early_stopping]\n",
    "        )\n",
    "    # Visualize the training/validation accuracy and loss\n",
    "    plot_graphs(model_history, \"accuracy\")\n",
    "    plot_graphs(model_history, \"loss\")\n",
    "\n",
    "    # Get the predicted target class: if pred > 0.5, then y_pred = 1; else, y_pred = 0\n",
    "    dynamic_lstm_pred = np.array([1 if pred > 0.5 else 0 for pred in dynamic_lstm_model.predict(X_val_padded)])\n",
    "    eval_model_preds(dynamic_lstm_pred, y_val)"
   ],
   "metadata": {
    "collapsed": false,
    "pycharm": {
     "name": "#%%\n"
    }
   }
  },
  {
   "cell_type": "markdown",
   "source": [
    "### 2.2 Train full feature LSTM"
   ],
   "metadata": {
    "collapsed": false
   }
  },
  {
   "cell_type": "code",
   "execution_count": 434,
   "outputs": [],
   "source": [
    "# Fix the random seeds to get consistent models\n",
    "## ref: https://keras.io/getting_started/faq/#how-can-i-obtain-reproducible-results-using-keras-during-development\n",
    "seed_value = 3\n",
    "\n",
    "os.environ['PYTHONHASHSEED']=str(seed_value)\n",
    "\n",
    "# The below is necessary for starting Numpy generated random numbers in a well-defined initial state.\n",
    "np.random.seed(seed_value)\n",
    "\n",
    "# The below is necessary for starting core Python generated random numbers in a well-defined state.\n",
    "python_random.seed(seed_value)\n",
    "\n",
    "# The below set_seed() will make random number generation\n",
    "tf.random.set_seed(seed_value)\n",
    "\n",
    "# configure a new global `tensorflow` session\n",
    "session_conf = tf.compat.v1.ConfigProto(intra_op_parallelism_threads=1, inter_op_parallelism_threads=1)\n",
    "sess = tf.compat.v1.Session(graph=tf.compat.v1.get_default_graph(), config=session_conf)\n",
    "tf.compat.v1.keras.backend.set_session(sess)\n",
    "\n",
    "reset_seeds()"
   ],
   "metadata": {
    "collapsed": false,
    "pycharm": {
     "name": "#%%\n"
    }
   }
  },
  {
   "cell_type": "code",
   "execution_count": 435,
   "outputs": [],
   "source": [
    "# dynamic features\n",
    "x_i_dyn = Input(shape=(None,), dtype=\"int32\")\n",
    "x = layers.Embedding(vocab_size, 128)(x_i_dyn)\n",
    "x = layers.Bidirectional(layers.LSTM(64, return_sequences=True))(x)\n",
    "x_pa = layers.Bidirectional(layers.LSTM(64))(x)\n",
    "x = layers.Dense(64)(x_pa)\n",
    "x_dyn = layers.Dense(64)(x)\n",
    "\n",
    "# static features\n",
    "x_i_stat = Input(shape = (len(static_feature_names),))\n",
    "x2 = layers.Dense(64)(x_i_stat)\n",
    "x2 = layers.Activation('relu')(x2)\n",
    "x_pa2 = layers.Dense(64)(x2)\n",
    "x2 = Activation('relu')(x_pa2)\n",
    "x_stat = Dropout(0.1)(x2)\n",
    "\n",
    "# combined part\n",
    "x_dot = Dot(axes=1, normalize=True)([x_stat, x_dyn])\n",
    "x = layers.Dense(128)(x_dot)\n",
    "x = Activation('relu')(x)\n",
    "x = layers.Dense(128)(x)\n",
    "x = layers.Dense(128)(x)\n",
    "x = Activation('relu')(x)\n",
    "x = layers.Dense(128)(x)\n",
    "\n",
    "x_o = Dense(1, activation=\"sigmoid\")(x)\n",
    "\n",
    "full_lstm_model = Model([x_i_dyn, x_i_stat], x_o)\n",
    "\n",
    "\n",
    "full_lstm_model.compile(\"adam\", \"binary_crossentropy\", metrics=[\"accuracy\"])"
   ],
   "metadata": {
    "collapsed": false,
    "pycharm": {
     "name": "#%%\n"
    }
   }
  },
  {
   "cell_type": "code",
   "execution_count": 436,
   "outputs": [
    {
     "data": {
      "image/png": "[encoded data removed]",
      "text/plain": "<IPython.core.display.Image object>"
     },
     "execution_count": 436,
     "metadata": {},
     "output_type": "execute_result"
    }
   ],
   "source": [
    "plot_model(full_lstm_model)"
   ],
   "metadata": {
    "collapsed": false,
    "pycharm": {
     "name": "#%%\n"
    }
   }
  },
  {
   "cell_type": "code",
   "execution_count": 437,
   "outputs": [
    {
     "name": "stdout",
     "output_type": "stream",
     "text": [
      "Model: \"model_11\"\n",
      "__________________________________________________________________________________________________\n",
      " Layer (type)                   Output Shape         Param #     Connected to                     \n",
      "==================================================================================================\n",
      " input_18 (InputLayer)          [(None, 7)]          0           []                               \n",
      "                                                                                                  \n",
      " input_17 (InputLayer)          [(None, None)]       0           []                               \n",
      "                                                                                                  \n",
      " dense_65 (Dense)               (None, 64)           512         ['input_18[0][0]']               \n",
      "                                                                                                  \n",
      " embedding_11 (Embedding)       (None, None, 128)    140800      ['input_17[0][0]']               \n",
      "                                                                                                  \n",
      " activation_20 (Activation)     (None, 64)           0           ['dense_65[0][0]']               \n",
      "                                                                                                  \n",
      " bidirectional_22 (Bidirectiona  (None, None, 128)   98816       ['embedding_11[0][0]']           \n",
      " l)                                                                                               \n",
      "                                                                                                  \n",
      " dense_66 (Dense)               (None, 64)           4160        ['activation_20[0][0]']          \n",
      "                                                                                                  \n",
      " bidirectional_23 (Bidirectiona  (None, 128)         98816       ['bidirectional_22[0][0]']       \n",
      " l)                                                                                               \n",
      "                                                                                                  \n",
      " activation_21 (Activation)     (None, 64)           0           ['dense_66[0][0]']               \n",
      "                                                                                                  \n",
      " dense_63 (Dense)               (None, 64)           8256        ['bidirectional_23[0][0]']       \n",
      "                                                                                                  \n",
      " dropout_5 (Dropout)            (None, 64)           0           ['activation_21[0][0]']          \n",
      "                                                                                                  \n",
      " dense_64 (Dense)               (None, 64)           4160        ['dense_63[0][0]']               \n",
      "                                                                                                  \n",
      " dot_5 (Dot)                    (None, 1)            0           ['dropout_5[0][0]',              \n",
      "                                                                  'dense_64[0][0]']               \n",
      "                                                                                                  \n",
      " dense_67 (Dense)               (None, 128)          256         ['dot_5[0][0]']                  \n",
      "                                                                                                  \n",
      " activation_22 (Activation)     (None, 128)          0           ['dense_67[0][0]']               \n",
      "                                                                                                  \n",
      " dense_68 (Dense)               (None, 128)          16512       ['activation_22[0][0]']          \n",
      "                                                                                                  \n",
      " dense_69 (Dense)               (None, 128)          16512       ['dense_68[0][0]']               \n",
      "                                                                                                  \n",
      " activation_23 (Activation)     (None, 128)          0           ['dense_69[0][0]']               \n",
      "                                                                                                  \n",
      " dense_70 (Dense)               (None, 128)          16512       ['activation_23[0][0]']          \n",
      "                                                                                                  \n",
      " dense_71 (Dense)               (None, 1)            129         ['dense_70[0][0]']               \n",
      "                                                                                                  \n",
      "==================================================================================================\n",
      "Total params: 405,441\n",
      "Trainable params: 405,441\n",
      "Non-trainable params: 0\n",
      "__________________________________________________________________________________________________\n"
     ]
    }
   ],
   "source": [
    "full_lstm_model.summary()"
   ],
   "metadata": {
    "collapsed": false,
    "pycharm": {
     "name": "#%%\n"
    }
   }
  },
  {
   "cell_type": "code",
   "execution_count": 438,
   "outputs": [
    {
     "name": "stdout",
     "output_type": "stream",
     "text": [
      "Epoch 1/100\n",
      "95/95 [==============================] - 9s 50ms/step - loss: 0.6010 - accuracy: 0.6605 - val_loss: 0.6359 - val_accuracy: 0.6625\n",
      "Epoch 2/100\n",
      "95/95 [==============================] - 4s 38ms/step - loss: 0.5115 - accuracy: 0.7449 - val_loss: 0.6096 - val_accuracy: 0.6675\n",
      "Epoch 3/100\n",
      "95/95 [==============================] - 4s 38ms/step - loss: 0.4492 - accuracy: 0.7893 - val_loss: 0.5630 - val_accuracy: 0.7100\n",
      "Epoch 4/100\n",
      "95/95 [==============================] - 4s 38ms/step - loss: 0.4005 - accuracy: 0.8181 - val_loss: 0.5830 - val_accuracy: 0.7375\n",
      "Epoch 5/100\n",
      "95/95 [==============================] - 4s 39ms/step - loss: 0.3871 - accuracy: 0.8272 - val_loss: 0.6543 - val_accuracy: 0.7150\n",
      "Epoch 6/100\n",
      "95/95 [==============================] - 4s 39ms/step - loss: 0.3617 - accuracy: 0.8446 - val_loss: 0.5701 - val_accuracy: 0.7375\n",
      "Epoch 7/100\n",
      "95/95 [==============================] - 4s 44ms/step - loss: 0.3403 - accuracy: 0.8545 - val_loss: 0.6242 - val_accuracy: 0.7100\n",
      "Epoch 8/100\n",
      "95/95 [==============================] - 4s 41ms/step - loss: 0.3058 - accuracy: 0.8740 - val_loss: 0.5575 - val_accuracy: 0.7500\n",
      "Epoch 9/100\n",
      "95/95 [==============================] - 4s 42ms/step - loss: 0.2874 - accuracy: 0.8848 - val_loss: 0.5879 - val_accuracy: 0.7450\n",
      "Epoch 10/100\n",
      "95/95 [==============================] - 4s 40ms/step - loss: 0.2736 - accuracy: 0.8909 - val_loss: 0.6408 - val_accuracy: 0.7500\n",
      "Epoch 11/100\n",
      "95/95 [==============================] - 4s 41ms/step - loss: 0.2626 - accuracy: 0.9000 - val_loss: 0.5590 - val_accuracy: 0.7625\n",
      "Epoch 12/100\n",
      "95/95 [==============================] - 4s 41ms/step - loss: 0.2644 - accuracy: 0.8972 - val_loss: 0.6359 - val_accuracy: 0.7475\n",
      "Epoch 13/100\n",
      "95/95 [==============================] - 4s 41ms/step - loss: 0.2417 - accuracy: 0.9066 - val_loss: 0.7122 - val_accuracy: 0.7375\n"
     ]
    },
    {
     "data": {
      "text/plain": "<Figure size 432x288 with 1 Axes>",
      "image/png": "[encoded data removed]"
     },
     "metadata": {
      "needs_background": "light"
     },
     "output_type": "display_data"
    },
    {
     "data": {
      "text/plain": "<Figure size 432x288 with 1 Axes>",
      "image/png": "[encoded data removed]"
     },
     "metadata": {
      "needs_background": "light"
     },
     "output_type": "display_data"
    },
    {
     "name": "stdout",
     "output_type": "stream",
     "text": [
      "Validation Accuracy: 0.7375\n",
      "\n",
      "F1 Score: 0.7123287671232875\n",
      "\n",
      "Confusion Matrix:\n",
      "          Pred:pos  Pred:neg\n",
      "True:pos       130        70\n",
      "True:neg        35       165\n",
      "\n",
      "Negative and positive predictions\n",
      "0    235\n",
      "1    165\n",
      "dtype: int64\n"
     ]
    }
   ],
   "source": [
    "if 'full_lstm' in models_to_train:\n",
    "    full_lstm_hist = full_lstm_model.fit(\n",
    "        [X_train_padded, X_train_static],\n",
    "        y_train,\n",
    "        epochs = 100,\n",
    "        batch_size = 64,\n",
    "        validation_data=([X_val_padded, X_val_static], y_val),\n",
    "        callbacks=early_stopping\n",
    "        )\n",
    "    # Visualize the training/validation accuracy and loss\n",
    "    plot_graphs(full_lstm_hist, \"accuracy\")\n",
    "    plot_graphs(full_lstm_hist, \"loss\")\n",
    "    # Get the predicted target class: if pred > 0.5, then y_pred = 1; else, y_pred = 0\n",
    "    full_lstm_pred = np.array([1 if pred > 0.5 else 0 for pred in full_lstm_model.predict([X_val_padded,X_val_static])])\n",
    "    eval_model_preds(full_lstm_pred, y_val)"
   ],
   "metadata": {
    "collapsed": false,
    "pycharm": {
     "name": "#%%\n"
    }
   }
  },
  {
   "cell_type": "markdown",
   "source": [
    "## 2.3 Train RF on the static features"
   ],
   "metadata": {
    "collapsed": false
   }
  },
  {
   "cell_type": "code",
   "execution_count": 439,
   "outputs": [
    {
     "name": "stdout",
     "output_type": "stream",
     "text": [
      "Validation Accuracy: 0.465\n",
      "\n",
      "F1 Score: 0.5114155251141552\n",
      "\n",
      "Confusion Matrix:\n",
      "          Pred:pos  Pred:neg\n",
      "True:pos       112        88\n",
      "True:neg       126        74\n",
      "\n",
      "Negative and positive predictions\n",
      "1    238\n",
      "0    162\n",
      "dtype: int64\n"
     ]
    }
   ],
   "source": [
    "if 'rf' in models_to_train:\n",
    "    rf = RandomForestClassifier()\n",
    "    rf.fit(X_train_static,y_train)\n",
    "    rf_pred = rf.predict(X_val_static)\n",
    "    eval_model_preds(rf_pred,y_val)"
   ],
   "metadata": {
    "collapsed": false,
    "pycharm": {
     "name": "#%%\n"
    }
   }
  },
  {
   "cell_type": "markdown",
   "metadata": {},
   "source": [
    "## 3. Get the negative predictions from LSTM, for counterfactual explanations"
   ]
  },
  {
   "cell_type": "code",
   "execution_count": 440,
   "metadata": {},
   "outputs": [],
   "source": [
    "# Get these instances of negative predictions\n",
    "if model_to_explain == 'dynamic_lstm':\n",
    "    y_pred = dynamic_lstm_pred\n",
    "    model = dynamic_lstm_model\n",
    "if model_to_explain == 'full_lstm':\n",
    "    y_pred = full_lstm_pred\n",
    "    model = full_lstm_model\n",
    "if model_to_explain == 'rf':\n",
    "    y_pred = rf_pred\n",
    "    model = rf\n",
    "\n",
    "\n",
    "X_pred_negative = X_val_padded[y_pred == 0]\n",
    "X_pred_negative_static = X_val_static[y_pred == 0]"
   ]
  },
  {
   "cell_type": "code",
   "execution_count": 441,
   "metadata": {},
   "outputs": [
    {
     "data": {
      "text/plain": "(235, 74)"
     },
     "execution_count": 441,
     "metadata": {},
     "output_type": "execute_result"
    }
   ],
   "source": [
    "X_pred_negative.shape"
   ]
  },
  {
   "cell_type": "markdown",
   "metadata": {},
   "source": [
    "#### Export as the desired input format of the DRG framework"
   ]
  },
  {
   "cell_type": "code",
   "execution_count": 442,
   "metadata": {},
   "outputs": [],
   "source": [
    "# Convert negatively predicted instances back to medical event form\n",
    "original_event_sequences = tokenizer.sequences_to_texts(X_pred_negative)"
   ]
  },
  {
   "cell_type": "code",
   "execution_count": 443,
   "metadata": {},
   "outputs": [
    {
     "data": {
      "text/plain": "['226361 225168 225910 4525 4513',\n '226361 225798 225975 223262 223262 225855 225975 223258 223258 223260 223258 223258 223258 223258 223260 221906 221662 226361 221906 221668 221906 221906 221906 227533 225893 221668 221906 225152 220995 221906 221906 225798 221906 3893 9604 9671 3893',\n '221468 221794 221468 221794 221347 225152 221347 221824 225152 225152 221824 221347 221824 225152 221824 227694 225152 225152 225152 225152 225152 225152 225152 225152 225152 220970 225152 225152 225152 221794 225152 225152 225152 225152 225152 225152 221794 221794 225152 225152 225152 225152 5122',\n '226361 225879 225798 225798 3324',\n '221668 221744 225907 221385 225855 225975 225166 225975 225907 9671']"
     },
     "execution_count": 443,
     "metadata": {},
     "output_type": "execute_result"
    }
   ],
   "source": [
    "original_event_sequences[:5]"
   ]
  },
  {
   "cell_type": "code",
   "execution_count": 444,
   "metadata": {},
   "outputs": [],
   "source": [
    "pd.DataFrame(original_event_sequences).to_csv(path_or_buf=f'{data_path}/test_neg.txt', index=False, header=False, sep=' ', quoting = csv.QUOTE_NONE, escapechar = ' ')"
   ]
  },
  {
   "cell_type": "markdown",
   "metadata": {},
   "source": [
    "Here, we need to use the inference script from the DRG framework (instructions in the README file) to modify those 110 negative predictions into positive instances. After that, we import the transformed results as below."
   ]
  },
  {
   "cell_type": "markdown",
   "metadata": {},
   "source": [
    "### 3.1 DeleteOnly model results"
   ]
  },
  {
   "cell_type": "code",
   "execution_count": 445,
   "metadata": {},
   "outputs": [],
   "source": [
    "# Load the transformed data\n",
    "trans_results_delete = pd.read_csv(f'{drg_path}/drg_delete/preds', header=None)"
   ]
  },
  {
   "cell_type": "code",
   "execution_count": 446,
   "metadata": {},
   "outputs": [],
   "source": [
    "X_cf_delete = tokenizer.texts_to_sequences(trans_results_delete[0])\n",
    "\n",
    "X_cf_delete_padded = sequence.pad_sequences(X_cf_delete, maxlen=max_seq_length, padding='post')"
   ]
  },
  {
   "cell_type": "markdown",
   "metadata": {},
   "source": [
    "### 3.2 DeleteAndRetrieve model results"
   ]
  },
  {
   "cell_type": "code",
   "execution_count": 447,
   "metadata": {},
   "outputs": [],
   "source": [
    "# Load the transformed data\n",
    "# TODO change this directory\n",
    "delete_generate_results = pd.read_csv(f'{drg_path}/drg_delete_retrieve/preds', header=None)"
   ]
  },
  {
   "cell_type": "code",
   "execution_count": 448,
   "metadata": {},
   "outputs": [],
   "source": [
    "X_cf_delete_retrieve = tokenizer.texts_to_sequences(delete_generate_results[0])\n",
    "\n",
    "X_cf_delete_retrieve_padded = sequence.pad_sequences(X_cf_delete_retrieve, maxlen=max_seq_length, padding='post')"
   ]
  },
  {
   "cell_type": "markdown",
   "metadata": {},
   "source": [
    "### 3.3 Use 1NN baseline method to modify the negatively predicted instances"
   ]
  },
  {
   "cell_type": "code",
   "execution_count": 449,
   "outputs": [
    {
     "data": {
      "text/plain": "NearestNeighbors(metric='hamming', n_neighbors=1)"
     },
     "execution_count": 449,
     "metadata": {},
     "output_type": "execute_result"
    }
   ],
   "source": [
    "# Fit an unsupervised 1NN with all the positive sequences, using 'hamming' distance\n",
    "nn_model = NearestNeighbors(n_neighbors=1, metric='hamming')\n",
    "target_label = 1\n",
    "X_target_label = X_train_padded[y_train == target_label]\n",
    "\n",
    "nn_model.fit(X_target_label)"
   ],
   "metadata": {
    "collapsed": false,
    "pycharm": {
     "name": "#%%\n"
    }
   }
  },
  {
   "cell_type": "code",
   "execution_count": 450,
   "metadata": {},
   "outputs": [
    {
     "data": {
      "text/plain": "array([ 9,  9, 15, 15, 65,  0,  0,  0,  0,  0,  0,  0,  0,  0,  0,  0,  0,\n        0,  0,  0,  0,  0,  0,  0,  0,  0,  0,  0,  0,  0,  0,  0,  0,  0,\n        0,  0,  0,  0,  0,  0,  0,  0,  0,  0,  0,  0,  0,  0,  0,  0,  0,\n        0,  0,  0,  0,  0,  0,  0,  0,  0,  0,  0,  0,  0,  0,  0,  0,  0,\n        0,  0,  0,  0,  0,  0])"
     },
     "execution_count": 450,
     "metadata": {},
     "output_type": "execute_result"
    }
   ],
   "source": [
    "# Find the closest neighbor (positive sequence) with the minimum 'hamming' distance, take it as a counterfactual\n",
    "closest = nn_model.kneighbors(X_pred_negative, return_distance=False)\n",
    "trans_results_nn = X_target_label[closest[:, 0]]\n",
    "\n",
    "trans_results_nn[0]"
   ]
  },
  {
   "cell_type": "code",
   "execution_count": 451,
   "metadata": {},
   "outputs": [],
   "source": [
    "# Rename 'trans_results_nn' to 'X_test_padded3' for result comparison\n",
    "X_cf_one_nn = trans_results_nn"
   ]
  },
  {
   "cell_type": "markdown",
   "metadata": {},
   "source": [
    "### 3.4 Convert transformed results to event sequence format"
   ]
  },
  {
   "cell_type": "code",
   "execution_count": 452,
   "metadata": {},
   "outputs": [],
   "source": [
    "# Convert transformed sequences back to the form of original event sequences\n",
    "trans_event_delete = tokenizer.sequences_to_texts(X_cf_delete_padded)\n",
    "trans_event_delete_retrieve = tokenizer.sequences_to_texts(X_cf_delete_retrieve_padded)\n",
    "trans_event_one_nn = tokenizer.sequences_to_texts(X_cf_one_nn)"
   ]
  },
  {
   "cell_type": "markdown",
   "metadata": {},
   "source": [
    "## 4. Results comparison"
   ]
  },
  {
   "cell_type": "markdown",
   "metadata": {},
   "source": [
    "### 4.1 Comparison between fraction of valid CFs (i.e. successfully generated counterfactuals)"
   ]
  },
  {
   "cell_type": "code",
   "execution_count": 453,
   "metadata": {},
   "outputs": [],
   "source": [
    "# Get the total counts \n",
    "test_size = X_pred_negative.shape[0]"
   ]
  },
  {
   "cell_type": "code",
   "execution_count": 454,
   "metadata": {},
   "outputs": [
    {
     "name": "stdout",
     "output_type": "stream",
     "text": [
      "0.3319\n"
     ]
    }
   ],
   "source": [
    "# Fraction of valid transformed sequences, for DeleteOnly\n",
    "if model_to_explain == 'full_lstm':\n",
    "        fraction_success = np.sum(model.predict([X_cf_delete_padded, X_val_neg_static]) > 0.5) / test_size\n",
    "\n",
    "else:\n",
    "    fraction_success = np.sum(model.predict(X_cf_delete_padded) > 0.5) / test_size\n",
    "print(round(fraction_success, 4))"
   ]
  },
  {
   "cell_type": "code",
   "execution_count": 455,
   "outputs": [
    {
     "data": {
      "text/plain": "array([[  9,   9,  15, ...,   0,   0,   0],\n       [  7,   7,  21, ...,   0,   0,   0],\n       [  2,  12,  13, ...,   0,   0,   0],\n       ...,\n       [  4, 770, 105, ...,   0,   0,   0],\n       [ 10,  67,  67, ...,   0,   0,   0],\n       [109,  21,  19, ...,   0,   0,   0]])"
     },
     "execution_count": 455,
     "metadata": {},
     "output_type": "execute_result"
    }
   ],
   "source": [
    "X_cf_one_nn"
   ],
   "metadata": {
    "collapsed": false,
    "pycharm": {
     "name": "#%%\n"
    }
   }
  },
  {
   "cell_type": "code",
   "execution_count": 456,
   "metadata": {},
   "outputs": [
    {
     "name": "stdout",
     "output_type": "stream",
     "text": [
      "0.1404\n"
     ]
    }
   ],
   "source": [
    "# For DeleteAndRetrieve\n",
    "if model_to_explain == 'full_lstm':\n",
    "        fraction_success = np.sum(model.predict([X_cf_delete_retrieve_padded[:len(X_val_neg_static)], X_val_neg_static]) > 0.5) / test_size\n",
    "\n",
    "else:\n",
    "    fraction_success = np.sum(model.predict(X_cf_delete_retrieve_padded) > 0.5) / test_size\n",
    "print(round(fraction_success, 4))"
   ]
  },
  {
   "cell_type": "code",
   "execution_count": 457,
   "metadata": {},
   "outputs": [
    {
     "name": "stdout",
     "output_type": "stream",
     "text": [
      "0.3957\n"
     ]
    }
   ],
   "source": [
    "# For 1NN modification\n",
    "if model_to_explain == 'full_lstm':\n",
    "        fraction_success = np.sum(model.predict([X_cf_one_nn, X_pred_negative_static]) > 0.5) / test_size\n",
    "else:\n",
    "    fraction_success = np.sum(model.predict(X_cf_one_nn) > 0.5) / test_size\n",
    "print(round(fraction_success, 4))"
   ]
  },
  {
   "cell_type": "markdown",
   "metadata": {},
   "source": [
    "### 4.2 Local outlier factor (LOF score)"
   ]
  },
  {
   "cell_type": "code",
   "execution_count": 458,
   "metadata": {},
   "outputs": [
    {
     "data": {
      "text/plain": "LocalOutlierFactor(contamination=0.1, novelty=True)"
     },
     "execution_count": 458,
     "metadata": {},
     "output_type": "execute_result"
    }
   ],
   "source": [
    "# Fit the model for novelty detection (novelty=True), in order to get LOF score\n",
    "clf = LocalOutlierFactor(n_neighbors=20, novelty=True, contamination=0.1)\n",
    "clf.fit(X_train_padded)"
   ]
  },
  {
   "cell_type": "code",
   "execution_count": 459,
   "metadata": {},
   "outputs": [],
   "source": [
    "# Get the LOF score for leave-out validation data\n",
    "y_pred_val = clf.predict(X_val_padded)\n",
    "\n",
    "n_error_val = y_pred_val[y_pred_val == -1].size"
   ]
  },
  {
   "cell_type": "code",
   "execution_count": 460,
   "metadata": {},
   "outputs": [
    {
     "data": {
      "text/plain": "0.11"
     },
     "execution_count": 460,
     "metadata": {},
     "output_type": "execute_result"
    }
   ],
   "source": [
    "validation_size = X_val_padded.shape[0]\n",
    "outlier_score_val = n_error_val/validation_size\n",
    "\n",
    "outlier_score_val"
   ]
  },
  {
   "cell_type": "code",
   "execution_count": 461,
   "metadata": {},
   "outputs": [
    {
     "name": "stdout",
     "output_type": "stream",
     "text": [
      "0.0383\n"
     ]
    }
   ],
   "source": [
    "# Get the LOF score for DeleteOnly results\n",
    "y_pred_test = clf.predict(X_cf_delete_padded)\n",
    "n_error_test = y_pred_test[y_pred_test == -1].size\n",
    "\n",
    "outlier_score_test = n_error_test / test_size\n",
    "print(round(outlier_score_test, 4))"
   ]
  },
  {
   "cell_type": "code",
   "execution_count": 462,
   "metadata": {},
   "outputs": [
    {
     "name": "stdout",
     "output_type": "stream",
     "text": [
      "0.034\n"
     ]
    }
   ],
   "source": [
    "# Get the outlier score for DeleteAndRetrieve results\n",
    "y_pred_test2 = clf.predict(X_cf_delete_retrieve_padded)\n",
    "n_error_test2 = y_pred_test2[y_pred_test2 == -1].size\n",
    "\n",
    "outlier_score_test2 = n_error_test2 / test_size\n",
    "print(round(outlier_score_test2, 4))"
   ]
  },
  {
   "cell_type": "code",
   "execution_count": 463,
   "metadata": {},
   "outputs": [
    {
     "name": "stdout",
     "output_type": "stream",
     "text": [
      "0.0383\n"
     ]
    }
   ],
   "source": [
    "# Outlier score for 1NN baseline method\n",
    "y_pred_test3 = clf.predict(X_cf_one_nn)\n",
    "n_error_test3 = y_pred_test3[y_pred_test3 == -1].size\n",
    "\n",
    "outlier_score_test3 = n_error_test3 / test_size\n",
    "print(round(outlier_score_test3, 4))"
   ]
  },
  {
   "cell_type": "markdown",
   "metadata": {},
   "source": [
    "### 4.3 BLEU-4 score (cumulative 4-gram BLEU score) "
   ]
  },
  {
   "cell_type": "code",
   "execution_count": 464,
   "metadata": {},
   "outputs": [],
   "source": [
    "# Define smoothing function\n",
    "chencherry = SmoothingFunction()"
   ]
  },
  {
   "cell_type": "code",
   "execution_count": 465,
   "metadata": {},
   "outputs": [],
   "source": [
    "# Define a function to get pairwise BLEU scores\n",
    "def get_pairwise_bleu(original, transformed):\n",
    "    # 'weights=[0.25, 0.25, 0.25, 0.25]' means that calculate 4-gram BLEU scores cumulatively\n",
    "    results = [sentence_bleu(\n",
    "        references=[pair[0].split()], \n",
    "        hypothesis=pair[1].split(), \n",
    "        weights=[0.25, 0.25, 0.25, 0.25], \n",
    "        smoothing_function=chencherry.method1) \n",
    "        for pair in zip(original, transformed)]\n",
    "    \n",
    "    return results"
   ]
  },
  {
   "cell_type": "code",
   "execution_count": 466,
   "metadata": {},
   "outputs": [
    {
     "name": "stdout",
     "output_type": "stream",
     "text": [
      "0.0062\n"
     ]
    }
   ],
   "source": [
    "pairwise_bleu = get_pairwise_bleu(original_event_sequences, trans_event_delete)\n",
    "avg_bleu = sum(pairwise_bleu)/test_size\n",
    "print(round(avg_bleu, 4))"
   ]
  },
  {
   "cell_type": "code",
   "execution_count": 467,
   "metadata": {},
   "outputs": [
    {
     "name": "stdout",
     "output_type": "stream",
     "text": [
      "0.0077\n"
     ]
    }
   ],
   "source": [
    "pairwise_bleu2 = get_pairwise_bleu(original_event_sequences, trans_event_delete_retrieve)\n",
    "avg_bleu2 = sum(pairwise_bleu2)/test_size\n",
    "print(round(avg_bleu2, 4))"
   ]
  },
  {
   "cell_type": "code",
   "execution_count": 468,
   "metadata": {
    "scrolled": false
   },
   "outputs": [
    {
     "name": "stdout",
     "output_type": "stream",
     "text": [
      "0.1896\n"
     ]
    }
   ],
   "source": [
    "pairwise_bleu3 = get_pairwise_bleu(original_event_sequences, trans_event_one_nn)\n",
    "avg_bleu3 = sum(pairwise_bleu3)/test_size\n",
    "print(round(avg_bleu3, 4))"
   ]
  },
  {
   "cell_type": "markdown",
   "metadata": {},
   "source": [
    "#### 4.3.1 Plot histograms of individual BLEU-4 scores"
   ]
  },
  {
   "cell_type": "code",
   "execution_count": 469,
   "metadata": {},
   "outputs": [
    {
     "data": {
      "text/plain": "<Figure size 1152x288 with 3 Axes>",
      "image/png": "[encoded data removed]"
     },
     "metadata": {
      "needs_background": "light"
     },
     "output_type": "display_data"
    }
   ],
   "source": [
    "fig, ax = plt.subplots(nrows=1, ncols=3, figsize=(16,4))     \n",
    "\n",
    "plt.sca(ax[0])\n",
    "plt.title('DeleteOnly, BLUE score')\n",
    "plt.hist(pairwise_bleu, density=True, bins=30)\n",
    "\n",
    "plt.sca(ax[1])\n",
    "plt.title('DeleteAndRetrieve, BLUE score')\n",
    "plt.hist(pairwise_bleu2, density=True, bins=30)\n",
    "\n",
    "plt.sca(ax[2])\n",
    "plt.title('1-NN, BLUE score')\n",
    "plt.hist(pairwise_bleu3, density=True, bins=30)\n",
    "\n",
    "plt.show()"
   ]
  },
  {
   "cell_type": "markdown",
   "metadata": {},
   "source": [
    "### 4.4 Plot histograms of event count differences (modification counts)"
   ]
  },
  {
   "cell_type": "code",
   "execution_count": 470,
   "metadata": {},
   "outputs": [],
   "source": [
    "# The counts of total, drug events and procedures, for the original sequences\n",
    "original_counts = pd.DataFrame(columns=['total', 'drug', 'procedure'])"
   ]
  },
  {
   "cell_type": "code",
   "execution_count": 471,
   "metadata": {},
   "outputs": [],
   "source": [
    "def get_counts_table(event_sequences):\n",
    "    temp_list = list()\n",
    "    for seq in event_sequences:\n",
    "        splitted = seq.split()\n",
    "        total = len(splitted)\n",
    "        # MetaVision ITEMID values are all above 220000. Since this data only contains data from MetaVision, it only contains ITEMID above 220000\n",
    "        drug = len([x for x in splitted if int(x)>=220000])\n",
    "        procedure = total - drug\n",
    "\n",
    "        temp_list.append({'total': total, 'drug': drug, 'procedure': procedure})\n",
    "    \n",
    "    return pd.DataFrame(temp_list)"
   ]
  },
  {
   "cell_type": "code",
   "execution_count": 472,
   "metadata": {},
   "outputs": [],
   "source": [
    "df_original_counts = get_counts_table(original_event_sequences)"
   ]
  },
  {
   "cell_type": "code",
   "execution_count": 473,
   "metadata": {},
   "outputs": [
    {
     "data": {
      "text/plain": "   total  drug  procedure\n0      5     3          2\n1     37    33          4\n2     43    42          1\n3      5     4          1\n4     10     9          1",
      "text/html": "<div>\n<style scoped>\n    .dataframe tbody tr th:only-of-type {\n        vertical-align: middle;\n    }\n\n    .dataframe tbody tr th {\n        vertical-align: top;\n    }\n\n    .dataframe thead th {\n        text-align: right;\n    }\n</style>\n<table border=\"1\" class=\"dataframe\">\n  <thead>\n    <tr style=\"text-align: right;\">\n      <th></th>\n      <th>total</th>\n      <th>drug</th>\n      <th>procedure</th>\n    </tr>\n  </thead>\n  <tbody>\n    <tr>\n      <th>0</th>\n      <td>5</td>\n      <td>3</td>\n      <td>2</td>\n    </tr>\n    <tr>\n      <th>1</th>\n      <td>37</td>\n      <td>33</td>\n      <td>4</td>\n    </tr>\n    <tr>\n      <th>2</th>\n      <td>43</td>\n      <td>42</td>\n      <td>1</td>\n    </tr>\n    <tr>\n      <th>3</th>\n      <td>5</td>\n      <td>4</td>\n      <td>1</td>\n    </tr>\n    <tr>\n      <th>4</th>\n      <td>10</td>\n      <td>9</td>\n      <td>1</td>\n    </tr>\n  </tbody>\n</table>\n</div>"
     },
     "execution_count": 473,
     "metadata": {},
     "output_type": "execute_result"
    }
   ],
   "source": [
    "df_original_counts.head()"
   ]
  },
  {
   "cell_type": "code",
   "execution_count": 494,
   "metadata": {},
   "outputs": [],
   "source": [
    "# Get count tables for all the tranformed results (generated counterfactuals)\n",
    "trans_counts_delete = get_counts_table(trans_event_delete)\n",
    "trans_counts_delete_retrieve = get_counts_table(trans_event_delete_retrieve)\n",
    "trans_counts_one_nn = get_counts_table(trans_event_one_nn)"
   ]
  },
  {
   "cell_type": "code",
   "execution_count": 496,
   "metadata": {},
   "outputs": [],
   "source": [
    "# Substract the original counts to get event modifications for total, drug events and procedures\n",
    "substracted_delete = trans_counts_delete.subtract(df_original_counts)\n",
    "substracted_delete_retrieve = trans_counts_delete_retrieve.subtract(df_original_counts)\n",
    "substracted_one_nn = trans_counts_one_nn.subtract(df_original_counts)"
   ]
  },
  {
   "cell_type": "code",
   "execution_count": 497,
   "metadata": {},
   "outputs": [
    {
     "data": {
      "text/plain": "<Figure size 1152x864 with 9 Axes>",
      "image/png": "[encoded data removed]"
     },
     "metadata": {
      "needs_background": "light"
     },
     "output_type": "display_data"
    }
   ],
   "source": [
    "# Plot 3x3 subplots\n",
    "fig, ax = plt.subplots(nrows=3, ncols=3, figsize=(16,12))\n",
    "\n",
    "plt.sca(ax[0,0])\n",
    "plt.title('DeleteOnly, total difference')\n",
    "plt.hist(substracted_delete['total'], density=True, bins=30)\n",
    "\n",
    "plt.sca(ax[0,1])\n",
    "plt.title('DeleteOnly, drug event difference')\n",
    "plt.hist(substracted_delete['drug'], density=True, bins=30)\n",
    "\n",
    "plt.sca(ax[0,2])\n",
    "plt.title('DeleteOnly, procedure difference')\n",
    "plt.hist(substracted_delete['procedure'], density=True, bins=12)\n",
    "\n",
    "plt.sca(ax[1,0])\n",
    "plt.title('DeleteAndRetrieve, total difference')\n",
    "plt.hist(substracted_delete_retrieve['total'], density=True, bins=30)\n",
    "\n",
    "plt.sca(ax[1,1])\n",
    "plt.title('DeleteAndRetrieve, drug event difference')\n",
    "plt.hist(substracted_delete_retrieve['drug'], density=True, bins=30)\n",
    "\n",
    "plt.sca(ax[1,2])\n",
    "plt.title('DeleteAndRetrieve, procedure difference')\n",
    "plt.hist(substracted_delete_retrieve['procedure'], density=True, bins=12)\n",
    "\n",
    "plt.sca(ax[2,0])\n",
    "plt.title('1-NN, total difference')\n",
    "plt.hist(substracted_one_nn['total'], density=True, bins=30)\n",
    "\n",
    "plt.sca(ax[2,1])\n",
    "plt.title('1-NN, drug event difference')\n",
    "plt.hist(substracted_one_nn['drug'], density=True, bins=30)\n",
    "\n",
    "plt.sca(ax[2,2])\n",
    "plt.title('1-NN, procedure difference')\n",
    "plt.hist(substracted_one_nn['procedure'], density=True, bins=12)\n",
    "\n",
    "plt.show()"
   ]
  },
  {
   "cell_type": "markdown",
   "metadata": {},
   "source": [
    "### 4.5 Export example counterfactuals "
   ]
  },
  {
   "cell_type": "code",
   "execution_count": 478,
   "metadata": {},
   "outputs": [],
   "source": [
    "# Convert id to original event name\n",
    "conn = psycopg2.connect(\n",
    "    database=\"mimic\", \n",
    "    user='postgres',\n",
    "    password=getpass.getpass(\"Enter postgres password\"), \n",
    "    host=\"127.0.0.1\", \n",
    "    port=\"5432\",\n",
    "    options=f'-c search_path=mimiciii')\n",
    "# Get a mapping from itemid to name (drug events)\n",
    "itemid_to_name = pd.read_sql(\n",
    "    \"\"\"\n",
    "    SELECT itemid, abbreviation, label\n",
    "    FROM d_items;\n",
    "    \"\"\", conn)\n",
    "\n",
    "itemid_to_name = itemid_to_name[itemid_to_name['itemid'] >= 220000]\n",
    "itemid_to_name.head()"
   ]
  },
  {
   "cell_type": "code",
   "execution_count": 479,
   "metadata": {},
   "outputs": [
    {
     "data": {
      "text/plain": "  icd9_code               short_title  \\\n0      0851                Canthotomy   \n1      0852           Blepharorrhaphy   \n2      0859   Adjust lid position NEC   \n3      0861  Lid reconst w skin graft   \n4      0862   Lid reconst w muc graft   \n\n                                          long_title  \n0                                         Canthotomy  \n1                                    Blepharorrhaphy  \n2                   Other adjustment of lid position  \n3   Reconstruction of eyelid with skin flap or graft  \n4  Reconstruction of eyelid with mucous membrane ...  ",
      "text/html": "<div>\n<style scoped>\n    .dataframe tbody tr th:only-of-type {\n        vertical-align: middle;\n    }\n\n    .dataframe tbody tr th {\n        vertical-align: top;\n    }\n\n    .dataframe thead th {\n        text-align: right;\n    }\n</style>\n<table border=\"1\" class=\"dataframe\">\n  <thead>\n    <tr style=\"text-align: right;\">\n      <th></th>\n      <th>icd9_code</th>\n      <th>short_title</th>\n      <th>long_title</th>\n    </tr>\n  </thead>\n  <tbody>\n    <tr>\n      <th>0</th>\n      <td>0851</td>\n      <td>Canthotomy</td>\n      <td>Canthotomy</td>\n    </tr>\n    <tr>\n      <th>1</th>\n      <td>0852</td>\n      <td>Blepharorrhaphy</td>\n      <td>Blepharorrhaphy</td>\n    </tr>\n    <tr>\n      <th>2</th>\n      <td>0859</td>\n      <td>Adjust lid position NEC</td>\n      <td>Other adjustment of lid position</td>\n    </tr>\n    <tr>\n      <th>3</th>\n      <td>0861</td>\n      <td>Lid reconst w skin graft</td>\n      <td>Reconstruction of eyelid with skin flap or graft</td>\n    </tr>\n    <tr>\n      <th>4</th>\n      <td>0862</td>\n      <td>Lid reconst w muc graft</td>\n      <td>Reconstruction of eyelid with mucous membrane ...</td>\n    </tr>\n  </tbody>\n</table>\n</div>"
     },
     "execution_count": 479,
     "metadata": {},
     "output_type": "execute_result"
    }
   ],
   "source": [
    "# Get another mapping from procedure itemid to name \n",
    "itemid_to_name2 = pd.read_sql(\n",
    "    \"\"\"\n",
    "    SELECT icd9_code, short_title, long_title\n",
    "    FROM d_icd_procedures;\n",
    "    \"\"\", conn)\n",
    "\n",
    "itemid_to_name2.head()"
   ]
  },
  {
   "cell_type": "code",
   "execution_count": 480,
   "metadata": {},
   "outputs": [],
   "source": [
    "# Concate two itemid_to_name into one table\n",
    "itemid_to_name2 = itemid_to_name2.rename(columns={'icd9_code': 'itemid', 'short_title': 'abbreviation', 'long_title': 'label'})\n",
    "\n",
    "itemid_to_name_concat = pd.concat([itemid_to_name, itemid_to_name2])"
   ]
  },
  {
   "cell_type": "code",
   "execution_count": 481,
   "metadata": {},
   "outputs": [],
   "source": [
    "# Convert data type to be consistent when filtering, e.g. 'itemid_to_name_concat['itemid'] == 9671'\n",
    "itemid_to_name_concat['label'] = itemid_to_name_concat['label'].astype('str') \n",
    "itemid_to_name_concat['itemid'] = itemid_to_name_concat['itemid'].astype('int') "
   ]
  },
  {
   "cell_type": "code",
   "execution_count": 482,
   "metadata": {},
   "outputs": [],
   "source": [
    "# Define a method to convert event codes to original names\n",
    "def code_to_name(event_sequence):\n",
    "    code_sequence = [int(event) for event in event_sequence.split()]\n",
    "    \n",
    "    temp_list = list()\n",
    "    for code in code_sequence:\n",
    "        event_name = itemid_to_name_concat[itemid_to_name_concat['itemid'] == code]['label'].item()\n",
    "        temp_list.append(event_name)\n",
    "    \n",
    "    return temp_list"
   ]
  },
  {
   "cell_type": "code",
   "execution_count": 483,
   "metadata": {},
   "outputs": [],
   "source": [
    "# Get the sample for example counterfactuals\n",
    "sample_id = 44"
   ]
  },
  {
   "cell_type": "code",
   "execution_count": 484,
   "metadata": {},
   "outputs": [
    {
     "data": {
      "text/plain": "['Pre-Admission Intake',\n 'Vancomycin',\n 'Lorazepam (Ativan)',\n 'Famotidine (Pepcid)',\n 'Vancomycin',\n 'Heparin Sodium (Prophylaxis)',\n 'Magnesium Sulfate',\n 'Magnesium Sulfate (Bolus)',\n 'Heparin Sodium (Prophylaxis)',\n 'Vancomycin',\n 'Famotidine (Pepcid)',\n 'Heparin Sodium (Prophylaxis)',\n 'Heparin Sodium',\n 'Heparin Sodium',\n 'Vancomycin',\n 'Heparin Sodium',\n 'Heparin Sodium',\n 'Vancomycin',\n 'Famotidine (Pepcid)',\n 'Heparin Sodium',\n 'Heparin Sodium',\n 'Vancomycin',\n 'Heparin Sodium',\n 'Heparin Sodium',\n 'Venous catheterization, not elsewhere classified']"
     },
     "execution_count": 484,
     "metadata": {},
     "output_type": "execute_result"
    }
   ],
   "source": [
    "code_to_name(original_event_sequences[sample_id])"
   ]
  },
  {
   "cell_type": "code",
   "metadata": {
    "pycharm": {
     "name": "#%%\n"
    }
   },
   "source": [
    "# original_event_sequences[sample_id]"
   ],
   "execution_count": 485,
   "outputs": []
  },
  {
   "cell_type": "code",
   "execution_count": 486,
   "metadata": {},
   "outputs": [
    {
     "data": {
      "text/plain": "['Diltiazem',\n 'Diltiazem',\n 'Diltiazem',\n 'Diltiazem',\n 'Diltiazem',\n 'Heparin Sodium (Prophylaxis)',\n 'Diltiazem',\n 'Diltiazem',\n 'Diltiazem',\n 'Diltiazem',\n 'Diltiazem',\n 'Diltiazem',\n 'Diltiazem',\n 'Diltiazem',\n 'Diltiazem',\n 'Calcium Gluconate',\n 'Piggyback',\n 'Calcium Gluconate',\n 'Diltiazem',\n 'Diltiazem',\n 'Heparin Sodium (Prophylaxis)',\n 'D5NS',\n 'Calcium Gluconate',\n 'Piggyback',\n 'Dilantin',\n 'Heparin Sodium (Prophylaxis)',\n 'Dilantin',\n 'Dilantin',\n 'Metoprolol',\n 'Heparin Sodium (Prophylaxis)',\n 'Continuous invasive mechanical ventilation for less than 96 consecutive hours',\n 'Bronchial dilation',\n 'Other intubation of respiratory tract']"
     },
     "execution_count": 486,
     "metadata": {},
     "output_type": "execute_result"
    }
   ],
   "source": [
    "code_to_name(trans_event_delete[sample_id])"
   ]
  },
  {
   "cell_type": "code",
   "metadata": {
    "pycharm": {
     "name": "#%%\n"
    }
   },
   "source": [
    "# trans_event_sequences1[sample_id]"
   ],
   "execution_count": 487,
   "outputs": []
  },
  {
   "cell_type": "code",
   "execution_count": 488,
   "metadata": {},
   "outputs": [
    {
     "data": {
      "text/plain": "['Cath Lab Intake',\n 'NaCl 0.45%',\n 'Other endovascular procedures on other vessels',\n 'Aortography',\n 'Arteriography of other intra-abdominal arteries',\n 'Injection or infusion of other therapeutic or prophylactic substance',\n 'Aortography']"
     },
     "execution_count": 488,
     "metadata": {},
     "output_type": "execute_result"
    }
   ],
   "source": [
    "code_to_name(trans_event_delete_retrieve[sample_id])"
   ]
  },
  {
   "cell_type": "code",
   "execution_count": 489,
   "metadata": {},
   "outputs": [],
   "source": [
    "# trans_event_sequences2[sample_id]"
   ]
  },
  {
   "cell_type": "code",
   "execution_count": 490,
   "metadata": {
    "scrolled": true
   },
   "outputs": [
    {
     "data": {
      "text/plain": "['Pre-Admission Intake',\n 'Vancomycin',\n 'Lorazepam (Ativan)',\n 'Famotidine (Pepcid)',\n 'Vancomycin',\n 'Heparin Sodium (Prophylaxis)',\n 'Magnesium Sulfate',\n 'Magnesium Sulfate (Bolus)',\n 'Heparin Sodium (Prophylaxis)',\n 'Vancomycin',\n 'Famotidine (Pepcid)',\n 'Heparin Sodium (Prophylaxis)',\n 'Heparin Sodium',\n 'Heparin Sodium',\n 'Vancomycin',\n 'Heparin Sodium',\n 'Heparin Sodium',\n 'Vancomycin',\n 'Famotidine (Pepcid)',\n 'Heparin Sodium',\n 'Heparin Sodium',\n 'Vancomycin',\n 'Heparin Sodium',\n 'Heparin Sodium',\n 'Venous catheterization, not elsewhere classified']"
     },
     "execution_count": 490,
     "metadata": {},
     "output_type": "execute_result"
    }
   ],
   "source": [
    "code_to_name(trans_event_one_nn[sample_id])"
   ]
  },
  {
   "cell_type": "code",
   "execution_count": 491,
   "metadata": {},
   "outputs": [],
   "source": [
    "# trans_event_sequences3[sample_id]"
   ]
  }
 ],
 "metadata": {
  "kernelspec": {
   "display_name": "Python 3",
   "language": "python",
   "name": "python3"
  },
  "language_info": {
   "codemirror_mode": {
    "name": "ipython",
    "version": 3
   },
   "file_extension": ".py",
   "mimetype": "text/x-python",
   "name": "python",
   "nbconvert_exporter": "python",
   "pygments_lexer": "ipython3",
   "version": "3.7.9"
  }
 },
 "nbformat": 4,
 "nbformat_minor": 4
}