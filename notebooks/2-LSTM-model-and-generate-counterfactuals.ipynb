{
 "cells": [
  {
   "cell_type": "code",
   "execution_count": 109,
   "metadata": {},
   "outputs": [],
   "source": [
    "import os\n",
    "import csv\n",
    "\n",
    "import pandas as pd\n",
    "import numpy as np\n",
    "from sklearn.metrics import confusion_matrix\n",
    "from sklearn.neighbors import NearestNeighbors, LocalOutlierFactor\n",
    "from nltk.translate.bleu_score import sentence_bleu, SmoothingFunction\n",
    "\n",
    "import keras\n",
    "import tensorflow as tf\n",
    "import random as python_random\n",
    "from keras import layers\n",
    "from keras.preprocessing import sequence\n",
    "from keras.preprocessing.text import Tokenizer\n",
    "from tensorflow.keras.callbacks import EarlyStopping\n",
    "from keras.models import Model\n",
    "from keras.layers import LSTM, CuDNNLSTM, Dense, Dropout, Input, ConvLSTM2D, Flatten, Add, Concatenate, Dot, Multiply\n",
    "from keras.layers import Maximum, Average, Activation\n",
    "from tensorflow.keras.optimizers import Adam, SGD\n",
    "from keras.callbacks import ModelCheckpoint, LearningRateScheduler\n",
    "import math\n",
    "\n",
    "from keras import backend as K\n",
    "\n",
    "import pandas.io.sql as sqlio\n",
    "import psycopg2\n",
    "import getpass\n",
    "\n",
    "import matplotlib.pyplot as plt"
   ]
  },
  {
   "cell_type": "code",
   "execution_count": 110,
   "outputs": [
    {
     "data": {
      "text/plain": "True"
     },
     "execution_count": 110,
     "metadata": {},
     "output_type": "execute_result"
    }
   ],
   "source": [
    "tf.test.is_gpu_available()"
   ],
   "metadata": {
    "collapsed": false,
    "pycharm": {
     "name": "#%%\n"
    }
   }
  },
  {
   "cell_type": "markdown",
   "metadata": {},
   "source": [
    "## 1. Load data"
   ]
  },
  {
   "cell_type": "code",
   "execution_count": 3,
   "metadata": {},
   "outputs": [],
   "source": [
    "# Define data paths\n",
    "data_path = '../processed_mimic_data/'\n",
    "drg_path = '../drg_models'\n",
    "\n",
    "# Load training data\n",
    "train_pos = pd.read_csv(data_path+'train_pos.txt')\n",
    "train_neg = pd.read_csv(data_path+'train_neg.txt')\n",
    "\n",
    "# Add target class label\n",
    "train_pos['survival'] = [1 for i in range(train_pos.shape[0])]\n",
    "train_neg['survival'] = [0 for i in range(train_neg.shape[0])]\n",
    "\n",
    "# Set static feature names\n",
    "static_feature_names = ['gender', 'dob']"
   ]
  },
  {
   "cell_type": "markdown",
   "source": [
    "Concatinate the drug and procedure codes into a single feature"
   ],
   "metadata": {
    "collapsed": false
   }
  },
  {
   "cell_type": "code",
   "execution_count": 4,
   "outputs": [],
   "source": [
    "train_neg['events'] = train_neg['drug_events'] + \" \" + train_neg['procedure_codes']\n",
    "train_pos['events'] = train_pos['drug_events'] + \" \" + train_pos['procedure_codes']"
   ],
   "metadata": {
    "collapsed": false,
    "pycharm": {
     "name": "#%%\n"
    }
   }
  },
  {
   "cell_type": "code",
   "execution_count": 5,
   "metadata": {},
   "outputs": [],
   "source": [
    "# Concat into one data frame; and reorder it\n",
    "train = pd.concat([train_pos, train_neg]).reset_index()\n",
    "train_reordered = train.sample(frac=1, random_state=3)"
   ]
  },
  {
   "cell_type": "code",
   "execution_count": 6,
   "outputs": [
    {
     "data": {
      "text/plain": "      index  subject_id                                        drug_events  \\\n3249    431       49599  225828 226364 225975 225907 225975 225850 2259...   \n1754   1754       74509  221744 226364 225828 221744 221668 225974 2259...   \n3139    321       42769  225942 221668 227522 225166 226361 221668 2259...   \n2491   2491       91910  225828 226375 226364 225168 225828 225975 2258...   \n3914   1096       91616  226361 225166 225798 225883 225906 225883 2257...   \n...     ...         ...                                                ...   \n3000    182       28600  220970 220970 220970 225168 225168 225168 2251...   \n1667   1667       72170  220950 226361 221794 225851 225879 227694 2217...   \n3321    503       53735  221668 221906 226361 225152 222168 222168 2258...   \n1688   1688       72690  221833 221833 225166 221833 221749 221749 2217...   \n1898   1898       77623  221668 222168 220995 222168 222168 225910 2216...   \n\n                                   procedure_codes gender         dob  \\\n3249                           3259 4029 8674 3420      F  2067-11-16   \n1754                                     4611 4869      F  2030-02-19   \n3139                                9671 9604 3891      M  1895-08-29   \n2491                 3249 3479 4011 3323 0390 9605      M  2064-02-14   \n3914  5185 5114 5187 3897 9239 9359 5110 9755 9705      M  2107-02-08   \n...                                            ...    ...         ...   \n3000                                9229 3893 3893      M  2026-11-11   \n1667                                          8191      F  2038-02-24   \n3321                           9671 9604 3893 9960      F  2075-01-08   \n1688                                          3891      M  2116-04-11   \n1898                                9962 9604 9671      M  2081-01-14   \n\n      survival                                             events  \n3249         0  225828 226364 225975 225907 225975 225850 2259...  \n1754         1  221744 226364 225828 221744 221668 225974 2259...  \n3139         0  225942 221668 227522 225166 226361 221668 2259...  \n2491         1  225828 226375 226364 225168 225828 225975 2258...  \n3914         0  226361 225166 225798 225883 225906 225883 2257...  \n...        ...                                                ...  \n3000         0  220970 220970 220970 225168 225168 225168 2251...  \n1667         1  220950 226361 221794 225851 225879 227694 2217...  \n3321         0  221668 221906 226361 225152 222168 222168 2258...  \n1688         1  221833 221833 225166 221833 221749 221749 2217...  \n1898         1  221668 222168 220995 222168 222168 225910 2216...  \n\n[4039 rows x 8 columns]",
      "text/html": "<div>\n<style scoped>\n    .dataframe tbody tr th:only-of-type {\n        vertical-align: middle;\n    }\n\n    .dataframe tbody tr th {\n        vertical-align: top;\n    }\n\n    .dataframe thead th {\n        text-align: right;\n    }\n</style>\n<table border=\"1\" class=\"dataframe\">\n  <thead>\n    <tr style=\"text-align: right;\">\n      <th></th>\n      <th>index</th>\n      <th>subject_id</th>\n      <th>drug_events</th>\n      <th>procedure_codes</th>\n      <th>gender</th>\n      <th>dob</th>\n      <th>survival</th>\n      <th>events</th>\n    </tr>\n  </thead>\n  <tbody>\n    <tr>\n      <th>3249</th>\n      <td>431</td>\n      <td>49599</td>\n      <td>225828 226364 225975 225907 225975 225850 2259...</td>\n      <td>3259 4029 8674 3420</td>\n      <td>F</td>\n      <td>2067-11-16</td>\n      <td>0</td>\n      <td>225828 226364 225975 225907 225975 225850 2259...</td>\n    </tr>\n    <tr>\n      <th>1754</th>\n      <td>1754</td>\n      <td>74509</td>\n      <td>221744 226364 225828 221744 221668 225974 2259...</td>\n      <td>4611 4869</td>\n      <td>F</td>\n      <td>2030-02-19</td>\n      <td>1</td>\n      <td>221744 226364 225828 221744 221668 225974 2259...</td>\n    </tr>\n    <tr>\n      <th>3139</th>\n      <td>321</td>\n      <td>42769</td>\n      <td>225942 221668 227522 225166 226361 221668 2259...</td>\n      <td>9671 9604 3891</td>\n      <td>M</td>\n      <td>1895-08-29</td>\n      <td>0</td>\n      <td>225942 221668 227522 225166 226361 221668 2259...</td>\n    </tr>\n    <tr>\n      <th>2491</th>\n      <td>2491</td>\n      <td>91910</td>\n      <td>225828 226375 226364 225168 225828 225975 2258...</td>\n      <td>3249 3479 4011 3323 0390 9605</td>\n      <td>M</td>\n      <td>2064-02-14</td>\n      <td>1</td>\n      <td>225828 226375 226364 225168 225828 225975 2258...</td>\n    </tr>\n    <tr>\n      <th>3914</th>\n      <td>1096</td>\n      <td>91616</td>\n      <td>226361 225166 225798 225883 225906 225883 2257...</td>\n      <td>5185 5114 5187 3897 9239 9359 5110 9755 9705</td>\n      <td>M</td>\n      <td>2107-02-08</td>\n      <td>0</td>\n      <td>226361 225166 225798 225883 225906 225883 2257...</td>\n    </tr>\n    <tr>\n      <th>...</th>\n      <td>...</td>\n      <td>...</td>\n      <td>...</td>\n      <td>...</td>\n      <td>...</td>\n      <td>...</td>\n      <td>...</td>\n      <td>...</td>\n    </tr>\n    <tr>\n      <th>3000</th>\n      <td>182</td>\n      <td>28600</td>\n      <td>220970 220970 220970 225168 225168 225168 2251...</td>\n      <td>9229 3893 3893</td>\n      <td>M</td>\n      <td>2026-11-11</td>\n      <td>0</td>\n      <td>220970 220970 220970 225168 225168 225168 2251...</td>\n    </tr>\n    <tr>\n      <th>1667</th>\n      <td>1667</td>\n      <td>72170</td>\n      <td>220950 226361 221794 225851 225879 227694 2217...</td>\n      <td>8191</td>\n      <td>F</td>\n      <td>2038-02-24</td>\n      <td>1</td>\n      <td>220950 226361 221794 225851 225879 227694 2217...</td>\n    </tr>\n    <tr>\n      <th>3321</th>\n      <td>503</td>\n      <td>53735</td>\n      <td>221668 221906 226361 225152 222168 222168 2258...</td>\n      <td>9671 9604 3893 9960</td>\n      <td>F</td>\n      <td>2075-01-08</td>\n      <td>0</td>\n      <td>221668 221906 226361 225152 222168 222168 2258...</td>\n    </tr>\n    <tr>\n      <th>1688</th>\n      <td>1688</td>\n      <td>72690</td>\n      <td>221833 221833 225166 221833 221749 221749 2217...</td>\n      <td>3891</td>\n      <td>M</td>\n      <td>2116-04-11</td>\n      <td>1</td>\n      <td>221833 221833 225166 221833 221749 221749 2217...</td>\n    </tr>\n    <tr>\n      <th>1898</th>\n      <td>1898</td>\n      <td>77623</td>\n      <td>221668 222168 220995 222168 222168 225910 2216...</td>\n      <td>9962 9604 9671</td>\n      <td>M</td>\n      <td>2081-01-14</td>\n      <td>1</td>\n      <td>221668 222168 220995 222168 222168 225910 2216...</td>\n    </tr>\n  </tbody>\n</table>\n<p>4039 rows × 8 columns</p>\n</div>"
     },
     "execution_count": 6,
     "metadata": {},
     "output_type": "execute_result"
    }
   ],
   "source": [
    "train_reordered"
   ],
   "metadata": {
    "collapsed": false,
    "pycharm": {
     "name": "#%%\n"
    }
   }
  },
  {
   "cell_type": "code",
   "execution_count": 7,
   "outputs": [],
   "source": [
    "\n",
    "X_train_events, X_train_static, y_train = train_reordered['events'], train_reordered[static_feature_names], train_reordered['survival']"
   ],
   "metadata": {
    "collapsed": false,
    "pycharm": {
     "name": "#%%\n"
    }
   }
  },
  {
   "cell_type": "code",
   "execution_count": 8,
   "metadata": {},
   "outputs": [
    {
     "data": {
      "text/plain": "3249    225828 226364 225975 225907 225975 225850 2259...\n1754    221744 226364 225828 221744 221668 225974 2259...\n3139    225942 221668 227522 225166 226361 221668 2259...\n2491    225828 226375 226364 225168 225828 225975 2258...\n3914    226361 225166 225798 225883 225906 225883 2257...\nName: events, dtype: object"
     },
     "execution_count": 8,
     "metadata": {},
     "output_type": "execute_result"
    }
   ],
   "source": [
    "X_train_events.head()"
   ]
  },
  {
   "cell_type": "code",
   "execution_count": 9,
   "metadata": {},
   "outputs": [],
   "source": [
    "# Load validation data\n",
    "validation_pos = pd.read_csv(data_path+'validation_pos.txt')\n",
    "validation_neg = pd.read_csv(data_path+'validation_neg.txt')\n",
    "\n",
    "# Add target class\n",
    "validation_pos['survival'] = [1 for i in range(validation_pos.shape[0])]\n",
    "validation_neg['survival'] = [0 for i in range(validation_neg.shape[0])]\n",
    "\n",
    "validation_neg['events'] = validation_neg['drug_events'] + \" \" + validation_neg['procedure_codes']\n",
    "validation_pos['events'] = validation_pos['drug_events'] + \" \" + validation_pos['procedure_codes']"
   ]
  },
  {
   "cell_type": "code",
   "execution_count": 10,
   "outputs": [
    {
     "data": {
      "text/plain": "     subject_id                                        drug_events  \\\n0         90776  226363 221662 225154 225154 221662 221662 2216...   \n1          1709  225798 225975 227694 225975 221668 221744 2220...   \n2         40514  225152 222056 225152 225152 221749 222168 2263...   \n3         67696  223262 222011 222011 223262 225168 225170 2251...   \n4         71871  225910 225168 225168 226361 225910 221456 2258...   \n..          ...                                                ...   \n195       97552  225828 225847 225884 223258 225847 225910 2251...   \n196       52803  222168 227522 225166 227523 222056 222011 2251...   \n197       42919  226361 225798 221833 221833 225975 227694 2259...   \n198       60046  222168 221749 225828 225166 227522 222011 2275...   \n199        2045  226361 225910 225168 223262 221385 223262 2232...   \n\n                             procedure_codes gender         dob  survival  \\\n0    0066 3606 3723 8856 3778 0046 0040 8191      F  2033-10-18         1   \n1    3995 5491 3995 3995 3995 3995 3995 3995      F  2063-08-10         1   \n2                   3614 3723 3615 8856 3961      M  2129-12-24         1   \n3                        4513 4524 4523 8847      F  2127-06-29         1   \n4                             4523 4513 4519      F  2064-05-25         1   \n..                                       ...    ...         ...       ...   \n195            8412 8385 4443 9907 9904 3893      M  2113-06-21         1   \n196                 3522 3722 3961 8852 8855      F  2070-12-29         1   \n197            8605 3895 8867 3897 8604 3995      M  2100-11-24         1   \n198                           3512 3571 3961      F  2068-05-01         1   \n199                                3897 8872      F  2119-09-01         1   \n\n                                                events  \n0    226363 221662 225154 225154 221662 221662 2216...  \n1    225798 225975 227694 225975 221668 221744 2220...  \n2    225152 222056 225152 225152 221749 222168 2263...  \n3    223262 222011 222011 223262 225168 225170 2251...  \n4    225910 225168 225168 226361 225910 221456 2258...  \n..                                                 ...  \n195  225828 225847 225884 223258 225847 225910 2251...  \n196  222168 227522 225166 227523 222056 222011 2251...  \n197  226361 225798 221833 221833 225975 227694 2259...  \n198  222168 221749 225828 225166 227522 222011 2275...  \n199  226361 225910 225168 223262 221385 223262 2232...  \n\n[200 rows x 7 columns]",
      "text/html": "<div>\n<style scoped>\n    .dataframe tbody tr th:only-of-type {\n        vertical-align: middle;\n    }\n\n    .dataframe tbody tr th {\n        vertical-align: top;\n    }\n\n    .dataframe thead th {\n        text-align: right;\n    }\n</style>\n<table border=\"1\" class=\"dataframe\">\n  <thead>\n    <tr style=\"text-align: right;\">\n      <th></th>\n      <th>subject_id</th>\n      <th>drug_events</th>\n      <th>procedure_codes</th>\n      <th>gender</th>\n      <th>dob</th>\n      <th>survival</th>\n      <th>events</th>\n    </tr>\n  </thead>\n  <tbody>\n    <tr>\n      <th>0</th>\n      <td>90776</td>\n      <td>226363 221662 225154 225154 221662 221662 2216...</td>\n      <td>0066 3606 3723 8856 3778 0046 0040 8191</td>\n      <td>F</td>\n      <td>2033-10-18</td>\n      <td>1</td>\n      <td>226363 221662 225154 225154 221662 221662 2216...</td>\n    </tr>\n    <tr>\n      <th>1</th>\n      <td>1709</td>\n      <td>225798 225975 227694 225975 221668 221744 2220...</td>\n      <td>3995 5491 3995 3995 3995 3995 3995 3995</td>\n      <td>F</td>\n      <td>2063-08-10</td>\n      <td>1</td>\n      <td>225798 225975 227694 225975 221668 221744 2220...</td>\n    </tr>\n    <tr>\n      <th>2</th>\n      <td>40514</td>\n      <td>225152 222056 225152 225152 221749 222168 2263...</td>\n      <td>3614 3723 3615 8856 3961</td>\n      <td>M</td>\n      <td>2129-12-24</td>\n      <td>1</td>\n      <td>225152 222056 225152 225152 221749 222168 2263...</td>\n    </tr>\n    <tr>\n      <th>3</th>\n      <td>67696</td>\n      <td>223262 222011 222011 223262 225168 225170 2251...</td>\n      <td>4513 4524 4523 8847</td>\n      <td>F</td>\n      <td>2127-06-29</td>\n      <td>1</td>\n      <td>223262 222011 222011 223262 225168 225170 2251...</td>\n    </tr>\n    <tr>\n      <th>4</th>\n      <td>71871</td>\n      <td>225910 225168 225168 226361 225910 221456 2258...</td>\n      <td>4523 4513 4519</td>\n      <td>F</td>\n      <td>2064-05-25</td>\n      <td>1</td>\n      <td>225910 225168 225168 226361 225910 221456 2258...</td>\n    </tr>\n    <tr>\n      <th>...</th>\n      <td>...</td>\n      <td>...</td>\n      <td>...</td>\n      <td>...</td>\n      <td>...</td>\n      <td>...</td>\n      <td>...</td>\n    </tr>\n    <tr>\n      <th>195</th>\n      <td>97552</td>\n      <td>225828 225847 225884 223258 225847 225910 2251...</td>\n      <td>8412 8385 4443 9907 9904 3893</td>\n      <td>M</td>\n      <td>2113-06-21</td>\n      <td>1</td>\n      <td>225828 225847 225884 223258 225847 225910 2251...</td>\n    </tr>\n    <tr>\n      <th>196</th>\n      <td>52803</td>\n      <td>222168 227522 225166 227523 222056 222011 2251...</td>\n      <td>3522 3722 3961 8852 8855</td>\n      <td>F</td>\n      <td>2070-12-29</td>\n      <td>1</td>\n      <td>222168 227522 225166 227523 222056 222011 2251...</td>\n    </tr>\n    <tr>\n      <th>197</th>\n      <td>42919</td>\n      <td>226361 225798 221833 221833 225975 227694 2259...</td>\n      <td>8605 3895 8867 3897 8604 3995</td>\n      <td>M</td>\n      <td>2100-11-24</td>\n      <td>1</td>\n      <td>226361 225798 221833 221833 225975 227694 2259...</td>\n    </tr>\n    <tr>\n      <th>198</th>\n      <td>60046</td>\n      <td>222168 221749 225828 225166 227522 222011 2275...</td>\n      <td>3512 3571 3961</td>\n      <td>F</td>\n      <td>2068-05-01</td>\n      <td>1</td>\n      <td>222168 221749 225828 225166 227522 222011 2275...</td>\n    </tr>\n    <tr>\n      <th>199</th>\n      <td>2045</td>\n      <td>226361 225910 225168 223262 221385 223262 2232...</td>\n      <td>3897 8872</td>\n      <td>F</td>\n      <td>2119-09-01</td>\n      <td>1</td>\n      <td>226361 225910 225168 223262 221385 223262 2232...</td>\n    </tr>\n  </tbody>\n</table>\n<p>200 rows × 7 columns</p>\n</div>"
     },
     "execution_count": 10,
     "metadata": {},
     "output_type": "execute_result"
    }
   ],
   "source": [
    "validation_pos"
   ],
   "metadata": {
    "collapsed": false,
    "pycharm": {
     "name": "#%%\n"
    }
   }
  },
  {
   "cell_type": "code",
   "execution_count": 11,
   "outputs": [],
   "source": [
    "train_neg['events'] = train_neg['drug_events'] + \" \" + train_neg['procedure_codes']\n",
    "train_pos['events'] = train_pos['drug_events'] + \" \" + train_pos['procedure_codes']"
   ],
   "metadata": {
    "collapsed": false,
    "pycharm": {
     "name": "#%%\n"
    }
   }
  },
  {
   "cell_type": "code",
   "execution_count": 12,
   "metadata": {},
   "outputs": [],
   "source": [
    "validation = pd.concat([validation_pos, validation_neg]).reset_index()\n",
    "validation_reordered = validation.sample(frac=1, random_state=3)\n",
    "\n",
    "\n",
    "X_val_events, X_val_static, y_val = validation_reordered[\"events\"],validation_reordered[static_feature_names], validation_reordered['survival']"
   ]
  },
  {
   "cell_type": "code",
   "execution_count": 13,
   "metadata": {},
   "outputs": [
    {
     "data": {
      "text/plain": "376    225827 226375 225884 225974 223258 225907 2258...\n16     225910 225855 220970 220970 225168 225168 2209...\n365            221794 225828 221794 225834 5551 3932 403\n82     221986 226361 225166 227522 225166 227522 2217...\n107    226453 225799 225883 223262 225975 225799 2209...\nName: events, dtype: object"
     },
     "execution_count": 13,
     "metadata": {},
     "output_type": "execute_result"
    }
   ],
   "source": [
    "X_val_events.head()"
   ]
  },
  {
   "cell_type": "markdown",
   "metadata": {},
   "source": [
    "### Data preprocessing\n",
    "\n",
    "#### 1.1 Conver all the events into sequence (token) ids"
   ]
  },
  {
   "cell_type": "code",
   "execution_count": 14,
   "metadata": {},
   "outputs": [],
   "source": [
    "# Set the vocab size and max sequence lenght\n",
    "vocab_size = 1100 #(max vocab id=1024 in the training data)\n",
    "max_seq_length = 74 #(the maximum sequence length in training/testing data)"
   ]
  },
  {
   "cell_type": "code",
   "execution_count": 15,
   "metadata": {},
   "outputs": [],
   "source": [
    "# Use a text tokenizer to convert events\n",
    "tokenizer = Tokenizer(num_words = vocab_size)\n",
    "tokenizer.fit_on_texts(X_train_events)"
   ]
  },
  {
   "cell_type": "code",
   "execution_count": 16,
   "metadata": {},
   "outputs": [],
   "source": [
    "X_train_sequences = tokenizer.texts_to_sequences(X_train_events)\n",
    "X_val_sequences = tokenizer.texts_to_sequences(X_val_events)"
   ]
  },
  {
   "cell_type": "code",
   "execution_count": 17,
   "metadata": {},
   "outputs": [
    {
     "name": "stdout",
     "output_type": "stream",
     "text": [
      "Before texts_to_sequences():\n",
      " 225828 226364 225975 225907 225975 225850 225907 225975 225850 225168 225907 225828 225975 225828 221794 225975 227523 222011 225975 3259 4029 8674 3420\n",
      "\n",
      "After texts_to_sequences():\n",
      " [5, 31, 3, 33, 3, 21, 33, 3, 21, 13, 33, 5, 3, 5, 10, 3, 20, 12, 3, 379, 495, 380, 328]\n"
     ]
    }
   ],
   "source": [
    "# Before texts_to_sequences()\n",
    "print(f'Before texts_to_sequences():\\n {X_train_events.iloc[0]}\\n')\n",
    "\n",
    "# After texts_to_sequences()\n",
    "print(f'After texts_to_sequences():\\n {X_train_sequences[0]}')"
   ]
  },
  {
   "cell_type": "markdown",
   "metadata": {},
   "source": [
    "#### 1.2 Padding converted sequences"
   ]
  },
  {
   "cell_type": "code",
   "execution_count": 18,
   "metadata": {},
   "outputs": [],
   "source": [
    "# Pad X_train_sequences and X_val_sequences\n",
    "X_train_padded = sequence.pad_sequences(X_train_sequences, maxlen=max_seq_length, padding='post')\n",
    "X_val_padded = sequence.pad_sequences(X_val_sequences, maxlen=max_seq_length, padding='post')"
   ]
  },
  {
   "cell_type": "code",
   "execution_count": 19,
   "metadata": {},
   "outputs": [
    {
     "data": {
      "text/plain": "(4039, 74)"
     },
     "execution_count": 19,
     "metadata": {},
     "output_type": "execute_result"
    }
   ],
   "source": [
    "X_train_padded.shape"
   ]
  },
  {
   "cell_type": "code",
   "execution_count": 20,
   "metadata": {},
   "outputs": [
    {
     "data": {
      "text/plain": "(400, 74)"
     },
     "execution_count": 20,
     "metadata": {},
     "output_type": "execute_result"
    }
   ],
   "source": [
    "X_val_padded.shape"
   ]
  },
  {
   "cell_type": "code",
   "execution_count": 21,
   "metadata": {},
   "outputs": [
    {
     "data": {
      "text/plain": "array([[198, 116,  29, ...,   0,   0,   0],\n       [ 15,  45,  40, ...,   0,   0,   0],\n       [ 10,   5,  10, ...,   0,   0,   0],\n       ...,\n       [ 48,  14,  10, ...,   0,   0,   0],\n       [ 14,  28,  12, ...,   0,   0,   0],\n       [227,  10,  10, ...,   0,   0,   0]])"
     },
     "execution_count": 21,
     "metadata": {},
     "output_type": "execute_result"
    }
   ],
   "source": [
    "X_val_padded"
   ]
  },
  {
   "cell_type": "markdown",
   "metadata": {},
   "source": [
    "## 2. Train prediction models"
   ]
  },
  {
   "cell_type": "code",
   "execution_count": null,
   "outputs": [],
   "source": [
    "# For plotting the accuracy/loss of keras models\n",
    "def plot_graphs(history, string):\n",
    "    plt.plot(history.history[string])\n",
    "    plt.plot(history.history['val_' + string])\n",
    "    plt.xlabel(\"Epochs\")\n",
    "    plt.ylabel(string)\n",
    "    plt.legend([string, 'val_' + string])\n",
    "    plt.show()"
   ],
   "metadata": {
    "collapsed": false,
    "pycharm": {
     "name": "#%%\n"
    }
   }
  },
  {
   "cell_type": "code",
   "execution_count": 100,
   "outputs": [],
   "source": [
    "def eval_model_preds(preds, reference):\n",
    "    # Calculate the validation accuracy\n",
    "    validation_acc = sum(preds == reference)/len(reference)\n",
    "    print(f'Validation Accuracy: {validation_acc}')\n",
    "    print()\n",
    "    # Get the confusion matrix\n",
    "    confusion_matrix_df = pd.DataFrame(\n",
    "        confusion_matrix(y_true=reference, y_pred=preds, labels=[1, 0]),\n",
    "        index=['True:pos', 'True:neg'],\n",
    "        columns=['Pred:pos', 'Pred:neg']\n",
    "    )\n",
    "    print('Confusion Matrix:')\n",
    "    print(confusion_matrix_df)\n",
    "    print( )\n",
    "\n",
    "    # Counts of positive and negative predictions\n",
    "    print('Negative and positive predictions')\n",
    "    print(pd.value_counts(preds))"
   ],
   "metadata": {
    "collapsed": false,
    "pycharm": {
     "name": "#%%\n"
    }
   }
  },
  {
   "cell_type": "code",
   "execution_count": null,
   "outputs": [],
   "source": [
    "# Define the early stopping criteria\n",
    "early_stopping = EarlyStopping(monitor='val_accuracy', patience=3)"
   ],
   "metadata": {
    "collapsed": false,
    "pycharm": {
     "name": "#%%\n"
    }
   }
  },
  {
   "cell_type": "markdown",
   "source": [
    "### 2.1 Train the dynamic feature LSTM"
   ],
   "metadata": {
    "collapsed": false
   }
  },
  {
   "cell_type": "code",
   "execution_count": 88,
   "metadata": {},
   "outputs": [],
   "source": [
    "# Fix the random seeds to get consistent models\n",
    "## ref: https://keras.io/getting_started/faq/#how-can-i-obtain-reproducible-results-using-keras-during-development\n",
    "seed_value = 3\n",
    "\n",
    "os.environ['PYTHONHASHSEED']=str(seed_value)\n",
    "\n",
    "# The below is necessary for starting Numpy generated random numbers in a well-defined initial state.\n",
    "np.random.seed(seed_value)\n",
    "\n",
    "# The below is necessary for starting core Python generated random numbers in a well-defined state.\n",
    "python_random.seed(seed_value)\n",
    "\n",
    "# The below set_seed() will make random number generation\n",
    "tf.random.set_seed(seed_value)\n",
    "\n",
    "# configure a new global `tensorflow` session\n",
    "session_conf = tf.compat.v1.ConfigProto(intra_op_parallelism_threads=1, inter_op_parallelism_threads=1)\n",
    "sess = tf.compat.v1.Session(graph=tf.compat.v1.get_default_graph(), config=session_conf)\n",
    "tf.compat.v1.keras.backend.set_session(sess)\n",
    "\n",
    "def reset_seeds(seed_value=3):\n",
    "    os.environ['PYTHONHASHSEED']=str(seed_value)\n",
    "    np.random.seed(seed_value) \n",
    "    python_random.seed(seed_value)\n",
    "    tf.random.set_seed(seed_value)\n",
    "\n",
    "reset_seeds()"
   ]
  },
  {
   "cell_type": "code",
   "execution_count": 89,
   "metadata": {},
   "outputs": [
    {
     "name": "stdout",
     "output_type": "stream",
     "text": [
      "Model: \"model_1\"\n",
      "_________________________________________________________________\n",
      " Layer (type)                Output Shape              Param #   \n",
      "=================================================================\n",
      " input_2 (InputLayer)        [(None, None)]            0         \n",
      "                                                                 \n",
      " embedding_1 (Embedding)     (None, None, 128)         140800    \n",
      "                                                                 \n",
      " bidirectional_2 (Bidirectio  (None, None, 128)        98816     \n",
      " nal)                                                            \n",
      "                                                                 \n",
      " bidirectional_3 (Bidirectio  (None, 128)              98816     \n",
      " nal)                                                            \n",
      "                                                                 \n",
      " dense_3 (Dense)             (None, 64)                8256      \n",
      "                                                                 \n",
      " dense_4 (Dense)             (None, 64)                4160      \n",
      "                                                                 \n",
      " dense_5 (Dense)             (None, 1)                 65        \n",
      "                                                                 \n",
      "=================================================================\n",
      "Total params: 350,913\n",
      "Trainable params: 350,913\n",
      "Non-trainable params: 0\n",
      "_________________________________________________________________\n"
     ]
    }
   ],
   "source": [
    "# Define the model structure\n",
    "# Input for variable-length sequences of integers\n",
    "inputs = keras.Input(shape=(None,), dtype=\"int32\")\n",
    "\n",
    "# Embed each integer in a 128-dimensional vector\n",
    "x = layers.Embedding(vocab_size, 128)(inputs)\n",
    "\n",
    "# Add 2 bidirectional LSTMs\n",
    "x = layers.Bidirectional(layers.LSTM(64, return_sequences=True))(x)\n",
    "x = layers.Bidirectional(layers.LSTM(64))(x)\n",
    "x = layers.Dense(64)(x)\n",
    "x = layers.Dense(64)(x)\n",
    "\n",
    "# Add a classifier\n",
    "outputs = layers.Dense(1, activation=\"sigmoid\")(x)\n",
    "main_model = keras.Model(inputs, outputs)\n",
    "\n",
    "main_model.summary()"
   ]
  },
  {
   "cell_type": "code",
   "execution_count": 91,
   "metadata": {},
   "outputs": [
    {
     "name": "stdout",
     "output_type": "stream",
     "text": [
      "Epoch 1/30\n",
      "64/64 [==============================] - 10s 69ms/step - loss: 0.5749 - accuracy: 0.7029 - val_loss: 0.6873 - val_accuracy: 0.5650\n",
      "Epoch 2/30\n",
      "64/64 [==============================] - 2s 39ms/step - loss: 0.5006 - accuracy: 0.7480 - val_loss: 0.5758 - val_accuracy: 0.6800\n",
      "Epoch 3/30\n",
      "64/64 [==============================] - 3s 39ms/step - loss: 0.4628 - accuracy: 0.7735 - val_loss: 0.6189 - val_accuracy: 0.6725\n",
      "Epoch 4/30\n",
      "64/64 [==============================] - 3s 39ms/step - loss: 0.4355 - accuracy: 0.8047 - val_loss: 0.7104 - val_accuracy: 0.6525\n",
      "Epoch 5/30\n",
      "64/64 [==============================] - 3s 39ms/step - loss: 0.4119 - accuracy: 0.8089 - val_loss: 0.6867 - val_accuracy: 0.6400\n"
     ]
    }
   ],
   "source": [
    "main_model.compile(\"adam\", \"binary_crossentropy\", metrics=[\"accuracy\"])\n",
    "\n",
    "reset_seeds()\n",
    "model_history = main_model.fit(\n",
    "    X_train_padded, \n",
    "    y_train, \n",
    "    epochs=30, \n",
    "    batch_size=64, \n",
    "    validation_data=(X_val_padded, y_val), \n",
    "    callbacks=[early_stopping]\n",
    "    )"
   ]
  },
  {
   "cell_type": "code",
   "execution_count": 92,
   "metadata": {},
   "outputs": [
    {
     "data": {
      "text/plain": "<Figure size 432x288 with 1 Axes>",
      "image/png": "[encoded data removed]"
     },
     "metadata": {
      "needs_background": "light"
     },
     "output_type": "display_data"
    },
    {
     "data": {
      "text/plain": "<Figure size 432x288 with 1 Axes>",
      "image/png": "[encoded data removed]"
     },
     "metadata": {
      "needs_background": "light"
     },
     "output_type": "display_data"
    }
   ],
   "source": [
    "# Visualize the training/validation accuracy and loss\n",
    "plot_graphs(model_history, \"accuracy\")\n",
    "plot_graphs(model_history, \"loss\")"
   ]
  },
  {
   "cell_type": "code",
   "execution_count": 93,
   "metadata": {},
   "outputs": [],
   "source": [
    "# Get the predicted target class: if pred > 0.5, then y_pred = 1; else, y_pred = 0\n",
    "y_pred = np.array([1 if pred > 0.5 else 0 for pred in main_model.predict(X_val_padded)])"
   ]
  },
  {
   "cell_type": "code",
   "execution_count": 101,
   "metadata": {},
   "outputs": [
    {
     "name": "stdout",
     "output_type": "stream",
     "text": [
      "Validation Accuracy: 0.64\n",
      "\n",
      "Confusion Matrix:\n",
      "          Pred:pos  Pred:neg\n",
      "True:pos       181        19\n",
      "True:neg       125        75\n",
      "\n",
      "Negative and positive predictions\n",
      "1    306\n",
      "0     94\n",
      "dtype: int64\n"
     ]
    }
   ],
   "source": [
    "eval_model_preds(y_pred, y_val)"
   ]
  },
  {
   "cell_type": "markdown",
   "source": [
    "### 2.2 Train full feature LSTM"
   ],
   "metadata": {
    "collapsed": false
   }
  },
  {
   "cell_type": "code",
   "execution_count": null,
   "outputs": [],
   "source": [
    "# Fix the random seeds to get consistent models\n",
    "## ref: https://keras.io/getting_started/faq/#how-can-i-obtain-reproducible-results-using-keras-during-development\n",
    "seed_value = 3\n",
    "\n",
    "os.environ['PYTHONHASHSEED']=str(seed_value)\n",
    "\n",
    "# The below is necessary for starting Numpy generated random numbers in a well-defined initial state.\n",
    "np.random.seed(seed_value)\n",
    "\n",
    "# The below is necessary for starting core Python generated random numbers in a well-defined state.\n",
    "python_random.seed(seed_value)\n",
    "\n",
    "# The below set_seed() will make random number generation\n",
    "tf.random.set_seed(seed_value)\n",
    "\n",
    "# configure a new global `tensorflow` session\n",
    "session_conf = tf.compat.v1.ConfigProto(intra_op_parallelism_threads=1, inter_op_parallelism_threads=1)\n",
    "sess = tf.compat.v1.Session(graph=tf.compat.v1.get_default_graph(), config=session_conf)\n",
    "tf.compat.v1.keras.backend.set_session(sess)\n",
    "\n",
    "def reset_seeds(seed_value=3):\n",
    "    os.environ['PYTHONHASHSEED']=str(seed_value)\n",
    "    np.random.seed(seed_value)\n",
    "    python_random.seed(seed_value)\n",
    "    tf.random.set_seed(seed_value)\n",
    "\n",
    "reset_seeds()"
   ],
   "metadata": {
    "collapsed": false,
    "pycharm": {
     "name": "#%%\n"
    }
   }
  },
  {
   "cell_type": "code",
   "execution_count": 144,
   "outputs": [
    {
     "name": "stderr",
     "output_type": "stream",
     "text": [
      "c:\\repos\\cf_drg_res\\.venv_windows\\lib\\site-packages\\keras\\optimizer_v2\\adam.py:105: UserWarning: The `lr` argument is deprecated, use `learning_rate` instead.\n",
      "  super(Adam, self).__init__(name, **kwargs)\n"
     ]
    }
   ],
   "source": [
    "def step_decay(epoch, triangular = False):\n",
    "    initial_lrate = 0.1\n",
    "    drop = 0.7\n",
    "    epochs_drop = 3.0\n",
    "    lrate = initial_lrate * math.pow(drop, math.floor((1+epoch)/epochs_drop))\n",
    "    if triangular == True and epoch%2 == 1:\n",
    "        lrate += lrate\n",
    "    return lrate\n",
    "\n",
    "lrate = LearningRateScheduler(step_decay)\n",
    "\n",
    "x_i = Input(shape=(None,), dtype=\"int32\")\n",
    "x = layers.Embedding(vocab_size, 128)(x_i)\n",
    "\n",
    "x_i2 = Input(shape = (len(static_feature_names),))\n",
    "\n",
    "# bf\n",
    "x = CuDNNLSTM(units=64, return_sequences = True, kernel_initializer = keras.initializers.he_normal(seed=19),\n",
    "        recurrent_initializer = keras.initializers.he_normal(seed=19), kernel_regularizer = keras.regularizers.l1(0.01),\n",
    "        recurrent_regularizer = keras.regularizers.l2(0.01))(x)\n",
    "x = Dropout(0.4)(x)\n",
    "\n",
    "#b1\n",
    "x_pa = CuDNNLSTM(units=64, kernel_initializer = keras.initializers.he_normal(seed=19),\n",
    "        recurrent_initializer = keras.initializers.he_normal(seed=19), kernel_regularizer = keras.regularizers.l1(0.01),\n",
    "        recurrent_regularizer = keras.regularizers.l2(0.01))(x)\n",
    "x = Activation('relu')(x_pa)\n",
    "x = Dropout(0.1)(x)\n",
    "\n",
    "#b2\n",
    "x_pa2 = Dense(64, kernel_initializer = keras.initializers.he_normal(seed=19),\n",
    "             bias_initializer = keras.initializers.he_normal(seed=19),\n",
    "             kernel_regularizer = keras.regularizers.l1(0.01),\n",
    "             bias_regularizer = keras.regularizers.l1(0.01))(x_i2)\n",
    "x2 = Activation('relu')(x_pa2)\n",
    "x2 = Dropout(0.1)(x2)\n",
    "x_dot = Dot(axes=1, normalize=True)([x2, x])\n",
    "\n",
    "# Dot gives 75% test axes=1, normalize=True\n",
    "# Add 33% Mul got stuck at 75% Max got stuck 70%\n",
    "# Average stuck 70%\n",
    "\n",
    "x_add = Concatenate()([x_dot, x_pa])\n",
    "x_f = Activation('relu')(x_add)\n",
    "\n",
    "x_add2 = Concatenate()([x_dot, x_pa2])\n",
    "x_f2 = Activation('relu')(x_add2)\n",
    "\n",
    "x_dot2 = Dot(axes=1, normalize=True)([x_f, x_f2])\n",
    "\n",
    "x_add = Concatenate()([x_dot2, x_pa])\n",
    "x_f = Activation('relu')(x_add)\n",
    "\n",
    "x_add2 = Concatenate()([x_dot2, x_pa2])\n",
    "x_f2 = Activation('relu')(x_add2)\n",
    "\n",
    "x_dot3 = Dot(axes=1, normalize=True)([x_f, x_f2])\n",
    "\n",
    "x_add = Concatenate()([x_dot3, x_pa])\n",
    "x_f = Activation('relu')(x_add)\n",
    "\n",
    "x_add2 = Concatenate()([x_dot3, x_pa2])\n",
    "x_f2 = Activation('relu')(x_add2)\n",
    "\n",
    "x_dot4 = Dot(axes=1, normalize=True)([x_f, x_f2])\n",
    "\n",
    "x_add = Concatenate()([x_dot4, x_pa])\n",
    "x_f = Activation('relu')(x_add)\n",
    "\n",
    "x_add2 = Concatenate()([x_dot4, x_pa2])\n",
    "x_f2 = Activation('relu')(x_add2)\n",
    "\n",
    "x_dot5 = Dot(axes=1, normalize=True)([x_f, x_f2])\n",
    "\n",
    "x_add = Concatenate()([x_dot5, x_i2])\n",
    "x_f = Activation('relu')(x_add)\n",
    "\n",
    "x_f = Dense(128, activation='relu', kernel_initializer = keras.initializers.he_normal(seed=19),\n",
    "             bias_initializer = keras.initializers.he_normal(seed=19),\n",
    "             kernel_regularizer = keras.regularizers.l1(0.01),\n",
    "             bias_regularizer = keras.regularizers.l1(0.01))(x_f)\n",
    "\n",
    "\n",
    "x = Dropout(0.2)(x_f)\n",
    "x_o = Dense(1, activation=\"sigmoid\")(x)\n",
    "\n",
    "\n",
    "model = Model([x_i, x_i2], x_o)\n",
    "\n",
    "# checkpoint\n",
    "filepath=\"dot_res_lstm-{epoch:02d}-{val_acc:.2f}.hdf5\"\n",
    "checkpoint = ModelCheckpoint(filepath, monitor='val_acc', verbose=1, save_best_only=True, mode='max')\n",
    "callbacks_list = [checkpoint, lrate]\n",
    "\n",
    "model.compile(loss='categorical_crossentropy', optimizer=Adam(lr=0.01), metrics=['accuracy'])"
   ],
   "metadata": {
    "collapsed": false,
    "pycharm": {
     "name": "#%%\n"
    }
   }
  },
  {
   "cell_type": "code",
   "execution_count": 145,
   "outputs": [
    {
     "name": "stdout",
     "output_type": "stream",
     "text": [
      "Model: \"model_9\"\n",
      "__________________________________________________________________________________________________\n",
      " Layer (type)                   Output Shape         Param #     Connected to                     \n",
      "==================================================================================================\n",
      " input_39 (InputLayer)          [(None, None)]       0           []                               \n",
      "                                                                                                  \n",
      " embedding_13 (Embedding)       (None, None, 128)    140800      ['input_39[0][0]']               \n",
      "                                                                                                  \n",
      " cu_dnnlstm_23 (CuDNNLSTM)      (None, None, 64)     49664       ['embedding_13[0][0]']           \n",
      "                                                                                                  \n",
      " input_40 (InputLayer)          [(None, 2)]          0           []                               \n",
      "                                                                                                  \n",
      " dropout_31 (Dropout)           (None, None, 64)     0           ['cu_dnnlstm_23[0][0]']          \n",
      "                                                                                                  \n",
      " dense_28 (Dense)               (None, 64)           192         ['input_40[0][0]']               \n",
      "                                                                                                  \n",
      " cu_dnnlstm_24 (CuDNNLSTM)      (None, 64)           33280       ['dropout_31[0][0]']             \n",
      "                                                                                                  \n",
      " activation_80 (Activation)     (None, 64)           0           ['dense_28[0][0]']               \n",
      "                                                                                                  \n",
      " activation_79 (Activation)     (None, 64)           0           ['cu_dnnlstm_24[0][0]']          \n",
      "                                                                                                  \n",
      " dropout_33 (Dropout)           (None, 64)           0           ['activation_80[0][0]']          \n",
      "                                                                                                  \n",
      " dropout_32 (Dropout)           (None, 64)           0           ['activation_79[0][0]']          \n",
      "                                                                                                  \n",
      " dot_36 (Dot)                   (None, 1)            0           ['dropout_33[0][0]',             \n",
      "                                                                  'dropout_32[0][0]']             \n",
      "                                                                                                  \n",
      " concatenate_63 (Concatenate)   (None, 65)           0           ['dot_36[0][0]',                 \n",
      "                                                                  'cu_dnnlstm_24[0][0]']          \n",
      "                                                                                                  \n",
      " concatenate_64 (Concatenate)   (None, 65)           0           ['dot_36[0][0]',                 \n",
      "                                                                  'dense_28[0][0]']               \n",
      "                                                                                                  \n",
      " activation_81 (Activation)     (None, 65)           0           ['concatenate_63[0][0]']         \n",
      "                                                                                                  \n",
      " activation_82 (Activation)     (None, 65)           0           ['concatenate_64[0][0]']         \n",
      "                                                                                                  \n",
      " dot_37 (Dot)                   (None, 1)            0           ['activation_81[0][0]',          \n",
      "                                                                  'activation_82[0][0]']          \n",
      "                                                                                                  \n",
      " concatenate_65 (Concatenate)   (None, 65)           0           ['dot_37[0][0]',                 \n",
      "                                                                  'cu_dnnlstm_24[0][0]']          \n",
      "                                                                                                  \n",
      " concatenate_66 (Concatenate)   (None, 65)           0           ['dot_37[0][0]',                 \n",
      "                                                                  'dense_28[0][0]']               \n",
      "                                                                                                  \n",
      " activation_83 (Activation)     (None, 65)           0           ['concatenate_65[0][0]']         \n",
      "                                                                                                  \n",
      " activation_84 (Activation)     (None, 65)           0           ['concatenate_66[0][0]']         \n",
      "                                                                                                  \n",
      " dot_38 (Dot)                   (None, 1)            0           ['activation_83[0][0]',          \n",
      "                                                                  'activation_84[0][0]']          \n",
      "                                                                                                  \n",
      " concatenate_67 (Concatenate)   (None, 65)           0           ['dot_38[0][0]',                 \n",
      "                                                                  'cu_dnnlstm_24[0][0]']          \n",
      "                                                                                                  \n",
      " concatenate_68 (Concatenate)   (None, 65)           0           ['dot_38[0][0]',                 \n",
      "                                                                  'dense_28[0][0]']               \n",
      "                                                                                                  \n",
      " activation_85 (Activation)     (None, 65)           0           ['concatenate_67[0][0]']         \n",
      "                                                                                                  \n",
      " activation_86 (Activation)     (None, 65)           0           ['concatenate_68[0][0]']         \n",
      "                                                                                                  \n",
      " dot_39 (Dot)                   (None, 1)            0           ['activation_85[0][0]',          \n",
      "                                                                  'activation_86[0][0]']          \n",
      "                                                                                                  \n",
      " concatenate_69 (Concatenate)   (None, 65)           0           ['dot_39[0][0]',                 \n",
      "                                                                  'cu_dnnlstm_24[0][0]']          \n",
      "                                                                                                  \n",
      " concatenate_70 (Concatenate)   (None, 65)           0           ['dot_39[0][0]',                 \n",
      "                                                                  'dense_28[0][0]']               \n",
      "                                                                                                  \n",
      " activation_87 (Activation)     (None, 65)           0           ['concatenate_69[0][0]']         \n",
      "                                                                                                  \n",
      " activation_88 (Activation)     (None, 65)           0           ['concatenate_70[0][0]']         \n",
      "                                                                                                  \n",
      " dot_40 (Dot)                   (None, 1)            0           ['activation_87[0][0]',          \n",
      "                                                                  'activation_88[0][0]']          \n",
      "                                                                                                  \n",
      " concatenate_71 (Concatenate)   (None, 3)            0           ['dot_40[0][0]',                 \n",
      "                                                                  'input_40[0][0]']               \n",
      "                                                                                                  \n",
      " activation_89 (Activation)     (None, 3)            0           ['concatenate_71[0][0]']         \n",
      "                                                                                                  \n",
      " dense_29 (Dense)               (None, 128)          512         ['activation_89[0][0]']          \n",
      "                                                                                                  \n",
      " dropout_34 (Dropout)           (None, 128)          0           ['dense_29[0][0]']               \n",
      "                                                                                                  \n",
      " dense_30 (Dense)               (None, 1)            129         ['dropout_34[0][0]']             \n",
      "                                                                                                  \n",
      "==================================================================================================\n",
      "Total params: 224,577\n",
      "Trainable params: 224,577\n",
      "Non-trainable params: 0\n",
      "__________________________________________________________________________________________________\n"
     ]
    }
   ],
   "source": [
    "model.summary()"
   ],
   "metadata": {
    "collapsed": false,
    "pycharm": {
     "name": "#%%\n"
    }
   }
  },
  {
   "cell_type": "code",
   "execution_count": 146,
   "outputs": [
    {
     "name": "stdout",
     "output_type": "stream",
     "text": [
      "Epoch 1/100\n"
     ]
    },
    {
     "ename": "UnimplementedError",
     "evalue": "Graph execution error:\n\nDetected at node 'model_9/Cast' defined at (most recent call last):\n    File \"C:\\Users\\floba\\AppData\\Local\\Programs\\Python\\Python37\\lib\\runpy.py\", line 193, in _run_module_as_main\n      \"__main__\", mod_spec)\n    File \"C:\\Users\\floba\\AppData\\Local\\Programs\\Python\\Python37\\lib\\runpy.py\", line 85, in _run_code\n      exec(code, run_globals)\n    File \"c:\\repos\\cf_drg_res\\.venv_windows\\lib\\site-packages\\ipykernel_launcher.py\", line 16, in <module>\n      app.launch_new_instance()\n    File \"c:\\repos\\cf_drg_res\\.venv_windows\\lib\\site-packages\\traitlets\\config\\application.py\", line 846, in launch_instance\n      app.start()\n    File \"c:\\repos\\cf_drg_res\\.venv_windows\\lib\\site-packages\\ipykernel\\kernelapp.py\", line 677, in start\n      self.io_loop.start()\n    File \"c:\\repos\\cf_drg_res\\.venv_windows\\lib\\site-packages\\tornado\\platform\\asyncio.py\", line 199, in start\n      self.asyncio_loop.run_forever()\n    File \"C:\\Users\\floba\\AppData\\Local\\Programs\\Python\\Python37\\lib\\asyncio\\base_events.py\", line 541, in run_forever\n      self._run_once()\n    File \"C:\\Users\\floba\\AppData\\Local\\Programs\\Python\\Python37\\lib\\asyncio\\base_events.py\", line 1786, in _run_once\n      handle._run()\n    File \"C:\\Users\\floba\\AppData\\Local\\Programs\\Python\\Python37\\lib\\asyncio\\events.py\", line 88, in _run\n      self._context.run(self._callback, *self._args)\n    File \"c:\\repos\\cf_drg_res\\.venv_windows\\lib\\site-packages\\ipykernel\\kernelbase.py\", line 471, in dispatch_queue\n      await self.process_one()\n    File \"c:\\repos\\cf_drg_res\\.venv_windows\\lib\\site-packages\\ipykernel\\kernelbase.py\", line 460, in process_one\n      await dispatch(*args)\n    File \"c:\\repos\\cf_drg_res\\.venv_windows\\lib\\site-packages\\ipykernel\\kernelbase.py\", line 367, in dispatch_shell\n      await result\n    File \"c:\\repos\\cf_drg_res\\.venv_windows\\lib\\site-packages\\ipykernel\\kernelbase.py\", line 662, in execute_request\n      reply_content = await reply_content\n    File \"c:\\repos\\cf_drg_res\\.venv_windows\\lib\\site-packages\\ipykernel\\ipkernel.py\", line 360, in do_execute\n      res = shell.run_cell(code, store_history=store_history, silent=silent)\n    File \"c:\\repos\\cf_drg_res\\.venv_windows\\lib\\site-packages\\ipykernel\\zmqshell.py\", line 532, in run_cell\n      return super().run_cell(*args, **kwargs)\n    File \"c:\\repos\\cf_drg_res\\.venv_windows\\lib\\site-packages\\IPython\\core\\interactiveshell.py\", line 2915, in run_cell\n      raw_cell, store_history, silent, shell_futures)\n    File \"c:\\repos\\cf_drg_res\\.venv_windows\\lib\\site-packages\\IPython\\core\\interactiveshell.py\", line 2960, in _run_cell\n      return runner(coro)\n    File \"c:\\repos\\cf_drg_res\\.venv_windows\\lib\\site-packages\\IPython\\core\\async_helpers.py\", line 78, in _pseudo_sync_runner\n      coro.send(None)\n    File \"c:\\repos\\cf_drg_res\\.venv_windows\\lib\\site-packages\\IPython\\core\\interactiveshell.py\", line 3186, in run_cell_async\n      interactivity=interactivity, compiler=compiler, result=result)\n    File \"c:\\repos\\cf_drg_res\\.venv_windows\\lib\\site-packages\\IPython\\core\\interactiveshell.py\", line 3377, in run_ast_nodes\n      if (await self.run_code(code, result,  async_=asy)):\n    File \"c:\\repos\\cf_drg_res\\.venv_windows\\lib\\site-packages\\IPython\\core\\interactiveshell.py\", line 3457, in run_code\n      exec(code_obj, self.user_global_ns, self.user_ns)\n    File \"C:\\Users\\floba\\AppData\\Local\\Temp\\ipykernel_1408\\645854965.py\", line 2, in <module>\n      callbacks=callbacks_list)\n    File \"c:\\repos\\cf_drg_res\\.venv_windows\\lib\\site-packages\\keras\\utils\\traceback_utils.py\", line 64, in error_handler\n      return fn(*args, **kwargs)\n    File \"c:\\repos\\cf_drg_res\\.venv_windows\\lib\\site-packages\\keras\\engine\\training.py\", line 1384, in fit\n      tmp_logs = self.train_function(iterator)\n    File \"c:\\repos\\cf_drg_res\\.venv_windows\\lib\\site-packages\\keras\\engine\\training.py\", line 1021, in train_function\n      return step_function(self, iterator)\n    File \"c:\\repos\\cf_drg_res\\.venv_windows\\lib\\site-packages\\keras\\engine\\training.py\", line 1010, in step_function\n      outputs = model.distribute_strategy.run(run_step, args=(data,))\n    File \"c:\\repos\\cf_drg_res\\.venv_windows\\lib\\site-packages\\keras\\engine\\training.py\", line 1000, in run_step\n      outputs = model.train_step(data)\n    File \"c:\\repos\\cf_drg_res\\.venv_windows\\lib\\site-packages\\keras\\engine\\training.py\", line 859, in train_step\n      y_pred = self(x, training=True)\n    File \"c:\\repos\\cf_drg_res\\.venv_windows\\lib\\site-packages\\keras\\utils\\traceback_utils.py\", line 64, in error_handler\n      return fn(*args, **kwargs)\n    File \"c:\\repos\\cf_drg_res\\.venv_windows\\lib\\site-packages\\keras\\engine\\base_layer.py\", line 1096, in __call__\n      outputs = call_fn(inputs, *args, **kwargs)\n    File \"c:\\repos\\cf_drg_res\\.venv_windows\\lib\\site-packages\\keras\\utils\\traceback_utils.py\", line 92, in error_handler\n      return fn(*args, **kwargs)\n    File \"c:\\repos\\cf_drg_res\\.venv_windows\\lib\\site-packages\\keras\\engine\\functional.py\", line 452, in call\n      inputs, training=training, mask=mask)\n    File \"c:\\repos\\cf_drg_res\\.venv_windows\\lib\\site-packages\\keras\\engine\\functional.py\", line 571, in _run_internal_graph\n      y = self._conform_to_reference_input(y, ref_input=x)\n    File \"c:\\repos\\cf_drg_res\\.venv_windows\\lib\\site-packages\\keras\\engine\\functional.py\", line 671, in _conform_to_reference_input\n      tensor = tf.cast(tensor, dtype=ref_input.dtype)\nNode: 'model_9/Cast'\nCast string to float is not supported\n\t [[{{node model_9/Cast}}]] [Op:__inference_train_function_43946]",
     "output_type": "error",
     "traceback": [
      "\u001B[1;31m---------------------------------------------------------------------------\u001B[0m",
      "\u001B[1;31mUnimplementedError\u001B[0m                        Traceback (most recent call last)",
      "\u001B[1;32m~\\AppData\\Local\\Temp\\ipykernel_1408\\645854965.py\u001B[0m in \u001B[0;36m<module>\u001B[1;34m\u001B[0m\n\u001B[0;32m      1\u001B[0m hist = model.fit([X_train_padded, X_train_static], y_train, epochs = 100, batch_size = 64, validation_data=([X_val_padded, X_val_static], y_val),\n\u001B[1;32m----> 2\u001B[1;33m         callbacks=callbacks_list)\n\u001B[0m",
      "\u001B[1;32mc:\\repos\\cf_drg_res\\.venv_windows\\lib\\site-packages\\keras\\utils\\traceback_utils.py\u001B[0m in \u001B[0;36merror_handler\u001B[1;34m(*args, **kwargs)\u001B[0m\n\u001B[0;32m     65\u001B[0m     \u001B[1;32mexcept\u001B[0m \u001B[0mException\u001B[0m \u001B[1;32mas\u001B[0m \u001B[0me\u001B[0m\u001B[1;33m:\u001B[0m  \u001B[1;31m# pylint: disable=broad-except\u001B[0m\u001B[1;33m\u001B[0m\u001B[1;33m\u001B[0m\u001B[0m\n\u001B[0;32m     66\u001B[0m       \u001B[0mfiltered_tb\u001B[0m \u001B[1;33m=\u001B[0m \u001B[0m_process_traceback_frames\u001B[0m\u001B[1;33m(\u001B[0m\u001B[0me\u001B[0m\u001B[1;33m.\u001B[0m\u001B[0m__traceback__\u001B[0m\u001B[1;33m)\u001B[0m\u001B[1;33m\u001B[0m\u001B[1;33m\u001B[0m\u001B[0m\n\u001B[1;32m---> 67\u001B[1;33m       \u001B[1;32mraise\u001B[0m \u001B[0me\u001B[0m\u001B[1;33m.\u001B[0m\u001B[0mwith_traceback\u001B[0m\u001B[1;33m(\u001B[0m\u001B[0mfiltered_tb\u001B[0m\u001B[1;33m)\u001B[0m \u001B[1;32mfrom\u001B[0m \u001B[1;32mNone\u001B[0m\u001B[1;33m\u001B[0m\u001B[1;33m\u001B[0m\u001B[0m\n\u001B[0m\u001B[0;32m     68\u001B[0m     \u001B[1;32mfinally\u001B[0m\u001B[1;33m:\u001B[0m\u001B[1;33m\u001B[0m\u001B[1;33m\u001B[0m\u001B[0m\n\u001B[0;32m     69\u001B[0m       \u001B[1;32mdel\u001B[0m \u001B[0mfiltered_tb\u001B[0m\u001B[1;33m\u001B[0m\u001B[1;33m\u001B[0m\u001B[0m\n",
      "\u001B[1;32mc:\\repos\\cf_drg_res\\.venv_windows\\lib\\site-packages\\tensorflow\\python\\eager\\execute.py\u001B[0m in \u001B[0;36mquick_execute\u001B[1;34m(op_name, num_outputs, inputs, attrs, ctx, name)\u001B[0m\n\u001B[0;32m     53\u001B[0m     \u001B[0mctx\u001B[0m\u001B[1;33m.\u001B[0m\u001B[0mensure_initialized\u001B[0m\u001B[1;33m(\u001B[0m\u001B[1;33m)\u001B[0m\u001B[1;33m\u001B[0m\u001B[1;33m\u001B[0m\u001B[0m\n\u001B[0;32m     54\u001B[0m     tensors = pywrap_tfe.TFE_Py_Execute(ctx._handle, device_name, op_name,\n\u001B[1;32m---> 55\u001B[1;33m                                         inputs, attrs, num_outputs)\n\u001B[0m\u001B[0;32m     56\u001B[0m   \u001B[1;32mexcept\u001B[0m \u001B[0mcore\u001B[0m\u001B[1;33m.\u001B[0m\u001B[0m_NotOkStatusException\u001B[0m \u001B[1;32mas\u001B[0m \u001B[0me\u001B[0m\u001B[1;33m:\u001B[0m\u001B[1;33m\u001B[0m\u001B[1;33m\u001B[0m\u001B[0m\n\u001B[0;32m     57\u001B[0m     \u001B[1;32mif\u001B[0m \u001B[0mname\u001B[0m \u001B[1;32mis\u001B[0m \u001B[1;32mnot\u001B[0m \u001B[1;32mNone\u001B[0m\u001B[1;33m:\u001B[0m\u001B[1;33m\u001B[0m\u001B[1;33m\u001B[0m\u001B[0m\n",
      "\u001B[1;31mUnimplementedError\u001B[0m: Graph execution error:\n\nDetected at node 'model_9/Cast' defined at (most recent call last):\n    File \"C:\\Users\\floba\\AppData\\Local\\Programs\\Python\\Python37\\lib\\runpy.py\", line 193, in _run_module_as_main\n      \"__main__\", mod_spec)\n    File \"C:\\Users\\floba\\AppData\\Local\\Programs\\Python\\Python37\\lib\\runpy.py\", line 85, in _run_code\n      exec(code, run_globals)\n    File \"c:\\repos\\cf_drg_res\\.venv_windows\\lib\\site-packages\\ipykernel_launcher.py\", line 16, in <module>\n      app.launch_new_instance()\n    File \"c:\\repos\\cf_drg_res\\.venv_windows\\lib\\site-packages\\traitlets\\config\\application.py\", line 846, in launch_instance\n      app.start()\n    File \"c:\\repos\\cf_drg_res\\.venv_windows\\lib\\site-packages\\ipykernel\\kernelapp.py\", line 677, in start\n      self.io_loop.start()\n    File \"c:\\repos\\cf_drg_res\\.venv_windows\\lib\\site-packages\\tornado\\platform\\asyncio.py\", line 199, in start\n      self.asyncio_loop.run_forever()\n    File \"C:\\Users\\floba\\AppData\\Local\\Programs\\Python\\Python37\\lib\\asyncio\\base_events.py\", line 541, in run_forever\n      self._run_once()\n    File \"C:\\Users\\floba\\AppData\\Local\\Programs\\Python\\Python37\\lib\\asyncio\\base_events.py\", line 1786, in _run_once\n      handle._run()\n    File \"C:\\Users\\floba\\AppData\\Local\\Programs\\Python\\Python37\\lib\\asyncio\\events.py\", line 88, in _run\n      self._context.run(self._callback, *self._args)\n    File \"c:\\repos\\cf_drg_res\\.venv_windows\\lib\\site-packages\\ipykernel\\kernelbase.py\", line 471, in dispatch_queue\n      await self.process_one()\n    File \"c:\\repos\\cf_drg_res\\.venv_windows\\lib\\site-packages\\ipykernel\\kernelbase.py\", line 460, in process_one\n      await dispatch(*args)\n    File \"c:\\repos\\cf_drg_res\\.venv_windows\\lib\\site-packages\\ipykernel\\kernelbase.py\", line 367, in dispatch_shell\n      await result\n    File \"c:\\repos\\cf_drg_res\\.venv_windows\\lib\\site-packages\\ipykernel\\kernelbase.py\", line 662, in execute_request\n      reply_content = await reply_content\n    File \"c:\\repos\\cf_drg_res\\.venv_windows\\lib\\site-packages\\ipykernel\\ipkernel.py\", line 360, in do_execute\n      res = shell.run_cell(code, store_history=store_history, silent=silent)\n    File \"c:\\repos\\cf_drg_res\\.venv_windows\\lib\\site-packages\\ipykernel\\zmqshell.py\", line 532, in run_cell\n      return super().run_cell(*args, **kwargs)\n    File \"c:\\repos\\cf_drg_res\\.venv_windows\\lib\\site-packages\\IPython\\core\\interactiveshell.py\", line 2915, in run_cell\n      raw_cell, store_history, silent, shell_futures)\n    File \"c:\\repos\\cf_drg_res\\.venv_windows\\lib\\site-packages\\IPython\\core\\interactiveshell.py\", line 2960, in _run_cell\n      return runner(coro)\n    File \"c:\\repos\\cf_drg_res\\.venv_windows\\lib\\site-packages\\IPython\\core\\async_helpers.py\", line 78, in _pseudo_sync_runner\n      coro.send(None)\n    File \"c:\\repos\\cf_drg_res\\.venv_windows\\lib\\site-packages\\IPython\\core\\interactiveshell.py\", line 3186, in run_cell_async\n      interactivity=interactivity, compiler=compiler, result=result)\n    File \"c:\\repos\\cf_drg_res\\.venv_windows\\lib\\site-packages\\IPython\\core\\interactiveshell.py\", line 3377, in run_ast_nodes\n      if (await self.run_code(code, result,  async_=asy)):\n    File \"c:\\repos\\cf_drg_res\\.venv_windows\\lib\\site-packages\\IPython\\core\\interactiveshell.py\", line 3457, in run_code\n      exec(code_obj, self.user_global_ns, self.user_ns)\n    File \"C:\\Users\\floba\\AppData\\Local\\Temp\\ipykernel_1408\\645854965.py\", line 2, in <module>\n      callbacks=callbacks_list)\n    File \"c:\\repos\\cf_drg_res\\.venv_windows\\lib\\site-packages\\keras\\utils\\traceback_utils.py\", line 64, in error_handler\n      return fn(*args, **kwargs)\n    File \"c:\\repos\\cf_drg_res\\.venv_windows\\lib\\site-packages\\keras\\engine\\training.py\", line 1384, in fit\n      tmp_logs = self.train_function(iterator)\n    File \"c:\\repos\\cf_drg_res\\.venv_windows\\lib\\site-packages\\keras\\engine\\training.py\", line 1021, in train_function\n      return step_function(self, iterator)\n    File \"c:\\repos\\cf_drg_res\\.venv_windows\\lib\\site-packages\\keras\\engine\\training.py\", line 1010, in step_function\n      outputs = model.distribute_strategy.run(run_step, args=(data,))\n    File \"c:\\repos\\cf_drg_res\\.venv_windows\\lib\\site-packages\\keras\\engine\\training.py\", line 1000, in run_step\n      outputs = model.train_step(data)\n    File \"c:\\repos\\cf_drg_res\\.venv_windows\\lib\\site-packages\\keras\\engine\\training.py\", line 859, in train_step\n      y_pred = self(x, training=True)\n    File \"c:\\repos\\cf_drg_res\\.venv_windows\\lib\\site-packages\\keras\\utils\\traceback_utils.py\", line 64, in error_handler\n      return fn(*args, **kwargs)\n    File \"c:\\repos\\cf_drg_res\\.venv_windows\\lib\\site-packages\\keras\\engine\\base_layer.py\", line 1096, in __call__\n      outputs = call_fn(inputs, *args, **kwargs)\n    File \"c:\\repos\\cf_drg_res\\.venv_windows\\lib\\site-packages\\keras\\utils\\traceback_utils.py\", line 92, in error_handler\n      return fn(*args, **kwargs)\n    File \"c:\\repos\\cf_drg_res\\.venv_windows\\lib\\site-packages\\keras\\engine\\functional.py\", line 452, in call\n      inputs, training=training, mask=mask)\n    File \"c:\\repos\\cf_drg_res\\.venv_windows\\lib\\site-packages\\keras\\engine\\functional.py\", line 571, in _run_internal_graph\n      y = self._conform_to_reference_input(y, ref_input=x)\n    File \"c:\\repos\\cf_drg_res\\.venv_windows\\lib\\site-packages\\keras\\engine\\functional.py\", line 671, in _conform_to_reference_input\n      tensor = tf.cast(tensor, dtype=ref_input.dtype)\nNode: 'model_9/Cast'\nCast string to float is not supported\n\t [[{{node model_9/Cast}}]] [Op:__inference_train_function_43946]"
     ]
    }
   ],
   "source": [
    "hist = model.fit([X_train_padded, X_train_static], y_train, epochs = 100, batch_size = 64, validation_data=([X_val_padded, X_val_static], y_val),\n",
    "        callbacks=callbacks_list)"
   ],
   "metadata": {
    "collapsed": false,
    "pycharm": {
     "name": "#%%\n"
    }
   }
  },
  {
   "cell_type": "markdown",
   "metadata": {},
   "source": [
    "## 3. Get the negative predictions from LSTM, for counterfactual explanations"
   ]
  },
  {
   "cell_type": "code",
   "execution_count": 95,
   "metadata": {},
   "outputs": [],
   "source": [
    "# Get these instances of negative predictions\n",
    "X_pred_negative = X_val_padded[y_pred == 0]"
   ]
  },
  {
   "cell_type": "code",
   "execution_count": 96,
   "metadata": {},
   "outputs": [
    {
     "data": {
      "text/plain": "(94, 74)"
     },
     "execution_count": 96,
     "metadata": {},
     "output_type": "execute_result"
    }
   ],
   "source": [
    "X_pred_negative.shape"
   ]
  },
  {
   "cell_type": "markdown",
   "metadata": {},
   "source": [
    "#### Export as the desired input format of the DRG framework"
   ]
  },
  {
   "cell_type": "code",
   "execution_count": 97,
   "metadata": {},
   "outputs": [],
   "source": [
    "# Convert negatively predicted instances back to medical event form\n",
    "original_event_sequences = tokenizer.sequences_to_texts(X_pred_negative)"
   ]
  },
  {
   "cell_type": "code",
   "execution_count": 98,
   "metadata": {},
   "outputs": [
    {
     "data": {
      "text/plain": "['225799 226453 225884 226453 225799 225851 225799 225884 225910 225837 226453 225799 227690 225799 226453 225799 225884 226453 227690 225910 226453 225799 225884 225798 225799 226089 226089 226089 225851 225798 0331 3995 966 3893',\n '226089 220995 225835 3323 8844 9929 9229',\n '221749 225828 221668 226361 225828 221749 221749 225884 225893 225907 225798 225828 225828 225893 225884 221749 221668 225907 221668 225884 225828 221668 225893 221668 221668 221668 225884 221668 221749 225893 225907 225828 225893 225828 225884 225893 225828 225907 225893 225166 225798 225859 225799 225884 9671 3891 3893',\n '226361 225893 225975 225893 226089 225166 226089 225166 225893 225975 225975 225798 225851 225828 223262 223262 223262 225975 9702 9390 966 3893',\n '225168 225168 225893 223258 225168 223258 225893 225893 223258 225798 225168 225893 223258 223258 225798 223258 225798 221794 223258 221744 221668 221744 221668 221668 221668 221668 223258 225863 221906 221906 225893 221906 225168 222011 227523 227523 222011 225170 226089 225166 225975 225892 225893 225168 225170 225893 225975 8872 3893 8411 3893 8872']"
     },
     "execution_count": 98,
     "metadata": {},
     "output_type": "execute_result"
    }
   ],
   "source": [
    "original_event_sequences[:5]"
   ]
  },
  {
   "cell_type": "code",
   "execution_count": 99,
   "metadata": {},
   "outputs": [],
   "source": [
    "pd.DataFrame(original_event_sequences).to_csv(path_or_buf=f'{data_path}/test_neg.txt', index=False, header=False, sep=' ', quoting = csv.QUOTE_NONE, escapechar = ' ')"
   ]
  },
  {
   "cell_type": "markdown",
   "metadata": {},
   "source": [
    "Here, we need to use the inference script from the DRG framework (instructions in the README file) to modify those 110 negative predictions into positive instances. After that, we import the transformed results as below."
   ]
  },
  {
   "cell_type": "markdown",
   "metadata": {},
   "source": [
    "### 3.1 DeleteOnly model results"
   ]
  },
  {
   "cell_type": "code",
   "execution_count": 39,
   "metadata": {},
   "outputs": [],
   "source": [
    "# Load the transformed data\n",
    "trans_results_delete = pd.read_csv(f'{drg_path}/drg_delete/preds', header=None)"
   ]
  },
  {
   "cell_type": "code",
   "execution_count": 40,
   "metadata": {},
   "outputs": [],
   "source": [
    "X_test_sequences = tokenizer.texts_to_sequences(trans_results_delete[0])\n",
    "\n",
    "X_test_padded = sequence.pad_sequences(X_test_sequences, maxlen=max_seq_length, padding='post')"
   ]
  },
  {
   "cell_type": "markdown",
   "metadata": {},
   "source": [
    "### 3.2 DeleteAndRetrieve model results"
   ]
  },
  {
   "cell_type": "code",
   "execution_count": 41,
   "metadata": {},
   "outputs": [],
   "source": [
    "# Load the transformed data\n",
    "# TODO change this directory\n",
    "delete_generate_results = pd.read_csv(f'{drg_path}/drg_delete_retrieve/preds', header=None)"
   ]
  },
  {
   "cell_type": "code",
   "execution_count": 42,
   "metadata": {},
   "outputs": [],
   "source": [
    "X_test_sequences2 = tokenizer.texts_to_sequences(delete_generate_results[0])\n",
    "\n",
    "X_test_padded2 = sequence.pad_sequences(X_test_sequences2, maxlen=max_seq_length, padding='post')"
   ]
  },
  {
   "cell_type": "markdown",
   "metadata": {},
   "source": [
    "### 3.3 Use 1NN baseline method to modify the negatively predicted instances"
   ]
  },
  {
   "cell_type": "code",
   "execution_count": 43,
   "outputs": [
    {
     "data": {
      "text/plain": "NearestNeighbors(metric='hamming', n_neighbors=1)"
     },
     "execution_count": 43,
     "metadata": {},
     "output_type": "execute_result"
    }
   ],
   "source": [
    "# Fit an unsupervised 1NN with all the positive sequences, using 'hamming' distance\n",
    "nn_model = NearestNeighbors(n_neighbors=1, metric='hamming')\n",
    "target_label = 1\n",
    "X_target_label = X_train_padded[y_train == target_label]\n",
    "\n",
    "nn_model.fit(X_target_label)"
   ],
   "metadata": {
    "collapsed": false,
    "pycharm": {
     "name": "#%%\n"
    }
   }
  },
  {
   "cell_type": "code",
   "execution_count": 44,
   "metadata": {},
   "outputs": [
    {
     "data": {
      "text/plain": "array([ 27,  46,  27,  46,  46,  27,  27,  46,  46,  27,  15,  27,  27,\n         9,  27,  27,  27,  35,  27,  27,  27,   9,  82,  82,  82,   9,\n        82,   9,  35,  15,  79,  36,  70, 140,   0,   0,   0,   0,   0,\n         0,   0,   0,   0,   0,   0,   0,   0,   0,   0,   0,   0,   0,\n         0,   0,   0,   0,   0,   0,   0,   0,   0,   0,   0,   0,   0,\n         0,   0,   0,   0,   0,   0,   0,   0,   0])"
     },
     "execution_count": 44,
     "metadata": {},
     "output_type": "execute_result"
    }
   ],
   "source": [
    "# Find the closest neighbor (positive sequence) with the minimum 'hamming' distance, take it as a counterfactual\n",
    "closest = nn_model.kneighbors(X_pred_negative, return_distance=False)\n",
    "trans_results_nn = X_target_label[closest[:, 0]]\n",
    "\n",
    "trans_results_nn[0]"
   ]
  },
  {
   "cell_type": "code",
   "execution_count": 45,
   "metadata": {},
   "outputs": [],
   "source": [
    "# Rename 'trans_results_nn' to 'X_test_padded3' for result comparison\n",
    "X_test_padded3 = trans_results_nn"
   ]
  },
  {
   "cell_type": "markdown",
   "metadata": {},
   "source": [
    "### 3.4 Convert transformed results to event sequence format"
   ]
  },
  {
   "cell_type": "code",
   "execution_count": 46,
   "metadata": {},
   "outputs": [],
   "source": [
    "# Convert transformed sequences back to the form of original event sequences\n",
    "trans_event_sequences1 = tokenizer.sequences_to_texts(X_test_padded)\n",
    "trans_event_sequences2 = tokenizer.sequences_to_texts(X_test_padded2)\n",
    "trans_event_sequences3 = tokenizer.sequences_to_texts(X_test_padded3)"
   ]
  },
  {
   "cell_type": "markdown",
   "metadata": {},
   "source": [
    "## 4. Results comparison"
   ]
  },
  {
   "cell_type": "markdown",
   "metadata": {},
   "source": [
    "### 4.1 Comparison between fraction of valid CFs (i.e. successfully generated counterfactuals)"
   ]
  },
  {
   "cell_type": "code",
   "execution_count": 47,
   "metadata": {},
   "outputs": [],
   "source": [
    "# Get the total counts \n",
    "test_size = X_pred_negative.shape[0]"
   ]
  },
  {
   "cell_type": "code",
   "execution_count": 48,
   "metadata": {},
   "outputs": [
    {
     "name": "stdout",
     "output_type": "stream",
     "text": [
      "1.6489\n"
     ]
    }
   ],
   "source": [
    "# Fraction of valid transformed sequences, for DeleteOnly\n",
    "fraction_success = np.sum(main_model.predict(X_test_padded) > 0.5)/test_size\n",
    "print(round(fraction_success, 4))"
   ]
  },
  {
   "cell_type": "code",
   "execution_count": 49,
   "metadata": {},
   "outputs": [
    {
     "name": "stdout",
     "output_type": "stream",
     "text": [
      "1.4681\n"
     ]
    }
   ],
   "source": [
    "# For DeleteAndRetrieve\n",
    "fraction_success2 = np.sum(main_model.predict(X_test_padded2) > 0.5)/test_size\n",
    "print(round(fraction_success2, 4))"
   ]
  },
  {
   "cell_type": "code",
   "execution_count": 50,
   "metadata": {},
   "outputs": [
    {
     "name": "stdout",
     "output_type": "stream",
     "text": [
      "0.8723\n"
     ]
    }
   ],
   "source": [
    "# For 1NN modification\n",
    "fraction_success3 = np.sum(main_model.predict(X_test_padded3) > 0.5)/test_size\n",
    "print(round(fraction_success3, 4))"
   ]
  },
  {
   "cell_type": "markdown",
   "metadata": {},
   "source": [
    "### 4.2 Local outlier factor (LOF score)"
   ]
  },
  {
   "cell_type": "code",
   "execution_count": 51,
   "metadata": {},
   "outputs": [
    {
     "data": {
      "text/plain": "LocalOutlierFactor(contamination=0.1, novelty=True)"
     },
     "execution_count": 51,
     "metadata": {},
     "output_type": "execute_result"
    }
   ],
   "source": [
    "# Fit the model for novelty detection (novelty=True), in order to get LOF score\n",
    "clf = LocalOutlierFactor(n_neighbors=20, novelty=True, contamination=0.1)\n",
    "clf.fit(X_train_padded)"
   ]
  },
  {
   "cell_type": "code",
   "execution_count": 52,
   "metadata": {},
   "outputs": [],
   "source": [
    "# Get the LOF score for leave-out validation data\n",
    "y_pred_val = clf.predict(X_val_padded)\n",
    "\n",
    "n_error_val = y_pred_val[y_pred_val == -1].size"
   ]
  },
  {
   "cell_type": "code",
   "execution_count": 53,
   "metadata": {},
   "outputs": [
    {
     "data": {
      "text/plain": "0.075"
     },
     "execution_count": 53,
     "metadata": {},
     "output_type": "execute_result"
    }
   ],
   "source": [
    "validation_size = X_val_padded.shape[0]\n",
    "outlier_score_val = n_error_val/validation_size\n",
    "\n",
    "outlier_score_val"
   ]
  },
  {
   "cell_type": "code",
   "execution_count": 54,
   "metadata": {},
   "outputs": [
    {
     "name": "stdout",
     "output_type": "stream",
     "text": [
      "0.0957\n"
     ]
    }
   ],
   "source": [
    "# Get the LOF score for DeleteOnly results\n",
    "y_pred_test = clf.predict(X_test_padded)\n",
    "n_error_test = y_pred_test[y_pred_test == -1].size\n",
    "\n",
    "outlier_score_test = n_error_test / test_size\n",
    "print(round(outlier_score_test, 4))"
   ]
  },
  {
   "cell_type": "code",
   "execution_count": 55,
   "metadata": {},
   "outputs": [
    {
     "name": "stdout",
     "output_type": "stream",
     "text": [
      "0.0426\n"
     ]
    }
   ],
   "source": [
    "# Get the outlier score for DeleteAndRetrieve results\n",
    "y_pred_test2 = clf.predict(X_test_padded2)\n",
    "n_error_test2 = y_pred_test2[y_pred_test2 == -1].size\n",
    "\n",
    "outlier_score_test2 = n_error_test2 / test_size\n",
    "print(round(outlier_score_test2, 4))"
   ]
  },
  {
   "cell_type": "code",
   "execution_count": 56,
   "metadata": {},
   "outputs": [
    {
     "name": "stdout",
     "output_type": "stream",
     "text": [
      "0.0426\n"
     ]
    }
   ],
   "source": [
    "# Outlier score for 1NN baseline method\n",
    "y_pred_test3 = clf.predict(X_test_padded3)\n",
    "n_error_test3 = y_pred_test3[y_pred_test3 == -1].size\n",
    "\n",
    "outlier_score_test3 = n_error_test3 / test_size\n",
    "print(round(outlier_score_test3, 4))"
   ]
  },
  {
   "cell_type": "markdown",
   "metadata": {},
   "source": [
    "### 4.3 BLEU-4 score (cumulative 4-gram BLEU score) "
   ]
  },
  {
   "cell_type": "code",
   "execution_count": 57,
   "metadata": {},
   "outputs": [],
   "source": [
    "# Define smoothing function\n",
    "chencherry = SmoothingFunction()"
   ]
  },
  {
   "cell_type": "code",
   "execution_count": 58,
   "metadata": {},
   "outputs": [],
   "source": [
    "# Define a function to get pairwise BLEU scores\n",
    "def get_pairwise_bleu(original, transformed):\n",
    "    # 'weights=[0.25, 0.25, 0.25, 0.25]' means that calculate 4-gram BLEU scores cumulatively\n",
    "    results = [sentence_bleu(\n",
    "        references=[pair[0].split()], \n",
    "        hypothesis=pair[1].split(), \n",
    "        weights=[0.25, 0.25, 0.25, 0.25], \n",
    "        smoothing_function=chencherry.method1) \n",
    "        for pair in zip(original, transformed)]\n",
    "    \n",
    "    return results"
   ]
  },
  {
   "cell_type": "code",
   "execution_count": 59,
   "metadata": {},
   "outputs": [
    {
     "name": "stdout",
     "output_type": "stream",
     "text": [
      "0.0091\n"
     ]
    }
   ],
   "source": [
    "pairwise_bleu = get_pairwise_bleu(original_event_sequences, trans_event_sequences1)\n",
    "avg_bleu = sum(pairwise_bleu)/test_size\n",
    "print(round(avg_bleu, 4))"
   ]
  },
  {
   "cell_type": "code",
   "execution_count": 60,
   "metadata": {},
   "outputs": [
    {
     "name": "stdout",
     "output_type": "stream",
     "text": [
      "0.0067\n"
     ]
    }
   ],
   "source": [
    "pairwise_bleu2 = get_pairwise_bleu(original_event_sequences, trans_event_sequences2)\n",
    "avg_bleu2 = sum(pairwise_bleu2)/test_size\n",
    "print(round(avg_bleu2, 4))"
   ]
  },
  {
   "cell_type": "code",
   "execution_count": 61,
   "metadata": {
    "scrolled": false
   },
   "outputs": [
    {
     "name": "stdout",
     "output_type": "stream",
     "text": [
      "0.0639\n"
     ]
    }
   ],
   "source": [
    "pairwise_bleu3 = get_pairwise_bleu(original_event_sequences, trans_event_sequences3)\n",
    "avg_bleu3 = sum(pairwise_bleu3)/test_size\n",
    "print(round(avg_bleu3, 4))"
   ]
  },
  {
   "cell_type": "markdown",
   "metadata": {},
   "source": [
    "#### 4.3.1 Plot histograms of individual BLEU-4 scores"
   ]
  },
  {
   "cell_type": "code",
   "execution_count": 62,
   "metadata": {},
   "outputs": [
    {
     "data": {
      "text/plain": "<Figure size 1152x288 with 3 Axes>",
      "image/png": "[encoded data removed]"
     },
     "metadata": {
      "needs_background": "light"
     },
     "output_type": "display_data"
    }
   ],
   "source": [
    "fig, ax = plt.subplots(nrows=1, ncols=3, figsize=(16,4))     \n",
    "\n",
    "plt.sca(ax[0])\n",
    "plt.title('DeleteOnly, BLUE score')\n",
    "plt.hist(pairwise_bleu, density=True, bins=30)\n",
    "\n",
    "plt.sca(ax[1])\n",
    "plt.title('DeleteAndRetrieve, BLUE score')\n",
    "plt.hist(pairwise_bleu2, density=True, bins=30)\n",
    "\n",
    "plt.sca(ax[2])\n",
    "plt.title('1-NN, BLUE score')\n",
    "plt.hist(pairwise_bleu3, density=True, bins=30)\n",
    "\n",
    "plt.show()"
   ]
  },
  {
   "cell_type": "markdown",
   "metadata": {},
   "source": [
    "### 4.4 Plot histograms of event count differences (modification counts)"
   ]
  },
  {
   "cell_type": "code",
   "execution_count": 63,
   "metadata": {},
   "outputs": [],
   "source": [
    "# The counts of total, drug events and procedures, for the original sequences\n",
    "original_counts = pd.DataFrame(columns=['total', 'drug', 'procedure'])"
   ]
  },
  {
   "cell_type": "code",
   "execution_count": 64,
   "metadata": {},
   "outputs": [],
   "source": [
    "def get_counts_table(event_sequences):\n",
    "    temp_list = list()\n",
    "    for seq in event_sequences:\n",
    "        splitted = seq.split()\n",
    "        total = len(splitted)\n",
    "        # MetaVision ITEMID values are all above 220000. Since this data only contains data from MetaVision, it only contains ITEMID above 220000\n",
    "        drug = len([x for x in splitted if int(x)>=220000])\n",
    "        procedure = total - drug\n",
    "\n",
    "        temp_list.append({'total': total, 'drug': drug, 'procedure': procedure})\n",
    "    \n",
    "    return pd.DataFrame(temp_list)"
   ]
  },
  {
   "cell_type": "code",
   "execution_count": 65,
   "metadata": {},
   "outputs": [],
   "source": [
    "df_original_counts = get_counts_table(original_event_sequences)"
   ]
  },
  {
   "cell_type": "code",
   "execution_count": 66,
   "metadata": {},
   "outputs": [
    {
     "data": {
      "text/plain": "   total  drug  procedure\n0     34    30          4\n1      7     3          4\n2     47    44          3\n3     22    18          4\n4     52    47          5",
      "text/html": "<div>\n<style scoped>\n    .dataframe tbody tr th:only-of-type {\n        vertical-align: middle;\n    }\n\n    .dataframe tbody tr th {\n        vertical-align: top;\n    }\n\n    .dataframe thead th {\n        text-align: right;\n    }\n</style>\n<table border=\"1\" class=\"dataframe\">\n  <thead>\n    <tr style=\"text-align: right;\">\n      <th></th>\n      <th>total</th>\n      <th>drug</th>\n      <th>procedure</th>\n    </tr>\n  </thead>\n  <tbody>\n    <tr>\n      <th>0</th>\n      <td>34</td>\n      <td>30</td>\n      <td>4</td>\n    </tr>\n    <tr>\n      <th>1</th>\n      <td>7</td>\n      <td>3</td>\n      <td>4</td>\n    </tr>\n    <tr>\n      <th>2</th>\n      <td>47</td>\n      <td>44</td>\n      <td>3</td>\n    </tr>\n    <tr>\n      <th>3</th>\n      <td>22</td>\n      <td>18</td>\n      <td>4</td>\n    </tr>\n    <tr>\n      <th>4</th>\n      <td>52</td>\n      <td>47</td>\n      <td>5</td>\n    </tr>\n  </tbody>\n</table>\n</div>"
     },
     "execution_count": 66,
     "metadata": {},
     "output_type": "execute_result"
    }
   ],
   "source": [
    "df_original_counts.head()"
   ]
  },
  {
   "cell_type": "code",
   "execution_count": 67,
   "metadata": {},
   "outputs": [],
   "source": [
    "# Get count tables for all the tranformed results (generated counterfactuals)\n",
    "trans_counts1 = get_counts_table(trans_event_sequences1)\n",
    "trans_counts2 = get_counts_table(trans_event_sequences2)\n",
    "trans_counts3 = get_counts_table(trans_event_sequences3)"
   ]
  },
  {
   "cell_type": "code",
   "execution_count": 68,
   "metadata": {},
   "outputs": [],
   "source": [
    "# Substract the original counts to get event modifications for total, drug events and procedures\n",
    "substracted1 = trans_counts1.subtract(df_original_counts)\n",
    "substracted2 = trans_counts2.subtract(df_original_counts)\n",
    "substracted3 = trans_counts3.subtract(df_original_counts)"
   ]
  },
  {
   "cell_type": "code",
   "execution_count": 69,
   "metadata": {},
   "outputs": [
    {
     "data": {
      "text/plain": "<Figure size 1152x864 with 9 Axes>",
      "image/png": "[encoded data removed]"
     },
     "metadata": {
      "needs_background": "light"
     },
     "output_type": "display_data"
    }
   ],
   "source": [
    "# Plot 3x3 subplots\n",
    "fig, ax = plt.subplots(nrows=3, ncols=3, figsize=(16,12))\n",
    "\n",
    "plt.sca(ax[0,0])\n",
    "plt.title('DeleteOnly, total difference')\n",
    "plt.hist(substracted1['total'], density=True, bins=30)\n",
    "\n",
    "plt.sca(ax[0,1])\n",
    "plt.title('DeleteOnly, drug event difference')\n",
    "plt.hist(substracted1['drug'], density=True, bins=30)\n",
    "\n",
    "plt.sca(ax[0,2])\n",
    "plt.title('DeleteOnly, procedure difference')\n",
    "plt.hist(substracted1['procedure'], density=True, bins=12)\n",
    "\n",
    "plt.sca(ax[1,0])\n",
    "plt.title('DeleteAndRetrieve, total difference')\n",
    "plt.hist(substracted2['total'], density=True, bins=30)\n",
    "\n",
    "plt.sca(ax[1,1])\n",
    "plt.title('DeleteAndRetrieve, drug event difference')\n",
    "plt.hist(substracted2['drug'], density=True, bins=30)\n",
    "\n",
    "plt.sca(ax[1,2])\n",
    "plt.title('DeleteAndRetrieve, procedure difference')\n",
    "plt.hist(substracted2['procedure'], density=True, bins=12)\n",
    "\n",
    "plt.sca(ax[2,0])\n",
    "plt.title('1-NN, total difference')\n",
    "plt.hist(substracted3['total'], density=True, bins=30)\n",
    "\n",
    "plt.sca(ax[2,1])\n",
    "plt.title('1-NN, drug event difference')\n",
    "plt.hist(substracted3['drug'], density=True, bins=30)\n",
    "\n",
    "plt.sca(ax[2,2])\n",
    "plt.title('1-NN, procedure difference')\n",
    "plt.hist(substracted3['procedure'], density=True, bins=12)\n",
    "\n",
    "plt.show()"
   ]
  },
  {
   "cell_type": "markdown",
   "metadata": {},
   "source": [
    "### 4.5 Export example counterfactuals "
   ]
  },
  {
   "cell_type": "code",
   "execution_count": 70,
   "metadata": {},
   "outputs": [],
   "source": [
    "# Convert id to original event name\n",
    "conn = psycopg2.connect(\n",
    "    database=\"mimic\", \n",
    "    user='postgres',\n",
    "    password=getpass.getpass(\"Enter postgres password\"), \n",
    "    host=\"127.0.0.1\", \n",
    "    port=\"5432\",\n",
    "    options=f'-c search_path=mimiciii')"
   ]
  },
  {
   "cell_type": "code",
   "execution_count": 71,
   "metadata": {},
   "outputs": [
    {
     "data": {
      "text/plain": "      itemid              abbreviation                    label\n8673  221015                    Ensure                   Ensure\n8674  221016               Ensure Plus              Ensure Plus\n8675  221017             Dextrose 2,5%            Dextrose 2,5%\n8676  225166  Potassium Chloride - KCL       Potassium Chloride\n8677  225167   Hydrochloric Acid - HCL  Hydrochloric Acid - HCL",
      "text/html": "<div>\n<style scoped>\n    .dataframe tbody tr th:only-of-type {\n        vertical-align: middle;\n    }\n\n    .dataframe tbody tr th {\n        vertical-align: top;\n    }\n\n    .dataframe thead th {\n        text-align: right;\n    }\n</style>\n<table border=\"1\" class=\"dataframe\">\n  <thead>\n    <tr style=\"text-align: right;\">\n      <th></th>\n      <th>itemid</th>\n      <th>abbreviation</th>\n      <th>label</th>\n    </tr>\n  </thead>\n  <tbody>\n    <tr>\n      <th>8673</th>\n      <td>221015</td>\n      <td>Ensure</td>\n      <td>Ensure</td>\n    </tr>\n    <tr>\n      <th>8674</th>\n      <td>221016</td>\n      <td>Ensure Plus</td>\n      <td>Ensure Plus</td>\n    </tr>\n    <tr>\n      <th>8675</th>\n      <td>221017</td>\n      <td>Dextrose 2,5%</td>\n      <td>Dextrose 2,5%</td>\n    </tr>\n    <tr>\n      <th>8676</th>\n      <td>225166</td>\n      <td>Potassium Chloride - KCL</td>\n      <td>Potassium Chloride</td>\n    </tr>\n    <tr>\n      <th>8677</th>\n      <td>225167</td>\n      <td>Hydrochloric Acid - HCL</td>\n      <td>Hydrochloric Acid - HCL</td>\n    </tr>\n  </tbody>\n</table>\n</div>"
     },
     "execution_count": 71,
     "metadata": {},
     "output_type": "execute_result"
    }
   ],
   "source": [
    "# Get a mapping from itemid to name (drug events)\n",
    "itemid_to_name = pd.read_sql(\n",
    "    \"\"\"\n",
    "    SELECT itemid, abbreviation, label\n",
    "    FROM d_items;\n",
    "    \"\"\", conn)\n",
    "\n",
    "itemid_to_name = itemid_to_name[itemid_to_name['itemid'] >= 220000]\n",
    "itemid_to_name.head()"
   ]
  },
  {
   "cell_type": "code",
   "execution_count": 72,
   "metadata": {},
   "outputs": [
    {
     "data": {
      "text/plain": "  icd9_code               short_title  \\\n0      0851                Canthotomy   \n1      0852           Blepharorrhaphy   \n2      0859   Adjust lid position NEC   \n3      0861  Lid reconst w skin graft   \n4      0862   Lid reconst w muc graft   \n\n                                          long_title  \n0                                         Canthotomy  \n1                                    Blepharorrhaphy  \n2                   Other adjustment of lid position  \n3   Reconstruction of eyelid with skin flap or graft  \n4  Reconstruction of eyelid with mucous membrane ...  ",
      "text/html": "<div>\n<style scoped>\n    .dataframe tbody tr th:only-of-type {\n        vertical-align: middle;\n    }\n\n    .dataframe tbody tr th {\n        vertical-align: top;\n    }\n\n    .dataframe thead th {\n        text-align: right;\n    }\n</style>\n<table border=\"1\" class=\"dataframe\">\n  <thead>\n    <tr style=\"text-align: right;\">\n      <th></th>\n      <th>icd9_code</th>\n      <th>short_title</th>\n      <th>long_title</th>\n    </tr>\n  </thead>\n  <tbody>\n    <tr>\n      <th>0</th>\n      <td>0851</td>\n      <td>Canthotomy</td>\n      <td>Canthotomy</td>\n    </tr>\n    <tr>\n      <th>1</th>\n      <td>0852</td>\n      <td>Blepharorrhaphy</td>\n      <td>Blepharorrhaphy</td>\n    </tr>\n    <tr>\n      <th>2</th>\n      <td>0859</td>\n      <td>Adjust lid position NEC</td>\n      <td>Other adjustment of lid position</td>\n    </tr>\n    <tr>\n      <th>3</th>\n      <td>0861</td>\n      <td>Lid reconst w skin graft</td>\n      <td>Reconstruction of eyelid with skin flap or graft</td>\n    </tr>\n    <tr>\n      <th>4</th>\n      <td>0862</td>\n      <td>Lid reconst w muc graft</td>\n      <td>Reconstruction of eyelid with mucous membrane ...</td>\n    </tr>\n  </tbody>\n</table>\n</div>"
     },
     "execution_count": 72,
     "metadata": {},
     "output_type": "execute_result"
    }
   ],
   "source": [
    "# Get another mapping from procedure itemid to name \n",
    "itemid_to_name2 = pd.read_sql(\n",
    "    \"\"\"\n",
    "    SELECT icd9_code, short_title, long_title\n",
    "    FROM d_icd_procedures;\n",
    "    \"\"\", conn)\n",
    "\n",
    "itemid_to_name2.head()"
   ]
  },
  {
   "cell_type": "code",
   "execution_count": 73,
   "metadata": {},
   "outputs": [],
   "source": [
    "# Concate two itemid_to_name into one table\n",
    "itemid_to_name2 = itemid_to_name2.rename(columns={'icd9_code': 'itemid', 'short_title': 'abbreviation', 'long_title': 'label'})\n",
    "\n",
    "itemid_to_name_concat = pd.concat([itemid_to_name, itemid_to_name2])"
   ]
  },
  {
   "cell_type": "code",
   "execution_count": 74,
   "metadata": {},
   "outputs": [],
   "source": [
    "# Convert data type to be consistent when filtering, e.g. 'itemid_to_name_concat['itemid'] == 9671'\n",
    "itemid_to_name_concat['label'] = itemid_to_name_concat['label'].astype('str') \n",
    "itemid_to_name_concat['itemid'] = itemid_to_name_concat['itemid'].astype('int') "
   ]
  },
  {
   "cell_type": "code",
   "execution_count": 75,
   "metadata": {},
   "outputs": [],
   "source": [
    "# Define a method to convert event codes to original names\n",
    "def code_to_name(event_sequence):\n",
    "    code_sequence = [int(event) for event in event_sequence.split()]\n",
    "    \n",
    "    temp_list = list()\n",
    "    for code in code_sequence:\n",
    "        event_name = itemid_to_name_concat[itemid_to_name_concat['itemid'] == code]['label'].item()\n",
    "        temp_list.append(event_name)\n",
    "    \n",
    "    return temp_list"
   ]
  },
  {
   "cell_type": "code",
   "execution_count": 76,
   "metadata": {},
   "outputs": [],
   "source": [
    "# Get the sample for example counterfactuals\n",
    "sample_id = 44"
   ]
  },
  {
   "cell_type": "code",
   "execution_count": 77,
   "metadata": {},
   "outputs": [
    {
     "data": {
      "text/plain": "['Propofol',\n 'Propofol',\n 'Gastric Meds',\n 'Morphine Sulfate',\n 'Metoprolol',\n 'Morphine Sulfate',\n 'Morphine Sulfate',\n 'Insertion of endotracheal tube']"
     },
     "execution_count": 77,
     "metadata": {},
     "output_type": "execute_result"
    }
   ],
   "source": [
    "code_to_name(original_event_sequences[sample_id])"
   ]
  },
  {
   "cell_type": "code",
   "metadata": {
    "pycharm": {
     "name": "#%%\n"
    }
   },
   "source": [
    "# original_event_sequences[sample_id]"
   ],
   "execution_count": 85,
   "outputs": []
  },
  {
   "cell_type": "code",
   "execution_count": 79,
   "metadata": {},
   "outputs": [
    {
     "data": {
      "text/plain": "['Diltiazem',\n 'Diltiazem',\n 'Diltiazem',\n 'Diltiazem',\n 'Diltiazem',\n 'Heparin Sodium (Prophylaxis)',\n 'Diltiazem',\n 'Diltiazem',\n 'Diltiazem',\n 'Diltiazem',\n 'Diltiazem',\n 'Diltiazem',\n 'Diltiazem',\n 'Diltiazem',\n 'Diltiazem',\n 'Calcium Gluconate',\n 'Piggyback',\n 'Calcium Gluconate',\n 'Diltiazem',\n 'Diltiazem',\n 'Heparin Sodium (Prophylaxis)',\n 'D5NS',\n 'Calcium Gluconate',\n 'Piggyback',\n 'Dilantin',\n 'Heparin Sodium (Prophylaxis)',\n 'Dilantin',\n 'Dilantin',\n 'Metoprolol',\n 'Heparin Sodium (Prophylaxis)',\n 'Continuous invasive mechanical ventilation for less than 96 consecutive hours',\n 'Bronchial dilation',\n 'Other intubation of respiratory tract']"
     },
     "execution_count": 79,
     "metadata": {},
     "output_type": "execute_result"
    }
   ],
   "source": [
    "code_to_name(trans_event_sequences1[sample_id])"
   ]
  },
  {
   "cell_type": "code",
   "metadata": {
    "pycharm": {
     "name": "#%%\n"
    }
   },
   "source": [
    "# trans_event_sequences1[sample_id]"
   ],
   "execution_count": null,
   "outputs": []
  },
  {
   "cell_type": "code",
   "execution_count": 81,
   "metadata": {},
   "outputs": [
    {
     "data": {
      "text/plain": "['Cath Lab Intake',\n 'NaCl 0.45%',\n 'Other endovascular procedures on other vessels',\n 'Aortography',\n 'Arteriography of other intra-abdominal arteries',\n 'Injection or infusion of other therapeutic or prophylactic substance',\n 'Aortography']"
     },
     "execution_count": 81,
     "metadata": {},
     "output_type": "execute_result"
    }
   ],
   "source": [
    "code_to_name(trans_event_sequences2[sample_id])"
   ]
  },
  {
   "cell_type": "code",
   "execution_count": 82,
   "metadata": {},
   "outputs": [],
   "source": [
    "# trans_event_sequences2[sample_id]"
   ]
  },
  {
   "cell_type": "code",
   "execution_count": 83,
   "metadata": {
    "scrolled": true
   },
   "outputs": [
    {
     "data": {
      "text/plain": "['D5 1/2NS',\n 'Packed Red Blood Cells',\n 'Packed Red Blood Cells',\n 'Morphine Sulfate',\n 'D5 1/2NS',\n 'Morphine Sulfate',\n 'Morphine Sulfate',\n 'Closed reduction of fracture with internal fixation, femur']"
     },
     "execution_count": 83,
     "metadata": {},
     "output_type": "execute_result"
    }
   ],
   "source": [
    "code_to_name(trans_event_sequences3[sample_id])"
   ]
  },
  {
   "cell_type": "code",
   "execution_count": 84,
   "metadata": {},
   "outputs": [],
   "source": [
    "# trans_event_sequences3[sample_id]"
   ]
  }
 ],
 "metadata": {
  "kernelspec": {
   "display_name": "Python 3",
   "language": "python",
   "name": "python3"
  },
  "language_info": {
   "codemirror_mode": {
    "name": "ipython",
    "version": 3
   },
   "file_extension": ".py",
   "mimetype": "text/x-python",
   "name": "python",
   "nbconvert_exporter": "python",
   "pygments_lexer": "ipython3",
   "version": "3.7.9"
  }
 },
 "nbformat": 4,
 "nbformat_minor": 4
}