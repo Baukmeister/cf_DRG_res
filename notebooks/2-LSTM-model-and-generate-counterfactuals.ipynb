{
 "cells": [
  {
   "cell_type": "code",
   "execution_count": 359,
   "metadata": {},
   "outputs": [],
   "source": [
    "import os\n",
    "import csv\n",
    "\n",
    "import pandas as pd\n",
    "import numpy as np\n",
    "from sklearn.metrics import confusion_matrix\n",
    "from sklearn.neighbors import NearestNeighbors, LocalOutlierFactor\n",
    "from nltk.translate.bleu_score import sentence_bleu, SmoothingFunction\n",
    "\n",
    "import keras\n",
    "import tensorflow as tf\n",
    "import random as python_random\n",
    "from keras import layers\n",
    "from keras.preprocessing import sequence\n",
    "from keras.preprocessing.text import Tokenizer\n",
    "from tensorflow.keras.callbacks import EarlyStopping\n",
    "from keras.models import Model\n",
    "from keras.layers import LSTM, CuDNNLSTM, Dense, Dropout, Input, ConvLSTM2D, Flatten, Add, Concatenate, Dot, Multiply\n",
    "from keras.layers import Maximum, Average, Activation\n",
    "from tensorflow.keras.optimizers import Adam, SGD\n",
    "from keras.callbacks import ModelCheckpoint, LearningRateScheduler\n",
    "import math\n",
    "\n",
    "from keras import backend as K\n",
    "\n",
    "import pandas.io.sql as sqlio\n",
    "import psycopg2\n",
    "import getpass\n",
    "\n",
    "import matplotlib.pyplot as plt"
   ]
  },
  {
   "cell_type": "code",
   "execution_count": 360,
   "outputs": [
    {
     "data": {
      "text/plain": "True"
     },
     "execution_count": 360,
     "metadata": {},
     "output_type": "execute_result"
    }
   ],
   "source": [
    "tf.test.is_gpu_available()"
   ],
   "metadata": {
    "collapsed": false,
    "pycharm": {
     "name": "#%%\n"
    }
   }
  },
  {
   "cell_type": "markdown",
   "metadata": {},
   "source": [
    "## 1. Load data"
   ]
  },
  {
   "cell_type": "code",
   "execution_count": 361,
   "metadata": {},
   "outputs": [],
   "source": [
    "# Define data paths\n",
    "data_path = '../processed_mimic_data/'\n",
    "drg_path = '../drg_models'\n",
    "\n",
    "# Load training data\n",
    "train_pos = pd.read_csv(data_path+'train_pos.txt')\n",
    "train_neg = pd.read_csv(data_path+'train_neg.txt')\n",
    "\n",
    "# Add target class label\n",
    "train_pos['survival'] = [1 for i in range(train_pos.shape[0])]\n",
    "train_neg['survival'] = [0 for i in range(train_neg.shape[0])]\n",
    "\n",
    "# Set static feature names\n",
    "static_feature_names = [\n",
    "    'gender',\n",
    "    'age',\n",
    "    'los_hospital',\n",
    "    'ethnicity',\n",
    "    'admission_type',\n",
    "    'first_hosp_stay',\n",
    "    'first_icu_stay'\n",
    "]"
   ]
  },
  {
   "cell_type": "markdown",
   "source": [
    "Concatinate the drug and procedure codes into a single feature"
   ],
   "metadata": {
    "collapsed": false
   }
  },
  {
   "cell_type": "code",
   "execution_count": 362,
   "outputs": [],
   "source": [
    "train_neg['events'] = train_neg['drug_events'] + \" \" + train_neg['procedure_codes']\n",
    "train_pos['events'] = train_pos['drug_events'] + \" \" + train_pos['procedure_codes']"
   ],
   "metadata": {
    "collapsed": false,
    "pycharm": {
     "name": "#%%\n"
    }
   }
  },
  {
   "cell_type": "code",
   "execution_count": 363,
   "metadata": {},
   "outputs": [],
   "source": [
    "# Concat into one data frame; and reorder it\n",
    "train = pd.concat([train_pos, train_neg]).reset_index()[['survival','events'] + static_feature_names].dropna()\n",
    "train_reordered = train.sample(frac=1, random_state=3)"
   ]
  },
  {
   "cell_type": "code",
   "execution_count": 364,
   "outputs": [
    {
     "data": {
      "text/plain": "      survival                                             events  gender  \\\n2367         1  220995 220995 223262 221456 227523 222011 2259...     1.0   \n4760         0  225798 221794 225910 225975 221794 225975 3491...     1.0   \n24           1  226361 221833 225910 221385 220952 228315 2258...     1.0   \n3704         1                225152 225152 225152 3734 3726 3727     0.0   \n4267         0  225828 225828 225859 225798 225975 225907 2232...     1.0   \n...        ...                                                ...     ...   \n968          1  225845 225823 225879 225823 222011 225944 2258...     0.0   \n1667         1  226364 226372 225828 222168 221749 221289 2232...     0.0   \n3322         1  222042 225166 225798 222168 222042 225910 2257...     1.0   \n1688         1  225151 225159 226363 222011 227523 225152 2251...     0.0   \n5995         0  226361 225798 225893 225884 227523 222011 2275...     0.0   \n\n          age  los_hospital  ethnicity  admission_type  first_hosp_stay  \\\n2367  95.0000        4.7785        1.0             1.0              0.0   \n4760  95.0000        4.9243        1.0             1.0              0.0   \n24    53.2236        7.1972        3.0             1.0              1.0   \n3704  76.6553        1.9208       18.0             1.0              0.0   \n4267  59.0068        8.0451        1.0             1.0              1.0   \n...       ...           ...        ...             ...              ...   \n968   88.3031        5.5229        1.0             1.0              0.0   \n1667  40.7609        8.0472       18.0             1.0              0.0   \n3322  78.4322        7.7792        1.0             1.0              0.0   \n1688  57.5474        4.8521        1.0             1.0              1.0   \n5995  81.1531       23.1368        3.0             1.0              0.0   \n\n      first_icu_stay  \n2367             0.0  \n4760             0.0  \n24               0.0  \n3704             0.0  \n4267             0.0  \n...              ...  \n968              0.0  \n1667             0.0  \n3322             0.0  \n1688             0.0  \n5995             0.0  \n\n[6041 rows x 9 columns]",
      "text/html": "<div>\n<style scoped>\n    .dataframe tbody tr th:only-of-type {\n        vertical-align: middle;\n    }\n\n    .dataframe tbody tr th {\n        vertical-align: top;\n    }\n\n    .dataframe thead th {\n        text-align: right;\n    }\n</style>\n<table border=\"1\" class=\"dataframe\">\n  <thead>\n    <tr style=\"text-align: right;\">\n      <th></th>\n      <th>survival</th>\n      <th>events</th>\n      <th>gender</th>\n      <th>age</th>\n      <th>los_hospital</th>\n      <th>ethnicity</th>\n      <th>admission_type</th>\n      <th>first_hosp_stay</th>\n      <th>first_icu_stay</th>\n    </tr>\n  </thead>\n  <tbody>\n    <tr>\n      <th>2367</th>\n      <td>1</td>\n      <td>220995 220995 223262 221456 227523 222011 2259...</td>\n      <td>1.0</td>\n      <td>95.0000</td>\n      <td>4.7785</td>\n      <td>1.0</td>\n      <td>1.0</td>\n      <td>0.0</td>\n      <td>0.0</td>\n    </tr>\n    <tr>\n      <th>4760</th>\n      <td>0</td>\n      <td>225798 221794 225910 225975 221794 225975 3491...</td>\n      <td>1.0</td>\n      <td>95.0000</td>\n      <td>4.9243</td>\n      <td>1.0</td>\n      <td>1.0</td>\n      <td>0.0</td>\n      <td>0.0</td>\n    </tr>\n    <tr>\n      <th>24</th>\n      <td>1</td>\n      <td>226361 221833 225910 221385 220952 228315 2258...</td>\n      <td>1.0</td>\n      <td>53.2236</td>\n      <td>7.1972</td>\n      <td>3.0</td>\n      <td>1.0</td>\n      <td>1.0</td>\n      <td>0.0</td>\n    </tr>\n    <tr>\n      <th>3704</th>\n      <td>1</td>\n      <td>225152 225152 225152 3734 3726 3727</td>\n      <td>0.0</td>\n      <td>76.6553</td>\n      <td>1.9208</td>\n      <td>18.0</td>\n      <td>1.0</td>\n      <td>0.0</td>\n      <td>0.0</td>\n    </tr>\n    <tr>\n      <th>4267</th>\n      <td>0</td>\n      <td>225828 225828 225859 225798 225975 225907 2232...</td>\n      <td>1.0</td>\n      <td>59.0068</td>\n      <td>8.0451</td>\n      <td>1.0</td>\n      <td>1.0</td>\n      <td>1.0</td>\n      <td>0.0</td>\n    </tr>\n    <tr>\n      <th>...</th>\n      <td>...</td>\n      <td>...</td>\n      <td>...</td>\n      <td>...</td>\n      <td>...</td>\n      <td>...</td>\n      <td>...</td>\n      <td>...</td>\n      <td>...</td>\n    </tr>\n    <tr>\n      <th>968</th>\n      <td>1</td>\n      <td>225845 225823 225879 225823 222011 225944 2258...</td>\n      <td>0.0</td>\n      <td>88.3031</td>\n      <td>5.5229</td>\n      <td>1.0</td>\n      <td>1.0</td>\n      <td>0.0</td>\n      <td>0.0</td>\n    </tr>\n    <tr>\n      <th>1667</th>\n      <td>1</td>\n      <td>226364 226372 225828 222168 221749 221289 2232...</td>\n      <td>0.0</td>\n      <td>40.7609</td>\n      <td>8.0472</td>\n      <td>18.0</td>\n      <td>1.0</td>\n      <td>0.0</td>\n      <td>0.0</td>\n    </tr>\n    <tr>\n      <th>3322</th>\n      <td>1</td>\n      <td>222042 225166 225798 222168 222042 225910 2257...</td>\n      <td>1.0</td>\n      <td>78.4322</td>\n      <td>7.7792</td>\n      <td>1.0</td>\n      <td>1.0</td>\n      <td>0.0</td>\n      <td>0.0</td>\n    </tr>\n    <tr>\n      <th>1688</th>\n      <td>1</td>\n      <td>225151 225159 226363 222011 227523 225152 2251...</td>\n      <td>0.0</td>\n      <td>57.5474</td>\n      <td>4.8521</td>\n      <td>1.0</td>\n      <td>1.0</td>\n      <td>1.0</td>\n      <td>0.0</td>\n    </tr>\n    <tr>\n      <th>5995</th>\n      <td>0</td>\n      <td>226361 225798 225893 225884 227523 222011 2275...</td>\n      <td>0.0</td>\n      <td>81.1531</td>\n      <td>23.1368</td>\n      <td>3.0</td>\n      <td>1.0</td>\n      <td>0.0</td>\n      <td>0.0</td>\n    </tr>\n  </tbody>\n</table>\n<p>6041 rows × 9 columns</p>\n</div>"
     },
     "execution_count": 364,
     "metadata": {},
     "output_type": "execute_result"
    }
   ],
   "source": [
    "train_reordered"
   ],
   "metadata": {
    "collapsed": false,
    "pycharm": {
     "name": "#%%\n"
    }
   }
  },
  {
   "cell_type": "code",
   "execution_count": 365,
   "outputs": [],
   "source": [
    "\n",
    "X_train_events, X_train_static, y_train = train_reordered['events'], train_reordered[static_feature_names], train_reordered['survival']"
   ],
   "metadata": {
    "collapsed": false,
    "pycharm": {
     "name": "#%%\n"
    }
   }
  },
  {
   "cell_type": "code",
   "execution_count": 366,
   "outputs": [
    {
     "data": {
      "text/plain": "['gender',\n 'age',\n 'los_hospital',\n 'ethnicity',\n 'admission_type',\n 'first_hosp_stay',\n 'first_icu_stay']"
     },
     "execution_count": 366,
     "metadata": {},
     "output_type": "execute_result"
    }
   ],
   "source": [
    "static_feature_names"
   ],
   "metadata": {
    "collapsed": false,
    "pycharm": {
     "name": "#%%\n"
    }
   }
  },
  {
   "cell_type": "code",
   "execution_count": 367,
   "metadata": {},
   "outputs": [
    {
     "data": {
      "text/plain": "      gender      age  los_hospital  ethnicity  admission_type  \\\n2367     1.0  95.0000        4.7785        1.0             1.0   \n4760     1.0  95.0000        4.9243        1.0             1.0   \n24       1.0  53.2236        7.1972        3.0             1.0   \n3704     0.0  76.6553        1.9208       18.0             1.0   \n4267     1.0  59.0068        8.0451        1.0             1.0   \n...      ...      ...           ...        ...             ...   \n968      0.0  88.3031        5.5229        1.0             1.0   \n1667     0.0  40.7609        8.0472       18.0             1.0   \n3322     1.0  78.4322        7.7792        1.0             1.0   \n1688     0.0  57.5474        4.8521        1.0             1.0   \n5995     0.0  81.1531       23.1368        3.0             1.0   \n\n      first_hosp_stay  first_icu_stay  \n2367              0.0             0.0  \n4760              0.0             0.0  \n24                1.0             0.0  \n3704              0.0             0.0  \n4267              1.0             0.0  \n...               ...             ...  \n968               0.0             0.0  \n1667              0.0             0.0  \n3322              0.0             0.0  \n1688              1.0             0.0  \n5995              0.0             0.0  \n\n[6041 rows x 7 columns]",
      "text/html": "<div>\n<style scoped>\n    .dataframe tbody tr th:only-of-type {\n        vertical-align: middle;\n    }\n\n    .dataframe tbody tr th {\n        vertical-align: top;\n    }\n\n    .dataframe thead th {\n        text-align: right;\n    }\n</style>\n<table border=\"1\" class=\"dataframe\">\n  <thead>\n    <tr style=\"text-align: right;\">\n      <th></th>\n      <th>gender</th>\n      <th>age</th>\n      <th>los_hospital</th>\n      <th>ethnicity</th>\n      <th>admission_type</th>\n      <th>first_hosp_stay</th>\n      <th>first_icu_stay</th>\n    </tr>\n  </thead>\n  <tbody>\n    <tr>\n      <th>2367</th>\n      <td>1.0</td>\n      <td>95.0000</td>\n      <td>4.7785</td>\n      <td>1.0</td>\n      <td>1.0</td>\n      <td>0.0</td>\n      <td>0.0</td>\n    </tr>\n    <tr>\n      <th>4760</th>\n      <td>1.0</td>\n      <td>95.0000</td>\n      <td>4.9243</td>\n      <td>1.0</td>\n      <td>1.0</td>\n      <td>0.0</td>\n      <td>0.0</td>\n    </tr>\n    <tr>\n      <th>24</th>\n      <td>1.0</td>\n      <td>53.2236</td>\n      <td>7.1972</td>\n      <td>3.0</td>\n      <td>1.0</td>\n      <td>1.0</td>\n      <td>0.0</td>\n    </tr>\n    <tr>\n      <th>3704</th>\n      <td>0.0</td>\n      <td>76.6553</td>\n      <td>1.9208</td>\n      <td>18.0</td>\n      <td>1.0</td>\n      <td>0.0</td>\n      <td>0.0</td>\n    </tr>\n    <tr>\n      <th>4267</th>\n      <td>1.0</td>\n      <td>59.0068</td>\n      <td>8.0451</td>\n      <td>1.0</td>\n      <td>1.0</td>\n      <td>1.0</td>\n      <td>0.0</td>\n    </tr>\n    <tr>\n      <th>...</th>\n      <td>...</td>\n      <td>...</td>\n      <td>...</td>\n      <td>...</td>\n      <td>...</td>\n      <td>...</td>\n      <td>...</td>\n    </tr>\n    <tr>\n      <th>968</th>\n      <td>0.0</td>\n      <td>88.3031</td>\n      <td>5.5229</td>\n      <td>1.0</td>\n      <td>1.0</td>\n      <td>0.0</td>\n      <td>0.0</td>\n    </tr>\n    <tr>\n      <th>1667</th>\n      <td>0.0</td>\n      <td>40.7609</td>\n      <td>8.0472</td>\n      <td>18.0</td>\n      <td>1.0</td>\n      <td>0.0</td>\n      <td>0.0</td>\n    </tr>\n    <tr>\n      <th>3322</th>\n      <td>1.0</td>\n      <td>78.4322</td>\n      <td>7.7792</td>\n      <td>1.0</td>\n      <td>1.0</td>\n      <td>0.0</td>\n      <td>0.0</td>\n    </tr>\n    <tr>\n      <th>1688</th>\n      <td>0.0</td>\n      <td>57.5474</td>\n      <td>4.8521</td>\n      <td>1.0</td>\n      <td>1.0</td>\n      <td>1.0</td>\n      <td>0.0</td>\n    </tr>\n    <tr>\n      <th>5995</th>\n      <td>0.0</td>\n      <td>81.1531</td>\n      <td>23.1368</td>\n      <td>3.0</td>\n      <td>1.0</td>\n      <td>0.0</td>\n      <td>0.0</td>\n    </tr>\n  </tbody>\n</table>\n<p>6041 rows × 7 columns</p>\n</div>"
     },
     "execution_count": 367,
     "metadata": {},
     "output_type": "execute_result"
    }
   ],
   "source": [
    "X_train_static"
   ]
  },
  {
   "cell_type": "code",
   "execution_count": 368,
   "metadata": {},
   "outputs": [],
   "source": [
    "# Load validation data\n",
    "validation_pos = pd.read_csv(data_path+'validation_pos.txt')\n",
    "validation_neg = pd.read_csv(data_path+'validation_neg.txt')\n",
    "\n",
    "# Add target class\n",
    "validation_pos['survival'] = [1 for i in range(validation_pos.shape[0])]\n",
    "validation_neg['survival'] = [0 for i in range(validation_neg.shape[0])]\n",
    "\n",
    "validation_neg['events'] = validation_neg['drug_events'] + \" \" + validation_neg['procedure_codes']\n",
    "validation_pos['events'] = validation_pos['drug_events'] + \" \" + validation_pos['procedure_codes']"
   ]
  },
  {
   "cell_type": "code",
   "execution_count": 369,
   "outputs": [
    {
     "data": {
      "text/plain": "     subject_id                                        drug_events  \\\n0         84818  225910 225823 225910 225823 225910 225823 2259...   \n1         99412  222042 220970 220970 226364 225907 225799 2258...   \n2         77487                        225910 226361 225910 225910   \n3         63219  226364 226372 222168 222056 225154 225154 2214...   \n4         46060  226361 225168 226361 226361 220970 225154 2217...   \n..          ...                                                ...   \n195       70314  226361 225154 220995 225154 225154 225154 2251...   \n196       43736                 225151 225159 223262 225159 223258   \n197       51754  225910 220970 220970 225168 225168 220995 2251...   \n198       42180  221986 222168 225828 227522 225166 225828 2258...   \n199       32082  225859 225975 225884 225975 225884 225910 2251...   \n\n                                       procedure_codes   hadm_id  icustay_id  \\\n0                                            4513 4523  175593.0    226866.0   \n1                                            3972 8841  192975.0    295903.0   \n2                                  4513 4516 4513 8604  144009.0    250934.0   \n3                                            3615 3961  194579.0    220120.0   \n4                                            9907 9904  123807.0    268137.0   \n..                                                 ...       ...         ...   \n195  4131 3893 5013 8864 3897 3897 9925 370 0392 99...  129845.0    206464.0   \n196                 0066 3607 9920 0046 0040 8856 3778  143451.0    246005.0   \n197       4523 4513 4513 4523 4513 3734 3722 3964 8856  105236.0    257838.0   \n198                 3929 8411 3527 3774 3787 3776 3961  135448.0    212790.0   \n199                                          5185 5187  131005.0    240333.0   \n\n     gender  dod            admittime            dischtime  los_hospital  ...  \\\n0       0.0  NaN  2122-06-19 20:41:00  2122-06-24 12:24:00        4.6549  ...   \n1       1.0  NaN  2142-04-24 12:19:00  2142-05-03 13:00:00        9.0285  ...   \n2       0.0  NaN  2198-11-17 09:15:00  2198-11-23 19:57:00        6.4458  ...   \n3       0.0  NaN  2130-11-15 07:30:00  2130-11-19 13:40:00        4.2569  ...   \n4       1.0  NaN  2181-09-05 12:00:00  2181-09-14 21:32:00        9.3972  ...   \n..      ...  ...                  ...                  ...           ...  ...   \n195     1.0  NaN  2191-11-24 15:33:00  2192-01-13 17:53:00       50.0972  ...   \n196     1.0  NaN  2137-12-28 22:50:00  2138-01-03 15:15:00        5.6840  ...   \n197     0.0  NaN  2100-10-31 21:51:00  2100-11-03 10:15:00        2.5167  ...   \n198     0.0  NaN  2114-12-27 07:15:00  2115-01-01 13:15:00        5.2500  ...   \n199     0.0  NaN  2112-04-04 13:50:00  2112-04-13 16:00:00        9.0903  ...   \n\n     hospital_expire_flag  hospstay_seq first_hosp_stay               intime  \\\n0                     0.0           1.0             0.0  2122-06-19 20:42:04   \n1                     0.0           1.0             0.0  2142-04-24 14:50:11   \n2                     0.0           2.0             1.0  2198-11-17 09:16:18   \n3                     0.0           1.0             0.0  2130-11-15 11:28:52   \n4                     0.0           1.0             0.0  2181-09-09 01:45:54   \n..                    ...           ...             ...                  ...   \n195                   0.0           1.0             0.0  2191-11-28 20:58:28   \n196                   0.0           1.0             0.0  2138-01-01 18:37:36   \n197                   0.0           2.0             1.0  2100-10-31 21:52:03   \n198                   0.0           1.0             0.0  2114-12-27 11:00:10   \n199                   0.0           1.0             0.0  2112-04-07 09:28:02   \n\n                 outtime  los_icu  icustay_seq first_icu_stay survival  \\\n0    2122-06-21 15:37:24   1.7884          1.0            0.0        1   \n1    2142-04-30 17:58:10   6.1305          1.0            0.0        1   \n2    2198-11-18 14:24:09   1.2138          1.0            0.0        1   \n3    2130-11-16 11:42:45   1.0096          1.0            0.0        1   \n4    2181-09-11 15:24:40   2.5686          1.0            0.0        1   \n..                   ...      ...          ...            ...      ...   \n195  2191-11-29 18:35:18   0.9006          1.0            0.0        1   \n196  2138-01-02 12:54:44   0.7619          1.0            0.0        1   \n197  2100-11-03 10:58:55   2.5464          1.0            0.0        1   \n198  2114-12-29 22:13:50   2.4678          1.0            0.0        1   \n199  2112-04-08 17:57:32   1.3538          1.0            0.0        1   \n\n                                                events  \n0    225910 225823 225910 225823 225910 225823 2259...  \n1    222042 220970 220970 226364 225907 225799 2258...  \n2      225910 226361 225910 225910 4513 4516 4513 8604  \n3    226364 226372 222168 222056 225154 225154 2214...  \n4    226361 225168 226361 226361 220970 225154 2217...  \n..                                                 ...  \n195  226361 225154 220995 225154 225154 225154 2251...  \n196  225151 225159 223262 225159 223258 0066 3607 9...  \n197  225910 220970 220970 225168 225168 220995 2251...  \n198  221986 222168 225828 227522 225166 225828 2258...  \n199  225859 225975 225884 225975 225884 225910 2251...  \n\n[200 rows x 24 columns]",
      "text/html": "<div>\n<style scoped>\n    .dataframe tbody tr th:only-of-type {\n        vertical-align: middle;\n    }\n\n    .dataframe tbody tr th {\n        vertical-align: top;\n    }\n\n    .dataframe thead th {\n        text-align: right;\n    }\n</style>\n<table border=\"1\" class=\"dataframe\">\n  <thead>\n    <tr style=\"text-align: right;\">\n      <th></th>\n      <th>subject_id</th>\n      <th>drug_events</th>\n      <th>procedure_codes</th>\n      <th>hadm_id</th>\n      <th>icustay_id</th>\n      <th>gender</th>\n      <th>dod</th>\n      <th>admittime</th>\n      <th>dischtime</th>\n      <th>los_hospital</th>\n      <th>...</th>\n      <th>hospital_expire_flag</th>\n      <th>hospstay_seq</th>\n      <th>first_hosp_stay</th>\n      <th>intime</th>\n      <th>outtime</th>\n      <th>los_icu</th>\n      <th>icustay_seq</th>\n      <th>first_icu_stay</th>\n      <th>survival</th>\n      <th>events</th>\n    </tr>\n  </thead>\n  <tbody>\n    <tr>\n      <th>0</th>\n      <td>84818</td>\n      <td>225910 225823 225910 225823 225910 225823 2259...</td>\n      <td>4513 4523</td>\n      <td>175593.0</td>\n      <td>226866.0</td>\n      <td>0.0</td>\n      <td>NaN</td>\n      <td>2122-06-19 20:41:00</td>\n      <td>2122-06-24 12:24:00</td>\n      <td>4.6549</td>\n      <td>...</td>\n      <td>0.0</td>\n      <td>1.0</td>\n      <td>0.0</td>\n      <td>2122-06-19 20:42:04</td>\n      <td>2122-06-21 15:37:24</td>\n      <td>1.7884</td>\n      <td>1.0</td>\n      <td>0.0</td>\n      <td>1</td>\n      <td>225910 225823 225910 225823 225910 225823 2259...</td>\n    </tr>\n    <tr>\n      <th>1</th>\n      <td>99412</td>\n      <td>222042 220970 220970 226364 225907 225799 2258...</td>\n      <td>3972 8841</td>\n      <td>192975.0</td>\n      <td>295903.0</td>\n      <td>1.0</td>\n      <td>NaN</td>\n      <td>2142-04-24 12:19:00</td>\n      <td>2142-05-03 13:00:00</td>\n      <td>9.0285</td>\n      <td>...</td>\n      <td>0.0</td>\n      <td>1.0</td>\n      <td>0.0</td>\n      <td>2142-04-24 14:50:11</td>\n      <td>2142-04-30 17:58:10</td>\n      <td>6.1305</td>\n      <td>1.0</td>\n      <td>0.0</td>\n      <td>1</td>\n      <td>222042 220970 220970 226364 225907 225799 2258...</td>\n    </tr>\n    <tr>\n      <th>2</th>\n      <td>77487</td>\n      <td>225910 226361 225910 225910</td>\n      <td>4513 4516 4513 8604</td>\n      <td>144009.0</td>\n      <td>250934.0</td>\n      <td>0.0</td>\n      <td>NaN</td>\n      <td>2198-11-17 09:15:00</td>\n      <td>2198-11-23 19:57:00</td>\n      <td>6.4458</td>\n      <td>...</td>\n      <td>0.0</td>\n      <td>2.0</td>\n      <td>1.0</td>\n      <td>2198-11-17 09:16:18</td>\n      <td>2198-11-18 14:24:09</td>\n      <td>1.2138</td>\n      <td>1.0</td>\n      <td>0.0</td>\n      <td>1</td>\n      <td>225910 226361 225910 225910 4513 4516 4513 8604</td>\n    </tr>\n    <tr>\n      <th>3</th>\n      <td>63219</td>\n      <td>226364 226372 222168 222056 225154 225154 2214...</td>\n      <td>3615 3961</td>\n      <td>194579.0</td>\n      <td>220120.0</td>\n      <td>0.0</td>\n      <td>NaN</td>\n      <td>2130-11-15 07:30:00</td>\n      <td>2130-11-19 13:40:00</td>\n      <td>4.2569</td>\n      <td>...</td>\n      <td>0.0</td>\n      <td>1.0</td>\n      <td>0.0</td>\n      <td>2130-11-15 11:28:52</td>\n      <td>2130-11-16 11:42:45</td>\n      <td>1.0096</td>\n      <td>1.0</td>\n      <td>0.0</td>\n      <td>1</td>\n      <td>226364 226372 222168 222056 225154 225154 2214...</td>\n    </tr>\n    <tr>\n      <th>4</th>\n      <td>46060</td>\n      <td>226361 225168 226361 226361 220970 225154 2217...</td>\n      <td>9907 9904</td>\n      <td>123807.0</td>\n      <td>268137.0</td>\n      <td>1.0</td>\n      <td>NaN</td>\n      <td>2181-09-05 12:00:00</td>\n      <td>2181-09-14 21:32:00</td>\n      <td>9.3972</td>\n      <td>...</td>\n      <td>0.0</td>\n      <td>1.0</td>\n      <td>0.0</td>\n      <td>2181-09-09 01:45:54</td>\n      <td>2181-09-11 15:24:40</td>\n      <td>2.5686</td>\n      <td>1.0</td>\n      <td>0.0</td>\n      <td>1</td>\n      <td>226361 225168 226361 226361 220970 225154 2217...</td>\n    </tr>\n    <tr>\n      <th>...</th>\n      <td>...</td>\n      <td>...</td>\n      <td>...</td>\n      <td>...</td>\n      <td>...</td>\n      <td>...</td>\n      <td>...</td>\n      <td>...</td>\n      <td>...</td>\n      <td>...</td>\n      <td>...</td>\n      <td>...</td>\n      <td>...</td>\n      <td>...</td>\n      <td>...</td>\n      <td>...</td>\n      <td>...</td>\n      <td>...</td>\n      <td>...</td>\n      <td>...</td>\n      <td>...</td>\n    </tr>\n    <tr>\n      <th>195</th>\n      <td>70314</td>\n      <td>226361 225154 220995 225154 225154 225154 2251...</td>\n      <td>4131 3893 5013 8864 3897 3897 9925 370 0392 99...</td>\n      <td>129845.0</td>\n      <td>206464.0</td>\n      <td>1.0</td>\n      <td>NaN</td>\n      <td>2191-11-24 15:33:00</td>\n      <td>2192-01-13 17:53:00</td>\n      <td>50.0972</td>\n      <td>...</td>\n      <td>0.0</td>\n      <td>1.0</td>\n      <td>0.0</td>\n      <td>2191-11-28 20:58:28</td>\n      <td>2191-11-29 18:35:18</td>\n      <td>0.9006</td>\n      <td>1.0</td>\n      <td>0.0</td>\n      <td>1</td>\n      <td>226361 225154 220995 225154 225154 225154 2251...</td>\n    </tr>\n    <tr>\n      <th>196</th>\n      <td>43736</td>\n      <td>225151 225159 223262 225159 223258</td>\n      <td>0066 3607 9920 0046 0040 8856 3778</td>\n      <td>143451.0</td>\n      <td>246005.0</td>\n      <td>1.0</td>\n      <td>NaN</td>\n      <td>2137-12-28 22:50:00</td>\n      <td>2138-01-03 15:15:00</td>\n      <td>5.6840</td>\n      <td>...</td>\n      <td>0.0</td>\n      <td>1.0</td>\n      <td>0.0</td>\n      <td>2138-01-01 18:37:36</td>\n      <td>2138-01-02 12:54:44</td>\n      <td>0.7619</td>\n      <td>1.0</td>\n      <td>0.0</td>\n      <td>1</td>\n      <td>225151 225159 223262 225159 223258 0066 3607 9...</td>\n    </tr>\n    <tr>\n      <th>197</th>\n      <td>51754</td>\n      <td>225910 220970 220970 225168 225168 220995 2251...</td>\n      <td>4523 4513 4513 4523 4513 3734 3722 3964 8856</td>\n      <td>105236.0</td>\n      <td>257838.0</td>\n      <td>0.0</td>\n      <td>NaN</td>\n      <td>2100-10-31 21:51:00</td>\n      <td>2100-11-03 10:15:00</td>\n      <td>2.5167</td>\n      <td>...</td>\n      <td>0.0</td>\n      <td>2.0</td>\n      <td>1.0</td>\n      <td>2100-10-31 21:52:03</td>\n      <td>2100-11-03 10:58:55</td>\n      <td>2.5464</td>\n      <td>1.0</td>\n      <td>0.0</td>\n      <td>1</td>\n      <td>225910 220970 220970 225168 225168 220995 2251...</td>\n    </tr>\n    <tr>\n      <th>198</th>\n      <td>42180</td>\n      <td>221986 222168 225828 227522 225166 225828 2258...</td>\n      <td>3929 8411 3527 3774 3787 3776 3961</td>\n      <td>135448.0</td>\n      <td>212790.0</td>\n      <td>0.0</td>\n      <td>NaN</td>\n      <td>2114-12-27 07:15:00</td>\n      <td>2115-01-01 13:15:00</td>\n      <td>5.2500</td>\n      <td>...</td>\n      <td>0.0</td>\n      <td>1.0</td>\n      <td>0.0</td>\n      <td>2114-12-27 11:00:10</td>\n      <td>2114-12-29 22:13:50</td>\n      <td>2.4678</td>\n      <td>1.0</td>\n      <td>0.0</td>\n      <td>1</td>\n      <td>221986 222168 225828 227522 225166 225828 2258...</td>\n    </tr>\n    <tr>\n      <th>199</th>\n      <td>32082</td>\n      <td>225859 225975 225884 225975 225884 225910 2251...</td>\n      <td>5185 5187</td>\n      <td>131005.0</td>\n      <td>240333.0</td>\n      <td>0.0</td>\n      <td>NaN</td>\n      <td>2112-04-04 13:50:00</td>\n      <td>2112-04-13 16:00:00</td>\n      <td>9.0903</td>\n      <td>...</td>\n      <td>0.0</td>\n      <td>1.0</td>\n      <td>0.0</td>\n      <td>2112-04-07 09:28:02</td>\n      <td>2112-04-08 17:57:32</td>\n      <td>1.3538</td>\n      <td>1.0</td>\n      <td>0.0</td>\n      <td>1</td>\n      <td>225859 225975 225884 225975 225884 225910 2251...</td>\n    </tr>\n  </tbody>\n</table>\n<p>200 rows × 24 columns</p>\n</div>"
     },
     "execution_count": 369,
     "metadata": {},
     "output_type": "execute_result"
    }
   ],
   "source": [
    "validation_pos"
   ],
   "metadata": {
    "collapsed": false,
    "pycharm": {
     "name": "#%%\n"
    }
   }
  },
  {
   "cell_type": "code",
   "execution_count": 370,
   "outputs": [],
   "source": [
    "train_neg['events'] = train_neg['drug_events'] + \" \" + train_neg['procedure_codes']\n",
    "train_pos['events'] = train_pos['drug_events'] + \" \" + train_pos['procedure_codes']"
   ],
   "metadata": {
    "collapsed": false,
    "pycharm": {
     "name": "#%%\n"
    }
   }
  },
  {
   "cell_type": "code",
   "execution_count": 371,
   "metadata": {},
   "outputs": [],
   "source": [
    "validation = pd.concat([validation_pos, validation_neg]).reset_index()\n",
    "validation_reordered = validation.sample(frac=1, random_state=3)\n",
    "\n",
    "\n",
    "X_val_events, X_val_static, y_val = validation_reordered[\"events\"],validation_reordered[static_feature_names], validation_reordered['survival']"
   ]
  },
  {
   "cell_type": "code",
   "execution_count": 372,
   "metadata": {},
   "outputs": [
    {
     "data": {
      "text/plain": "376    225893 225798 221794 225893 225893 221794 2258...\n16                        226361 225168 225910 4525 4513\n365    226361 225798 225975 223262 223262 225855 2259...\n82     221468 221794 221468 221794 221347 225152 2213...\n107    225910 220970 225168 221794 225910 225884 2216...\nName: events, dtype: object"
     },
     "execution_count": 372,
     "metadata": {},
     "output_type": "execute_result"
    }
   ],
   "source": [
    "X_val_events.head()"
   ]
  },
  {
   "cell_type": "markdown",
   "metadata": {},
   "source": [
    "### Data preprocessing\n",
    "\n",
    "#### 1.1 Conver all the events into sequence (token) ids"
   ]
  },
  {
   "cell_type": "code",
   "execution_count": 373,
   "metadata": {},
   "outputs": [],
   "source": [
    "# Set the vocab size and max sequence lenght\n",
    "vocab_size = 1100 #(max vocab id=1024 in the training data)\n",
    "max_seq_length = 74 #(the maximum sequence length in training/testing data)"
   ]
  },
  {
   "cell_type": "code",
   "execution_count": 374,
   "metadata": {},
   "outputs": [],
   "source": [
    "# Use a text tokenizer to convert events\n",
    "tokenizer = Tokenizer(num_words = vocab_size)\n",
    "tokenizer.fit_on_texts(X_train_events)"
   ]
  },
  {
   "cell_type": "code",
   "execution_count": 375,
   "metadata": {},
   "outputs": [],
   "source": [
    "X_train_sequences = tokenizer.texts_to_sequences(X_train_events)\n",
    "X_val_sequences = tokenizer.texts_to_sequences(X_val_events)"
   ]
  },
  {
   "cell_type": "code",
   "execution_count": 376,
   "metadata": {},
   "outputs": [
    {
     "name": "stdout",
     "output_type": "stream",
     "text": [
      "Before texts_to_sequences():\n",
      " 220995 220995 223262 221456 227523 222011 225975 223262 4525\n",
      "\n",
      "After texts_to_sequences():\n",
      " [48, 48, 7, 30, 20, 14, 2, 7, 212]\n"
     ]
    }
   ],
   "source": [
    "# Before texts_to_sequences()\n",
    "print(f'Before texts_to_sequences():\\n {X_train_events.iloc[0]}\\n')\n",
    "\n",
    "# After texts_to_sequences()\n",
    "print(f'After texts_to_sequences():\\n {X_train_sequences[0]}')"
   ]
  },
  {
   "cell_type": "markdown",
   "metadata": {},
   "source": [
    "#### 1.2 Padding converted sequences"
   ]
  },
  {
   "cell_type": "code",
   "execution_count": 377,
   "metadata": {},
   "outputs": [],
   "source": [
    "# Pad X_train_sequences and X_val_sequences\n",
    "X_train_padded = sequence.pad_sequences(X_train_sequences, maxlen=max_seq_length, padding='post')\n",
    "X_val_padded = sequence.pad_sequences(X_val_sequences, maxlen=max_seq_length, padding='post')"
   ]
  },
  {
   "cell_type": "code",
   "execution_count": 378,
   "metadata": {},
   "outputs": [
    {
     "data": {
      "text/plain": "(6041, 74)"
     },
     "execution_count": 378,
     "metadata": {},
     "output_type": "execute_result"
    }
   ],
   "source": [
    "X_train_padded.shape"
   ]
  },
  {
   "cell_type": "code",
   "execution_count": 379,
   "metadata": {},
   "outputs": [
    {
     "data": {
      "text/plain": "(400, 74)"
     },
     "execution_count": 379,
     "metadata": {},
     "output_type": "execute_result"
    }
   ],
   "source": [
    "X_val_padded.shape"
   ]
  },
  {
   "cell_type": "code",
   "execution_count": 380,
   "metadata": {},
   "outputs": [
    {
     "data": {
      "text/plain": "array([[22, 11, 12, ...,  0,  0,  0],\n       [21,  9, 15, ...,  0,  0,  0],\n       [21, 11,  2, ...,  0,  0,  0],\n       ...,\n       [13,  5, 16, ...,  0,  0,  0],\n       [ 9, 21,  9, ...,  0,  0,  0],\n       [12, 21, 11, ...,  0,  0,  0]])"
     },
     "execution_count": 380,
     "metadata": {},
     "output_type": "execute_result"
    }
   ],
   "source": [
    "X_val_padded"
   ]
  },
  {
   "cell_type": "code",
   "metadata": {
    "pycharm": {
     "name": "#%%\n"
    }
   },
   "source": [
    "## 2. Train prediction models\n",
    "# For plotting the accuracy/loss of keras models\n",
    "def plot_graphs(history, string):\n",
    "    plt.plot(history.history[string])\n",
    "    plt.plot(history.history['val_' + string])\n",
    "    plt.xlabel(\"Epochs\")\n",
    "    plt.ylabel(string)\n",
    "    plt.legend([string, 'val_' + string])\n",
    "    plt.show()"
   ],
   "execution_count": null,
   "outputs": []
  },
  {
   "cell_type": "code",
   "execution_count": 272,
   "outputs": [],
   "source": [
    "def eval_model_preds(preds, reference):\n",
    "    # Calculate the validation accuracy\n",
    "    validation_acc = sum(preds == reference)/len(reference)\n",
    "    print(f'Validation Accuracy: {validation_acc}')\n",
    "    print()\n",
    "    # Get the confusion matrix\n",
    "    confusion_matrix_df = pd.DataFrame(\n",
    "        confusion_matrix(y_true=reference, y_pred=preds, labels=[1, 0]),\n",
    "        index=['True:pos', 'True:neg'],\n",
    "        columns=['Pred:pos', 'Pred:neg']\n",
    "    )\n",
    "    print('Confusion Matrix:')\n",
    "    print(confusion_matrix_df)\n",
    "    print( )\n",
    "\n",
    "    # Counts of positive and negative predictions\n",
    "    print('Negative and positive predictions')\n",
    "    print(pd.value_counts(preds))"
   ],
   "metadata": {
    "collapsed": false,
    "pycharm": {
     "name": "#%%\n"
    }
   }
  },
  {
   "cell_type": "code",
   "execution_count": 241,
   "outputs": [],
   "source": [
    "# Define the early stopping criteria\n",
    "early_stopping = EarlyStopping(monitor='val_accuracy', patience=3)"
   ],
   "metadata": {
    "collapsed": false,
    "pycharm": {
     "name": "#%%\n"
    }
   }
  },
  {
   "cell_type": "markdown",
   "source": [
    "### 2.1 Train the dynamic feature LSTM"
   ],
   "metadata": {
    "collapsed": false
   }
  },
  {
   "cell_type": "code",
   "execution_count": 323,
   "metadata": {},
   "outputs": [],
   "source": [
    "# Fix the random seeds to get consistent models\n",
    "## ref: https://keras.io/getting_started/faq/#how-can-i-obtain-reproducible-results-using-keras-during-development\n",
    "seed_value = 3\n",
    "\n",
    "os.environ['PYTHONHASHSEED']=str(seed_value)\n",
    "\n",
    "# The below is necessary for starting Numpy generated random numbers in a well-defined initial state.\n",
    "np.random.seed(seed_value)\n",
    "\n",
    "# The below is necessary for starting core Python generated random numbers in a well-defined state.\n",
    "python_random.seed(seed_value)\n",
    "\n",
    "# The below set_seed() will make random number generation\n",
    "tf.random.set_seed(seed_value)\n",
    "\n",
    "# configure a new global `tensorflow` session\n",
    "session_conf = tf.compat.v1.ConfigProto(intra_op_parallelism_threads=1, inter_op_parallelism_threads=1)\n",
    "sess = tf.compat.v1.Session(graph=tf.compat.v1.get_default_graph(), config=session_conf)\n",
    "tf.compat.v1.keras.backend.set_session(sess)\n",
    "\n",
    "def reset_seeds(seed_value=3):\n",
    "    os.environ['PYTHONHASHSEED']=str(seed_value)\n",
    "    np.random.seed(seed_value) \n",
    "    python_random.seed(seed_value)\n",
    "    tf.random.set_seed(seed_value)\n",
    "\n",
    "reset_seeds()"
   ]
  },
  {
   "cell_type": "code",
   "execution_count": 324,
   "metadata": {},
   "outputs": [
    {
     "name": "stdout",
     "output_type": "stream",
     "text": [
      "Model: \"model_17\"\n",
      "_________________________________________________________________\n",
      " Layer (type)                Output Shape              Param #   \n",
      "=================================================================\n",
      " input_54 (InputLayer)       [(None, None)]            0         \n",
      "                                                                 \n",
      " embedding_21 (Embedding)    (None, None, 128)         140800    \n",
      "                                                                 \n",
      " bidirectional_8 (Bidirectio  (None, None, 128)        98816     \n",
      " nal)                                                            \n",
      "                                                                 \n",
      " bidirectional_9 (Bidirectio  (None, 128)              98816     \n",
      " nal)                                                            \n",
      "                                                                 \n",
      " dense_52 (Dense)            (None, 64)                8256      \n",
      "                                                                 \n",
      " dense_53 (Dense)            (None, 64)                4160      \n",
      "                                                                 \n",
      " dense_54 (Dense)            (None, 1)                 65        \n",
      "                                                                 \n",
      "=================================================================\n",
      "Total params: 350,913\n",
      "Trainable params: 350,913\n",
      "Non-trainable params: 0\n",
      "_________________________________________________________________\n"
     ]
    }
   ],
   "source": [
    "# Define the model structure\n",
    "# Input for variable-length sequences of integers\n",
    "inputs = keras.Input(shape=(None,), dtype=\"int32\")\n",
    "\n",
    "# Embed each integer in a 128-dimensional vector\n",
    "x = layers.Embedding(vocab_size, 128)(inputs)\n",
    "\n",
    "# Add 2 bidirectional LSTMs\n",
    "x = layers.Bidirectional(layers.LSTM(64, return_sequences=True))(x)\n",
    "x = layers.Bidirectional(layers.LSTM(64))(x)\n",
    "x = layers.Dense(64)(x)\n",
    "x = layers.Dense(64)(x)\n",
    "\n",
    "# Add a classifier\n",
    "outputs = layers.Dense(1, activation=\"sigmoid\")(x)\n",
    "main_model = keras.Model(inputs, outputs)\n",
    "\n",
    "main_model.summary()"
   ]
  },
  {
   "cell_type": "code",
   "execution_count": 325,
   "metadata": {},
   "outputs": [
    {
     "name": "stdout",
     "output_type": "stream",
     "text": [
      "Epoch 1/30\n",
      "95/95 [==============================] - 11s 60ms/step - loss: 0.5837 - accuracy: 0.6919 - val_loss: 0.5690 - val_accuracy: 0.7050\n",
      "Epoch 2/30\n",
      "95/95 [==============================] - 4s 39ms/step - loss: 0.4952 - accuracy: 0.7578 - val_loss: 0.5505 - val_accuracy: 0.7000\n",
      "Epoch 3/30\n",
      "95/95 [==============================] - 4s 40ms/step - loss: 0.4458 - accuracy: 0.7921 - val_loss: 0.5189 - val_accuracy: 0.7350\n",
      "Epoch 4/30\n",
      "95/95 [==============================] - 4s 39ms/step - loss: 0.4028 - accuracy: 0.8118 - val_loss: 0.5250 - val_accuracy: 0.7525\n",
      "Epoch 5/30\n",
      "95/95 [==============================] - 4s 39ms/step - loss: 0.3849 - accuracy: 0.8283 - val_loss: 0.4932 - val_accuracy: 0.7600\n",
      "Epoch 6/30\n",
      "95/95 [==============================] - 4s 38ms/step - loss: 0.3466 - accuracy: 0.8482 - val_loss: 0.4674 - val_accuracy: 0.7750\n",
      "Epoch 7/30\n",
      "95/95 [==============================] - 4s 40ms/step - loss: 0.3176 - accuracy: 0.8651 - val_loss: 0.4947 - val_accuracy: 0.7750\n",
      "Epoch 8/30\n",
      "95/95 [==============================] - 4s 44ms/step - loss: 0.2967 - accuracy: 0.8798 - val_loss: 0.5026 - val_accuracy: 0.7875\n",
      "Epoch 9/30\n",
      "95/95 [==============================] - 4s 39ms/step - loss: 0.2809 - accuracy: 0.8878 - val_loss: 0.4740 - val_accuracy: 0.8125\n",
      "Epoch 10/30\n",
      "95/95 [==============================] - 4s 40ms/step - loss: 0.2724 - accuracy: 0.8909 - val_loss: 0.5021 - val_accuracy: 0.8000\n",
      "Epoch 11/30\n",
      "95/95 [==============================] - 4s 43ms/step - loss: 0.2532 - accuracy: 0.9002 - val_loss: 0.5445 - val_accuracy: 0.7825\n",
      "Epoch 12/30\n",
      "95/95 [==============================] - 4s 40ms/step - loss: 0.2272 - accuracy: 0.9131 - val_loss: 0.5663 - val_accuracy: 0.8125\n"
     ]
    }
   ],
   "source": [
    "main_model.compile(\"adam\", \"binary_crossentropy\", metrics=[\"accuracy\"])\n",
    "\n",
    "reset_seeds()\n",
    "model_history = main_model.fit(\n",
    "    X_train_padded, \n",
    "    y_train, \n",
    "    epochs=30, \n",
    "    batch_size=64, \n",
    "    validation_data=(X_val_padded, y_val), \n",
    "    callbacks=[early_stopping]\n",
    "    )"
   ]
  },
  {
   "cell_type": "code",
   "execution_count": 326,
   "metadata": {},
   "outputs": [
    {
     "data": {
      "text/plain": "<Figure size 432x288 with 1 Axes>",
      "image/png": "[encoded data removed]"
     },
     "metadata": {
      "needs_background": "light"
     },
     "output_type": "display_data"
    },
    {
     "data": {
      "text/plain": "<Figure size 432x288 with 1 Axes>",
      "image/png": "[encoded data removed]"
     },
     "metadata": {
      "needs_background": "light"
     },
     "output_type": "display_data"
    }
   ],
   "source": [
    "# Visualize the training/validation accuracy and loss\n",
    "plot_graphs(model_history, \"accuracy\")\n",
    "plot_graphs(model_history, \"loss\")"
   ]
  },
  {
   "cell_type": "code",
   "execution_count": 329,
   "metadata": {},
   "outputs": [],
   "source": [
    "# Get the predicted target class: if pred > 0.5, then y_pred = 1; else, y_pred = 0\n",
    "y_pred = np.array([1 if pred > 0.5 else 0 for pred in main_model.predict(X_val_padded)])"
   ]
  },
  {
   "cell_type": "code",
   "execution_count": 330,
   "metadata": {},
   "outputs": [
    {
     "name": "stdout",
     "output_type": "stream",
     "text": [
      "Validation Accuracy: 0.8125\n",
      "\n",
      "Confusion Matrix:\n",
      "          Pred:pos  Pred:neg\n",
      "True:pos       175        25\n",
      "True:neg        50       150\n",
      "\n",
      "Negative and positive predictions\n",
      "1    225\n",
      "0    175\n",
      "dtype: int64\n"
     ]
    }
   ],
   "source": [
    "eval_model_preds(y_pred, y_val)"
   ]
  },
  {
   "cell_type": "markdown",
   "source": [
    "### 2.2 Train full feature LSTM"
   ],
   "metadata": {
    "collapsed": false
   }
  },
  {
   "cell_type": "code",
   "execution_count": 381,
   "outputs": [],
   "source": [
    "# Fix the random seeds to get consistent models\n",
    "## ref: https://keras.io/getting_started/faq/#how-can-i-obtain-reproducible-results-using-keras-during-development\n",
    "seed_value = 3\n",
    "\n",
    "os.environ['PYTHONHASHSEED']=str(seed_value)\n",
    "\n",
    "# The below is necessary for starting Numpy generated random numbers in a well-defined initial state.\n",
    "np.random.seed(seed_value)\n",
    "\n",
    "# The below is necessary for starting core Python generated random numbers in a well-defined state.\n",
    "python_random.seed(seed_value)\n",
    "\n",
    "# The below set_seed() will make random number generation\n",
    "tf.random.set_seed(seed_value)\n",
    "\n",
    "# configure a new global `tensorflow` session\n",
    "session_conf = tf.compat.v1.ConfigProto(intra_op_parallelism_threads=1, inter_op_parallelism_threads=1)\n",
    "sess = tf.compat.v1.Session(graph=tf.compat.v1.get_default_graph(), config=session_conf)\n",
    "tf.compat.v1.keras.backend.set_session(sess)\n",
    "\n",
    "def reset_seeds(seed_value=3):\n",
    "    os.environ['PYTHONHASHSEED']=str(seed_value)\n",
    "    np.random.seed(seed_value)\n",
    "    python_random.seed(seed_value)\n",
    "    tf.random.set_seed(seed_value)\n",
    "\n",
    "reset_seeds()"
   ],
   "metadata": {
    "collapsed": false,
    "pycharm": {
     "name": "#%%\n"
    }
   }
  },
  {
   "cell_type": "code",
   "execution_count": 382,
   "outputs": [
    {
     "name": "stderr",
     "output_type": "stream",
     "text": [
      "c:\\repos\\cf_drg_res\\.venv_windows\\lib\\site-packages\\keras\\optimizer_v2\\adam.py:105: UserWarning: The `lr` argument is deprecated, use `learning_rate` instead.\n",
      "  super(Adam, self).__init__(name, **kwargs)\n"
     ]
    }
   ],
   "source": [
    "def step_decay(epoch, triangular = False):\n",
    "    initial_lrate = 0.1\n",
    "    drop = 0.7\n",
    "    epochs_drop = 3.0\n",
    "    lrate = initial_lrate * math.pow(drop, math.floor((1+epoch)/epochs_drop))\n",
    "    if triangular == True and epoch%2 == 1:\n",
    "        lrate += lrate\n",
    "    return lrate\n",
    "\n",
    "lrate = LearningRateScheduler(step_decay)\n",
    "\n",
    "x_i = Input(shape=(None,), dtype=\"int32\")\n",
    "x = layers.Embedding(vocab_size, 128)(x_i)\n",
    "\n",
    "x_i2 = Input(shape = (len(static_feature_names),))\n",
    "\n",
    "# bf\n",
    "x = CuDNNLSTM(units=64, return_sequences = True, kernel_initializer = keras.initializers.he_normal(seed=19),\n",
    "        recurrent_initializer = keras.initializers.he_normal(seed=19), kernel_regularizer = keras.regularizers.l1(0.01),\n",
    "        recurrent_regularizer = keras.regularizers.l2(0.01))(x)\n",
    "x = Dropout(0.4)(x)\n",
    "#b1\n",
    "x_pa = CuDNNLSTM(units=64, kernel_initializer = keras.initializers.he_normal(seed=19),\n",
    "        recurrent_initializer = keras.initializers.he_normal(seed=19), kernel_regularizer = keras.regularizers.l1(0.01),\n",
    "        recurrent_regularizer = keras.regularizers.l2(0.01))(x)\n",
    "x = Activation('relu')(x_pa)\n",
    "x = Dropout(0.1)(x)\n",
    "\n",
    "#b2\n",
    "x_pa2 = Dense(64, kernel_initializer = keras.initializers.he_normal(seed=19),\n",
    "             bias_initializer = keras.initializers.he_normal(seed=19),\n",
    "             kernel_regularizer = keras.regularizers.l1(0.01),\n",
    "             bias_regularizer = keras.regularizers.l1(0.01))(x_i2)\n",
    "x2 = Activation('relu')(x_pa2)\n",
    "x2 = Dropout(0.1)(x2)\n",
    "x_dot = Dot(axes=1, normalize=True)([x2, x])\n",
    "\n",
    "# Dot gives 75% test axes=1, normalize=True\n",
    "# Add 33% Mul got stuck at 75% Max got stuck 70%\n",
    "# Average stuck 70%\n",
    "\n",
    "x_add = Concatenate()([x_dot, x_pa])\n",
    "x_f = Activation('relu')(x_add)\n",
    "\n",
    "x_add2 = Concatenate()([x_dot, x_pa2])\n",
    "x_f2 = Activation('relu')(x_add2)\n",
    "\n",
    "x_dot2 = Dot(axes=1, normalize=True)([x_f, x_f2])\n",
    "\n",
    "x_add = Concatenate()([x_dot2, x_pa])\n",
    "x_f = Activation('relu')(x_add)\n",
    "\n",
    "x_add2 = Concatenate()([x_dot2, x_pa2])\n",
    "x_f2 = Activation('relu')(x_add2)\n",
    "\n",
    "x_dot3 = Dot(axes=1, normalize=True)([x_f, x_f2])\n",
    "\n",
    "x_add = Concatenate()([x_dot3, x_pa])\n",
    "x_f = Activation('relu')(x_add)\n",
    "\n",
    "x_add2 = Concatenate()([x_dot3, x_pa2])\n",
    "x_f2 = Activation('relu')(x_add2)\n",
    "\n",
    "x_dot4 = Dot(axes=1, normalize=True)([x_f, x_f2])\n",
    "\n",
    "x_add = Concatenate()([x_dot4, x_pa])\n",
    "x_f = Activation('relu')(x_add)\n",
    "\n",
    "x_add2 = Concatenate()([x_dot4, x_pa2])\n",
    "x_f2 = Activation('relu')(x_add2)\n",
    "\n",
    "x_dot5 = Dot(axes=1, normalize=True)([x_f, x_f2])\n",
    "\n",
    "x_add = Concatenate()([x_dot5, x_i2])\n",
    "x_f = Activation('relu')(x_add)\n",
    "\n",
    "x_f = Dense(128, activation='relu', kernel_initializer = keras.initializers.he_normal(seed=19),\n",
    "             bias_initializer = keras.initializers.he_normal(seed=19),\n",
    "             kernel_regularizer = keras.regularizers.l1(0.01),\n",
    "             bias_regularizer = keras.regularizers.l1(0.01))(x_f)\n",
    "\n",
    "\n",
    "x = Dropout(0.2)(x_f)\n",
    "x_o = Dense(1, activation=\"sigmoid\")(x)\n",
    "\n",
    "\n",
    "model = Model([x_i, x_i2], x_o)\n",
    "\n",
    "# checkpoint\n",
    "filepath=\"dot_res_lstm-{epoch:02d}-{val_acc:.2f}.hdf5\"\n",
    "checkpoint = ModelCheckpoint(filepath, monitor='val_acc', verbose=1, save_best_only=True, mode='max')\n",
    "callbacks_list = [checkpoint, lrate]\n",
    "\n",
    "model.compile(loss='categorical_crossentropy', optimizer=Adam(lr=0.01), metrics=['accuracy'])"
   ],
   "metadata": {
    "collapsed": false,
    "pycharm": {
     "name": "#%%\n"
    }
   }
  },
  {
   "cell_type": "code",
   "execution_count": 384,
   "outputs": [
    {
     "name": "stdout",
     "output_type": "stream",
     "text": [
      "Model: \"model_19\"\n",
      "__________________________________________________________________________________________________\n",
      " Layer (type)                   Output Shape         Param #     Connected to                     \n",
      "==================================================================================================\n",
      " input_57 (InputLayer)          [(None, None)]       0           []                               \n",
      "                                                                                                  \n",
      " embedding_23 (Embedding)       (None, None, 128)    140800      ['input_57[0][0]']               \n",
      "                                                                                                  \n",
      " cu_dnnlstm_39 (CuDNNLSTM)      (None, None, 64)     49664       ['embedding_23[0][0]']           \n",
      "                                                                                                  \n",
      " input_58 (InputLayer)          [(None, 7)]          0           []                               \n",
      "                                                                                                  \n",
      " dropout_63 (Dropout)           (None, None, 64)     0           ['cu_dnnlstm_39[0][0]']          \n",
      "                                                                                                  \n",
      " dense_58 (Dense)               (None, 64)           512         ['input_58[0][0]']               \n",
      "                                                                                                  \n",
      " cu_dnnlstm_40 (CuDNNLSTM)      (None, 64)           33280       ['dropout_63[0][0]']             \n",
      "                                                                                                  \n",
      " activation_168 (Activation)    (None, 64)           0           ['dense_58[0][0]']               \n",
      "                                                                                                  \n",
      " activation_167 (Activation)    (None, 64)           0           ['cu_dnnlstm_40[0][0]']          \n",
      "                                                                                                  \n",
      " dropout_65 (Dropout)           (None, 64)           0           ['activation_168[0][0]']         \n",
      "                                                                                                  \n",
      " dropout_64 (Dropout)           (None, 64)           0           ['activation_167[0][0]']         \n",
      "                                                                                                  \n",
      " dot_76 (Dot)                   (None, 1)            0           ['dropout_65[0][0]',             \n",
      "                                                                  'dropout_64[0][0]']             \n",
      "                                                                                                  \n",
      " concatenate_135 (Concatenate)  (None, 65)           0           ['dot_76[0][0]',                 \n",
      "                                                                  'cu_dnnlstm_40[0][0]']          \n",
      "                                                                                                  \n",
      " concatenate_136 (Concatenate)  (None, 65)           0           ['dot_76[0][0]',                 \n",
      "                                                                  'dense_58[0][0]']               \n",
      "                                                                                                  \n",
      " activation_169 (Activation)    (None, 65)           0           ['concatenate_135[0][0]']        \n",
      "                                                                                                  \n",
      " activation_170 (Activation)    (None, 65)           0           ['concatenate_136[0][0]']        \n",
      "                                                                                                  \n",
      " dot_77 (Dot)                   (None, 1)            0           ['activation_169[0][0]',         \n",
      "                                                                  'activation_170[0][0]']         \n",
      "                                                                                                  \n",
      " concatenate_137 (Concatenate)  (None, 65)           0           ['dot_77[0][0]',                 \n",
      "                                                                  'cu_dnnlstm_40[0][0]']          \n",
      "                                                                                                  \n",
      " concatenate_138 (Concatenate)  (None, 65)           0           ['dot_77[0][0]',                 \n",
      "                                                                  'dense_58[0][0]']               \n",
      "                                                                                                  \n",
      " activation_171 (Activation)    (None, 65)           0           ['concatenate_137[0][0]']        \n",
      "                                                                                                  \n",
      " activation_172 (Activation)    (None, 65)           0           ['concatenate_138[0][0]']        \n",
      "                                                                                                  \n",
      " dot_78 (Dot)                   (None, 1)            0           ['activation_171[0][0]',         \n",
      "                                                                  'activation_172[0][0]']         \n",
      "                                                                                                  \n",
      " concatenate_139 (Concatenate)  (None, 65)           0           ['dot_78[0][0]',                 \n",
      "                                                                  'cu_dnnlstm_40[0][0]']          \n",
      "                                                                                                  \n",
      " concatenate_140 (Concatenate)  (None, 65)           0           ['dot_78[0][0]',                 \n",
      "                                                                  'dense_58[0][0]']               \n",
      "                                                                                                  \n",
      " activation_173 (Activation)    (None, 65)           0           ['concatenate_139[0][0]']        \n",
      "                                                                                                  \n",
      " activation_174 (Activation)    (None, 65)           0           ['concatenate_140[0][0]']        \n",
      "                                                                                                  \n",
      " dot_79 (Dot)                   (None, 1)            0           ['activation_173[0][0]',         \n",
      "                                                                  'activation_174[0][0]']         \n",
      "                                                                                                  \n",
      " concatenate_141 (Concatenate)  (None, 65)           0           ['dot_79[0][0]',                 \n",
      "                                                                  'cu_dnnlstm_40[0][0]']          \n",
      "                                                                                                  \n",
      " concatenate_142 (Concatenate)  (None, 65)           0           ['dot_79[0][0]',                 \n",
      "                                                                  'dense_58[0][0]']               \n",
      "                                                                                                  \n",
      " activation_175 (Activation)    (None, 65)           0           ['concatenate_141[0][0]']        \n",
      "                                                                                                  \n",
      " activation_176 (Activation)    (None, 65)           0           ['concatenate_142[0][0]']        \n",
      "                                                                                                  \n",
      " dot_80 (Dot)                   (None, 1)            0           ['activation_175[0][0]',         \n",
      "                                                                  'activation_176[0][0]']         \n",
      "                                                                                                  \n",
      " concatenate_143 (Concatenate)  (None, 8)            0           ['dot_80[0][0]',                 \n",
      "                                                                  'input_58[0][0]']               \n",
      "                                                                                                  \n",
      " activation_177 (Activation)    (None, 8)            0           ['concatenate_143[0][0]']        \n",
      "                                                                                                  \n",
      " dense_59 (Dense)               (None, 128)          1152        ['activation_177[0][0]']         \n",
      "                                                                                                  \n",
      " dropout_66 (Dropout)           (None, 128)          0           ['dense_59[0][0]']               \n",
      "                                                                                                  \n",
      " dense_60 (Dense)               (None, 1)            129         ['dropout_66[0][0]']             \n",
      "                                                                                                  \n",
      "==================================================================================================\n",
      "Total params: 225,537\n",
      "Trainable params: 225,537\n",
      "Non-trainable params: 0\n",
      "__________________________________________________________________________________________________\n"
     ]
    }
   ],
   "source": [
    "model.summary()"
   ],
   "metadata": {
    "collapsed": false,
    "pycharm": {
     "name": "#%%\n"
    }
   }
  },
  {
   "cell_type": "code",
   "execution_count": null,
   "outputs": [
    {
     "name": "stdout",
     "output_type": "stream",
     "text": [
      "Epoch 1/100\n",
      "95/95 [==============================] - 6s 31ms/step - loss: 13.8003 - accuracy: 0.3526 - val_loss: 8.5671 - val_accuracy: 0.5000\n",
      "Epoch 2/100\n",
      "95/95 [==============================] - 2s 25ms/step - loss: 15.0660 - accuracy: 0.3526 - val_loss: 22.4614 - val_accuracy: 0.5000\n",
      "Epoch 3/100\n",
      "95/95 [==============================] - 2s 26ms/step - loss: 30.4516 - accuracy: 0.3526 - val_loss: 38.7994 - val_accuracy: 0.5000\n",
      "Epoch 4/100\n",
      "95/95 [==============================] - 2s 26ms/step - loss: 46.6434 - accuracy: 0.3526 - val_loss: 54.4460 - val_accuracy: 0.5000\n",
      "Epoch 5/100\n",
      "95/95 [==============================] - 2s 26ms/step - loss: 62.1082 - accuracy: 0.3526 - val_loss: 70.8374 - val_accuracy: 0.5000\n",
      "Epoch 6/100\n",
      "95/95 [==============================] - 2s 25ms/step - loss: 78.4148 - accuracy: 0.3526 - val_loss: 86.1102 - val_accuracy: 0.5000\n",
      "Epoch 7/100\n",
      "95/95 [==============================] - 2s 25ms/step - loss: 93.8127 - accuracy: 0.3526 - val_loss: 101.8799 - val_accuracy: 0.5000\n",
      "Epoch 8/100\n",
      "95/95 [==============================] - 2s 25ms/step - loss: 110.2897 - accuracy: 0.3526 - val_loss: 123.6673 - val_accuracy: 0.5000\n",
      "Epoch 9/100\n",
      "10/95 [==>...........................] - ETA: 2s - loss: 124.1315 - accuracy: 0.3344"
     ]
    }
   ],
   "source": [
    "hist = model.fit([X_train_padded, X_train_static], y_train, epochs = 100, batch_size = 64, validation_data=([X_val_padded, X_val_static], y_val),\n",
    "        #callbacks=early_stopping\n",
    "        )"
   ],
   "metadata": {
    "collapsed": false,
    "pycharm": {
     "name": "#%%\n",
     "is_executing": true
    }
   }
  },
  {
   "cell_type": "code",
   "execution_count": 336,
   "outputs": [
    {
     "data": {
      "text/plain": "      gender      age  los_hospital  los_hospital  los_hospital  los_hospital  \\\n2367     1.0  95.0000        4.7785        4.7785        4.7785        4.7785   \n4760     1.0  95.0000        4.9243        4.9243        4.9243        4.9243   \n24       1.0  53.2236        7.1972        7.1972        7.1972        7.1972   \n3704     0.0  76.6553        1.9208        1.9208        1.9208        1.9208   \n4267     1.0  59.0068        8.0451        8.0451        8.0451        8.0451   \n...      ...      ...           ...           ...           ...           ...   \n968      0.0  88.3031        5.5229        5.5229        5.5229        5.5229   \n1667     0.0  40.7609        8.0472        8.0472        8.0472        8.0472   \n3322     1.0  78.4322        7.7792        7.7792        7.7792        7.7792   \n1688     0.0  57.5474        4.8521        4.8521        4.8521        4.8521   \n5995     0.0  81.1531       23.1368       23.1368       23.1368       23.1368   \n\n      ethnicity  admission_type  first_hosp_stay  first_icu_stay  \n2367        1.0             1.0              0.0             0.0  \n4760        1.0             1.0              0.0             0.0  \n24          3.0             1.0              1.0             0.0  \n3704       18.0             1.0              0.0             0.0  \n4267        1.0             1.0              1.0             0.0  \n...         ...             ...              ...             ...  \n968         1.0             1.0              0.0             0.0  \n1667       18.0             1.0              0.0             0.0  \n3322        1.0             1.0              0.0             0.0  \n1688        1.0             1.0              1.0             0.0  \n5995        3.0             1.0              0.0             0.0  \n\n[6041 rows x 10 columns]",
      "text/html": "<div>\n<style scoped>\n    .dataframe tbody tr th:only-of-type {\n        vertical-align: middle;\n    }\n\n    .dataframe tbody tr th {\n        vertical-align: top;\n    }\n\n    .dataframe thead th {\n        text-align: right;\n    }\n</style>\n<table border=\"1\" class=\"dataframe\">\n  <thead>\n    <tr style=\"text-align: right;\">\n      <th></th>\n      <th>gender</th>\n      <th>age</th>\n      <th>los_hospital</th>\n      <th>los_hospital</th>\n      <th>los_hospital</th>\n      <th>los_hospital</th>\n      <th>ethnicity</th>\n      <th>admission_type</th>\n      <th>first_hosp_stay</th>\n      <th>first_icu_stay</th>\n    </tr>\n  </thead>\n  <tbody>\n    <tr>\n      <th>2367</th>\n      <td>1.0</td>\n      <td>95.0000</td>\n      <td>4.7785</td>\n      <td>4.7785</td>\n      <td>4.7785</td>\n      <td>4.7785</td>\n      <td>1.0</td>\n      <td>1.0</td>\n      <td>0.0</td>\n      <td>0.0</td>\n    </tr>\n    <tr>\n      <th>4760</th>\n      <td>1.0</td>\n      <td>95.0000</td>\n      <td>4.9243</td>\n      <td>4.9243</td>\n      <td>4.9243</td>\n      <td>4.9243</td>\n      <td>1.0</td>\n      <td>1.0</td>\n      <td>0.0</td>\n      <td>0.0</td>\n    </tr>\n    <tr>\n      <th>24</th>\n      <td>1.0</td>\n      <td>53.2236</td>\n      <td>7.1972</td>\n      <td>7.1972</td>\n      <td>7.1972</td>\n      <td>7.1972</td>\n      <td>3.0</td>\n      <td>1.0</td>\n      <td>1.0</td>\n      <td>0.0</td>\n    </tr>\n    <tr>\n      <th>3704</th>\n      <td>0.0</td>\n      <td>76.6553</td>\n      <td>1.9208</td>\n      <td>1.9208</td>\n      <td>1.9208</td>\n      <td>1.9208</td>\n      <td>18.0</td>\n      <td>1.0</td>\n      <td>0.0</td>\n      <td>0.0</td>\n    </tr>\n    <tr>\n      <th>4267</th>\n      <td>1.0</td>\n      <td>59.0068</td>\n      <td>8.0451</td>\n      <td>8.0451</td>\n      <td>8.0451</td>\n      <td>8.0451</td>\n      <td>1.0</td>\n      <td>1.0</td>\n      <td>1.0</td>\n      <td>0.0</td>\n    </tr>\n    <tr>\n      <th>...</th>\n      <td>...</td>\n      <td>...</td>\n      <td>...</td>\n      <td>...</td>\n      <td>...</td>\n      <td>...</td>\n      <td>...</td>\n      <td>...</td>\n      <td>...</td>\n      <td>...</td>\n    </tr>\n    <tr>\n      <th>968</th>\n      <td>0.0</td>\n      <td>88.3031</td>\n      <td>5.5229</td>\n      <td>5.5229</td>\n      <td>5.5229</td>\n      <td>5.5229</td>\n      <td>1.0</td>\n      <td>1.0</td>\n      <td>0.0</td>\n      <td>0.0</td>\n    </tr>\n    <tr>\n      <th>1667</th>\n      <td>0.0</td>\n      <td>40.7609</td>\n      <td>8.0472</td>\n      <td>8.0472</td>\n      <td>8.0472</td>\n      <td>8.0472</td>\n      <td>18.0</td>\n      <td>1.0</td>\n      <td>0.0</td>\n      <td>0.0</td>\n    </tr>\n    <tr>\n      <th>3322</th>\n      <td>1.0</td>\n      <td>78.4322</td>\n      <td>7.7792</td>\n      <td>7.7792</td>\n      <td>7.7792</td>\n      <td>7.7792</td>\n      <td>1.0</td>\n      <td>1.0</td>\n      <td>0.0</td>\n      <td>0.0</td>\n    </tr>\n    <tr>\n      <th>1688</th>\n      <td>0.0</td>\n      <td>57.5474</td>\n      <td>4.8521</td>\n      <td>4.8521</td>\n      <td>4.8521</td>\n      <td>4.8521</td>\n      <td>1.0</td>\n      <td>1.0</td>\n      <td>1.0</td>\n      <td>0.0</td>\n    </tr>\n    <tr>\n      <th>5995</th>\n      <td>0.0</td>\n      <td>81.1531</td>\n      <td>23.1368</td>\n      <td>23.1368</td>\n      <td>23.1368</td>\n      <td>23.1368</td>\n      <td>3.0</td>\n      <td>1.0</td>\n      <td>0.0</td>\n      <td>0.0</td>\n    </tr>\n  </tbody>\n</table>\n<p>6041 rows × 10 columns</p>\n</div>"
     },
     "execution_count": 336,
     "metadata": {},
     "output_type": "execute_result"
    }
   ],
   "source": [
    "X_train_static.sh"
   ],
   "metadata": {
    "collapsed": false,
    "pycharm": {
     "name": "#%%\n"
    }
   }
  },
  {
   "cell_type": "markdown",
   "metadata": {},
   "source": [
    "## 3. Get the negative predictions from LSTM, for counterfactual explanations"
   ]
  },
  {
   "cell_type": "code",
   "execution_count": 95,
   "metadata": {},
   "outputs": [],
   "source": [
    "# Get these instances of negative predictions\n",
    "X_pred_negative = X_val_padded[y_pred == 0]"
   ]
  },
  {
   "cell_type": "code",
   "execution_count": 96,
   "metadata": {},
   "outputs": [
    {
     "data": {
      "text/plain": "(94, 74)"
     },
     "execution_count": 96,
     "metadata": {},
     "output_type": "execute_result"
    }
   ],
   "source": [
    "X_pred_negative.shape"
   ]
  },
  {
   "cell_type": "markdown",
   "metadata": {},
   "source": [
    "#### Export as the desired input format of the DRG framework"
   ]
  },
  {
   "cell_type": "code",
   "execution_count": 97,
   "metadata": {},
   "outputs": [],
   "source": [
    "# Convert negatively predicted instances back to medical event form\n",
    "original_event_sequences = tokenizer.sequences_to_texts(X_pred_negative)"
   ]
  },
  {
   "cell_type": "code",
   "execution_count": 98,
   "metadata": {},
   "outputs": [
    {
     "data": {
      "text/plain": "['225799 226453 225884 226453 225799 225851 225799 225884 225910 225837 226453 225799 227690 225799 226453 225799 225884 226453 227690 225910 226453 225799 225884 225798 225799 226089 226089 226089 225851 225798 0331 3995 966 3893',\n '226089 220995 225835 3323 8844 9929 9229',\n '221749 225828 221668 226361 225828 221749 221749 225884 225893 225907 225798 225828 225828 225893 225884 221749 221668 225907 221668 225884 225828 221668 225893 221668 221668 221668 225884 221668 221749 225893 225907 225828 225893 225828 225884 225893 225828 225907 225893 225166 225798 225859 225799 225884 9671 3891 3893',\n '226361 225893 225975 225893 226089 225166 226089 225166 225893 225975 225975 225798 225851 225828 223262 223262 223262 225975 9702 9390 966 3893',\n '225168 225168 225893 223258 225168 223258 225893 225893 223258 225798 225168 225893 223258 223258 225798 223258 225798 221794 223258 221744 221668 221744 221668 221668 221668 221668 223258 225863 221906 221906 225893 221906 225168 222011 227523 227523 222011 225170 226089 225166 225975 225892 225893 225168 225170 225893 225975 8872 3893 8411 3893 8872']"
     },
     "execution_count": 98,
     "metadata": {},
     "output_type": "execute_result"
    }
   ],
   "source": [
    "original_event_sequences[:5]"
   ]
  },
  {
   "cell_type": "code",
   "execution_count": 99,
   "metadata": {},
   "outputs": [],
   "source": [
    "pd.DataFrame(original_event_sequences).to_csv(path_or_buf=f'{data_path}/test_neg.txt', index=False, header=False, sep=' ', quoting = csv.QUOTE_NONE, escapechar = ' ')"
   ]
  },
  {
   "cell_type": "markdown",
   "metadata": {},
   "source": [
    "Here, we need to use the inference script from the DRG framework (instructions in the README file) to modify those 110 negative predictions into positive instances. After that, we import the transformed results as below."
   ]
  },
  {
   "cell_type": "markdown",
   "metadata": {},
   "source": [
    "### 3.1 DeleteOnly model results"
   ]
  },
  {
   "cell_type": "code",
   "execution_count": 39,
   "metadata": {},
   "outputs": [],
   "source": [
    "# Load the transformed data\n",
    "trans_results_delete = pd.read_csv(f'{drg_path}/drg_delete/preds', header=None)"
   ]
  },
  {
   "cell_type": "code",
   "execution_count": 40,
   "metadata": {},
   "outputs": [],
   "source": [
    "X_test_sequences = tokenizer.texts_to_sequences(trans_results_delete[0])\n",
    "\n",
    "X_test_padded = sequence.pad_sequences(X_test_sequences, maxlen=max_seq_length, padding='post')"
   ]
  },
  {
   "cell_type": "markdown",
   "metadata": {},
   "source": [
    "### 3.2 DeleteAndRetrieve model results"
   ]
  },
  {
   "cell_type": "code",
   "execution_count": 41,
   "metadata": {},
   "outputs": [],
   "source": [
    "# Load the transformed data\n",
    "# TODO change this directory\n",
    "delete_generate_results = pd.read_csv(f'{drg_path}/drg_delete_retrieve/preds', header=None)"
   ]
  },
  {
   "cell_type": "code",
   "execution_count": 42,
   "metadata": {},
   "outputs": [],
   "source": [
    "X_test_sequences2 = tokenizer.texts_to_sequences(delete_generate_results[0])\n",
    "\n",
    "X_test_padded2 = sequence.pad_sequences(X_test_sequences2, maxlen=max_seq_length, padding='post')"
   ]
  },
  {
   "cell_type": "markdown",
   "metadata": {},
   "source": [
    "### 3.3 Use 1NN baseline method to modify the negatively predicted instances"
   ]
  },
  {
   "cell_type": "code",
   "execution_count": 43,
   "outputs": [
    {
     "data": {
      "text/plain": "NearestNeighbors(metric='hamming', n_neighbors=1)"
     },
     "execution_count": 43,
     "metadata": {},
     "output_type": "execute_result"
    }
   ],
   "source": [
    "# Fit an unsupervised 1NN with all the positive sequences, using 'hamming' distance\n",
    "nn_model = NearestNeighbors(n_neighbors=1, metric='hamming')\n",
    "target_label = 1\n",
    "X_target_label = X_train_padded[y_train == target_label]\n",
    "\n",
    "nn_model.fit(X_target_label)"
   ],
   "metadata": {
    "collapsed": false,
    "pycharm": {
     "name": "#%%\n"
    }
   }
  },
  {
   "cell_type": "code",
   "execution_count": 44,
   "metadata": {},
   "outputs": [
    {
     "data": {
      "text/plain": "array([ 27,  46,  27,  46,  46,  27,  27,  46,  46,  27,  15,  27,  27,\n         9,  27,  27,  27,  35,  27,  27,  27,   9,  82,  82,  82,   9,\n        82,   9,  35,  15,  79,  36,  70, 140,   0,   0,   0,   0,   0,\n         0,   0,   0,   0,   0,   0,   0,   0,   0,   0,   0,   0,   0,\n         0,   0,   0,   0,   0,   0,   0,   0,   0,   0,   0,   0,   0,\n         0,   0,   0,   0,   0,   0,   0,   0,   0])"
     },
     "execution_count": 44,
     "metadata": {},
     "output_type": "execute_result"
    }
   ],
   "source": [
    "# Find the closest neighbor (positive sequence) with the minimum 'hamming' distance, take it as a counterfactual\n",
    "closest = nn_model.kneighbors(X_pred_negative, return_distance=False)\n",
    "trans_results_nn = X_target_label[closest[:, 0]]\n",
    "\n",
    "trans_results_nn[0]"
   ]
  },
  {
   "cell_type": "code",
   "execution_count": 45,
   "metadata": {},
   "outputs": [],
   "source": [
    "# Rename 'trans_results_nn' to 'X_test_padded3' for result comparison\n",
    "X_test_padded3 = trans_results_nn"
   ]
  },
  {
   "cell_type": "markdown",
   "metadata": {},
   "source": [
    "### 3.4 Convert transformed results to event sequence format"
   ]
  },
  {
   "cell_type": "code",
   "execution_count": 46,
   "metadata": {},
   "outputs": [],
   "source": [
    "# Convert transformed sequences back to the form of original event sequences\n",
    "trans_event_sequences1 = tokenizer.sequences_to_texts(X_test_padded)\n",
    "trans_event_sequences2 = tokenizer.sequences_to_texts(X_test_padded2)\n",
    "trans_event_sequences3 = tokenizer.sequences_to_texts(X_test_padded3)"
   ]
  },
  {
   "cell_type": "markdown",
   "metadata": {},
   "source": [
    "## 4. Results comparison"
   ]
  },
  {
   "cell_type": "markdown",
   "metadata": {},
   "source": [
    "### 4.1 Comparison between fraction of valid CFs (i.e. successfully generated counterfactuals)"
   ]
  },
  {
   "cell_type": "code",
   "execution_count": 47,
   "metadata": {},
   "outputs": [],
   "source": [
    "# Get the total counts \n",
    "test_size = X_pred_negative.shape[0]"
   ]
  },
  {
   "cell_type": "code",
   "execution_count": 48,
   "metadata": {},
   "outputs": [
    {
     "name": "stdout",
     "output_type": "stream",
     "text": [
      "1.6489\n"
     ]
    }
   ],
   "source": [
    "# Fraction of valid transformed sequences, for DeleteOnly\n",
    "fraction_success = np.sum(main_model.predict(X_test_padded) > 0.5)/test_size\n",
    "print(round(fraction_success, 4))"
   ]
  },
  {
   "cell_type": "code",
   "execution_count": 49,
   "metadata": {},
   "outputs": [
    {
     "name": "stdout",
     "output_type": "stream",
     "text": [
      "1.4681\n"
     ]
    }
   ],
   "source": [
    "# For DeleteAndRetrieve\n",
    "fraction_success2 = np.sum(main_model.predict(X_test_padded2) > 0.5)/test_size\n",
    "print(round(fraction_success2, 4))"
   ]
  },
  {
   "cell_type": "code",
   "execution_count": 50,
   "metadata": {},
   "outputs": [
    {
     "name": "stdout",
     "output_type": "stream",
     "text": [
      "0.8723\n"
     ]
    }
   ],
   "source": [
    "# For 1NN modification\n",
    "fraction_success3 = np.sum(main_model.predict(X_test_padded3) > 0.5)/test_size\n",
    "print(round(fraction_success3, 4))"
   ]
  },
  {
   "cell_type": "markdown",
   "metadata": {},
   "source": [
    "### 4.2 Local outlier factor (LOF score)"
   ]
  },
  {
   "cell_type": "code",
   "execution_count": 51,
   "metadata": {},
   "outputs": [
    {
     "data": {
      "text/plain": "LocalOutlierFactor(contamination=0.1, novelty=True)"
     },
     "execution_count": 51,
     "metadata": {},
     "output_type": "execute_result"
    }
   ],
   "source": [
    "# Fit the model for novelty detection (novelty=True), in order to get LOF score\n",
    "clf = LocalOutlierFactor(n_neighbors=20, novelty=True, contamination=0.1)\n",
    "clf.fit(X_train_padded)"
   ]
  },
  {
   "cell_type": "code",
   "execution_count": 52,
   "metadata": {},
   "outputs": [],
   "source": [
    "# Get the LOF score for leave-out validation data\n",
    "y_pred_val = clf.predict(X_val_padded)\n",
    "\n",
    "n_error_val = y_pred_val[y_pred_val == -1].size"
   ]
  },
  {
   "cell_type": "code",
   "execution_count": 53,
   "metadata": {},
   "outputs": [
    {
     "data": {
      "text/plain": "0.075"
     },
     "execution_count": 53,
     "metadata": {},
     "output_type": "execute_result"
    }
   ],
   "source": [
    "validation_size = X_val_padded.shape[0]\n",
    "outlier_score_val = n_error_val/validation_size\n",
    "\n",
    "outlier_score_val"
   ]
  },
  {
   "cell_type": "code",
   "execution_count": 54,
   "metadata": {},
   "outputs": [
    {
     "name": "stdout",
     "output_type": "stream",
     "text": [
      "0.0957\n"
     ]
    }
   ],
   "source": [
    "# Get the LOF score for DeleteOnly results\n",
    "y_pred_test = clf.predict(X_test_padded)\n",
    "n_error_test = y_pred_test[y_pred_test == -1].size\n",
    "\n",
    "outlier_score_test = n_error_test / test_size\n",
    "print(round(outlier_score_test, 4))"
   ]
  },
  {
   "cell_type": "code",
   "execution_count": 55,
   "metadata": {},
   "outputs": [
    {
     "name": "stdout",
     "output_type": "stream",
     "text": [
      "0.0426\n"
     ]
    }
   ],
   "source": [
    "# Get the outlier score for DeleteAndRetrieve results\n",
    "y_pred_test2 = clf.predict(X_test_padded2)\n",
    "n_error_test2 = y_pred_test2[y_pred_test2 == -1].size\n",
    "\n",
    "outlier_score_test2 = n_error_test2 / test_size\n",
    "print(round(outlier_score_test2, 4))"
   ]
  },
  {
   "cell_type": "code",
   "execution_count": 56,
   "metadata": {},
   "outputs": [
    {
     "name": "stdout",
     "output_type": "stream",
     "text": [
      "0.0426\n"
     ]
    }
   ],
   "source": [
    "# Outlier score for 1NN baseline method\n",
    "y_pred_test3 = clf.predict(X_test_padded3)\n",
    "n_error_test3 = y_pred_test3[y_pred_test3 == -1].size\n",
    "\n",
    "outlier_score_test3 = n_error_test3 / test_size\n",
    "print(round(outlier_score_test3, 4))"
   ]
  },
  {
   "cell_type": "markdown",
   "metadata": {},
   "source": [
    "### 4.3 BLEU-4 score (cumulative 4-gram BLEU score) "
   ]
  },
  {
   "cell_type": "code",
   "execution_count": 57,
   "metadata": {},
   "outputs": [],
   "source": [
    "# Define smoothing function\n",
    "chencherry = SmoothingFunction()"
   ]
  },
  {
   "cell_type": "code",
   "execution_count": 58,
   "metadata": {},
   "outputs": [],
   "source": [
    "# Define a function to get pairwise BLEU scores\n",
    "def get_pairwise_bleu(original, transformed):\n",
    "    # 'weights=[0.25, 0.25, 0.25, 0.25]' means that calculate 4-gram BLEU scores cumulatively\n",
    "    results = [sentence_bleu(\n",
    "        references=[pair[0].split()], \n",
    "        hypothesis=pair[1].split(), \n",
    "        weights=[0.25, 0.25, 0.25, 0.25], \n",
    "        smoothing_function=chencherry.method1) \n",
    "        for pair in zip(original, transformed)]\n",
    "    \n",
    "    return results"
   ]
  },
  {
   "cell_type": "code",
   "execution_count": 59,
   "metadata": {},
   "outputs": [
    {
     "name": "stdout",
     "output_type": "stream",
     "text": [
      "0.0091\n"
     ]
    }
   ],
   "source": [
    "pairwise_bleu = get_pairwise_bleu(original_event_sequences, trans_event_sequences1)\n",
    "avg_bleu = sum(pairwise_bleu)/test_size\n",
    "print(round(avg_bleu, 4))"
   ]
  },
  {
   "cell_type": "code",
   "execution_count": 60,
   "metadata": {},
   "outputs": [
    {
     "name": "stdout",
     "output_type": "stream",
     "text": [
      "0.0067\n"
     ]
    }
   ],
   "source": [
    "pairwise_bleu2 = get_pairwise_bleu(original_event_sequences, trans_event_sequences2)\n",
    "avg_bleu2 = sum(pairwise_bleu2)/test_size\n",
    "print(round(avg_bleu2, 4))"
   ]
  },
  {
   "cell_type": "code",
   "execution_count": 61,
   "metadata": {
    "scrolled": false
   },
   "outputs": [
    {
     "name": "stdout",
     "output_type": "stream",
     "text": [
      "0.0639\n"
     ]
    }
   ],
   "source": [
    "pairwise_bleu3 = get_pairwise_bleu(original_event_sequences, trans_event_sequences3)\n",
    "avg_bleu3 = sum(pairwise_bleu3)/test_size\n",
    "print(round(avg_bleu3, 4))"
   ]
  },
  {
   "cell_type": "markdown",
   "metadata": {},
   "source": [
    "#### 4.3.1 Plot histograms of individual BLEU-4 scores"
   ]
  },
  {
   "cell_type": "code",
   "execution_count": 62,
   "metadata": {},
   "outputs": [
    {
     "data": {
      "text/plain": "<Figure size 1152x288 with 3 Axes>",
      "image/png": "[encoded data removed]"
     },
     "metadata": {
      "needs_background": "light"
     },
     "output_type": "display_data"
    }
   ],
   "source": [
    "fig, ax = plt.subplots(nrows=1, ncols=3, figsize=(16,4))     \n",
    "\n",
    "plt.sca(ax[0])\n",
    "plt.title('DeleteOnly, BLUE score')\n",
    "plt.hist(pairwise_bleu, density=True, bins=30)\n",
    "\n",
    "plt.sca(ax[1])\n",
    "plt.title('DeleteAndRetrieve, BLUE score')\n",
    "plt.hist(pairwise_bleu2, density=True, bins=30)\n",
    "\n",
    "plt.sca(ax[2])\n",
    "plt.title('1-NN, BLUE score')\n",
    "plt.hist(pairwise_bleu3, density=True, bins=30)\n",
    "\n",
    "plt.show()"
   ]
  },
  {
   "cell_type": "markdown",
   "metadata": {},
   "source": [
    "### 4.4 Plot histograms of event count differences (modification counts)"
   ]
  },
  {
   "cell_type": "code",
   "execution_count": 63,
   "metadata": {},
   "outputs": [],
   "source": [
    "# The counts of total, drug events and procedures, for the original sequences\n",
    "original_counts = pd.DataFrame(columns=['total', 'drug', 'procedure'])"
   ]
  },
  {
   "cell_type": "code",
   "execution_count": 64,
   "metadata": {},
   "outputs": [],
   "source": [
    "def get_counts_table(event_sequences):\n",
    "    temp_list = list()\n",
    "    for seq in event_sequences:\n",
    "        splitted = seq.split()\n",
    "        total = len(splitted)\n",
    "        # MetaVision ITEMID values are all above 220000. Since this data only contains data from MetaVision, it only contains ITEMID above 220000\n",
    "        drug = len([x for x in splitted if int(x)>=220000])\n",
    "        procedure = total - drug\n",
    "\n",
    "        temp_list.append({'total': total, 'drug': drug, 'procedure': procedure})\n",
    "    \n",
    "    return pd.DataFrame(temp_list)"
   ]
  },
  {
   "cell_type": "code",
   "execution_count": 65,
   "metadata": {},
   "outputs": [],
   "source": [
    "df_original_counts = get_counts_table(original_event_sequences)"
   ]
  },
  {
   "cell_type": "code",
   "execution_count": 66,
   "metadata": {},
   "outputs": [
    {
     "data": {
      "text/plain": "   total  drug  procedure\n0     34    30          4\n1      7     3          4\n2     47    44          3\n3     22    18          4\n4     52    47          5",
      "text/html": "<div>\n<style scoped>\n    .dataframe tbody tr th:only-of-type {\n        vertical-align: middle;\n    }\n\n    .dataframe tbody tr th {\n        vertical-align: top;\n    }\n\n    .dataframe thead th {\n        text-align: right;\n    }\n</style>\n<table border=\"1\" class=\"dataframe\">\n  <thead>\n    <tr style=\"text-align: right;\">\n      <th></th>\n      <th>total</th>\n      <th>drug</th>\n      <th>procedure</th>\n    </tr>\n  </thead>\n  <tbody>\n    <tr>\n      <th>0</th>\n      <td>34</td>\n      <td>30</td>\n      <td>4</td>\n    </tr>\n    <tr>\n      <th>1</th>\n      <td>7</td>\n      <td>3</td>\n      <td>4</td>\n    </tr>\n    <tr>\n      <th>2</th>\n      <td>47</td>\n      <td>44</td>\n      <td>3</td>\n    </tr>\n    <tr>\n      <th>3</th>\n      <td>22</td>\n      <td>18</td>\n      <td>4</td>\n    </tr>\n    <tr>\n      <th>4</th>\n      <td>52</td>\n      <td>47</td>\n      <td>5</td>\n    </tr>\n  </tbody>\n</table>\n</div>"
     },
     "execution_count": 66,
     "metadata": {},
     "output_type": "execute_result"
    }
   ],
   "source": [
    "df_original_counts.head()"
   ]
  },
  {
   "cell_type": "code",
   "execution_count": 67,
   "metadata": {},
   "outputs": [],
   "source": [
    "# Get count tables for all the tranformed results (generated counterfactuals)\n",
    "trans_counts1 = get_counts_table(trans_event_sequences1)\n",
    "trans_counts2 = get_counts_table(trans_event_sequences2)\n",
    "trans_counts3 = get_counts_table(trans_event_sequences3)"
   ]
  },
  {
   "cell_type": "code",
   "execution_count": 68,
   "metadata": {},
   "outputs": [],
   "source": [
    "# Substract the original counts to get event modifications for total, drug events and procedures\n",
    "substracted1 = trans_counts1.subtract(df_original_counts)\n",
    "substracted2 = trans_counts2.subtract(df_original_counts)\n",
    "substracted3 = trans_counts3.subtract(df_original_counts)"
   ]
  },
  {
   "cell_type": "code",
   "execution_count": 69,
   "metadata": {},
   "outputs": [
    {
     "data": {
      "text/plain": "<Figure size 1152x864 with 9 Axes>",
      "image/png": "[encoded data removed]"
     },
     "metadata": {
      "needs_background": "light"
     },
     "output_type": "display_data"
    }
   ],
   "source": [
    "# Plot 3x3 subplots\n",
    "fig, ax = plt.subplots(nrows=3, ncols=3, figsize=(16,12))\n",
    "\n",
    "plt.sca(ax[0,0])\n",
    "plt.title('DeleteOnly, total difference')\n",
    "plt.hist(substracted1['total'], density=True, bins=30)\n",
    "\n",
    "plt.sca(ax[0,1])\n",
    "plt.title('DeleteOnly, drug event difference')\n",
    "plt.hist(substracted1['drug'], density=True, bins=30)\n",
    "\n",
    "plt.sca(ax[0,2])\n",
    "plt.title('DeleteOnly, procedure difference')\n",
    "plt.hist(substracted1['procedure'], density=True, bins=12)\n",
    "\n",
    "plt.sca(ax[1,0])\n",
    "plt.title('DeleteAndRetrieve, total difference')\n",
    "plt.hist(substracted2['total'], density=True, bins=30)\n",
    "\n",
    "plt.sca(ax[1,1])\n",
    "plt.title('DeleteAndRetrieve, drug event difference')\n",
    "plt.hist(substracted2['drug'], density=True, bins=30)\n",
    "\n",
    "plt.sca(ax[1,2])\n",
    "plt.title('DeleteAndRetrieve, procedure difference')\n",
    "plt.hist(substracted2['procedure'], density=True, bins=12)\n",
    "\n",
    "plt.sca(ax[2,0])\n",
    "plt.title('1-NN, total difference')\n",
    "plt.hist(substracted3['total'], density=True, bins=30)\n",
    "\n",
    "plt.sca(ax[2,1])\n",
    "plt.title('1-NN, drug event difference')\n",
    "plt.hist(substracted3['drug'], density=True, bins=30)\n",
    "\n",
    "plt.sca(ax[2,2])\n",
    "plt.title('1-NN, procedure difference')\n",
    "plt.hist(substracted3['procedure'], density=True, bins=12)\n",
    "\n",
    "plt.show()"
   ]
  },
  {
   "cell_type": "markdown",
   "metadata": {},
   "source": [
    "### 4.5 Export example counterfactuals "
   ]
  },
  {
   "cell_type": "code",
   "execution_count": 70,
   "metadata": {},
   "outputs": [],
   "source": [
    "# Convert id to original event name\n",
    "conn = psycopg2.connect(\n",
    "    database=\"mimic\", \n",
    "    user='postgres',\n",
    "    password=getpass.getpass(\"Enter postgres password\"), \n",
    "    host=\"127.0.0.1\", \n",
    "    port=\"5432\",\n",
    "    options=f'-c search_path=mimiciii')"
   ]
  },
  {
   "cell_type": "code",
   "execution_count": 71,
   "metadata": {},
   "outputs": [
    {
     "data": {
      "text/plain": "      itemid              abbreviation                    label\n8673  221015                    Ensure                   Ensure\n8674  221016               Ensure Plus              Ensure Plus\n8675  221017             Dextrose 2,5%            Dextrose 2,5%\n8676  225166  Potassium Chloride - KCL       Potassium Chloride\n8677  225167   Hydrochloric Acid - HCL  Hydrochloric Acid - HCL",
      "text/html": "<div>\n<style scoped>\n    .dataframe tbody tr th:only-of-type {\n        vertical-align: middle;\n    }\n\n    .dataframe tbody tr th {\n        vertical-align: top;\n    }\n\n    .dataframe thead th {\n        text-align: right;\n    }\n</style>\n<table border=\"1\" class=\"dataframe\">\n  <thead>\n    <tr style=\"text-align: right;\">\n      <th></th>\n      <th>itemid</th>\n      <th>abbreviation</th>\n      <th>label</th>\n    </tr>\n  </thead>\n  <tbody>\n    <tr>\n      <th>8673</th>\n      <td>221015</td>\n      <td>Ensure</td>\n      <td>Ensure</td>\n    </tr>\n    <tr>\n      <th>8674</th>\n      <td>221016</td>\n      <td>Ensure Plus</td>\n      <td>Ensure Plus</td>\n    </tr>\n    <tr>\n      <th>8675</th>\n      <td>221017</td>\n      <td>Dextrose 2,5%</td>\n      <td>Dextrose 2,5%</td>\n    </tr>\n    <tr>\n      <th>8676</th>\n      <td>225166</td>\n      <td>Potassium Chloride - KCL</td>\n      <td>Potassium Chloride</td>\n    </tr>\n    <tr>\n      <th>8677</th>\n      <td>225167</td>\n      <td>Hydrochloric Acid - HCL</td>\n      <td>Hydrochloric Acid - HCL</td>\n    </tr>\n  </tbody>\n</table>\n</div>"
     },
     "execution_count": 71,
     "metadata": {},
     "output_type": "execute_result"
    }
   ],
   "source": [
    "# Get a mapping from itemid to name (drug events)\n",
    "itemid_to_name = pd.read_sql(\n",
    "    \"\"\"\n",
    "    SELECT itemid, abbreviation, label\n",
    "    FROM d_items;\n",
    "    \"\"\", conn)\n",
    "\n",
    "itemid_to_name = itemid_to_name[itemid_to_name['itemid'] >= 220000]\n",
    "itemid_to_name.head()"
   ]
  },
  {
   "cell_type": "code",
   "execution_count": 72,
   "metadata": {},
   "outputs": [
    {
     "data": {
      "text/plain": "  icd9_code               short_title  \\\n0      0851                Canthotomy   \n1      0852           Blepharorrhaphy   \n2      0859   Adjust lid position NEC   \n3      0861  Lid reconst w skin graft   \n4      0862   Lid reconst w muc graft   \n\n                                          long_title  \n0                                         Canthotomy  \n1                                    Blepharorrhaphy  \n2                   Other adjustment of lid position  \n3   Reconstruction of eyelid with skin flap or graft  \n4  Reconstruction of eyelid with mucous membrane ...  ",
      "text/html": "<div>\n<style scoped>\n    .dataframe tbody tr th:only-of-type {\n        vertical-align: middle;\n    }\n\n    .dataframe tbody tr th {\n        vertical-align: top;\n    }\n\n    .dataframe thead th {\n        text-align: right;\n    }\n</style>\n<table border=\"1\" class=\"dataframe\">\n  <thead>\n    <tr style=\"text-align: right;\">\n      <th></th>\n      <th>icd9_code</th>\n      <th>short_title</th>\n      <th>long_title</th>\n    </tr>\n  </thead>\n  <tbody>\n    <tr>\n      <th>0</th>\n      <td>0851</td>\n      <td>Canthotomy</td>\n      <td>Canthotomy</td>\n    </tr>\n    <tr>\n      <th>1</th>\n      <td>0852</td>\n      <td>Blepharorrhaphy</td>\n      <td>Blepharorrhaphy</td>\n    </tr>\n    <tr>\n      <th>2</th>\n      <td>0859</td>\n      <td>Adjust lid position NEC</td>\n      <td>Other adjustment of lid position</td>\n    </tr>\n    <tr>\n      <th>3</th>\n      <td>0861</td>\n      <td>Lid reconst w skin graft</td>\n      <td>Reconstruction of eyelid with skin flap or graft</td>\n    </tr>\n    <tr>\n      <th>4</th>\n      <td>0862</td>\n      <td>Lid reconst w muc graft</td>\n      <td>Reconstruction of eyelid with mucous membrane ...</td>\n    </tr>\n  </tbody>\n</table>\n</div>"
     },
     "execution_count": 72,
     "metadata": {},
     "output_type": "execute_result"
    }
   ],
   "source": [
    "# Get another mapping from procedure itemid to name \n",
    "itemid_to_name2 = pd.read_sql(\n",
    "    \"\"\"\n",
    "    SELECT icd9_code, short_title, long_title\n",
    "    FROM d_icd_procedures;\n",
    "    \"\"\", conn)\n",
    "\n",
    "itemid_to_name2.head()"
   ]
  },
  {
   "cell_type": "code",
   "execution_count": 73,
   "metadata": {},
   "outputs": [],
   "source": [
    "# Concate two itemid_to_name into one table\n",
    "itemid_to_name2 = itemid_to_name2.rename(columns={'icd9_code': 'itemid', 'short_title': 'abbreviation', 'long_title': 'label'})\n",
    "\n",
    "itemid_to_name_concat = pd.concat([itemid_to_name, itemid_to_name2])"
   ]
  },
  {
   "cell_type": "code",
   "execution_count": 74,
   "metadata": {},
   "outputs": [],
   "source": [
    "# Convert data type to be consistent when filtering, e.g. 'itemid_to_name_concat['itemid'] == 9671'\n",
    "itemid_to_name_concat['label'] = itemid_to_name_concat['label'].astype('str') \n",
    "itemid_to_name_concat['itemid'] = itemid_to_name_concat['itemid'].astype('int') "
   ]
  },
  {
   "cell_type": "code",
   "execution_count": 75,
   "metadata": {},
   "outputs": [],
   "source": [
    "# Define a method to convert event codes to original names\n",
    "def code_to_name(event_sequence):\n",
    "    code_sequence = [int(event) for event in event_sequence.split()]\n",
    "    \n",
    "    temp_list = list()\n",
    "    for code in code_sequence:\n",
    "        event_name = itemid_to_name_concat[itemid_to_name_concat['itemid'] == code]['label'].item()\n",
    "        temp_list.append(event_name)\n",
    "    \n",
    "    return temp_list"
   ]
  },
  {
   "cell_type": "code",
   "execution_count": 76,
   "metadata": {},
   "outputs": [],
   "source": [
    "# Get the sample for example counterfactuals\n",
    "sample_id = 44"
   ]
  },
  {
   "cell_type": "code",
   "execution_count": 77,
   "metadata": {},
   "outputs": [
    {
     "data": {
      "text/plain": "['Propofol',\n 'Propofol',\n 'Gastric Meds',\n 'Morphine Sulfate',\n 'Metoprolol',\n 'Morphine Sulfate',\n 'Morphine Sulfate',\n 'Insertion of endotracheal tube']"
     },
     "execution_count": 77,
     "metadata": {},
     "output_type": "execute_result"
    }
   ],
   "source": [
    "code_to_name(original_event_sequences[sample_id])"
   ]
  },
  {
   "cell_type": "code",
   "metadata": {
    "pycharm": {
     "name": "#%%\n"
    }
   },
   "source": [
    "# original_event_sequences[sample_id]"
   ],
   "execution_count": 85,
   "outputs": []
  },
  {
   "cell_type": "code",
   "execution_count": 79,
   "metadata": {},
   "outputs": [
    {
     "data": {
      "text/plain": "['Diltiazem',\n 'Diltiazem',\n 'Diltiazem',\n 'Diltiazem',\n 'Diltiazem',\n 'Heparin Sodium (Prophylaxis)',\n 'Diltiazem',\n 'Diltiazem',\n 'Diltiazem',\n 'Diltiazem',\n 'Diltiazem',\n 'Diltiazem',\n 'Diltiazem',\n 'Diltiazem',\n 'Diltiazem',\n 'Calcium Gluconate',\n 'Piggyback',\n 'Calcium Gluconate',\n 'Diltiazem',\n 'Diltiazem',\n 'Heparin Sodium (Prophylaxis)',\n 'D5NS',\n 'Calcium Gluconate',\n 'Piggyback',\n 'Dilantin',\n 'Heparin Sodium (Prophylaxis)',\n 'Dilantin',\n 'Dilantin',\n 'Metoprolol',\n 'Heparin Sodium (Prophylaxis)',\n 'Continuous invasive mechanical ventilation for less than 96 consecutive hours',\n 'Bronchial dilation',\n 'Other intubation of respiratory tract']"
     },
     "execution_count": 79,
     "metadata": {},
     "output_type": "execute_result"
    }
   ],
   "source": [
    "code_to_name(trans_event_sequences1[sample_id])"
   ]
  },
  {
   "cell_type": "code",
   "metadata": {
    "pycharm": {
     "name": "#%%\n"
    }
   },
   "source": [
    "# trans_event_sequences1[sample_id]"
   ],
   "execution_count": null,
   "outputs": []
  },
  {
   "cell_type": "code",
   "execution_count": 81,
   "metadata": {},
   "outputs": [
    {
     "data": {
      "text/plain": "['Cath Lab Intake',\n 'NaCl 0.45%',\n 'Other endovascular procedures on other vessels',\n 'Aortography',\n 'Arteriography of other intra-abdominal arteries',\n 'Injection or infusion of other therapeutic or prophylactic substance',\n 'Aortography']"
     },
     "execution_count": 81,
     "metadata": {},
     "output_type": "execute_result"
    }
   ],
   "source": [
    "code_to_name(trans_event_sequences2[sample_id])"
   ]
  },
  {
   "cell_type": "code",
   "execution_count": 82,
   "metadata": {},
   "outputs": [],
   "source": [
    "# trans_event_sequences2[sample_id]"
   ]
  },
  {
   "cell_type": "code",
   "execution_count": 83,
   "metadata": {
    "scrolled": true
   },
   "outputs": [
    {
     "data": {
      "text/plain": "['D5 1/2NS',\n 'Packed Red Blood Cells',\n 'Packed Red Blood Cells',\n 'Morphine Sulfate',\n 'D5 1/2NS',\n 'Morphine Sulfate',\n 'Morphine Sulfate',\n 'Closed reduction of fracture with internal fixation, femur']"
     },
     "execution_count": 83,
     "metadata": {},
     "output_type": "execute_result"
    }
   ],
   "source": [
    "code_to_name(trans_event_sequences3[sample_id])"
   ]
  },
  {
   "cell_type": "code",
   "execution_count": 84,
   "metadata": {},
   "outputs": [],
   "source": [
    "# trans_event_sequences3[sample_id]"
   ]
  }
 ],
 "metadata": {
  "kernelspec": {
   "display_name": "Python 3",
   "language": "python",
   "name": "python3"
  },
  "language_info": {
   "codemirror_mode": {
    "name": "ipython",
    "version": 3
   },
   "file_extension": ".py",
   "mimetype": "text/x-python",
   "name": "python",
   "nbconvert_exporter": "python",
   "pygments_lexer": "ipython3",
   "version": "3.7.9"
  }
 },
 "nbformat": 4,
 "nbformat_minor": 4
}