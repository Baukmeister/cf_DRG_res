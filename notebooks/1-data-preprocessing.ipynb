{
 "cells": [
  {
   "cell_type": "code",
   "execution_count": null,
   "metadata": {},
   "outputs": [],
   "source": [
    "import pandas as pd\n",
    "import pandas.io.sql as sqlio\n",
    "import psycopg2\n",
    "import getpass\n",
    "import csv"
   ]
  },
  {
   "cell_type": "code",
   "execution_count": null,
   "metadata": {},
   "outputs": [],
   "source": [
    "# Set up postgres connection\n",
    "conn = psycopg2.connect(\n",
    "    database=\"mimic\", \n",
    "    user=$your_username$, \n",
    "    password=getpass.getpass(\"Enter postgres password\"), \n",
    "    host=\"127.0.0.1\", \n",
    "    port=\"5432\",\n",
    "    options=f'-c search_path=mimiciii')"
   ]
  },
  {
   "cell_type": "markdown",
   "metadata": {},
   "source": [
    "## 1. Identify all 'heart disease' patients"
   ]
  },
  {
   "cell_type": "code",
   "execution_count": null,
   "metadata": {},
   "outputs": [],
   "source": [
    "# Get all the patient ids with heart disease\n",
    "\"\"\"\n",
    "lists of ICD 9 codes (related to heart diseases):\n",
    "\n",
    "393-398  Chronic Rheumatic Heart Disease\n",
    "410-414  Ischemic Heart Disease\n",
    "420-429  Other Forms Of Heart Disease\n",
    "\"\"\"\n",
    "\n",
    "heart_disease_subject_ids = pd.read_sql(\n",
    "    \"\"\"\n",
    "    SELECT DISTINCT(subject_id)\n",
    "    FROM diagnoses_icd\n",
    "    WHERE (\n",
    "        icd9_code LIKE '393%' OR\n",
    "        icd9_code LIKE '394%' OR\n",
    "        icd9_code LIKE '395%' OR\n",
    "        icd9_code LIKE '396%' OR\n",
    "        icd9_code LIKE '397%' OR\n",
    "        icd9_code LIKE '398%' OR\n",
    "        icd9_code LIKE '410%' OR\n",
    "        icd9_code LIKE '411%' OR\n",
    "        icd9_code LIKE '412%' OR\n",
    "        icd9_code LIKE '413%' OR\n",
    "        icd9_code LIKE '414%' OR\n",
    "        icd9_code LIKE '420%' OR\n",
    "        icd9_code LIKE '421%' OR\n",
    "        icd9_code LIKE '422%' OR\n",
    "        icd9_code LIKE '423%' OR\n",
    "        icd9_code LIKE '424%' OR\n",
    "        icd9_code LIKE '425%' OR\n",
    "        icd9_code LIKE '426%' OR\n",
    "        icd9_code LIKE '427%' OR\n",
    "        icd9_code LIKE '428%' OR\n",
    "        icd9_code LIKE '429%' \n",
    "    );\n",
    "    \"\"\", conn)"
   ]
  },
  {
   "cell_type": "code",
   "execution_count": null,
   "metadata": {},
   "outputs": [],
   "source": [
    "heart_disease_subject_ids.shape"
   ]
  },
  {
   "cell_type": "code",
   "execution_count": null,
   "metadata": {},
   "outputs": [],
   "source": [
    "# Convert to a set for filtering\n",
    "heart_disease_id_set = set(heart_disease_subject_ids['subject_id'])"
   ]
  },
  {
   "cell_type": "markdown",
   "metadata": {},
   "source": [
    "## 2. Retrieve all admission ids from last 12 months since each patient's last admission"
   ]
  },
  {
   "cell_type": "code",
   "execution_count": null,
   "metadata": {},
   "outputs": [],
   "source": [
    "# Get the subtraction between all admission times and the last admission by each patient; in year unit\n",
    "admissions_diff = pd.read_sql(\n",
    "    \"\"\"\n",
    "    SELECT a.subject_id, a.hadm_id,\n",
    "    ROUND((cast(a.admittime as date)-cast(last_admission_time.max_admittime as date))/365.242,2) AS diff_from_last \n",
    "    FROM admissions AS a\n",
    "    LEFT JOIN\n",
    "        (SELECT subject_id,  MAX(admittime) AS max_admittime\n",
    "        FROM admissions\n",
    "        GROUP BY subject_id\n",
    "        ) AS last_admission_time\n",
    "    ON a.subject_id=last_admission_time.subject_id;\n",
    "    \"\"\", conn)"
   ]
  },
  {
   "cell_type": "code",
   "execution_count": null,
   "metadata": {},
   "outputs": [],
   "source": [
    "admissions_diff.head()"
   ]
  },
  {
   "cell_type": "code",
   "execution_count": null,
   "metadata": {},
   "outputs": [],
   "source": [
    "# Get all the admissions from last 12 months since each patient's last admission ('diff_from_last' >= -1 <year>)\n",
    "admissions_last_year = admissions_diff[admissions_diff['diff_from_last'] >= -1]"
   ]
  },
  {
   "cell_type": "code",
   "execution_count": null,
   "metadata": {},
   "outputs": [],
   "source": [
    "admissions_last_year.head()"
   ]
  },
  {
   "cell_type": "code",
   "execution_count": null,
   "metadata": {},
   "outputs": [],
   "source": [
    "# Convert all hadm_id's into a set\n",
    "hadm_id_set = set(admissions_last_year['hadm_id'])"
   ]
  },
  {
   "cell_type": "markdown",
   "metadata": {},
   "source": [
    "## 3. Get all drug events and process them by remove 'stopword' events"
   ]
  },
  {
   "cell_type": "code",
   "execution_count": null,
   "metadata": {},
   "outputs": [],
   "source": [
    "# Get all the drug events from table 'inputevents_mv'\n",
    "drug_events = pd.read_sql(\n",
    "    \"\"\"\n",
    "    SELECT im.subject_id, im.hadm_id, im.starttime, im.itemid, di.abbreviation\n",
    "    FROM inputevents_mv as im\n",
    "    JOIN d_items as di\n",
    "    ON im.itemid=di.itemid;\n",
    "    \"\"\", conn)"
   ]
  },
  {
   "cell_type": "code",
   "execution_count": null,
   "metadata": {},
   "outputs": [],
   "source": [
    "drug_events.shape"
   ]
  },
  {
   "cell_type": "code",
   "execution_count": null,
   "metadata": {},
   "outputs": [],
   "source": [
    "drug_events.head()"
   ]
  },
  {
   "cell_type": "markdown",
   "metadata": {},
   "source": [
    "### 3.1 Filter drug events by the admission id set and heart disease patient ids"
   ]
  },
  {
   "cell_type": "code",
   "execution_count": null,
   "metadata": {},
   "outputs": [],
   "source": [
    "# Filter all drug events that are in the admission id set (admissions from the last 12 month of each patient's last admission)\n",
    "drug_events_last_year = drug_events[drug_events['hadm_id'].isin(hadm_id_set)]"
   ]
  },
  {
   "cell_type": "code",
   "execution_count": null,
   "metadata": {},
   "outputs": [],
   "source": [
    "# Filter by heart disease patient ids\n",
    "drug_events_filtered = drug_events_last_year[drug_events_last_year['subject_id'].isin(heart_disease_id_set)]"
   ]
  },
  {
   "cell_type": "code",
   "execution_count": null,
   "metadata": {},
   "outputs": [],
   "source": [
    "drug_events_filtered.head()"
   ]
  },
  {
   "cell_type": "markdown",
   "metadata": {},
   "source": [
    "### 3.2 Drop the duplicated items (which indicates different doses in the same session)"
   ]
  },
  {
   "cell_type": "code",
   "execution_count": null,
   "metadata": {},
   "outputs": [],
   "source": [
    "# # Uncomment to view duplicated 'itemid's from the same session\n",
    "# drug_events_filtered.groupby(by='subject_id').apply(lambda x: x.sort_values('itemid'))"
   ]
  },
  {
   "cell_type": "code",
   "execution_count": null,
   "metadata": {},
   "outputs": [],
   "source": [
    "# Drop the duplicates (due to different doses) in the same input session\n",
    "drug_events_filtered2 = drug_events_filtered.drop_duplicates()"
   ]
  },
  {
   "cell_type": "code",
   "execution_count": null,
   "metadata": {
    "scrolled": true
   },
   "outputs": [],
   "source": [
    "# # Sanity check, uncomment to view that there are no more duplicates from the same input session\n",
    "# drug_events_filtered2.groupby(by='subject_id').apply(lambda x: x.sort_values('itemid'))"
   ]
  },
  {
   "cell_type": "markdown",
   "metadata": {},
   "source": [
    "### 3.3 Remove 'stopword' events (too frequent counts or too rare)"
   ]
  },
  {
   "cell_type": "code",
   "execution_count": null,
   "metadata": {},
   "outputs": [],
   "source": [
    "# Count itemid values\n",
    "itemid_counts = drug_events_filtered2['itemid'].value_counts()\n",
    "\n",
    "itemid_counts2 = itemid_counts.reset_index()\n",
    "itemid_counts2 = itemid_counts2.rename(columns={\"index\": \"itemid\", \"itemid\":\"counts\"})"
   ]
  },
  {
   "cell_type": "code",
   "execution_count": null,
   "metadata": {},
   "outputs": [],
   "source": [
    "itemid_counts2.head()"
   ]
  },
  {
   "cell_type": "code",
   "execution_count": null,
   "metadata": {},
   "outputs": [],
   "source": [
    "# Add 'proportion' of each itemid to the table \n",
    "itemid_counts2['proportion'] = itemid_counts2['counts']/sum(itemid_counts2['counts'])"
   ]
  },
  {
   "cell_type": "code",
   "execution_count": null,
   "metadata": {},
   "outputs": [],
   "source": [
    "itemid_counts2.head(10)"
   ]
  },
  {
   "cell_type": "code",
   "execution_count": null,
   "metadata": {},
   "outputs": [],
   "source": [
    "# Remove these proportions that are larger than 4.1% or the count is less than 5\n",
    "itemid_counts3 = itemid_counts2[(itemid_counts2['proportion'] <= 0.041) & (itemid_counts2['counts'] >= 5)]"
   ]
  },
  {
   "cell_type": "code",
   "execution_count": null,
   "metadata": {},
   "outputs": [],
   "source": [
    "# Convert to a set - which contains item ids that are neither too frequent nor too rare\n",
    "itemid_set = set(itemid_counts3['itemid'])"
   ]
  },
  {
   "cell_type": "code",
   "execution_count": null,
   "metadata": {},
   "outputs": [],
   "source": [
    "drug_events_filtered3 = drug_events_filtered2[drug_events_filtered2['itemid'].isin(itemid_set)]"
   ]
  },
  {
   "cell_type": "code",
   "execution_count": null,
   "metadata": {},
   "outputs": [],
   "source": [
    "drug_events_filtered3.head()"
   ]
  },
  {
   "cell_type": "code",
   "execution_count": null,
   "metadata": {},
   "outputs": [],
   "source": [
    "drug_events_filtered3.shape"
   ]
  },
  {
   "cell_type": "markdown",
   "metadata": {},
   "source": [
    "### 3.4 Group drug events by each patient, and sort by session time and then 'itemid'"
   ]
  },
  {
   "cell_type": "code",
   "execution_count": null,
   "metadata": {},
   "outputs": [],
   "source": [
    "# Group by 'subject_id', and sort by 'starttime' and then 'itemid'\n",
    "drug_events_only = drug_events_filtered3.groupby(by='subject_id').apply(lambda x: x.sort_values('starttime'))['itemid'].reset_index(level=[1], drop=True)"
   ]
  },
  {
   "cell_type": "code",
   "execution_count": null,
   "metadata": {},
   "outputs": [],
   "source": [
    "drug_events_only.head()"
   ]
  },
  {
   "cell_type": "code",
   "execution_count": null,
   "metadata": {},
   "outputs": [],
   "source": [
    "# Convert to a sequnce of drug events for each patient\n",
    "drug_events_by_patient = drug_events_only.groupby(by='subject_id').apply(list)\n",
    "\n",
    "drug_events_by_patient2 = drug_events_by_patient.reset_index()"
   ]
  },
  {
   "cell_type": "code",
   "execution_count": null,
   "metadata": {},
   "outputs": [],
   "source": [
    "drug_events_by_patient2.head()"
   ]
  },
  {
   "cell_type": "code",
   "execution_count": null,
   "metadata": {},
   "outputs": [],
   "source": [
    "drug_events_by_patient2.shape"
   ]
  },
  {
   "cell_type": "markdown",
   "metadata": {},
   "source": [
    "### 3.5 Filter by event length (resulted sequence length is between 3 to 50)"
   ]
  },
  {
   "cell_type": "code",
   "execution_count": null,
   "metadata": {},
   "outputs": [],
   "source": [
    "# Add 'count' of itemid to the table\n",
    "drug_events_by_patient2['count'] = [len(events) for events in drug_events_by_patient2['itemid']]"
   ]
  },
  {
   "cell_type": "code",
   "execution_count": null,
   "metadata": {},
   "outputs": [],
   "source": [
    "drug_events_by_patient2['count'].describe()"
   ]
  },
  {
   "cell_type": "code",
   "execution_count": null,
   "metadata": {},
   "outputs": [],
   "source": [
    "# Filter by sequence length\n",
    "drug_events_by_patient3 = drug_events_by_patient2[drug_events_by_patient2['count'].apply(lambda x: True if x >=3 and x <=50 else False)]"
   ]
  },
  {
   "cell_type": "code",
   "execution_count": null,
   "metadata": {},
   "outputs": [],
   "source": [
    "drug_events_by_patient3.shape"
   ]
  },
  {
   "cell_type": "markdown",
   "metadata": {},
   "source": [
    "## 4. Get all procedure codes"
   ]
  },
  {
   "cell_type": "code",
   "execution_count": null,
   "metadata": {},
   "outputs": [],
   "source": [
    "procedure_codes = pd.read_sql(\n",
    "    \"\"\"\n",
    "    SELECT a.admittime, procedures.* \n",
    "    FROM admissions AS a\n",
    "    RIGHT JOIN\n",
    "        (SELECT pi.subject_id, pi.hadm_id, pi.seq_num, pi.icd9_code, dip.short_title\n",
    "        FROM procedures_icd AS pi\n",
    "        JOIN d_icd_procedures AS dip\n",
    "        ON pi.icd9_code=dip.icd9_code) AS procedures\n",
    "    ON a.hadm_id=procedures.hadm_id;\n",
    "    \"\"\", conn)"
   ]
  },
  {
   "cell_type": "code",
   "execution_count": null,
   "metadata": {},
   "outputs": [],
   "source": [
    "procedure_codes.head()"
   ]
  },
  {
   "cell_type": "markdown",
   "metadata": {},
   "source": [
    "### 4.1 Filter by the admission id set and heart disease patient ids"
   ]
  },
  {
   "cell_type": "code",
   "execution_count": null,
   "metadata": {},
   "outputs": [],
   "source": [
    "# Filter by the admission id set (admissions from the last 12 month of each patient's last admission)\n",
    "procedure_codes_last_year = procedure_codes[procedure_codes['hadm_id'].isin(hadm_id_set)]"
   ]
  },
  {
   "cell_type": "code",
   "execution_count": null,
   "metadata": {},
   "outputs": [],
   "source": [
    "# Filter by heart disease patient ids\n",
    "procedure_codes_filtered = procedure_codes_last_year[procedure_codes_last_year['subject_id'].isin(heart_disease_id_set)]"
   ]
  },
  {
   "cell_type": "code",
   "execution_count": null,
   "metadata": {},
   "outputs": [],
   "source": [
    "procedure_codes_filtered.head()"
   ]
  },
  {
   "cell_type": "code",
   "execution_count": null,
   "metadata": {},
   "outputs": [],
   "source": [
    "procedure_codes_filtered.shape"
   ]
  },
  {
   "cell_type": "code",
   "execution_count": null,
   "metadata": {},
   "outputs": [],
   "source": [
    "procedure_codes_filtered2 = procedure_codes_filtered.drop(['short_title', 'hadm_id'], axis=1)"
   ]
  },
  {
   "cell_type": "markdown",
   "metadata": {},
   "source": [
    "### 4.2 Group by subject_id and sort by admittime and seq_num"
   ]
  },
  {
   "cell_type": "code",
   "execution_count": null,
   "metadata": {},
   "outputs": [],
   "source": [
    "# group by subject_id and sort by admittime (first) and seq_num (second)\n",
    "procedure_codes_filtered3 = procedure_codes_filtered2.groupby(by='subject_id').apply(lambda x: x.sort_values(['admittime', 'seq_num']))"
   ]
  },
  {
   "cell_type": "code",
   "execution_count": null,
   "metadata": {},
   "outputs": [],
   "source": [
    "procedure_codes_filtered3.head()"
   ]
  },
  {
   "cell_type": "code",
   "execution_count": null,
   "metadata": {},
   "outputs": [],
   "source": [
    "procedure_codes_filtered4 = procedure_codes_filtered3.reset_index(level=[0,1], drop=True)"
   ]
  },
  {
   "cell_type": "code",
   "execution_count": null,
   "metadata": {},
   "outputs": [],
   "source": [
    "procedure_codes_filtered4.head()"
   ]
  },
  {
   "cell_type": "code",
   "execution_count": null,
   "metadata": {},
   "outputs": [],
   "source": [
    "# Group all the sequential events by patients\n",
    "procedures_by_patient = procedure_codes_filtered4.groupby(by='subject_id', axis=0)['icd9_code'].apply(list)\n",
    "\n",
    "procedures_by_patient2 = procedures_by_patient.reset_index()"
   ]
  },
  {
   "cell_type": "code",
   "execution_count": null,
   "metadata": {},
   "outputs": [],
   "source": [
    "procedures_by_patient2.head()"
   ]
  },
  {
   "cell_type": "markdown",
   "metadata": {},
   "source": [
    "### 4.3 Check the sequence length of procedures for each patient"
   ]
  },
  {
   "cell_type": "code",
   "execution_count": null,
   "metadata": {},
   "outputs": [],
   "source": [
    "# Add 'count' of itemid to the table\n",
    "procedures_by_patient2['count'] = [len(codes) for codes in procedures_by_patient2['icd9_code']]"
   ]
  },
  {
   "cell_type": "code",
   "execution_count": null,
   "metadata": {},
   "outputs": [],
   "source": [
    "procedures_by_patient2['count'].describe()"
   ]
  },
  {
   "cell_type": "markdown",
   "metadata": {},
   "source": [
    "## 5. Merge drug events and procedures"
   ]
  },
  {
   "cell_type": "code",
   "execution_count": null,
   "metadata": {},
   "outputs": [],
   "source": [
    "# Merge drug events (filtered by event length between 3 and 50) and procedures\n",
    "drug_events_procedures_merged = pd.merge(drug_events_by_patient3, procedures_by_patient2, how='inner', on='subject_id')"
   ]
  },
  {
   "cell_type": "code",
   "execution_count": null,
   "metadata": {},
   "outputs": [],
   "source": [
    "drug_events_procedures_merged.shape"
   ]
  },
  {
   "cell_type": "code",
   "execution_count": null,
   "metadata": {},
   "outputs": [],
   "source": [
    "drug_events_procedures_merged.head()"
   ]
  },
  {
   "cell_type": "code",
   "execution_count": null,
   "metadata": {},
   "outputs": [],
   "source": [
    "drug_events_procedures_merged['total_count'] = drug_events_procedures_merged['count_x'] + drug_events_procedures_merged['count_y']"
   ]
  },
  {
   "cell_type": "code",
   "execution_count": null,
   "metadata": {},
   "outputs": [],
   "source": [
    "drug_events_procedures_merged['total_count'].describe()"
   ]
  },
  {
   "cell_type": "code",
   "execution_count": null,
   "metadata": {},
   "outputs": [],
   "source": [
    "# Remove NA values\n",
    "drug_events_procedures_merged2 = drug_events_procedures_merged[drug_events_procedures_merged['icd9_code'].notna()]\n",
    "\n",
    "# Remove columns of counts\n",
    "drug_events_procedures_merged3 = drug_events_procedures_merged2.drop(['count_x', 'count_y', 'total_count'], axis=1)\n",
    "\n",
    "# Rename columns\n",
    "drug_events_procedures_merged4 = drug_events_procedures_merged3.rename(columns={\"icd9_code\": \"procedure_codes\", \"itemid\":\"drug_events\"})"
   ]
  },
  {
   "cell_type": "code",
   "execution_count": null,
   "metadata": {},
   "outputs": [],
   "source": [
    "drug_events_procedures_merged4.head()"
   ]
  },
  {
   "cell_type": "code",
   "execution_count": null,
   "metadata": {},
   "outputs": [],
   "source": [
    "drug_events_procedures_merged4.shape"
   ]
  },
  {
   "cell_type": "markdown",
   "metadata": {},
   "source": [
    "## 6. Add survival flag (1: survival, 0: death)"
   ]
  },
  {
   "cell_type": "code",
   "execution_count": null,
   "metadata": {},
   "outputs": [],
   "source": [
    "#expire_flag: 1 indicates death in the hospital, and 0 indicates survival to hospital discharge.\n",
    "survival_subject_ids = pd.read_sql(\n",
    "    \"\"\"\n",
    "    SELECT subject_id FROM patients\n",
    "    WHERE expire_flag=0;\n",
    "    \"\"\", conn)"
   ]
  },
  {
   "cell_type": "code",
   "execution_count": null,
   "metadata": {},
   "outputs": [],
   "source": [
    "# Convert to a set of survival ids\n",
    "survival_id_set = set(survival_subject_ids['subject_id'])"
   ]
  },
  {
   "cell_type": "code",
   "execution_count": null,
   "metadata": {},
   "outputs": [],
   "source": [
    "drug_events_procedures_merged4['survival'] = [1 if idx in survival_id_set else 0 for idx in drug_events_procedures_merged4['subject_id']]"
   ]
  },
  {
   "cell_type": "code",
   "execution_count": null,
   "metadata": {},
   "outputs": [],
   "source": [
    "drug_events_procedures_merged4.head()"
   ]
  },
  {
   "cell_type": "code",
   "execution_count": null,
   "metadata": {},
   "outputs": [],
   "source": [
    "drug_events_procedures_merged4['survival'].value_counts()"
   ]
  },
  {
   "cell_type": "markdown",
   "metadata": {},
   "source": [
    "## 7. Export as the input format for DRG framework"
   ]
  },
  {
   "cell_type": "code",
   "execution_count": null,
   "metadata": {},
   "outputs": [],
   "source": [
    "final_merged = drug_events_procedures_merged4.copy()"
   ]
  },
  {
   "cell_type": "code",
   "execution_count": null,
   "metadata": {},
   "outputs": [],
   "source": [
    "# Split into positive/negative data\n",
    "neg_data = final_merged[final_merged['survival'] == 0].drop(columns=['subject_id', 'survival'])\n",
    "pos_data = final_merged[final_merged['survival'] == 1].drop(columns=['subject_id', 'survival'])"
   ]
  },
  {
   "cell_type": "markdown",
   "metadata": {},
   "source": [
    "### 7.1 Export negative samples"
   ]
  },
  {
   "cell_type": "code",
   "execution_count": null,
   "metadata": {},
   "outputs": [],
   "source": [
    "neg_data2 = pd.DataFrame()\n",
    "\n",
    "neg_data2['drug_events'] = neg_data['drug_events'].apply(lambda x: ' '.join(str(i) for i in x))\n",
    "neg_data2['procedure_codes'] = neg_data['procedure_codes'].apply(lambda x: ' '.join(x))"
   ]
  },
  {
   "cell_type": "code",
   "execution_count": null,
   "metadata": {},
   "outputs": [],
   "source": [
    "neg_data2.head()"
   ]
  },
  {
   "cell_type": "code",
   "execution_count": null,
   "metadata": {},
   "outputs": [],
   "source": [
    "# Split into train/validation; 200 validation samples and the rest are train\n",
    "validation_neg = neg_data2.sample(n=200, random_state=3)\n",
    "train_neg = neg_data2.drop(validation_neg.index)"
   ]
  },
  {
   "cell_type": "code",
   "execution_count": null,
   "metadata": {},
   "outputs": [],
   "source": [
    "# Write as txt files into '../mimic_data/'\n",
    "train_neg.to_csv(path_or_buf='../mimic_data/train_neg.txt', index=False, header=False, sep=' ', quoting = csv.QUOTE_NONE, escapechar = ' ')\n",
    "validation_neg.to_csv(path_or_buf='../mimic_data/validation_neg.txt', index=False, header=False, sep=' ', quoting = csv.QUOTE_NONE, escapechar = ' ')"
   ]
  },
  {
   "cell_type": "markdown",
   "metadata": {},
   "source": [
    "### 7.2 Export positive samples"
   ]
  },
  {
   "cell_type": "code",
   "execution_count": null,
   "metadata": {},
   "outputs": [],
   "source": [
    "pos_data2 = pd.DataFrame()\n",
    "\n",
    "pos_data2['drug_events'] = pos_data['drug_events'].apply(lambda x: ' '.join(str(i) for i in x))\n",
    "pos_data2['procedure_codes'] = pos_data['procedure_codes'].apply(lambda x: ' '.join(x))"
   ]
  },
  {
   "cell_type": "code",
   "execution_count": null,
   "metadata": {},
   "outputs": [],
   "source": [
    "pos_data2.head()"
   ]
  },
  {
   "cell_type": "code",
   "execution_count": null,
   "metadata": {},
   "outputs": [],
   "source": [
    "# Split into train/validation; 200 validation samples and the rest are train\n",
    "validation_pos = pos_data2.sample(n=200, random_state=3)\n",
    "train_pos = pos_data2.drop(validation_pos.index)"
   ]
  },
  {
   "cell_type": "code",
   "execution_count": null,
   "metadata": {},
   "outputs": [],
   "source": [
    "# Write as txt files into '../mimic_data/'\n",
    "train_pos.to_csv(path_or_buf='../mimic_data/train_pos.txt', index=False, header=False, sep=' ', quoting = csv.QUOTE_NONE, escapechar = ' ')\n",
    "validation_pos.to_csv(path_or_buf='../mimic_data/validation_pos.txt', index=False, header=False, sep=' ', quoting = csv.QUOTE_NONE, escapechar = ' ')"
   ]
  }
 ],
 "metadata": {
  "kernelspec": {
   "display_name": "Python 3",
   "language": "python",
   "name": "python3"
  },
  "language_info": {
   "codemirror_mode": {
    "name": "ipython",
    "version": 3
   },
   "file_extension": ".py",
   "mimetype": "text/x-python",
   "name": "python",
   "nbconvert_exporter": "python",
   "pygments_lexer": "ipython3",
   "version": "3.7.9"
  }
 },
 "nbformat": 4,
 "nbformat_minor": 4
}
