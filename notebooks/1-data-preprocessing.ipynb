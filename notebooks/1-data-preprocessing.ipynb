{
 "cells": [
  {
   "cell_type": "code",
   "execution_count": 271,
   "metadata": {},
   "outputs": [],
   "source": [
    "import pandas as pd\n",
    "import pandas.io.sql as sqlio\n",
    "import psycopg2\n",
    "import getpass\n",
    "import csv"
   ]
  },
  {
   "cell_type": "code",
   "execution_count": 272,
   "metadata": {},
   "outputs": [],
   "source": [
    "# Set up postgres connection\n",
    "conn = psycopg2.connect(\n",
    "    database=\"mimic\", \n",
    "    user='postgres',\n",
    "    password=getpass.getpass(\"Enter postgres password\"), \n",
    "    host=\"127.0.0.1\", \n",
    "    port=\"5432\",\n",
    "    options=f'-c search_path=mimiciii')"
   ]
  },
  {
   "cell_type": "markdown",
   "source": [
    "## 0. Config"
   ],
   "metadata": {
    "collapsed": false
   }
  },
  {
   "cell_type": "code",
   "execution_count": 273,
   "outputs": [],
   "source": [
    "out_folder = \"processed_mimic_data\""
   ],
   "metadata": {
    "collapsed": false,
    "pycharm": {
     "name": "#%%\n"
    }
   }
  },
  {
   "cell_type": "markdown",
   "metadata": {},
   "source": [
    "## 1. Identify all 'heart disease' patients"
   ]
  },
  {
   "cell_type": "code",
   "execution_count": 274,
   "metadata": {},
   "outputs": [],
   "source": [
    "# Get all the patient ids with heart disease\n",
    "\"\"\"\n",
    "lists of ICD 9 codes (related to heart diseases):\n",
    "\n",
    "393-398  Chronic Rheumatic Heart Disease\n",
    "410-414  Ischemic Heart Disease\n",
    "420-429  Other Forms Of Heart Disease\n",
    "\"\"\"\n",
    "\n",
    "heart_disease_subject_ids = pd.read_sql(\n",
    "    \"\"\"\n",
    "    SELECT DISTINCT(subject_id)\n",
    "    FROM diagnoses_icd\n",
    "    WHERE (\n",
    "        icd9_code LIKE '393%' OR\n",
    "        icd9_code LIKE '394%' OR\n",
    "        icd9_code LIKE '395%' OR\n",
    "        icd9_code LIKE '396%' OR\n",
    "        icd9_code LIKE '397%' OR\n",
    "        icd9_code LIKE '398%' OR\n",
    "        icd9_code LIKE '410%' OR\n",
    "        icd9_code LIKE '411%' OR\n",
    "        icd9_code LIKE '412%' OR\n",
    "        icd9_code LIKE '413%' OR\n",
    "        icd9_code LIKE '414%' OR\n",
    "        icd9_code LIKE '420%' OR\n",
    "        icd9_code LIKE '421%' OR\n",
    "        icd9_code LIKE '422%' OR\n",
    "        icd9_code LIKE '423%' OR\n",
    "        icd9_code LIKE '424%' OR\n",
    "        icd9_code LIKE '425%' OR\n",
    "        icd9_code LIKE '426%' OR\n",
    "        icd9_code LIKE '427%' OR\n",
    "        icd9_code LIKE '428%' OR\n",
    "        icd9_code LIKE '429%' \n",
    "    );\n",
    "    \"\"\", conn)"
   ]
  },
  {
   "cell_type": "code",
   "execution_count": 275,
   "metadata": {},
   "outputs": [
    {
     "data": {
      "text/plain": "(24138, 1)"
     },
     "execution_count": 275,
     "metadata": {},
     "output_type": "execute_result"
    }
   ],
   "source": [
    "heart_disease_subject_ids.shape"
   ]
  },
  {
   "cell_type": "code",
   "execution_count": 276,
   "metadata": {},
   "outputs": [],
   "source": [
    "# Convert to a set for filtering\n",
    "heart_disease_id_set = set(heart_disease_subject_ids['subject_id'])"
   ]
  },
  {
   "cell_type": "markdown",
   "metadata": {},
   "source": [
    "## 2. Retrieve all admission ids from last 12 months since each patient's last admission"
   ]
  },
  {
   "cell_type": "code",
   "execution_count": 277,
   "metadata": {},
   "outputs": [],
   "source": [
    "# Get the subtraction between all admission times and the last admission by each patient; in year unit\n",
    "admissions_diff = pd.read_sql(\n",
    "    \"\"\"\n",
    "    SELECT a.subject_id, a.hadm_id,\n",
    "    ROUND((cast(a.admittime as date)-cast(last_admission_time.max_admittime as date))/365.242,2) AS diff_from_last \n",
    "    FROM admissions AS a\n",
    "    LEFT JOIN\n",
    "        (SELECT subject_id,  MAX(admittime) AS max_admittime\n",
    "        FROM admissions\n",
    "        GROUP BY subject_id\n",
    "        ) AS last_admission_time\n",
    "    ON a.subject_id=last_admission_time.subject_id;\n",
    "    \"\"\", conn)"
   ]
  },
  {
   "cell_type": "code",
   "execution_count": 278,
   "metadata": {},
   "outputs": [
    {
     "data": {
      "text/plain": "   subject_id  hadm_id  diff_from_last\n0          22   165315            0.00\n1          23   152223           -4.12\n2          23   124321            0.00\n3          24   161859            0.00\n4          25   129635            0.00",
      "text/html": "<div>\n<style scoped>\n    .dataframe tbody tr th:only-of-type {\n        vertical-align: middle;\n    }\n\n    .dataframe tbody tr th {\n        vertical-align: top;\n    }\n\n    .dataframe thead th {\n        text-align: right;\n    }\n</style>\n<table border=\"1\" class=\"dataframe\">\n  <thead>\n    <tr style=\"text-align: right;\">\n      <th></th>\n      <th>subject_id</th>\n      <th>hadm_id</th>\n      <th>diff_from_last</th>\n    </tr>\n  </thead>\n  <tbody>\n    <tr>\n      <th>0</th>\n      <td>22</td>\n      <td>165315</td>\n      <td>0.00</td>\n    </tr>\n    <tr>\n      <th>1</th>\n      <td>23</td>\n      <td>152223</td>\n      <td>-4.12</td>\n    </tr>\n    <tr>\n      <th>2</th>\n      <td>23</td>\n      <td>124321</td>\n      <td>0.00</td>\n    </tr>\n    <tr>\n      <th>3</th>\n      <td>24</td>\n      <td>161859</td>\n      <td>0.00</td>\n    </tr>\n    <tr>\n      <th>4</th>\n      <td>25</td>\n      <td>129635</td>\n      <td>0.00</td>\n    </tr>\n  </tbody>\n</table>\n</div>"
     },
     "execution_count": 278,
     "metadata": {},
     "output_type": "execute_result"
    }
   ],
   "source": [
    "admissions_diff.head()"
   ]
  },
  {
   "cell_type": "code",
   "execution_count": 279,
   "metadata": {},
   "outputs": [],
   "source": [
    "# Get all the admissions from last 12 months since each patient's last admission ('diff_from_last' >= -1 <year>)\n",
    "admissions_last_year = admissions_diff[admissions_diff['diff_from_last'] >= -1]"
   ]
  },
  {
   "cell_type": "code",
   "execution_count": 280,
   "metadata": {},
   "outputs": [
    {
     "data": {
      "text/plain": "   subject_id  hadm_id  diff_from_last\n0          22   165315             0.0\n2          23   124321             0.0\n3          24   161859             0.0\n4          25   129635             0.0\n5          26   197661             0.0",
      "text/html": "<div>\n<style scoped>\n    .dataframe tbody tr th:only-of-type {\n        vertical-align: middle;\n    }\n\n    .dataframe tbody tr th {\n        vertical-align: top;\n    }\n\n    .dataframe thead th {\n        text-align: right;\n    }\n</style>\n<table border=\"1\" class=\"dataframe\">\n  <thead>\n    <tr style=\"text-align: right;\">\n      <th></th>\n      <th>subject_id</th>\n      <th>hadm_id</th>\n      <th>diff_from_last</th>\n    </tr>\n  </thead>\n  <tbody>\n    <tr>\n      <th>0</th>\n      <td>22</td>\n      <td>165315</td>\n      <td>0.0</td>\n    </tr>\n    <tr>\n      <th>2</th>\n      <td>23</td>\n      <td>124321</td>\n      <td>0.0</td>\n    </tr>\n    <tr>\n      <th>3</th>\n      <td>24</td>\n      <td>161859</td>\n      <td>0.0</td>\n    </tr>\n    <tr>\n      <th>4</th>\n      <td>25</td>\n      <td>129635</td>\n      <td>0.0</td>\n    </tr>\n    <tr>\n      <th>5</th>\n      <td>26</td>\n      <td>197661</td>\n      <td>0.0</td>\n    </tr>\n  </tbody>\n</table>\n</div>"
     },
     "execution_count": 280,
     "metadata": {},
     "output_type": "execute_result"
    }
   ],
   "source": [
    "admissions_last_year.head()"
   ]
  },
  {
   "cell_type": "code",
   "execution_count": 281,
   "metadata": {},
   "outputs": [],
   "source": [
    "# Convert all hadm_id's into a set\n",
    "hadm_id_set = set(admissions_last_year['hadm_id'])"
   ]
  },
  {
   "cell_type": "markdown",
   "metadata": {},
   "source": [
    "## 3. Get all drug events and process them by remove 'stopword' events"
   ]
  },
  {
   "cell_type": "code",
   "execution_count": 282,
   "metadata": {},
   "outputs": [],
   "source": [
    "# Get all the drug events from table 'inputevents_mv'\n",
    "drug_events = pd.read_sql(\n",
    "    \"\"\"\n",
    "    SELECT im.subject_id, im.hadm_id, im.starttime, im.itemid, di.abbreviation\n",
    "    FROM inputevents_mv as im\n",
    "    JOIN d_items as di\n",
    "    ON im.itemid=di.itemid;\n",
    "    \"\"\", conn)"
   ]
  },
  {
   "cell_type": "code",
   "execution_count": 283,
   "metadata": {},
   "outputs": [
    {
     "data": {
      "text/plain": "(3618991, 5)"
     },
     "execution_count": 283,
     "metadata": {},
     "output_type": "execute_result"
    }
   ],
   "source": [
    "drug_events.shape"
   ]
  },
  {
   "cell_type": "code",
   "execution_count": 284,
   "metadata": {},
   "outputs": [
    {
     "data": {
      "text/plain": "   subject_id  hadm_id           starttime  itemid  \\\n0       27063   139787 2133-02-05 06:29:00  225166   \n1       27063   139787 2133-02-05 05:34:00  225944   \n2       27063   139787 2133-02-05 05:34:00  225166   \n3       27063   139787 2133-02-03 12:00:00  225893   \n4       27063   139787 2133-02-03 12:00:00  220949   \n\n                      abbreviation  \n0         Potassium Chloride - KCL  \n1                    Sterile Water  \n2         Potassium Chloride - KCL  \n3  Piperacillin/Tazobactam (Zosyn)  \n4                      Dextrose 5%  ",
      "text/html": "<div>\n<style scoped>\n    .dataframe tbody tr th:only-of-type {\n        vertical-align: middle;\n    }\n\n    .dataframe tbody tr th {\n        vertical-align: top;\n    }\n\n    .dataframe thead th {\n        text-align: right;\n    }\n</style>\n<table border=\"1\" class=\"dataframe\">\n  <thead>\n    <tr style=\"text-align: right;\">\n      <th></th>\n      <th>subject_id</th>\n      <th>hadm_id</th>\n      <th>starttime</th>\n      <th>itemid</th>\n      <th>abbreviation</th>\n    </tr>\n  </thead>\n  <tbody>\n    <tr>\n      <th>0</th>\n      <td>27063</td>\n      <td>139787</td>\n      <td>2133-02-05 06:29:00</td>\n      <td>225166</td>\n      <td>Potassium Chloride - KCL</td>\n    </tr>\n    <tr>\n      <th>1</th>\n      <td>27063</td>\n      <td>139787</td>\n      <td>2133-02-05 05:34:00</td>\n      <td>225944</td>\n      <td>Sterile Water</td>\n    </tr>\n    <tr>\n      <th>2</th>\n      <td>27063</td>\n      <td>139787</td>\n      <td>2133-02-05 05:34:00</td>\n      <td>225166</td>\n      <td>Potassium Chloride - KCL</td>\n    </tr>\n    <tr>\n      <th>3</th>\n      <td>27063</td>\n      <td>139787</td>\n      <td>2133-02-03 12:00:00</td>\n      <td>225893</td>\n      <td>Piperacillin/Tazobactam (Zosyn)</td>\n    </tr>\n    <tr>\n      <th>4</th>\n      <td>27063</td>\n      <td>139787</td>\n      <td>2133-02-03 12:00:00</td>\n      <td>220949</td>\n      <td>Dextrose 5%</td>\n    </tr>\n  </tbody>\n</table>\n</div>"
     },
     "execution_count": 284,
     "metadata": {},
     "output_type": "execute_result"
    }
   ],
   "source": [
    "drug_events.head()"
   ]
  },
  {
   "cell_type": "markdown",
   "metadata": {},
   "source": [
    "### 3.1 Filter drug events by the admission id set and heart disease patient ids"
   ]
  },
  {
   "cell_type": "code",
   "execution_count": 285,
   "metadata": {},
   "outputs": [],
   "source": [
    "# Filter all drug events that are in the admission id set (admissions from the last 12 month of each patient's last admission)\n",
    "drug_events_last_year = drug_events[drug_events['hadm_id'].isin(hadm_id_set)]"
   ]
  },
  {
   "cell_type": "code",
   "execution_count": 286,
   "metadata": {},
   "outputs": [],
   "source": [
    "# Filter by heart disease patient ids\n",
    "drug_events_filtered = drug_events_last_year[drug_events_last_year['subject_id'].isin(heart_disease_id_set)]"
   ]
  },
  {
   "cell_type": "code",
   "execution_count": 287,
   "metadata": {},
   "outputs": [
    {
     "data": {
      "text/plain": "   subject_id  hadm_id           starttime  itemid  \\\n0       27063   139787 2133-02-05 06:29:00  225166   \n1       27063   139787 2133-02-05 05:34:00  225944   \n2       27063   139787 2133-02-05 05:34:00  225166   \n3       27063   139787 2133-02-03 12:00:00  225893   \n4       27063   139787 2133-02-03 12:00:00  220949   \n\n                      abbreviation  \n0         Potassium Chloride - KCL  \n1                    Sterile Water  \n2         Potassium Chloride - KCL  \n3  Piperacillin/Tazobactam (Zosyn)  \n4                      Dextrose 5%  ",
      "text/html": "<div>\n<style scoped>\n    .dataframe tbody tr th:only-of-type {\n        vertical-align: middle;\n    }\n\n    .dataframe tbody tr th {\n        vertical-align: top;\n    }\n\n    .dataframe thead th {\n        text-align: right;\n    }\n</style>\n<table border=\"1\" class=\"dataframe\">\n  <thead>\n    <tr style=\"text-align: right;\">\n      <th></th>\n      <th>subject_id</th>\n      <th>hadm_id</th>\n      <th>starttime</th>\n      <th>itemid</th>\n      <th>abbreviation</th>\n    </tr>\n  </thead>\n  <tbody>\n    <tr>\n      <th>0</th>\n      <td>27063</td>\n      <td>139787</td>\n      <td>2133-02-05 06:29:00</td>\n      <td>225166</td>\n      <td>Potassium Chloride - KCL</td>\n    </tr>\n    <tr>\n      <th>1</th>\n      <td>27063</td>\n      <td>139787</td>\n      <td>2133-02-05 05:34:00</td>\n      <td>225944</td>\n      <td>Sterile Water</td>\n    </tr>\n    <tr>\n      <th>2</th>\n      <td>27063</td>\n      <td>139787</td>\n      <td>2133-02-05 05:34:00</td>\n      <td>225166</td>\n      <td>Potassium Chloride - KCL</td>\n    </tr>\n    <tr>\n      <th>3</th>\n      <td>27063</td>\n      <td>139787</td>\n      <td>2133-02-03 12:00:00</td>\n      <td>225893</td>\n      <td>Piperacillin/Tazobactam (Zosyn)</td>\n    </tr>\n    <tr>\n      <th>4</th>\n      <td>27063</td>\n      <td>139787</td>\n      <td>2133-02-03 12:00:00</td>\n      <td>220949</td>\n      <td>Dextrose 5%</td>\n    </tr>\n  </tbody>\n</table>\n</div>"
     },
     "execution_count": 287,
     "metadata": {},
     "output_type": "execute_result"
    }
   ],
   "source": [
    "drug_events_filtered.head()"
   ]
  },
  {
   "cell_type": "markdown",
   "metadata": {},
   "source": [
    "### 3.2 Drop the duplicated items (which indicates different doses in the same session)"
   ]
  },
  {
   "cell_type": "code",
   "execution_count": 288,
   "metadata": {},
   "outputs": [],
   "source": [
    "# # Uncomment to view duplicated 'itemid's from the same session\n",
    "# drug_events_filtered.groupby(by='subject_id').apply(lambda x: x.sort_values('itemid'))"
   ]
  },
  {
   "cell_type": "code",
   "execution_count": 289,
   "metadata": {},
   "outputs": [],
   "source": [
    "# Drop the duplicates (due to different doses) in the same input session\n",
    "drug_events_filtered2 = drug_events_filtered.drop_duplicates()"
   ]
  },
  {
   "cell_type": "code",
   "execution_count": 290,
   "metadata": {
    "scrolled": true
   },
   "outputs": [],
   "source": [
    "# # Sanity check, uncomment to view that there are no more duplicates from the same input session\n",
    "# drug_events_filtered2.groupby(by='subject_id').apply(lambda x: x.sort_values('itemid'))"
   ]
  },
  {
   "cell_type": "markdown",
   "metadata": {},
   "source": [
    "### 3.3 Remove 'stopword' events (too frequent counts or too rare)"
   ]
  },
  {
   "cell_type": "code",
   "execution_count": 291,
   "metadata": {},
   "outputs": [],
   "source": [
    "# Count itemid values\n",
    "itemid_counts = drug_events_filtered2['itemid'].value_counts()\n",
    "\n",
    "itemid_counts2 = itemid_counts.reset_index()\n",
    "itemid_counts2 = itemid_counts2.rename(columns={\"index\": \"itemid\", \"itemid\":\"counts\"})"
   ]
  },
  {
   "cell_type": "code",
   "execution_count": 292,
   "metadata": {},
   "outputs": [
    {
     "data": {
      "text/plain": "   itemid  counts\n0  225158  276499\n1  220949  230833\n2  225943   99743\n3  226452   85691\n4  223258   75492",
      "text/html": "<div>\n<style scoped>\n    .dataframe tbody tr th:only-of-type {\n        vertical-align: middle;\n    }\n\n    .dataframe tbody tr th {\n        vertical-align: top;\n    }\n\n    .dataframe thead th {\n        text-align: right;\n    }\n</style>\n<table border=\"1\" class=\"dataframe\">\n  <thead>\n    <tr style=\"text-align: right;\">\n      <th></th>\n      <th>itemid</th>\n      <th>counts</th>\n    </tr>\n  </thead>\n  <tbody>\n    <tr>\n      <th>0</th>\n      <td>225158</td>\n      <td>276499</td>\n    </tr>\n    <tr>\n      <th>1</th>\n      <td>220949</td>\n      <td>230833</td>\n    </tr>\n    <tr>\n      <th>2</th>\n      <td>225943</td>\n      <td>99743</td>\n    </tr>\n    <tr>\n      <th>3</th>\n      <td>226452</td>\n      <td>85691</td>\n    </tr>\n    <tr>\n      <th>4</th>\n      <td>223258</td>\n      <td>75492</td>\n    </tr>\n  </tbody>\n</table>\n</div>"
     },
     "execution_count": 292,
     "metadata": {},
     "output_type": "execute_result"
    }
   ],
   "source": [
    "itemid_counts2.head()"
   ]
  },
  {
   "cell_type": "code",
   "execution_count": 293,
   "metadata": {},
   "outputs": [],
   "source": [
    "# Add 'proportion' of each itemid to the table \n",
    "itemid_counts2['proportion'] = itemid_counts2['counts']/sum(itemid_counts2['counts'])"
   ]
  },
  {
   "cell_type": "code",
   "execution_count": 294,
   "metadata": {},
   "outputs": [
    {
     "data": {
      "text/plain": "   itemid  counts  proportion\n0  225158  276499    0.142412\n1  220949  230833    0.118892\n2  225943   99743    0.051373\n3  226452   85691    0.044136\n4  223258   75492    0.038883\n5  222168   66435    0.034218\n6  225799   60339    0.031078\n7  221749   58045    0.029896\n8  221906   51334    0.026440\n9  221744   45548    0.023460",
      "text/html": "<div>\n<style scoped>\n    .dataframe tbody tr th:only-of-type {\n        vertical-align: middle;\n    }\n\n    .dataframe tbody tr th {\n        vertical-align: top;\n    }\n\n    .dataframe thead th {\n        text-align: right;\n    }\n</style>\n<table border=\"1\" class=\"dataframe\">\n  <thead>\n    <tr style=\"text-align: right;\">\n      <th></th>\n      <th>itemid</th>\n      <th>counts</th>\n      <th>proportion</th>\n    </tr>\n  </thead>\n  <tbody>\n    <tr>\n      <th>0</th>\n      <td>225158</td>\n      <td>276499</td>\n      <td>0.142412</td>\n    </tr>\n    <tr>\n      <th>1</th>\n      <td>220949</td>\n      <td>230833</td>\n      <td>0.118892</td>\n    </tr>\n    <tr>\n      <th>2</th>\n      <td>225943</td>\n      <td>99743</td>\n      <td>0.051373</td>\n    </tr>\n    <tr>\n      <th>3</th>\n      <td>226452</td>\n      <td>85691</td>\n      <td>0.044136</td>\n    </tr>\n    <tr>\n      <th>4</th>\n      <td>223258</td>\n      <td>75492</td>\n      <td>0.038883</td>\n    </tr>\n    <tr>\n      <th>5</th>\n      <td>222168</td>\n      <td>66435</td>\n      <td>0.034218</td>\n    </tr>\n    <tr>\n      <th>6</th>\n      <td>225799</td>\n      <td>60339</td>\n      <td>0.031078</td>\n    </tr>\n    <tr>\n      <th>7</th>\n      <td>221749</td>\n      <td>58045</td>\n      <td>0.029896</td>\n    </tr>\n    <tr>\n      <th>8</th>\n      <td>221906</td>\n      <td>51334</td>\n      <td>0.026440</td>\n    </tr>\n    <tr>\n      <th>9</th>\n      <td>221744</td>\n      <td>45548</td>\n      <td>0.023460</td>\n    </tr>\n  </tbody>\n</table>\n</div>"
     },
     "execution_count": 294,
     "metadata": {},
     "output_type": "execute_result"
    }
   ],
   "source": [
    "itemid_counts2.head(10)"
   ]
  },
  {
   "cell_type": "code",
   "execution_count": 295,
   "metadata": {},
   "outputs": [],
   "source": [
    "# Remove these proportions that are larger than 4.1% or the count is less than 5\n",
    "itemid_counts3 = itemid_counts2[(itemid_counts2['proportion'] <= 0.041) & (itemid_counts2['counts'] >= 5)]"
   ]
  },
  {
   "cell_type": "code",
   "execution_count": 296,
   "metadata": {},
   "outputs": [],
   "source": [
    "# Convert to a set - which contains item ids that are neither too frequent nor too rare\n",
    "itemid_set = set(itemid_counts3['itemid'])"
   ]
  },
  {
   "cell_type": "code",
   "execution_count": 297,
   "metadata": {},
   "outputs": [],
   "source": [
    "drug_events_filtered3 = drug_events_filtered2[drug_events_filtered2['itemid'].isin(itemid_set)]"
   ]
  },
  {
   "cell_type": "code",
   "execution_count": 298,
   "metadata": {},
   "outputs": [
    {
     "data": {
      "text/plain": "   subject_id  hadm_id           starttime  itemid  \\\n0       27063   139787 2133-02-05 06:29:00  225166   \n1       27063   139787 2133-02-05 05:34:00  225944   \n2       27063   139787 2133-02-05 05:34:00  225166   \n3       27063   139787 2133-02-03 12:00:00  225893   \n7       27063   139787 2133-02-05 09:43:00  225944   \n\n                      abbreviation  \n0         Potassium Chloride - KCL  \n1                    Sterile Water  \n2         Potassium Chloride - KCL  \n3  Piperacillin/Tazobactam (Zosyn)  \n7                    Sterile Water  ",
      "text/html": "<div>\n<style scoped>\n    .dataframe tbody tr th:only-of-type {\n        vertical-align: middle;\n    }\n\n    .dataframe tbody tr th {\n        vertical-align: top;\n    }\n\n    .dataframe thead th {\n        text-align: right;\n    }\n</style>\n<table border=\"1\" class=\"dataframe\">\n  <thead>\n    <tr style=\"text-align: right;\">\n      <th></th>\n      <th>subject_id</th>\n      <th>hadm_id</th>\n      <th>starttime</th>\n      <th>itemid</th>\n      <th>abbreviation</th>\n    </tr>\n  </thead>\n  <tbody>\n    <tr>\n      <th>0</th>\n      <td>27063</td>\n      <td>139787</td>\n      <td>2133-02-05 06:29:00</td>\n      <td>225166</td>\n      <td>Potassium Chloride - KCL</td>\n    </tr>\n    <tr>\n      <th>1</th>\n      <td>27063</td>\n      <td>139787</td>\n      <td>2133-02-05 05:34:00</td>\n      <td>225944</td>\n      <td>Sterile Water</td>\n    </tr>\n    <tr>\n      <th>2</th>\n      <td>27063</td>\n      <td>139787</td>\n      <td>2133-02-05 05:34:00</td>\n      <td>225166</td>\n      <td>Potassium Chloride - KCL</td>\n    </tr>\n    <tr>\n      <th>3</th>\n      <td>27063</td>\n      <td>139787</td>\n      <td>2133-02-03 12:00:00</td>\n      <td>225893</td>\n      <td>Piperacillin/Tazobactam (Zosyn)</td>\n    </tr>\n    <tr>\n      <th>7</th>\n      <td>27063</td>\n      <td>139787</td>\n      <td>2133-02-05 09:43:00</td>\n      <td>225944</td>\n      <td>Sterile Water</td>\n    </tr>\n  </tbody>\n</table>\n</div>"
     },
     "execution_count": 298,
     "metadata": {},
     "output_type": "execute_result"
    }
   ],
   "source": [
    "drug_events_filtered3.head()"
   ]
  },
  {
   "cell_type": "code",
   "execution_count": 299,
   "metadata": {},
   "outputs": [
    {
     "data": {
      "text/plain": "(1248736, 5)"
     },
     "execution_count": 299,
     "metadata": {},
     "output_type": "execute_result"
    }
   ],
   "source": [
    "drug_events_filtered3.shape"
   ]
  },
  {
   "cell_type": "markdown",
   "metadata": {},
   "source": [
    "### 3.4 Group drug events by each patient, and sort by session time and then 'itemid'"
   ]
  },
  {
   "cell_type": "code",
   "execution_count": 300,
   "metadata": {},
   "outputs": [],
   "source": [
    "# Group by 'subject_id', and sort by 'starttime' and then 'itemid'\n",
    "drug_events_only = drug_events_filtered3.groupby(by='subject_id').apply(lambda x: x.sort_values('starttime'))['itemid'].reset_index(level=[1], drop=True)"
   ]
  },
  {
   "cell_type": "code",
   "execution_count": 301,
   "metadata": {},
   "outputs": [
    {
     "data": {
      "text/plain": "subject_id\n23    222051\n23    226364\n23    222051\n23    222051\n23    225798\nName: itemid, dtype: int64"
     },
     "execution_count": 301,
     "metadata": {},
     "output_type": "execute_result"
    }
   ],
   "source": [
    "drug_events_only.head()"
   ]
  },
  {
   "cell_type": "code",
   "execution_count": 302,
   "metadata": {},
   "outputs": [],
   "source": [
    "# Convert to a sequnce of drug events for each patient\n",
    "drug_events_by_patient = drug_events_only.groupby(by='subject_id').apply(list)\n",
    "\n",
    "drug_events_by_patient2 = drug_events_by_patient.reset_index()"
   ]
  },
  {
   "cell_type": "code",
   "execution_count": 303,
   "metadata": {},
   "outputs": [
    {
     "data": {
      "text/plain": "   subject_id                                             itemid\n0          23  [222051, 226364, 222051, 222051, 225798, 22587...\n1          34                   [226361, 225942, 221668, 220970]\n2          36  [221833, 225823, 225152, 225823, 221794, 22587...\n3          85  [226361, 225973, 221468, 225974, 225851, 22585...\n4         107  [225910, 225168, 225168, 225942, 222168, 22174...",
      "text/html": "<div>\n<style scoped>\n    .dataframe tbody tr th:only-of-type {\n        vertical-align: middle;\n    }\n\n    .dataframe tbody tr th {\n        vertical-align: top;\n    }\n\n    .dataframe thead th {\n        text-align: right;\n    }\n</style>\n<table border=\"1\" class=\"dataframe\">\n  <thead>\n    <tr style=\"text-align: right;\">\n      <th></th>\n      <th>subject_id</th>\n      <th>itemid</th>\n    </tr>\n  </thead>\n  <tbody>\n    <tr>\n      <th>0</th>\n      <td>23</td>\n      <td>[222051, 226364, 222051, 222051, 225798, 22587...</td>\n    </tr>\n    <tr>\n      <th>1</th>\n      <td>34</td>\n      <td>[226361, 225942, 221668, 220970]</td>\n    </tr>\n    <tr>\n      <th>2</th>\n      <td>36</td>\n      <td>[221833, 225823, 225152, 225823, 221794, 22587...</td>\n    </tr>\n    <tr>\n      <th>3</th>\n      <td>85</td>\n      <td>[226361, 225973, 221468, 225974, 225851, 22585...</td>\n    </tr>\n    <tr>\n      <th>4</th>\n      <td>107</td>\n      <td>[225910, 225168, 225168, 225942, 222168, 22174...</td>\n    </tr>\n  </tbody>\n</table>\n</div>"
     },
     "execution_count": 303,
     "metadata": {},
     "output_type": "execute_result"
    }
   ],
   "source": [
    "drug_events_by_patient2.head()"
   ]
  },
  {
   "cell_type": "code",
   "execution_count": 304,
   "metadata": {},
   "outputs": [
    {
     "data": {
      "text/plain": "(10718, 2)"
     },
     "execution_count": 304,
     "metadata": {},
     "output_type": "execute_result"
    }
   ],
   "source": [
    "drug_events_by_patient2.shape"
   ]
  },
  {
   "cell_type": "markdown",
   "metadata": {},
   "source": [
    "### 3.5 Filter by event length (resulted sequence length is between 3 to 50)"
   ]
  },
  {
   "cell_type": "code",
   "execution_count": 305,
   "metadata": {},
   "outputs": [],
   "source": [
    "# Add 'count' of itemid to the table\n",
    "drug_events_by_patient2['count'] = [len(events) for events in drug_events_by_patient2['itemid']]"
   ]
  },
  {
   "cell_type": "code",
   "execution_count": 306,
   "metadata": {},
   "outputs": [
    {
     "data": {
      "text/plain": "count    10718.000000\nmean       116.508304\nstd        220.813025\nmin          1.000000\n25%         16.000000\n50%         47.000000\n75%        109.000000\nmax       4011.000000\nName: count, dtype: float64"
     },
     "execution_count": 306,
     "metadata": {},
     "output_type": "execute_result"
    }
   ],
   "source": [
    "drug_events_by_patient2['count'].describe()"
   ]
  },
  {
   "cell_type": "code",
   "execution_count": 307,
   "metadata": {},
   "outputs": [],
   "source": [
    "# Filter by sequence length\n",
    "drug_events_by_patient3 = drug_events_by_patient2[drug_events_by_patient2['count'].apply(lambda x: True if x >=3 and x <=50 else False)]"
   ]
  },
  {
   "cell_type": "code",
   "execution_count": 308,
   "metadata": {},
   "outputs": [
    {
     "data": {
      "text/plain": "(5325, 3)"
     },
     "execution_count": 308,
     "metadata": {},
     "output_type": "execute_result"
    }
   ],
   "source": [
    "drug_events_by_patient3.shape"
   ]
  },
  {
   "cell_type": "markdown",
   "metadata": {},
   "source": [
    "## 4. Get all procedure codes"
   ]
  },
  {
   "cell_type": "code",
   "execution_count": 309,
   "metadata": {},
   "outputs": [],
   "source": [
    "procedure_codes = pd.read_sql(\n",
    "    \"\"\"\n",
    "    SELECT a.admittime, procedures.* \n",
    "    FROM admissions AS a\n",
    "    RIGHT JOIN\n",
    "        (SELECT pi.subject_id, pi.hadm_id, pi.seq_num, pi.icd9_code, dip.short_title\n",
    "        FROM procedures_icd AS pi\n",
    "        JOIN d_icd_procedures AS dip\n",
    "        ON pi.icd9_code=dip.icd9_code) AS procedures\n",
    "    ON a.hadm_id=procedures.hadm_id;\n",
    "    \"\"\", conn)"
   ]
  },
  {
   "cell_type": "code",
   "execution_count": 310,
   "metadata": {},
   "outputs": [
    {
     "data": {
      "text/plain": "            admittime  subject_id  hadm_id  seq_num icd9_code  \\\n0 2143-07-23 07:15:00       62641   154460        3      3404   \n1 2183-06-05 21:02:00        2592   130856        1      9671   \n2 2183-06-05 21:02:00        2592   130856        2      3893   \n3 2187-06-08 02:24:00       55357   119355        1      9672   \n4 2187-06-08 02:24:00       55357   119355        2      0331   \n\n                short_title  \n0   Insert intercostal cath  \n1  Cont inv mec ven <96 hrs  \n2           Venous cath NEC  \n3  Cont inv mec ven 96+ hrs  \n4                Spinal tap  ",
      "text/html": "<div>\n<style scoped>\n    .dataframe tbody tr th:only-of-type {\n        vertical-align: middle;\n    }\n\n    .dataframe tbody tr th {\n        vertical-align: top;\n    }\n\n    .dataframe thead th {\n        text-align: right;\n    }\n</style>\n<table border=\"1\" class=\"dataframe\">\n  <thead>\n    <tr style=\"text-align: right;\">\n      <th></th>\n      <th>admittime</th>\n      <th>subject_id</th>\n      <th>hadm_id</th>\n      <th>seq_num</th>\n      <th>icd9_code</th>\n      <th>short_title</th>\n    </tr>\n  </thead>\n  <tbody>\n    <tr>\n      <th>0</th>\n      <td>2143-07-23 07:15:00</td>\n      <td>62641</td>\n      <td>154460</td>\n      <td>3</td>\n      <td>3404</td>\n      <td>Insert intercostal cath</td>\n    </tr>\n    <tr>\n      <th>1</th>\n      <td>2183-06-05 21:02:00</td>\n      <td>2592</td>\n      <td>130856</td>\n      <td>1</td>\n      <td>9671</td>\n      <td>Cont inv mec ven &lt;96 hrs</td>\n    </tr>\n    <tr>\n      <th>2</th>\n      <td>2183-06-05 21:02:00</td>\n      <td>2592</td>\n      <td>130856</td>\n      <td>2</td>\n      <td>3893</td>\n      <td>Venous cath NEC</td>\n    </tr>\n    <tr>\n      <th>3</th>\n      <td>2187-06-08 02:24:00</td>\n      <td>55357</td>\n      <td>119355</td>\n      <td>1</td>\n      <td>9672</td>\n      <td>Cont inv mec ven 96+ hrs</td>\n    </tr>\n    <tr>\n      <th>4</th>\n      <td>2187-06-08 02:24:00</td>\n      <td>55357</td>\n      <td>119355</td>\n      <td>2</td>\n      <td>0331</td>\n      <td>Spinal tap</td>\n    </tr>\n  </tbody>\n</table>\n</div>"
     },
     "execution_count": 310,
     "metadata": {},
     "output_type": "execute_result"
    }
   ],
   "source": [
    "procedure_codes.head()"
   ]
  },
  {
   "cell_type": "markdown",
   "metadata": {},
   "source": [
    "### 4.1 Filter by the admission id set and heart disease patient ids"
   ]
  },
  {
   "cell_type": "code",
   "execution_count": 311,
   "metadata": {},
   "outputs": [],
   "source": [
    "# Filter by the admission id set (admissions from the last 12 month of each patient's last admission)\n",
    "procedure_codes_last_year = procedure_codes[procedure_codes['hadm_id'].isin(hadm_id_set)]"
   ]
  },
  {
   "cell_type": "code",
   "execution_count": 312,
   "metadata": {},
   "outputs": [],
   "source": [
    "# Filter by heart disease patient ids\n",
    "procedure_codes_filtered = procedure_codes_last_year[procedure_codes_last_year['subject_id'].isin(heart_disease_id_set)]"
   ]
  },
  {
   "cell_type": "code",
   "execution_count": 313,
   "metadata": {},
   "outputs": [
    {
     "data": {
      "text/plain": "             admittime  subject_id  hadm_id  seq_num icd9_code  \\\n79 2120-07-03 18:46:00       16052   137667        7      3893   \n80 2120-07-03 18:46:00       16052   137667        8      3893   \n81 2120-07-03 18:46:00       16052   137667        9      9923   \n82 2103-08-08 19:34:00        7221   179572        1      3950   \n83 2103-08-08 19:34:00        7221   179572        2      9910   \n\n                 short_title  \n79           Venous cath NEC  \n80           Venous cath NEC  \n81            Inject steroid  \n82    Angio oth non-coronary  \n83  Inject/inf thrombo agent  ",
      "text/html": "<div>\n<style scoped>\n    .dataframe tbody tr th:only-of-type {\n        vertical-align: middle;\n    }\n\n    .dataframe tbody tr th {\n        vertical-align: top;\n    }\n\n    .dataframe thead th {\n        text-align: right;\n    }\n</style>\n<table border=\"1\" class=\"dataframe\">\n  <thead>\n    <tr style=\"text-align: right;\">\n      <th></th>\n      <th>admittime</th>\n      <th>subject_id</th>\n      <th>hadm_id</th>\n      <th>seq_num</th>\n      <th>icd9_code</th>\n      <th>short_title</th>\n    </tr>\n  </thead>\n  <tbody>\n    <tr>\n      <th>79</th>\n      <td>2120-07-03 18:46:00</td>\n      <td>16052</td>\n      <td>137667</td>\n      <td>7</td>\n      <td>3893</td>\n      <td>Venous cath NEC</td>\n    </tr>\n    <tr>\n      <th>80</th>\n      <td>2120-07-03 18:46:00</td>\n      <td>16052</td>\n      <td>137667</td>\n      <td>8</td>\n      <td>3893</td>\n      <td>Venous cath NEC</td>\n    </tr>\n    <tr>\n      <th>81</th>\n      <td>2120-07-03 18:46:00</td>\n      <td>16052</td>\n      <td>137667</td>\n      <td>9</td>\n      <td>9923</td>\n      <td>Inject steroid</td>\n    </tr>\n    <tr>\n      <th>82</th>\n      <td>2103-08-08 19:34:00</td>\n      <td>7221</td>\n      <td>179572</td>\n      <td>1</td>\n      <td>3950</td>\n      <td>Angio oth non-coronary</td>\n    </tr>\n    <tr>\n      <th>83</th>\n      <td>2103-08-08 19:34:00</td>\n      <td>7221</td>\n      <td>179572</td>\n      <td>2</td>\n      <td>9910</td>\n      <td>Inject/inf thrombo agent</td>\n    </tr>\n  </tbody>\n</table>\n</div>"
     },
     "execution_count": 313,
     "metadata": {},
     "output_type": "execute_result"
    }
   ],
   "source": [
    "procedure_codes_filtered.head()"
   ]
  },
  {
   "cell_type": "code",
   "execution_count": 314,
   "metadata": {},
   "outputs": [
    {
     "data": {
      "text/plain": "(135959, 6)"
     },
     "execution_count": 314,
     "metadata": {},
     "output_type": "execute_result"
    }
   ],
   "source": [
    "procedure_codes_filtered.shape"
   ]
  },
  {
   "cell_type": "code",
   "execution_count": 315,
   "metadata": {},
   "outputs": [],
   "source": [
    "procedure_codes_filtered2 = procedure_codes_filtered.drop(['short_title', 'hadm_id'], axis=1)"
   ]
  },
  {
   "cell_type": "markdown",
   "metadata": {},
   "source": [
    "### 4.2 Group by subject_id and sort by admittime and seq_num"
   ]
  },
  {
   "cell_type": "code",
   "execution_count": 316,
   "metadata": {},
   "outputs": [],
   "source": [
    "# group by subject_id and sort by admittime (first) and seq_num (second)\n",
    "procedure_codes_filtered3 = procedure_codes_filtered2.groupby(by='subject_id').apply(lambda x: x.sort_values(['admittime', 'seq_num']))"
   ]
  },
  {
   "cell_type": "code",
   "execution_count": 317,
   "metadata": {},
   "outputs": [
    {
     "data": {
      "text/plain": "                           admittime  subject_id  seq_num icd9_code\nsubject_id                                                         \n3          44088 2101-10-20 19:08:00           3        1      9604\n           44089 2101-10-20 19:08:00           3        2      9962\n           44090 2101-10-20 19:08:00           3        3      8964\n           44091 2101-10-20 19:08:00           3        4      9672\n           44092 2101-10-20 19:08:00           3        5      3893",
      "text/html": "<div>\n<style scoped>\n    .dataframe tbody tr th:only-of-type {\n        vertical-align: middle;\n    }\n\n    .dataframe tbody tr th {\n        vertical-align: top;\n    }\n\n    .dataframe thead th {\n        text-align: right;\n    }\n</style>\n<table border=\"1\" class=\"dataframe\">\n  <thead>\n    <tr style=\"text-align: right;\">\n      <th></th>\n      <th></th>\n      <th>admittime</th>\n      <th>subject_id</th>\n      <th>seq_num</th>\n      <th>icd9_code</th>\n    </tr>\n    <tr>\n      <th>subject_id</th>\n      <th></th>\n      <th></th>\n      <th></th>\n      <th></th>\n      <th></th>\n    </tr>\n  </thead>\n  <tbody>\n    <tr>\n      <th rowspan=\"5\" valign=\"top\">3</th>\n      <th>44088</th>\n      <td>2101-10-20 19:08:00</td>\n      <td>3</td>\n      <td>1</td>\n      <td>9604</td>\n    </tr>\n    <tr>\n      <th>44089</th>\n      <td>2101-10-20 19:08:00</td>\n      <td>3</td>\n      <td>2</td>\n      <td>9962</td>\n    </tr>\n    <tr>\n      <th>44090</th>\n      <td>2101-10-20 19:08:00</td>\n      <td>3</td>\n      <td>3</td>\n      <td>8964</td>\n    </tr>\n    <tr>\n      <th>44091</th>\n      <td>2101-10-20 19:08:00</td>\n      <td>3</td>\n      <td>4</td>\n      <td>9672</td>\n    </tr>\n    <tr>\n      <th>44092</th>\n      <td>2101-10-20 19:08:00</td>\n      <td>3</td>\n      <td>5</td>\n      <td>3893</td>\n    </tr>\n  </tbody>\n</table>\n</div>"
     },
     "execution_count": 317,
     "metadata": {},
     "output_type": "execute_result"
    }
   ],
   "source": [
    "procedure_codes_filtered3.head()"
   ]
  },
  {
   "cell_type": "code",
   "execution_count": 318,
   "metadata": {},
   "outputs": [],
   "source": [
    "procedure_codes_filtered4 = procedure_codes_filtered3.reset_index(level=[0,1], drop=True)"
   ]
  },
  {
   "cell_type": "code",
   "execution_count": 319,
   "metadata": {},
   "outputs": [
    {
     "data": {
      "text/plain": "            admittime  subject_id  seq_num icd9_code\n0 2101-10-20 19:08:00           3        1      9604\n1 2101-10-20 19:08:00           3        2      9962\n2 2101-10-20 19:08:00           3        3      8964\n3 2101-10-20 19:08:00           3        4      9672\n4 2101-10-20 19:08:00           3        5      3893",
      "text/html": "<div>\n<style scoped>\n    .dataframe tbody tr th:only-of-type {\n        vertical-align: middle;\n    }\n\n    .dataframe tbody tr th {\n        vertical-align: top;\n    }\n\n    .dataframe thead th {\n        text-align: right;\n    }\n</style>\n<table border=\"1\" class=\"dataframe\">\n  <thead>\n    <tr style=\"text-align: right;\">\n      <th></th>\n      <th>admittime</th>\n      <th>subject_id</th>\n      <th>seq_num</th>\n      <th>icd9_code</th>\n    </tr>\n  </thead>\n  <tbody>\n    <tr>\n      <th>0</th>\n      <td>2101-10-20 19:08:00</td>\n      <td>3</td>\n      <td>1</td>\n      <td>9604</td>\n    </tr>\n    <tr>\n      <th>1</th>\n      <td>2101-10-20 19:08:00</td>\n      <td>3</td>\n      <td>2</td>\n      <td>9962</td>\n    </tr>\n    <tr>\n      <th>2</th>\n      <td>2101-10-20 19:08:00</td>\n      <td>3</td>\n      <td>3</td>\n      <td>8964</td>\n    </tr>\n    <tr>\n      <th>3</th>\n      <td>2101-10-20 19:08:00</td>\n      <td>3</td>\n      <td>4</td>\n      <td>9672</td>\n    </tr>\n    <tr>\n      <th>4</th>\n      <td>2101-10-20 19:08:00</td>\n      <td>3</td>\n      <td>5</td>\n      <td>3893</td>\n    </tr>\n  </tbody>\n</table>\n</div>"
     },
     "execution_count": 319,
     "metadata": {},
     "output_type": "execute_result"
    }
   ],
   "source": [
    "procedure_codes_filtered4.head()"
   ]
  },
  {
   "cell_type": "code",
   "execution_count": 320,
   "metadata": {},
   "outputs": [],
   "source": [
    "# Group all the sequential events by patients\n",
    "procedures_by_patient = procedure_codes_filtered4.groupby(by='subject_id', axis=0)['icd9_code'].apply(list)\n",
    "\n",
    "procedures_by_patient2 = procedures_by_patient.reset_index()"
   ]
  },
  {
   "cell_type": "code",
   "execution_count": 321,
   "metadata": {},
   "outputs": [
    {
     "data": {
      "text/plain": "   subject_id                                          icd9_code\n0           3                [9604, 9962, 8964, 9672, 3893, 966]\n1           9                                       [9672, 9604]\n2          12  [5137, 5212, 5459, 5351, 9915, 3893, 9960, 541...\n3          13                     [3612, 3615, 3961, 3761, 8872]\n4          17               [3571, 3961, 8872, 3731, 8872, 3893]",
      "text/html": "<div>\n<style scoped>\n    .dataframe tbody tr th:only-of-type {\n        vertical-align: middle;\n    }\n\n    .dataframe tbody tr th {\n        vertical-align: top;\n    }\n\n    .dataframe thead th {\n        text-align: right;\n    }\n</style>\n<table border=\"1\" class=\"dataframe\">\n  <thead>\n    <tr style=\"text-align: right;\">\n      <th></th>\n      <th>subject_id</th>\n      <th>icd9_code</th>\n    </tr>\n  </thead>\n  <tbody>\n    <tr>\n      <th>0</th>\n      <td>3</td>\n      <td>[9604, 9962, 8964, 9672, 3893, 966]</td>\n    </tr>\n    <tr>\n      <th>1</th>\n      <td>9</td>\n      <td>[9672, 9604]</td>\n    </tr>\n    <tr>\n      <th>2</th>\n      <td>12</td>\n      <td>[5137, 5212, 5459, 5351, 9915, 3893, 9960, 541...</td>\n    </tr>\n    <tr>\n      <th>3</th>\n      <td>13</td>\n      <td>[3612, 3615, 3961, 3761, 8872]</td>\n    </tr>\n    <tr>\n      <th>4</th>\n      <td>17</td>\n      <td>[3571, 3961, 8872, 3731, 8872, 3893]</td>\n    </tr>\n  </tbody>\n</table>\n</div>"
     },
     "execution_count": 321,
     "metadata": {},
     "output_type": "execute_result"
    }
   ],
   "source": [
    "procedures_by_patient2.head()"
   ]
  },
  {
   "cell_type": "markdown",
   "metadata": {},
   "source": [
    "### 4.3 Check the sequence length of procedures for each patient"
   ]
  },
  {
   "cell_type": "code",
   "execution_count": 322,
   "metadata": {},
   "outputs": [],
   "source": [
    "# Add 'count' of itemid to the table\n",
    "procedures_by_patient2['count'] = [len(codes) for codes in procedures_by_patient2['icd9_code']]"
   ]
  },
  {
   "cell_type": "code",
   "execution_count": 323,
   "metadata": {},
   "outputs": [
    {
     "data": {
      "text/plain": "count    22293.000000\nmean         6.098731\nstd          5.005845\nmin          1.000000\n25%          3.000000\n50%          5.000000\n75%          8.000000\nmax         65.000000\nName: count, dtype: float64"
     },
     "execution_count": 323,
     "metadata": {},
     "output_type": "execute_result"
    }
   ],
   "source": [
    "procedures_by_patient2['count'].describe()"
   ]
  },
  {
   "cell_type": "markdown",
   "metadata": {},
   "source": [
    "## 5. Merge drug events and procedures"
   ]
  },
  {
   "cell_type": "code",
   "execution_count": 324,
   "metadata": {},
   "outputs": [],
   "source": [
    "# Merge drug events (filtered by event length between 3 and 50) and procedures\n",
    "drug_events_procedures_merged = pd.merge(drug_events_by_patient3, procedures_by_patient2, how='inner', on='subject_id')"
   ]
  },
  {
   "cell_type": "code",
   "execution_count": 325,
   "metadata": {},
   "outputs": [
    {
     "data": {
      "text/plain": "(4439, 5)"
     },
     "execution_count": 325,
     "metadata": {},
     "output_type": "execute_result"
    }
   ],
   "source": [
    "drug_events_procedures_merged.shape"
   ]
  },
  {
   "cell_type": "code",
   "execution_count": 326,
   "metadata": {},
   "outputs": [
    {
     "data": {
      "text/plain": "   subject_id                                             itemid  count_x  \\\n0          23  [222051, 226364, 222051, 222051, 225798, 22587...       18   \n1          34                   [226361, 225942, 221668, 220970]        4   \n2          85  [226361, 225973, 221468, 225974, 225851, 22585...       22   \n3         107  [225910, 225168, 225168, 225942, 222168, 22174...       27   \n4         111  [221749, 222315, 221906, 227533, 220952, 22231...       21   \n\n                  icd9_code  count_y  \n0                    [0151]        1  \n1        [3772, 3783, 8945]        3  \n2              [3142, 3897]        2  \n3  [3995, 4443, 4513, 3995]        4  \n4  [9671, 9604, 3893, 3891]        4  ",
      "text/html": "<div>\n<style scoped>\n    .dataframe tbody tr th:only-of-type {\n        vertical-align: middle;\n    }\n\n    .dataframe tbody tr th {\n        vertical-align: top;\n    }\n\n    .dataframe thead th {\n        text-align: right;\n    }\n</style>\n<table border=\"1\" class=\"dataframe\">\n  <thead>\n    <tr style=\"text-align: right;\">\n      <th></th>\n      <th>subject_id</th>\n      <th>itemid</th>\n      <th>count_x</th>\n      <th>icd9_code</th>\n      <th>count_y</th>\n    </tr>\n  </thead>\n  <tbody>\n    <tr>\n      <th>0</th>\n      <td>23</td>\n      <td>[222051, 226364, 222051, 222051, 225798, 22587...</td>\n      <td>18</td>\n      <td>[0151]</td>\n      <td>1</td>\n    </tr>\n    <tr>\n      <th>1</th>\n      <td>34</td>\n      <td>[226361, 225942, 221668, 220970]</td>\n      <td>4</td>\n      <td>[3772, 3783, 8945]</td>\n      <td>3</td>\n    </tr>\n    <tr>\n      <th>2</th>\n      <td>85</td>\n      <td>[226361, 225973, 221468, 225974, 225851, 22585...</td>\n      <td>22</td>\n      <td>[3142, 3897]</td>\n      <td>2</td>\n    </tr>\n    <tr>\n      <th>3</th>\n      <td>107</td>\n      <td>[225910, 225168, 225168, 225942, 222168, 22174...</td>\n      <td>27</td>\n      <td>[3995, 4443, 4513, 3995]</td>\n      <td>4</td>\n    </tr>\n    <tr>\n      <th>4</th>\n      <td>111</td>\n      <td>[221749, 222315, 221906, 227533, 220952, 22231...</td>\n      <td>21</td>\n      <td>[9671, 9604, 3893, 3891]</td>\n      <td>4</td>\n    </tr>\n  </tbody>\n</table>\n</div>"
     },
     "execution_count": 326,
     "metadata": {},
     "output_type": "execute_result"
    }
   ],
   "source": [
    "drug_events_procedures_merged.head()"
   ]
  },
  {
   "cell_type": "code",
   "execution_count": 327,
   "metadata": {},
   "outputs": [],
   "source": [
    "drug_events_procedures_merged['total_count'] = drug_events_procedures_merged['count_x'] + drug_events_procedures_merged['count_y']"
   ]
  },
  {
   "cell_type": "code",
   "execution_count": 328,
   "metadata": {},
   "outputs": [
    {
     "data": {
      "text/plain": "count    4439.000000\nmean       26.663212\nstd        14.715137\nmin         4.000000\n25%        14.000000\n50%        24.000000\n75%        39.000000\nmax        74.000000\nName: total_count, dtype: float64"
     },
     "execution_count": 328,
     "metadata": {},
     "output_type": "execute_result"
    }
   ],
   "source": [
    "drug_events_procedures_merged['total_count'].describe()"
   ]
  },
  {
   "cell_type": "code",
   "execution_count": 329,
   "metadata": {},
   "outputs": [],
   "source": [
    "# Remove NA values\n",
    "drug_events_procedures_merged2 = drug_events_procedures_merged[drug_events_procedures_merged['icd9_code'].notna()]\n",
    "\n",
    "# Remove columns of counts\n",
    "drug_events_procedures_merged3 = drug_events_procedures_merged2.drop(['count_x', 'count_y', 'total_count'], axis=1)\n",
    "\n",
    "# Rename columns\n",
    "drug_events_procedures_merged4 = drug_events_procedures_merged3.rename(columns={\"icd9_code\": \"procedure_codes\", \"itemid\":\"drug_events\"})"
   ]
  },
  {
   "cell_type": "code",
   "execution_count": 330,
   "metadata": {},
   "outputs": [
    {
     "data": {
      "text/plain": "   subject_id                                        drug_events  \\\n0          23  [222051, 226364, 222051, 222051, 225798, 22587...   \n1          34                   [226361, 225942, 221668, 220970]   \n2          85  [226361, 225973, 221468, 225974, 225851, 22585...   \n3         107  [225910, 225168, 225168, 225942, 222168, 22174...   \n4         111  [221749, 222315, 221906, 227533, 220952, 22231...   \n\n            procedure_codes  \n0                    [0151]  \n1        [3772, 3783, 8945]  \n2              [3142, 3897]  \n3  [3995, 4443, 4513, 3995]  \n4  [9671, 9604, 3893, 3891]  ",
      "text/html": "<div>\n<style scoped>\n    .dataframe tbody tr th:only-of-type {\n        vertical-align: middle;\n    }\n\n    .dataframe tbody tr th {\n        vertical-align: top;\n    }\n\n    .dataframe thead th {\n        text-align: right;\n    }\n</style>\n<table border=\"1\" class=\"dataframe\">\n  <thead>\n    <tr style=\"text-align: right;\">\n      <th></th>\n      <th>subject_id</th>\n      <th>drug_events</th>\n      <th>procedure_codes</th>\n    </tr>\n  </thead>\n  <tbody>\n    <tr>\n      <th>0</th>\n      <td>23</td>\n      <td>[222051, 226364, 222051, 222051, 225798, 22587...</td>\n      <td>[0151]</td>\n    </tr>\n    <tr>\n      <th>1</th>\n      <td>34</td>\n      <td>[226361, 225942, 221668, 220970]</td>\n      <td>[3772, 3783, 8945]</td>\n    </tr>\n    <tr>\n      <th>2</th>\n      <td>85</td>\n      <td>[226361, 225973, 221468, 225974, 225851, 22585...</td>\n      <td>[3142, 3897]</td>\n    </tr>\n    <tr>\n      <th>3</th>\n      <td>107</td>\n      <td>[225910, 225168, 225168, 225942, 222168, 22174...</td>\n      <td>[3995, 4443, 4513, 3995]</td>\n    </tr>\n    <tr>\n      <th>4</th>\n      <td>111</td>\n      <td>[221749, 222315, 221906, 227533, 220952, 22231...</td>\n      <td>[9671, 9604, 3893, 3891]</td>\n    </tr>\n  </tbody>\n</table>\n</div>"
     },
     "execution_count": 330,
     "metadata": {},
     "output_type": "execute_result"
    }
   ],
   "source": [
    "drug_events_procedures_merged4.head()"
   ]
  },
  {
   "cell_type": "code",
   "execution_count": 331,
   "metadata": {},
   "outputs": [
    {
     "data": {
      "text/plain": "(4439, 3)"
     },
     "execution_count": 331,
     "metadata": {},
     "output_type": "execute_result"
    }
   ],
   "source": [
    "drug_events_procedures_merged4.shape"
   ]
  },
  {
   "cell_type": "markdown",
   "metadata": {},
   "source": [
    "## 6.1 Add survival flag (1: survival, 0: death)"
   ]
  },
  {
   "cell_type": "code",
   "execution_count": 332,
   "metadata": {},
   "outputs": [],
   "source": [
    "#expire_flag: 1 indicates death in the hospital, and 0 indicates survival to hospital discharge.\n",
    "survival_subject_ids = pd.read_sql(\n",
    "    \"\"\"\n",
    "    SELECT subject_id FROM patients\n",
    "    WHERE expire_flag=0;\n",
    "    \"\"\", conn)"
   ]
  },
  {
   "cell_type": "code",
   "execution_count": 333,
   "metadata": {},
   "outputs": [],
   "source": [
    "# Convert to a set of survival ids\n",
    "survival_id_set = set(survival_subject_ids['subject_id'])"
   ]
  },
  {
   "cell_type": "code",
   "execution_count": 334,
   "metadata": {},
   "outputs": [],
   "source": [
    "drug_events_procedures_merged4['survival'] = [1 if idx in survival_id_set else 0 for idx in drug_events_procedures_merged4['subject_id']]"
   ]
  },
  {
   "cell_type": "code",
   "execution_count": 335,
   "metadata": {},
   "outputs": [
    {
     "data": {
      "text/plain": "   subject_id                                        drug_events  \\\n0          23  [222051, 226364, 222051, 222051, 225798, 22587...   \n1          34                   [226361, 225942, 221668, 220970]   \n2          85  [226361, 225973, 221468, 225974, 225851, 22585...   \n3         107  [225910, 225168, 225168, 225942, 222168, 22174...   \n4         111  [221749, 222315, 221906, 227533, 220952, 22231...   \n\n            procedure_codes  survival  \n0                    [0151]         1  \n1        [3772, 3783, 8945]         0  \n2              [3142, 3897]         0  \n3  [3995, 4443, 4513, 3995]         1  \n4  [9671, 9604, 3893, 3891]         0  ",
      "text/html": "<div>\n<style scoped>\n    .dataframe tbody tr th:only-of-type {\n        vertical-align: middle;\n    }\n\n    .dataframe tbody tr th {\n        vertical-align: top;\n    }\n\n    .dataframe thead th {\n        text-align: right;\n    }\n</style>\n<table border=\"1\" class=\"dataframe\">\n  <thead>\n    <tr style=\"text-align: right;\">\n      <th></th>\n      <th>subject_id</th>\n      <th>drug_events</th>\n      <th>procedure_codes</th>\n      <th>survival</th>\n    </tr>\n  </thead>\n  <tbody>\n    <tr>\n      <th>0</th>\n      <td>23</td>\n      <td>[222051, 226364, 222051, 222051, 225798, 22587...</td>\n      <td>[0151]</td>\n      <td>1</td>\n    </tr>\n    <tr>\n      <th>1</th>\n      <td>34</td>\n      <td>[226361, 225942, 221668, 220970]</td>\n      <td>[3772, 3783, 8945]</td>\n      <td>0</td>\n    </tr>\n    <tr>\n      <th>2</th>\n      <td>85</td>\n      <td>[226361, 225973, 221468, 225974, 225851, 22585...</td>\n      <td>[3142, 3897]</td>\n      <td>0</td>\n    </tr>\n    <tr>\n      <th>3</th>\n      <td>107</td>\n      <td>[225910, 225168, 225168, 225942, 222168, 22174...</td>\n      <td>[3995, 4443, 4513, 3995]</td>\n      <td>1</td>\n    </tr>\n    <tr>\n      <th>4</th>\n      <td>111</td>\n      <td>[221749, 222315, 221906, 227533, 220952, 22231...</td>\n      <td>[9671, 9604, 3893, 3891]</td>\n      <td>0</td>\n    </tr>\n  </tbody>\n</table>\n</div>"
     },
     "execution_count": 335,
     "metadata": {},
     "output_type": "execute_result"
    }
   ],
   "source": [
    "drug_events_procedures_merged4.head()"
   ]
  },
  {
   "cell_type": "code",
   "execution_count": 336,
   "metadata": {},
   "outputs": [
    {
     "data": {
      "text/plain": "1    3018\n0    1421\nName: survival, dtype: int64"
     },
     "execution_count": 336,
     "metadata": {},
     "output_type": "execute_result"
    }
   ],
   "source": [
    "drug_events_procedures_merged4['survival'].value_counts()"
   ]
  },
  {
   "cell_type": "markdown",
   "source": [
    "## 6.2 Add static patient features."
   ],
   "metadata": {
    "collapsed": false,
    "pycharm": {
     "name": "#%% md\n"
    }
   }
  },
  {
   "cell_type": "code",
   "source": [
    "patients = pd.read_sql(\n",
    "    \"\"\"\n",
    "SELECT ie.subject_id, ie.hadm_id, ie.icustay_id\n",
    "\n",
    "-- patient level factors\n",
    ", pat.gender, pat.dod\n",
    "\n",
    "-- hospital level factors\n",
    ", adm.admittime, adm.dischtime\n",
    ", ROUND( (CAST(EXTRACT(epoch FROM adm.dischtime - adm.admittime)/(60*60*24) AS numeric)), 4) AS los_hospital\n",
    ", ROUND( (CAST(EXTRACT(epoch FROM adm.admittime - pat.dob)/(60*60*24*365.242) AS numeric)), 4) AS age\n",
    ", adm.ethnicity\n",
    ", case when ethnicity in\n",
    "  (\n",
    "       'WHITE' --  40996\n",
    "     , 'WHITE - RUSSIAN' --    164\n",
    "     , 'WHITE - OTHER EUROPEAN' --     81\n",
    "     , 'WHITE - BRAZILIAN' --     59\n",
    "     , 'WHITE - EASTERN EUROPEAN' --     25\n",
    "  ) then 'white'\n",
    "  when ethnicity in\n",
    "  (\n",
    "      'BLACK/AFRICAN AMERICAN' --   5440\n",
    "    , 'BLACK/CAPE VERDEAN' --    200\n",
    "    , 'BLACK/HAITIAN' --    101\n",
    "    , 'BLACK/AFRICAN' --     44\n",
    "    , 'CARIBBEAN ISLAND' --      9\n",
    "  ) then 'black'\n",
    "  when ethnicity in\n",
    "    (\n",
    "      'HISPANIC OR LATINO' --   1696\n",
    "    , 'HISPANIC/LATINO - PUERTO RICAN' --    232\n",
    "    , 'HISPANIC/LATINO - DOMINICAN' --     78\n",
    "    , 'HISPANIC/LATINO - GUATEMALAN' --     40\n",
    "    , 'HISPANIC/LATINO - CUBAN' --     24\n",
    "    , 'HISPANIC/LATINO - SALVADORAN' --     19\n",
    "    , 'HISPANIC/LATINO - CENTRAL AMERICAN (OTHER)' --     13\n",
    "    , 'HISPANIC/LATINO - MEXICAN' --     13\n",
    "    , 'HISPANIC/LATINO - COLOMBIAN' --      9\n",
    "    , 'HISPANIC/LATINO - HONDURAN' --      4\n",
    "  ) then 'hispanic'\n",
    "  when ethnicity in\n",
    "  (\n",
    "      'ASIAN' --   1509\n",
    "    , 'ASIAN - CHINESE' --    277\n",
    "    , 'ASIAN - ASIAN INDIAN' --     85\n",
    "    , 'ASIAN - VIETNAMESE' --     53\n",
    "    , 'ASIAN - FILIPINO' --     25\n",
    "    , 'ASIAN - CAMBODIAN' --     17\n",
    "    , 'ASIAN - OTHER' --     17\n",
    "    , 'ASIAN - KOREAN' --     13\n",
    "    , 'ASIAN - JAPANESE' --      7\n",
    "    , 'ASIAN - THAI' --      4\n",
    "  ) then 'asian'\n",
    "  when ethnicity in\n",
    "  (\n",
    "       'AMERICAN INDIAN/ALASKA NATIVE' --     51\n",
    "     , 'AMERICAN INDIAN/ALASKA NATIVE FEDERALLY RECOGNIZED TRIBE' --      3\n",
    "  ) then 'native'\n",
    "  when ethnicity in\n",
    "  (\n",
    "      'UNKNOWN/NOT SPECIFIED' --   4523\n",
    "    , 'UNABLE TO OBTAIN' --    814\n",
    "    , 'PATIENT DECLINED TO ANSWER' --    559\n",
    "  ) then 'unknown'\n",
    "  else 'other' end as ethnicity_grouped\n",
    "  -- , 'OTHER' --   1512\n",
    "  -- , 'MULTI RACE ETHNICITY' --    130\n",
    "  -- , 'PORTUGUESE' --     61\n",
    "  -- , 'MIDDLE EASTERN' --     43\n",
    "  -- , 'NATIVE HAWAIIAN OR OTHER PACIFIC ISLANDER' --     18\n",
    "  -- , 'SOUTH AMERICAN' --      8\n",
    "\n",
    ", adm.admission_type\n",
    ", adm.hospital_expire_flag\n",
    ", DENSE_RANK() OVER (PARTITION BY adm.subject_id ORDER BY adm.admittime) AS hospstay_seq\n",
    ", CASE\n",
    "    WHEN DENSE_RANK() OVER (PARTITION BY adm.subject_id ORDER BY adm.admittime) = 1 THEN True\n",
    "    ELSE False END AS first_hosp_stay\n",
    "\n",
    "-- icu level factors\n",
    ", ie.intime, ie.outtime\n",
    ", ROUND( (CAST(EXTRACT(epoch FROM ie.outtime - ie.intime)/(60*60*24) AS numeric)), 4) AS los_icu\n",
    ", DENSE_RANK() OVER (PARTITION BY ie.hadm_id ORDER BY ie.intime) AS icustay_seq\n",
    "\n",
    "-- first ICU stay *for the current hospitalization*\n",
    ", CASE\n",
    "    WHEN DENSE_RANK() OVER (PARTITION BY ie.hadm_id ORDER BY ie.intime) = 1 THEN True\n",
    "    ELSE False END AS first_icu_stay\n",
    "\n",
    "FROM icustays ie\n",
    "INNER JOIN admissions adm\n",
    "    ON ie.hadm_id = adm.hadm_id\n",
    "INNER JOIN patients pat\n",
    "    ON ie.subject_id = pat.subject_id\n",
    "ORDER BY ie.subject_id, adm.admittime, ie.intime;\n",
    "    \"\"\", conn)"
   ],
   "metadata": {
    "collapsed": false,
    "pycharm": {
     "name": "#%%\n"
    }
   },
   "execution_count": 337,
   "outputs": []
  },
  {
   "cell_type": "markdown",
   "source": [
    "Process the data by factorizing the string levels and setting all patients over 89 to a fixed age of 95 since the MIMIC-III database lists them with ages over 300"
   ],
   "metadata": {
    "collapsed": false
   }
  },
  {
   "cell_type": "code",
   "execution_count": 338,
   "outputs": [],
   "source": [
    "patients['age'] = pd.to_numeric([95 if age >= 300 else age for age in patients['age']])\n",
    "patients['gender'],_ = pd.factorize(patients['gender'])\n",
    "patients['ethnicity'],_ = pd.factorize(patients['ethnicity'])\n",
    "patients['admission_type'],_ = pd.factorize(patients['admission_type'])\n",
    "patients['first_hosp_stay'],_ = pd.factorize(patients['first_hosp_stay'])\n",
    "patients['first_icu_stay'],_ = pd.factorize(patients['first_icu_stay'])"
   ],
   "metadata": {
    "collapsed": false,
    "pycharm": {
     "name": "#%%\n"
    }
   }
  },
  {
   "cell_type": "markdown",
   "metadata": {},
   "source": [
    "## 7. Export as the input format for DRG framework"
   ]
  },
  {
   "cell_type": "code",
   "execution_count": 339,
   "metadata": {},
   "outputs": [],
   "source": [
    "final_merged = drug_events_procedures_merged4.copy().merge(patients, on=\"subject_id\", how='left')"
   ]
  },
  {
   "cell_type": "code",
   "execution_count": 340,
   "outputs": [
    {
     "data": {
      "text/plain": "(4439, 4)"
     },
     "execution_count": 340,
     "metadata": {},
     "output_type": "execute_result"
    }
   ],
   "source": [
    "drug_events_procedures_merged4.shape"
   ],
   "metadata": {
    "collapsed": false,
    "pycharm": {
     "name": "#%%\n"
    }
   }
  },
  {
   "cell_type": "code",
   "execution_count": 341,
   "outputs": [
    {
     "data": {
      "text/plain": "(6442, 23)"
     },
     "execution_count": 341,
     "metadata": {},
     "output_type": "execute_result"
    }
   ],
   "source": [
    "final_merged.shape"
   ],
   "metadata": {
    "collapsed": false,
    "pycharm": {
     "name": "#%%\n"
    }
   }
  },
  {
   "cell_type": "code",
   "execution_count": 342,
   "metadata": {},
   "outputs": [],
   "source": [
    "# Split into positive/negative data\n",
    "neg_data = final_merged[final_merged['survival'] == 0].drop(columns=['survival'])\n",
    "pos_data = final_merged[final_merged['survival'] == 1].drop(columns=['survival'])"
   ]
  },
  {
   "cell_type": "markdown",
   "metadata": {},
   "source": [
    "### 7.1 Export negative samples"
   ]
  },
  {
   "cell_type": "code",
   "execution_count": 343,
   "metadata": {},
   "outputs": [],
   "source": [
    "neg_data2 = neg_data.copy()\n",
    "neg_data2.drop(['drug_events', 'procedure_codes'], axis=1)\n",
    "\n",
    "neg_data2['drug_events'] = neg_data['drug_events'].apply(lambda x: ' '.join(str(i) for i in x))\n",
    "neg_data2['procedure_codes'] = neg_data['procedure_codes'].apply(lambda x: ' '.join(x))"
   ]
  },
  {
   "cell_type": "code",
   "execution_count": 344,
   "metadata": {},
   "outputs": [
    {
     "data": {
      "text/plain": "      subject_id                                        drug_events  \\\n2             34                   [226361, 225942, 221668, 220970]   \n3             34                   [226361, 225942, 221668, 220970]   \n4             85  [226361, 225973, 221468, 225974, 225851, 22585...   \n5             85  [226361, 225973, 221468, 225974, 225851, 22585...   \n9            111  [221749, 222315, 221906, 227533, 220952, 22231...   \n...          ...                                                ...   \n6431       99814  [225828, 222168, 221749, 225168, 223258, 22205...   \n6433       99847  [225154, 221794, 225154, 221833, 225154, 22179...   \n6436       99935  [222168, 221828, 225798, 225166, 226364, 22636...   \n6437       99944  [226361, 225975, 221794, 222056, 221794, 22201...   \n6440       99995  [221749, 222168, 222168, 226364, 226368, 22636...   \n\n                     procedure_codes   hadm_id  icustay_id  gender        dod  \\\n2                 [3772, 3783, 8945]  115799.0    263086.0     0.0 2192-01-30   \n3                 [3772, 3783, 8945]  144319.0    290505.0     0.0 2192-01-30   \n4                       [3142, 3897]  116630.0    209562.0     0.0 2167-09-12   \n5                       [3142, 3897]  112077.0    291697.0     0.0 2167-09-12   \n9           [9671, 9604, 3893, 3891]  192123.0    254245.0     1.0 2144-07-01   \n...                              ...       ...         ...     ...        ...   \n6431  [3812, 0040, 9904, 9604, 9671]  186518.0    243902.0     1.0 2144-01-23   \n6433                    [3324, 9390]  155024.0    219261.0     1.0 2192-02-12   \n6436                          [0131]  174624.0    255381.0     0.0 2139-12-15   \n6437                    [3723, 8856]  185654.0    221067.0     1.0 2161-04-11   \n6440              [3971, 8339, 1771]  137810.0    229633.0     1.0 2147-09-29   \n\n               admittime           dischtime  los_hospital  ...  \\\n2    2186-07-18 16:46:00 2186-07-20 16:00:00        1.9681  ...   \n3    2191-02-23 05:23:00 2191-02-25 20:20:00        2.6229  ...   \n4    2162-03-02 14:04:00 2162-03-10 13:15:00        7.9660  ...   \n5    2167-07-25 18:49:00 2167-07-30 15:24:00        4.8576  ...   \n9    2142-04-24 06:55:00 2142-05-05 11:45:00       11.2014  ...   \n...                  ...                 ...           ...  ...   \n6431 2142-02-16 16:33:00 2142-02-21 16:38:00        5.0035  ...   \n6433 2191-04-12 23:27:00 2191-04-30 14:42:00       17.6354  ...   \n6436 2139-12-15 06:59:00 2139-12-15 12:00:00        0.2090  ...   \n6437 2161-02-16 20:14:00 2161-02-21 16:45:00        4.8549  ...   \n6440 2147-02-08 08:00:00 2147-02-11 13:15:00        3.2188  ...   \n\n      ethnicity_grouped  admission_type hospital_expire_flag  hospstay_seq  \\\n2                 white             1.0                  0.0           1.0   \n3                 white             1.0                  0.0           2.0   \n4                 white             1.0                  0.0           1.0   \n5                 white             1.0                  0.0           2.0   \n9                 white             1.0                  0.0           1.0   \n...                 ...             ...                  ...           ...   \n6431              white             1.0                  0.0           1.0   \n6433              white             1.0                  0.0           1.0   \n6436            unknown             1.0                  1.0           1.0   \n6437              white             1.0                  0.0           1.0   \n6440              white             2.0                  0.0           1.0   \n\n      first_hosp_stay              intime             outtime  los_icu  \\\n2                 0.0 2186-07-18 18:10:49 2186-07-19 11:27:20   0.7198   \n3                 1.0 2191-02-23 05:25:32 2191-02-24 19:24:10   1.5824   \n4                 0.0 2162-03-03 13:03:47 2162-03-05 18:42:39   2.2353   \n5                 1.0 2167-07-25 18:50:37 2167-07-27 18:37:35   1.9909   \n9                 0.0 2142-04-24 06:56:33 2142-05-04 20:38:33  10.5708   \n...               ...                 ...                 ...      ...   \n6431              0.0 2142-02-19 17:18:30 2142-02-20 14:47:40   0.8953   \n6433              0.0 2191-04-12 23:52:16 2191-04-16 17:46:57   3.7463   \n6436              0.0 2139-12-15 09:15:19 2139-12-16 01:05:28   0.6598   \n6437              0.0 2161-02-16 20:15:35 2161-02-20 21:33:35   4.0542   \n6440              0.0 2147-02-08 13:53:58 2147-02-10 17:46:30   2.1615   \n\n     icustay_seq  first_icu_stay  \n2            1.0             0.0  \n3            1.0             0.0  \n4            1.0             0.0  \n5            1.0             0.0  \n9            1.0             0.0  \n...          ...             ...  \n6431         1.0             0.0  \n6433         1.0             0.0  \n6436         1.0             0.0  \n6437         1.0             0.0  \n6440         1.0             0.0  \n\n[2330 rows x 22 columns]",
      "text/html": "<div>\n<style scoped>\n    .dataframe tbody tr th:only-of-type {\n        vertical-align: middle;\n    }\n\n    .dataframe tbody tr th {\n        vertical-align: top;\n    }\n\n    .dataframe thead th {\n        text-align: right;\n    }\n</style>\n<table border=\"1\" class=\"dataframe\">\n  <thead>\n    <tr style=\"text-align: right;\">\n      <th></th>\n      <th>subject_id</th>\n      <th>drug_events</th>\n      <th>procedure_codes</th>\n      <th>hadm_id</th>\n      <th>icustay_id</th>\n      <th>gender</th>\n      <th>dod</th>\n      <th>admittime</th>\n      <th>dischtime</th>\n      <th>los_hospital</th>\n      <th>...</th>\n      <th>ethnicity_grouped</th>\n      <th>admission_type</th>\n      <th>hospital_expire_flag</th>\n      <th>hospstay_seq</th>\n      <th>first_hosp_stay</th>\n      <th>intime</th>\n      <th>outtime</th>\n      <th>los_icu</th>\n      <th>icustay_seq</th>\n      <th>first_icu_stay</th>\n    </tr>\n  </thead>\n  <tbody>\n    <tr>\n      <th>2</th>\n      <td>34</td>\n      <td>[226361, 225942, 221668, 220970]</td>\n      <td>[3772, 3783, 8945]</td>\n      <td>115799.0</td>\n      <td>263086.0</td>\n      <td>0.0</td>\n      <td>2192-01-30</td>\n      <td>2186-07-18 16:46:00</td>\n      <td>2186-07-20 16:00:00</td>\n      <td>1.9681</td>\n      <td>...</td>\n      <td>white</td>\n      <td>1.0</td>\n      <td>0.0</td>\n      <td>1.0</td>\n      <td>0.0</td>\n      <td>2186-07-18 18:10:49</td>\n      <td>2186-07-19 11:27:20</td>\n      <td>0.7198</td>\n      <td>1.0</td>\n      <td>0.0</td>\n    </tr>\n    <tr>\n      <th>3</th>\n      <td>34</td>\n      <td>[226361, 225942, 221668, 220970]</td>\n      <td>[3772, 3783, 8945]</td>\n      <td>144319.0</td>\n      <td>290505.0</td>\n      <td>0.0</td>\n      <td>2192-01-30</td>\n      <td>2191-02-23 05:23:00</td>\n      <td>2191-02-25 20:20:00</td>\n      <td>2.6229</td>\n      <td>...</td>\n      <td>white</td>\n      <td>1.0</td>\n      <td>0.0</td>\n      <td>2.0</td>\n      <td>1.0</td>\n      <td>2191-02-23 05:25:32</td>\n      <td>2191-02-24 19:24:10</td>\n      <td>1.5824</td>\n      <td>1.0</td>\n      <td>0.0</td>\n    </tr>\n    <tr>\n      <th>4</th>\n      <td>85</td>\n      <td>[226361, 225973, 221468, 225974, 225851, 22585...</td>\n      <td>[3142, 3897]</td>\n      <td>116630.0</td>\n      <td>209562.0</td>\n      <td>0.0</td>\n      <td>2167-09-12</td>\n      <td>2162-03-02 14:04:00</td>\n      <td>2162-03-10 13:15:00</td>\n      <td>7.9660</td>\n      <td>...</td>\n      <td>white</td>\n      <td>1.0</td>\n      <td>0.0</td>\n      <td>1.0</td>\n      <td>0.0</td>\n      <td>2162-03-03 13:03:47</td>\n      <td>2162-03-05 18:42:39</td>\n      <td>2.2353</td>\n      <td>1.0</td>\n      <td>0.0</td>\n    </tr>\n    <tr>\n      <th>5</th>\n      <td>85</td>\n      <td>[226361, 225973, 221468, 225974, 225851, 22585...</td>\n      <td>[3142, 3897]</td>\n      <td>112077.0</td>\n      <td>291697.0</td>\n      <td>0.0</td>\n      <td>2167-09-12</td>\n      <td>2167-07-25 18:49:00</td>\n      <td>2167-07-30 15:24:00</td>\n      <td>4.8576</td>\n      <td>...</td>\n      <td>white</td>\n      <td>1.0</td>\n      <td>0.0</td>\n      <td>2.0</td>\n      <td>1.0</td>\n      <td>2167-07-25 18:50:37</td>\n      <td>2167-07-27 18:37:35</td>\n      <td>1.9909</td>\n      <td>1.0</td>\n      <td>0.0</td>\n    </tr>\n    <tr>\n      <th>9</th>\n      <td>111</td>\n      <td>[221749, 222315, 221906, 227533, 220952, 22231...</td>\n      <td>[9671, 9604, 3893, 3891]</td>\n      <td>192123.0</td>\n      <td>254245.0</td>\n      <td>1.0</td>\n      <td>2144-07-01</td>\n      <td>2142-04-24 06:55:00</td>\n      <td>2142-05-05 11:45:00</td>\n      <td>11.2014</td>\n      <td>...</td>\n      <td>white</td>\n      <td>1.0</td>\n      <td>0.0</td>\n      <td>1.0</td>\n      <td>0.0</td>\n      <td>2142-04-24 06:56:33</td>\n      <td>2142-05-04 20:38:33</td>\n      <td>10.5708</td>\n      <td>1.0</td>\n      <td>0.0</td>\n    </tr>\n    <tr>\n      <th>...</th>\n      <td>...</td>\n      <td>...</td>\n      <td>...</td>\n      <td>...</td>\n      <td>...</td>\n      <td>...</td>\n      <td>...</td>\n      <td>...</td>\n      <td>...</td>\n      <td>...</td>\n      <td>...</td>\n      <td>...</td>\n      <td>...</td>\n      <td>...</td>\n      <td>...</td>\n      <td>...</td>\n      <td>...</td>\n      <td>...</td>\n      <td>...</td>\n      <td>...</td>\n      <td>...</td>\n    </tr>\n    <tr>\n      <th>6431</th>\n      <td>99814</td>\n      <td>[225828, 222168, 221749, 225168, 223258, 22205...</td>\n      <td>[3812, 0040, 9904, 9604, 9671]</td>\n      <td>186518.0</td>\n      <td>243902.0</td>\n      <td>1.0</td>\n      <td>2144-01-23</td>\n      <td>2142-02-16 16:33:00</td>\n      <td>2142-02-21 16:38:00</td>\n      <td>5.0035</td>\n      <td>...</td>\n      <td>white</td>\n      <td>1.0</td>\n      <td>0.0</td>\n      <td>1.0</td>\n      <td>0.0</td>\n      <td>2142-02-19 17:18:30</td>\n      <td>2142-02-20 14:47:40</td>\n      <td>0.8953</td>\n      <td>1.0</td>\n      <td>0.0</td>\n    </tr>\n    <tr>\n      <th>6433</th>\n      <td>99847</td>\n      <td>[225154, 221794, 225154, 221833, 225154, 22179...</td>\n      <td>[3324, 9390]</td>\n      <td>155024.0</td>\n      <td>219261.0</td>\n      <td>1.0</td>\n      <td>2192-02-12</td>\n      <td>2191-04-12 23:27:00</td>\n      <td>2191-04-30 14:42:00</td>\n      <td>17.6354</td>\n      <td>...</td>\n      <td>white</td>\n      <td>1.0</td>\n      <td>0.0</td>\n      <td>1.0</td>\n      <td>0.0</td>\n      <td>2191-04-12 23:52:16</td>\n      <td>2191-04-16 17:46:57</td>\n      <td>3.7463</td>\n      <td>1.0</td>\n      <td>0.0</td>\n    </tr>\n    <tr>\n      <th>6436</th>\n      <td>99935</td>\n      <td>[222168, 221828, 225798, 225166, 226364, 22636...</td>\n      <td>[0131]</td>\n      <td>174624.0</td>\n      <td>255381.0</td>\n      <td>0.0</td>\n      <td>2139-12-15</td>\n      <td>2139-12-15 06:59:00</td>\n      <td>2139-12-15 12:00:00</td>\n      <td>0.2090</td>\n      <td>...</td>\n      <td>unknown</td>\n      <td>1.0</td>\n      <td>1.0</td>\n      <td>1.0</td>\n      <td>0.0</td>\n      <td>2139-12-15 09:15:19</td>\n      <td>2139-12-16 01:05:28</td>\n      <td>0.6598</td>\n      <td>1.0</td>\n      <td>0.0</td>\n    </tr>\n    <tr>\n      <th>6437</th>\n      <td>99944</td>\n      <td>[226361, 225975, 221794, 222056, 221794, 22201...</td>\n      <td>[3723, 8856]</td>\n      <td>185654.0</td>\n      <td>221067.0</td>\n      <td>1.0</td>\n      <td>2161-04-11</td>\n      <td>2161-02-16 20:14:00</td>\n      <td>2161-02-21 16:45:00</td>\n      <td>4.8549</td>\n      <td>...</td>\n      <td>white</td>\n      <td>1.0</td>\n      <td>0.0</td>\n      <td>1.0</td>\n      <td>0.0</td>\n      <td>2161-02-16 20:15:35</td>\n      <td>2161-02-20 21:33:35</td>\n      <td>4.0542</td>\n      <td>1.0</td>\n      <td>0.0</td>\n    </tr>\n    <tr>\n      <th>6440</th>\n      <td>99995</td>\n      <td>[221749, 222168, 222168, 226364, 226368, 22636...</td>\n      <td>[3971, 8339, 1771]</td>\n      <td>137810.0</td>\n      <td>229633.0</td>\n      <td>1.0</td>\n      <td>2147-09-29</td>\n      <td>2147-02-08 08:00:00</td>\n      <td>2147-02-11 13:15:00</td>\n      <td>3.2188</td>\n      <td>...</td>\n      <td>white</td>\n      <td>2.0</td>\n      <td>0.0</td>\n      <td>1.0</td>\n      <td>0.0</td>\n      <td>2147-02-08 13:53:58</td>\n      <td>2147-02-10 17:46:30</td>\n      <td>2.1615</td>\n      <td>1.0</td>\n      <td>0.0</td>\n    </tr>\n  </tbody>\n</table>\n<p>2330 rows × 22 columns</p>\n</div>"
     },
     "execution_count": 344,
     "metadata": {},
     "output_type": "execute_result"
    }
   ],
   "source": [
    "neg_data"
   ]
  },
  {
   "cell_type": "code",
   "execution_count": 345,
   "metadata": {},
   "outputs": [],
   "source": [
    "# Split into train/validation; 200 validation samples and the rest are train\n",
    "validation_neg = neg_data2.sample(n=200, random_state=3)\n",
    "train_neg = neg_data2.drop(validation_neg.index)"
   ]
  },
  {
   "cell_type": "code",
   "execution_count": 346,
   "metadata": {},
   "outputs": [],
   "source": [
    "# Write as txt files into '../mimic_data/'\n",
    "train_neg.to_csv(path_or_buf=f'../{out_folder}/train_neg.txt', index=False)\n",
    "validation_neg.to_csv(path_or_buf=f'../{out_folder}/validation_neg.txt', index=False)"
   ]
  },
  {
   "cell_type": "markdown",
   "metadata": {},
   "source": [
    "### 7.2 Export positive samples"
   ]
  },
  {
   "cell_type": "code",
   "execution_count": 347,
   "metadata": {},
   "outputs": [],
   "source": [
    "pos_data2 = pos_data.copy()\n",
    "pos_data2.drop(['drug_events', 'procedure_codes'], axis=1)\n",
    "\n",
    "pos_data2['drug_events'] = pos_data['drug_events'].apply(lambda x: ' '.join(str(i) for i in x))\n",
    "pos_data2['procedure_codes'] = pos_data['procedure_codes'].apply(lambda x: ' '.join(x))"
   ]
  },
  {
   "cell_type": "code",
   "execution_count": 348,
   "metadata": {},
   "outputs": [
    {
     "data": {
      "text/plain": "   subject_id                                        drug_events  \\\n0          23  222051 226364 222051 222051 225798 225879 2232...   \n1          23  222051 226364 222051 222051 225798 225879 2232...   \n6         107  225910 225168 225168 225942 222168 221744 2217...   \n7         107  225910 225168 225168 225942 222168 221744 2217...   \n8         107  225910 225168 225168 225942 222168 221744 2217...   \n\n       procedure_codes   hadm_id  icustay_id  gender dod           admittime  \\\n0                 0151  152223.0    227807.0     0.0 NaT 2153-09-03 07:15:00   \n1                 0151  124321.0    234044.0     0.0 NaT 2157-10-18 19:34:00   \n6  3995 4443 4513 3995  191941.0    244517.0     0.0 NaT 2115-02-20 17:41:00   \n7  3995 4443 4513 3995  182383.0    252542.0     0.0 NaT 2121-11-30 19:24:00   \n8  3995 4443 4513 3995  174162.0    264253.0     0.0 NaT 2122-05-14 19:37:00   \n\n            dischtime  los_hospital  ...  ethnicity_grouped  admission_type  \\\n0 2153-09-08 19:10:00        5.4965  ...              white             2.0   \n1 2157-10-25 14:00:00        6.7681  ...              white             1.0   \n6 2115-02-21 16:30:00        0.9507  ...           hispanic             1.0   \n7 2121-12-05 14:18:00        4.7875  ...           hispanic             1.0   \n8 2122-05-18 15:11:00        3.8153  ...           hispanic             1.0   \n\n  hospital_expire_flag  hospstay_seq  first_hosp_stay              intime  \\\n0                  0.0           1.0              0.0 2153-09-03 09:38:55   \n1                  0.0           2.0              1.0 2157-10-21 11:40:38   \n6                  0.0           1.0              0.0 2115-02-20 17:42:27   \n7                  0.0           2.0              1.0 2121-11-30 19:24:56   \n8                  0.0           3.0              1.0 2122-05-14 19:38:27   \n\n              outtime los_icu icustay_seq  first_icu_stay  \n0 2153-09-04 15:59:11  1.2641         1.0             0.0  \n1 2157-10-22 16:08:48  1.1862         1.0             0.0  \n6 2115-02-21 18:09:14  1.0186         1.0             0.0  \n7 2121-12-01 21:20:57  1.0806         1.0             0.0  \n8 2122-05-16 17:59:33  1.9313         1.0             0.0  \n\n[5 rows x 22 columns]",
      "text/html": "<div>\n<style scoped>\n    .dataframe tbody tr th:only-of-type {\n        vertical-align: middle;\n    }\n\n    .dataframe tbody tr th {\n        vertical-align: top;\n    }\n\n    .dataframe thead th {\n        text-align: right;\n    }\n</style>\n<table border=\"1\" class=\"dataframe\">\n  <thead>\n    <tr style=\"text-align: right;\">\n      <th></th>\n      <th>subject_id</th>\n      <th>drug_events</th>\n      <th>procedure_codes</th>\n      <th>hadm_id</th>\n      <th>icustay_id</th>\n      <th>gender</th>\n      <th>dod</th>\n      <th>admittime</th>\n      <th>dischtime</th>\n      <th>los_hospital</th>\n      <th>...</th>\n      <th>ethnicity_grouped</th>\n      <th>admission_type</th>\n      <th>hospital_expire_flag</th>\n      <th>hospstay_seq</th>\n      <th>first_hosp_stay</th>\n      <th>intime</th>\n      <th>outtime</th>\n      <th>los_icu</th>\n      <th>icustay_seq</th>\n      <th>first_icu_stay</th>\n    </tr>\n  </thead>\n  <tbody>\n    <tr>\n      <th>0</th>\n      <td>23</td>\n      <td>222051 226364 222051 222051 225798 225879 2232...</td>\n      <td>0151</td>\n      <td>152223.0</td>\n      <td>227807.0</td>\n      <td>0.0</td>\n      <td>NaT</td>\n      <td>2153-09-03 07:15:00</td>\n      <td>2153-09-08 19:10:00</td>\n      <td>5.4965</td>\n      <td>...</td>\n      <td>white</td>\n      <td>2.0</td>\n      <td>0.0</td>\n      <td>1.0</td>\n      <td>0.0</td>\n      <td>2153-09-03 09:38:55</td>\n      <td>2153-09-04 15:59:11</td>\n      <td>1.2641</td>\n      <td>1.0</td>\n      <td>0.0</td>\n    </tr>\n    <tr>\n      <th>1</th>\n      <td>23</td>\n      <td>222051 226364 222051 222051 225798 225879 2232...</td>\n      <td>0151</td>\n      <td>124321.0</td>\n      <td>234044.0</td>\n      <td>0.0</td>\n      <td>NaT</td>\n      <td>2157-10-18 19:34:00</td>\n      <td>2157-10-25 14:00:00</td>\n      <td>6.7681</td>\n      <td>...</td>\n      <td>white</td>\n      <td>1.0</td>\n      <td>0.0</td>\n      <td>2.0</td>\n      <td>1.0</td>\n      <td>2157-10-21 11:40:38</td>\n      <td>2157-10-22 16:08:48</td>\n      <td>1.1862</td>\n      <td>1.0</td>\n      <td>0.0</td>\n    </tr>\n    <tr>\n      <th>6</th>\n      <td>107</td>\n      <td>225910 225168 225168 225942 222168 221744 2217...</td>\n      <td>3995 4443 4513 3995</td>\n      <td>191941.0</td>\n      <td>244517.0</td>\n      <td>0.0</td>\n      <td>NaT</td>\n      <td>2115-02-20 17:41:00</td>\n      <td>2115-02-21 16:30:00</td>\n      <td>0.9507</td>\n      <td>...</td>\n      <td>hispanic</td>\n      <td>1.0</td>\n      <td>0.0</td>\n      <td>1.0</td>\n      <td>0.0</td>\n      <td>2115-02-20 17:42:27</td>\n      <td>2115-02-21 18:09:14</td>\n      <td>1.0186</td>\n      <td>1.0</td>\n      <td>0.0</td>\n    </tr>\n    <tr>\n      <th>7</th>\n      <td>107</td>\n      <td>225910 225168 225168 225942 222168 221744 2217...</td>\n      <td>3995 4443 4513 3995</td>\n      <td>182383.0</td>\n      <td>252542.0</td>\n      <td>0.0</td>\n      <td>NaT</td>\n      <td>2121-11-30 19:24:00</td>\n      <td>2121-12-05 14:18:00</td>\n      <td>4.7875</td>\n      <td>...</td>\n      <td>hispanic</td>\n      <td>1.0</td>\n      <td>0.0</td>\n      <td>2.0</td>\n      <td>1.0</td>\n      <td>2121-11-30 19:24:56</td>\n      <td>2121-12-01 21:20:57</td>\n      <td>1.0806</td>\n      <td>1.0</td>\n      <td>0.0</td>\n    </tr>\n    <tr>\n      <th>8</th>\n      <td>107</td>\n      <td>225910 225168 225168 225942 222168 221744 2217...</td>\n      <td>3995 4443 4513 3995</td>\n      <td>174162.0</td>\n      <td>264253.0</td>\n      <td>0.0</td>\n      <td>NaT</td>\n      <td>2122-05-14 19:37:00</td>\n      <td>2122-05-18 15:11:00</td>\n      <td>3.8153</td>\n      <td>...</td>\n      <td>hispanic</td>\n      <td>1.0</td>\n      <td>0.0</td>\n      <td>3.0</td>\n      <td>1.0</td>\n      <td>2122-05-14 19:38:27</td>\n      <td>2122-05-16 17:59:33</td>\n      <td>1.9313</td>\n      <td>1.0</td>\n      <td>0.0</td>\n    </tr>\n  </tbody>\n</table>\n<p>5 rows × 22 columns</p>\n</div>"
     },
     "execution_count": 348,
     "metadata": {},
     "output_type": "execute_result"
    }
   ],
   "source": [
    "pos_data2.head()"
   ]
  },
  {
   "cell_type": "code",
   "execution_count": 349,
   "metadata": {},
   "outputs": [],
   "source": [
    "# Split into train/validation; 200 validation samples and the rest are train\n",
    "validation_pos = pos_data2.sample(n=200, random_state=3)\n",
    "train_pos = pos_data2.drop(validation_pos.index)"
   ]
  },
  {
   "cell_type": "code",
   "execution_count": 350,
   "metadata": {
    "pycharm": {
     "name": "#%%\n"
    }
   },
   "outputs": [],
   "source": [
    "# Write as txt files into '../mimic_data/'\n",
    "train_pos.to_csv(path_or_buf=f'../{out_folder}/train_pos.txt', index=False)\n",
    "validation_pos.to_csv(path_or_buf=f'../{out_folder}/validation_pos.txt', index=False)"
   ]
  },
  {
   "cell_type": "markdown",
   "source": [
    "## 7.3 export all samples"
   ],
   "metadata": {
    "collapsed": false
   }
  },
  {
   "cell_type": "code",
   "execution_count": 351,
   "outputs": [],
   "source": [
    "train_all = pd.concat([train_pos,train_neg])\n",
    "train_all.to_csv(path_or_buf=f'../{out_folder}/train_all.txt', index=False)"
   ],
   "metadata": {
    "collapsed": false,
    "pycharm": {
     "name": "#%%\n"
    }
   }
  }
 ],
 "metadata": {
  "kernelspec": {
   "display_name": "Python 3",
   "language": "python",
   "name": "python3"
  },
  "language_info": {
   "codemirror_mode": {
    "name": "ipython",
    "version": 3
   },
   "file_extension": ".py",
   "mimetype": "text/x-python",
   "name": "python",
   "nbconvert_exporter": "python",
   "pygments_lexer": "ipython3",
   "version": "3.7.9"
  }
 },
 "nbformat": 4,
 "nbformat_minor": 4
}